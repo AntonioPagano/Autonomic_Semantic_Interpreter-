{
 "cells": [
  {
   "cell_type": "code",
   "execution_count": 1,
   "metadata": {},
   "outputs": [],
   "source": [
    "# Python Version: \"3.10.5\"\n",
    "# Java Version: \"1.8.0_421\""
   ]
  },
  {
   "cell_type": "code",
   "execution_count": 2,
   "metadata": {},
   "outputs": [
    {
     "name": "stdout",
     "output_type": "stream",
     "text": [
      "Requirement already satisfied: numpy==1.24.4 in c:\\users\\pagan133\\appdata\\local\\programs\\python\\python310\\lib\\site-packages (from -r ../requirements.txt (line 1)) (1.24.4)\n",
      "Requirement already satisfied: openpyxl==3.1.2 in c:\\users\\pagan133\\appdata\\local\\programs\\python\\python310\\lib\\site-packages (from -r ../requirements.txt (line 2)) (3.1.2)\n",
      "Requirement already satisfied: pandas==2.1.2 in c:\\users\\pagan133\\appdata\\local\\programs\\python\\python310\\lib\\site-packages (from -r ../requirements.txt (line 3)) (2.1.2)\n",
      "Requirement already satisfied: pandasql==0.7.3 in c:\\users\\pagan133\\appdata\\local\\programs\\python\\python310\\lib\\site-packages (from -r ../requirements.txt (line 4)) (0.7.3)\n",
      "Requirement already satisfied: plotly==5.14.1 in c:\\users\\pagan133\\appdata\\local\\programs\\python\\python310\\lib\\site-packages (from -r ../requirements.txt (line 5)) (5.14.1)\n",
      "Requirement already satisfied: ply==3.11 in c:\\users\\pagan133\\appdata\\local\\programs\\python\\python310\\lib\\site-packages (from -r ../requirements.txt (line 6)) (3.11)\n",
      "Requirement already satisfied: pm4py==2.3.0 in c:\\users\\pagan133\\appdata\\local\\programs\\python\\python310\\lib\\site-packages (from -r ../requirements.txt (line 7)) (2.3.0)\n",
      "Requirement already satisfied: polars==1.3.0 in c:\\users\\pagan133\\appdata\\local\\programs\\python\\python310\\lib\\site-packages (from -r ../requirements.txt (line 8)) (1.3.0)\n",
      "Requirement already satisfied: scikit-learn==1.3.1 in c:\\users\\pagan133\\appdata\\local\\programs\\python\\python310\\lib\\site-packages (from -r ../requirements.txt (line 9)) (1.3.1)\n",
      "Requirement already satisfied: tqdm==4.66.1 in c:\\users\\pagan133\\appdata\\local\\programs\\python\\python310\\lib\\site-packages (from -r ../requirements.txt (line 10)) (4.66.1)\n",
      "Requirement already satisfied: XlsxWriter==3.1.2 in c:\\users\\pagan133\\appdata\\local\\programs\\python\\python310\\lib\\site-packages (from -r ../requirements.txt (line 11)) (3.1.2)\n",
      "Requirement already satisfied: fastexcel==0.11.5 in c:\\users\\pagan133\\appdata\\local\\programs\\python\\python310\\lib\\site-packages (from -r ../requirements.txt (line 12)) (0.11.5)\n",
      "Requirement already satisfied: pyarrow==11.0.0 in c:\\users\\pagan133\\appdata\\local\\programs\\python\\python310\\lib\\site-packages (from -r ../requirements.txt (line 13)) (11.0.0)\n",
      "Requirement already satisfied: seaborn==0.12.2 in c:\\users\\pagan133\\appdata\\local\\programs\\python\\python310\\lib\\site-packages (from -r ../requirements.txt (line 14)) (0.12.2)\n",
      "Requirement already satisfied: et-xmlfile in c:\\users\\pagan133\\appdata\\local\\programs\\python\\python310\\lib\\site-packages (from openpyxl==3.1.2->-r ../requirements.txt (line 2)) (1.1.0)\n",
      "Requirement already satisfied: python-dateutil>=2.8.2 in c:\\users\\pagan133\\appdata\\local\\programs\\python\\python310\\lib\\site-packages (from pandas==2.1.2->-r ../requirements.txt (line 3)) (2.8.2)\n",
      "Requirement already satisfied: pytz>=2020.1 in c:\\users\\pagan133\\appdata\\local\\programs\\python\\python310\\lib\\site-packages (from pandas==2.1.2->-r ../requirements.txt (line 3)) (2022.1)\n",
      "Requirement already satisfied: tzdata>=2022.1 in c:\\users\\pagan133\\appdata\\local\\programs\\python\\python310\\lib\\site-packages (from pandas==2.1.2->-r ../requirements.txt (line 3)) (2024.1)\n",
      "Requirement already satisfied: sqlalchemy in c:\\users\\pagan133\\appdata\\local\\programs\\python\\python310\\lib\\site-packages (from pandasql==0.7.3->-r ../requirements.txt (line 4)) (1.4.39)\n",
      "Requirement already satisfied: tenacity>=6.2.0 in c:\\users\\pagan133\\appdata\\local\\programs\\python\\python310\\lib\\site-packages (from plotly==5.14.1->-r ../requirements.txt (line 5)) (8.0.1)\n",
      "Requirement already satisfied: packaging in c:\\users\\pagan133\\appdata\\local\\programs\\python\\python310\\lib\\site-packages (from plotly==5.14.1->-r ../requirements.txt (line 5)) (21.3)\n",
      "Requirement already satisfied: deprecation in c:\\users\\pagan133\\appdata\\local\\programs\\python\\python310\\lib\\site-packages (from pm4py==2.3.0->-r ../requirements.txt (line 7)) (2.1.0)\n",
      "Requirement already satisfied: graphviz in c:\\users\\pagan133\\appdata\\local\\programs\\python\\python310\\lib\\site-packages (from pm4py==2.3.0->-r ../requirements.txt (line 7)) (0.20.1)\n",
      "Requirement already satisfied: intervaltree in c:\\users\\pagan133\\appdata\\local\\programs\\python\\python310\\lib\\site-packages (from pm4py==2.3.0->-r ../requirements.txt (line 7)) (3.1.0)\n",
      "Requirement already satisfied: jsonpickle in c:\\users\\pagan133\\appdata\\local\\programs\\python\\python310\\lib\\site-packages (from pm4py==2.3.0->-r ../requirements.txt (line 7)) (2.2.0)\n",
      "Requirement already satisfied: lxml in c:\\users\\pagan133\\appdata\\local\\programs\\python\\python310\\lib\\site-packages (from pm4py==2.3.0->-r ../requirements.txt (line 7)) (4.9.1)\n",
      "Requirement already satisfied: matplotlib in c:\\users\\pagan133\\appdata\\local\\programs\\python\\python310\\lib\\site-packages (from pm4py==2.3.0->-r ../requirements.txt (line 7)) (3.5.3)\n",
      "Requirement already satisfied: networkx in c:\\users\\pagan133\\appdata\\local\\programs\\python\\python310\\lib\\site-packages (from pm4py==2.3.0->-r ../requirements.txt (line 7)) (2.8.7)\n",
      "Requirement already satisfied: pydotplus in c:\\users\\pagan133\\appdata\\local\\programs\\python\\python310\\lib\\site-packages (from pm4py==2.3.0->-r ../requirements.txt (line 7)) (2.0.2)\n",
      "Requirement already satisfied: pyvis in c:\\users\\pagan133\\appdata\\local\\programs\\python\\python310\\lib\\site-packages (from pm4py==2.3.0->-r ../requirements.txt (line 7)) (0.3.0)\n",
      "Requirement already satisfied: scipy in c:\\users\\pagan133\\appdata\\local\\programs\\python\\python310\\lib\\site-packages (from pm4py==2.3.0->-r ../requirements.txt (line 7)) (1.9.1)\n",
      "Requirement already satisfied: stringdist in c:\\users\\pagan133\\appdata\\local\\programs\\python\\python310\\lib\\site-packages (from pm4py==2.3.0->-r ../requirements.txt (line 7)) (1.0.9)\n",
      "Requirement already satisfied: sympy in c:\\users\\pagan133\\appdata\\local\\programs\\python\\python310\\lib\\site-packages (from pm4py==2.3.0->-r ../requirements.txt (line 7)) (1.11.1)\n",
      "Requirement already satisfied: cvxopt in c:\\users\\pagan133\\appdata\\local\\programs\\python\\python310\\lib\\site-packages (from pm4py==2.3.0->-r ../requirements.txt (line 7)) (1.3.0)\n",
      "Requirement already satisfied: joblib>=1.1.1 in c:\\users\\pagan133\\appdata\\local\\programs\\python\\python310\\lib\\site-packages (from scikit-learn==1.3.1->-r ../requirements.txt (line 9)) (1.4.2)\n",
      "Requirement already satisfied: threadpoolctl>=2.0.0 in c:\\users\\pagan133\\appdata\\local\\programs\\python\\python310\\lib\\site-packages (from scikit-learn==1.3.1->-r ../requirements.txt (line 9)) (3.1.0)\n",
      "Requirement already satisfied: colorama in c:\\users\\pagan133\\appdata\\local\\programs\\python\\python310\\lib\\site-packages (from tqdm==4.66.1->-r ../requirements.txt (line 10)) (0.4.5)\n",
      "Requirement already satisfied: cycler>=0.10 in c:\\users\\pagan133\\appdata\\local\\programs\\python\\python310\\lib\\site-packages (from matplotlib->pm4py==2.3.0->-r ../requirements.txt (line 7)) (0.11.0)\n",
      "Requirement already satisfied: fonttools>=4.22.0 in c:\\users\\pagan133\\appdata\\local\\programs\\python\\python310\\lib\\site-packages (from matplotlib->pm4py==2.3.0->-r ../requirements.txt (line 7)) (4.37.1)\n",
      "Requirement already satisfied: kiwisolver>=1.0.1 in c:\\users\\pagan133\\appdata\\local\\programs\\python\\python310\\lib\\site-packages (from matplotlib->pm4py==2.3.0->-r ../requirements.txt (line 7)) (1.4.4)\n",
      "Requirement already satisfied: pillow>=6.2.0 in c:\\users\\pagan133\\appdata\\local\\programs\\python\\python310\\lib\\site-packages (from matplotlib->pm4py==2.3.0->-r ../requirements.txt (line 7)) (9.2.0)\n",
      "Requirement already satisfied: pyparsing>=2.2.1 in c:\\users\\pagan133\\appdata\\local\\programs\\python\\python310\\lib\\site-packages (from matplotlib->pm4py==2.3.0->-r ../requirements.txt (line 7)) (3.0.9)\n",
      "Requirement already satisfied: six>=1.5 in c:\\users\\pagan133\\appdata\\local\\programs\\python\\python310\\lib\\site-packages (from python-dateutil>=2.8.2->pandas==2.1.2->-r ../requirements.txt (line 3)) (1.16.0)\n",
      "Requirement already satisfied: sortedcontainers<3.0,>=2.0 in c:\\users\\pagan133\\appdata\\local\\programs\\python\\python310\\lib\\site-packages (from intervaltree->pm4py==2.3.0->-r ../requirements.txt (line 7)) (2.4.0)\n",
      "Requirement already satisfied: jinja2>=2.9.6 in c:\\users\\pagan133\\appdata\\local\\programs\\python\\python310\\lib\\site-packages (from pyvis->pm4py==2.3.0->-r ../requirements.txt (line 7)) (3.1.2)\n",
      "Requirement already satisfied: ipython>=5.3.0 in c:\\users\\pagan133\\appdata\\local\\programs\\python\\python310\\lib\\site-packages (from pyvis->pm4py==2.3.0->-r ../requirements.txt (line 7)) (8.4.0)\n",
      "Requirement already satisfied: greenlet!=0.4.17 in c:\\users\\pagan133\\appdata\\local\\programs\\python\\python310\\lib\\site-packages (from sqlalchemy->pandasql==0.7.3->-r ../requirements.txt (line 4)) (1.1.2)\n",
      "Requirement already satisfied: mpmath>=0.19 in c:\\users\\pagan133\\appdata\\local\\programs\\python\\python310\\lib\\site-packages (from sympy->pm4py==2.3.0->-r ../requirements.txt (line 7)) (1.2.1)\n",
      "Requirement already satisfied: backcall in c:\\users\\pagan133\\appdata\\local\\programs\\python\\python310\\lib\\site-packages (from ipython>=5.3.0->pyvis->pm4py==2.3.0->-r ../requirements.txt (line 7)) (0.2.0)\n",
      "Requirement already satisfied: decorator in c:\\users\\pagan133\\appdata\\local\\programs\\python\\python310\\lib\\site-packages (from ipython>=5.3.0->pyvis->pm4py==2.3.0->-r ../requirements.txt (line 7)) (5.1.1)\n",
      "Requirement already satisfied: jedi>=0.16 in c:\\users\\pagan133\\appdata\\local\\programs\\python\\python310\\lib\\site-packages (from ipython>=5.3.0->pyvis->pm4py==2.3.0->-r ../requirements.txt (line 7)) (0.18.1)\n",
      "Requirement already satisfied: matplotlib-inline in c:\\users\\pagan133\\appdata\\local\\programs\\python\\python310\\lib\\site-packages (from ipython>=5.3.0->pyvis->pm4py==2.3.0->-r ../requirements.txt (line 7)) (0.1.3)\n",
      "Requirement already satisfied: pickleshare in c:\\users\\pagan133\\appdata\\local\\programs\\python\\python310\\lib\\site-packages (from ipython>=5.3.0->pyvis->pm4py==2.3.0->-r ../requirements.txt (line 7)) (0.7.5)\n",
      "Requirement already satisfied: prompt-toolkit!=3.0.0,!=3.0.1,<3.1.0,>=2.0.0 in c:\\users\\pagan133\\appdata\\local\\programs\\python\\python310\\lib\\site-packages (from ipython>=5.3.0->pyvis->pm4py==2.3.0->-r ../requirements.txt (line 7)) (3.0.30)\n",
      "Requirement already satisfied: pygments>=2.4.0 in c:\\users\\pagan133\\appdata\\local\\programs\\python\\python310\\lib\\site-packages (from ipython>=5.3.0->pyvis->pm4py==2.3.0->-r ../requirements.txt (line 7)) (2.12.0)\n",
      "Requirement already satisfied: setuptools>=18.5 in c:\\users\\pagan133\\appdata\\local\\programs\\python\\python310\\lib\\site-packages (from ipython>=5.3.0->pyvis->pm4py==2.3.0->-r ../requirements.txt (line 7)) (58.1.0)\n",
      "Requirement already satisfied: stack-data in c:\\users\\pagan133\\appdata\\local\\programs\\python\\python310\\lib\\site-packages (from ipython>=5.3.0->pyvis->pm4py==2.3.0->-r ../requirements.txt (line 7)) (0.3.0)\n",
      "Requirement already satisfied: traitlets>=5 in c:\\users\\pagan133\\appdata\\local\\programs\\python\\python310\\lib\\site-packages (from ipython>=5.3.0->pyvis->pm4py==2.3.0->-r ../requirements.txt (line 7)) (5.3.0)\n",
      "Requirement already satisfied: MarkupSafe>=2.0 in c:\\users\\pagan133\\appdata\\local\\programs\\python\\python310\\lib\\site-packages (from jinja2>=2.9.6->pyvis->pm4py==2.3.0->-r ../requirements.txt (line 7)) (2.1.1)\n",
      "Requirement already satisfied: parso<0.9.0,>=0.8.0 in c:\\users\\pagan133\\appdata\\local\\programs\\python\\python310\\lib\\site-packages (from jedi>=0.16->ipython>=5.3.0->pyvis->pm4py==2.3.0->-r ../requirements.txt (line 7)) (0.8.3)\n",
      "Requirement already satisfied: wcwidth in c:\\users\\pagan133\\appdata\\local\\programs\\python\\python310\\lib\\site-packages (from prompt-toolkit!=3.0.0,!=3.0.1,<3.1.0,>=2.0.0->ipython>=5.3.0->pyvis->pm4py==2.3.0->-r ../requirements.txt (line 7)) (0.2.5)\n",
      "Requirement already satisfied: executing in c:\\users\\pagan133\\appdata\\local\\programs\\python\\python310\\lib\\site-packages (from stack-data->ipython>=5.3.0->pyvis->pm4py==2.3.0->-r ../requirements.txt (line 7)) (0.9.1)\n",
      "Requirement already satisfied: asttokens in c:\\users\\pagan133\\appdata\\local\\programs\\python\\python310\\lib\\site-packages (from stack-data->ipython>=5.3.0->pyvis->pm4py==2.3.0->-r ../requirements.txt (line 7)) (2.0.5)\n",
      "Requirement already satisfied: pure-eval in c:\\users\\pagan133\\appdata\\local\\programs\\python\\python310\\lib\\site-packages (from stack-data->ipython>=5.3.0->pyvis->pm4py==2.3.0->-r ../requirements.txt (line 7)) (0.2.2)\n",
      "Note: you may need to restart the kernel to use updated packages.\n"
     ]
    }
   ],
   "source": [
    "%pip install -r ../requirements.txt"
   ]
  }
 ],
 "metadata": {
  "kernelspec": {
   "display_name": "base",
   "language": "python",
   "name": "python3"
  },
  "language_info": {
   "codemirror_mode": {
    "name": "ipython",
    "version": 3
   },
   "file_extension": ".py",
   "mimetype": "text/x-python",
   "name": "python",
   "nbconvert_exporter": "python",
   "pygments_lexer": "ipython3",
   "version": "3.10.5"
  }
 },
 "nbformat": 4,
 "nbformat_minor": 2
}
