{
 "cells": [
  {
   "cell_type": "markdown",
   "metadata": {},
   "source": [
    "#### Import and Read Dataset"
   ]
  },
  {
   "cell_type": "code",
   "execution_count": 1,
   "metadata": {},
   "outputs": [],
   "source": [
    "import pandas as pd\n",
    "import os\n",
    "import polars as pl\n",
    "from IPython.display import display\n",
    "\n",
    "pd.set_option('display.max_colwidth', None)\n",
    "pd.set_option('display.max_columns', None)\n",
    "pd.set_option(\"display.max_rows\", None)"
   ]
  },
  {
   "cell_type": "markdown",
   "metadata": {},
   "source": [
    "| Campo Tabella         | Descrizione                      | Note Aggiuntive                                              |\n",
    "|-----------------------|----------------------------------|--------------------------------------------------------------|\n",
    "| id_claim_hash         | ID Claim                         | Una claim si attiva nel momento in cui un veicolo arriva all'officina. |\n",
    "| claim_type            | Tipologia Claim                  |                                                              |\n",
    "| claim_status          | Codice Stato Claim               |                                                              |\n",
    "| claim_status_des      | Descrizione Stato Claim          |                                                              |\n",
    "| work_hours            | Ore Lavorate                     |                                                              |\n",
    "| failure_date          | Data Inizializzazione Claim      |                                                              |\n",
    "| vin_hash              | ID Veicolo                       |                                                              |\n",
    "| product_division      | Tipologia Veicolo                |                                                              |\n",
    "| business_unit_des     | Dettaglio Tipologia Veicolo      |                                                              |\n",
    "| region                | Region di riferimento            |                                                              |\n",
    "| country               | Country dell'officina            |                                                              |\n",
    "| id_failure            | Codice Failure                   |                                                              |\n",
    "| component             | Codice Componente                |                                                              |\n",
    "| component_des         | Descrizione Componente           |                                                              |\n",
    "| item_type             | Tipologia Part Number            | FR = Manodopera diretta ; SUBL = Manodopera Indiretta ; MAT = materiale |\n",
    "| id_causal_part_hash   | ID Causal Part                   | Con causal part si intende il pezzo che ha provocato la failure |\n",
    "| id_part_number_hash   | ID Part Number                   |                                                              |\n",
    "| part_number_des       | Descrizione Part Number          |                                                              |\n",
    "| cd_decision           | ID decisione                     |                                                              |\n",
    "| decision_des          | Descrizione decision             |                                                              |\n",
    "| amount                | ammontare (euro)                 |                                                              |\n",
    "| cd_dealer_hash        | ID dealer                        |                                                              |\n"
   ]
  },
  {
   "cell_type": "code",
   "execution_count": 2,
   "metadata": {},
   "outputs": [
    {
     "data": {
      "text/html": [
       "<div><style>\n",
       ".dataframe > thead > tr,\n",
       ".dataframe > tbody > tr {\n",
       "  text-align: right;\n",
       "  white-space: pre-wrap;\n",
       "}\n",
       "</style>\n",
       "<small>shape: (644_548, 22)</small><table border=\"1\" class=\"dataframe\"><thead><tr><th>id_claim_hash</th><th>claim_type</th><th>claim_status</th><th>claim_status_des</th><th>work_hours</th><th>failure_date</th><th>vin_hash</th><th>product_division</th><th>business_unit_des</th><th>region</th><th>country</th><th>id_failure</th><th>component</th><th>component_des</th><th>item_type</th><th>id_causal_part_hash</th><th>id_part_number_hash</th><th>part_number_des</th><th>cd_decision</th><th>decision_des</th><th>amount</th><th>cd_dealer_hash</th></tr><tr><td>str</td><td>str</td><td>str</td><td>str</td><td>f64</td><td>date</td><td>str</td><td>str</td><td>str</td><td>str</td><td>str</td><td>str</td><td>str</td><td>str</td><td>str</td><td>str</td><td>str</td><td>str</td><td>str</td><td>str</td><td>f64</td><td>str</td></tr></thead><tbody><tr><td>&quot;70a6c41c37a072a07164100b118230…</td><td>&quot;ZW02&quot;</td><td>&quot;Z080&quot;</td><td>&quot;Claim paid&quot;</td><td>0.2</td><td>2019-02-28</td><td>&quot;7844f9bafe2de98fbcb6c501885449…</td><td>&quot;TRUCK&quot;</td><td>&quot;COMMERCIAL VEHICLES B.U.&quot;</td><td>&quot;Europe&quot;</td><td>&quot;Poland&quot;</td><td>&quot;0005406350461&quot;</td><td>&quot;54063&quot;</td><td>&quot;ROCKER TOP COVER&quot;</td><td>&quot;FR&quot;</td><td>&quot;c47636bcc77194a7fbfa08d10d5f18…</td><td>&quot;5cc870b50d68a02f026216d8d089eb…</td><td>&quot;-ECONOMY&quot;</td><td>&quot;P&quot;</td><td>&quot;Pay&quot;</td><td>5.90604</td><td>&quot;35e183f47f75b85aa0c92e6251ef8c…</td></tr><tr><td>&quot;a4645921d95cf9b3598cd5367b6865…</td><td>&quot;ZW04&quot;</td><td>&quot;Z080&quot;</td><td>&quot;Claim paid&quot;</td><td>0.05</td><td>2019-06-06</td><td>&quot;2607209b5f149eb8bd344877eba4cb…</td><td>&quot;BUS&quot;</td><td>&quot;BUS DIVISION&quot;</td><td>&quot;Europe&quot;</td><td>&quot;Italy&quot;</td><td>&quot;0007685790011&quot;</td><td>&quot;76857&quot;</td><td>&quot;TV CAMERA CABLES &amp; CONN.&quot;</td><td>&quot;FR&quot;</td><td>&quot;1bad6b8cf97131fceab8543e81f775…</td><td>&quot;5cc870b50d68a02f026216d8d089eb…</td><td>&quot;-ECONOMY&quot;</td><td>&quot;RET_ACC&quot;</td><td>&quot;Adjustment&quot;</td><td>2.11</td><td>&quot;90097d7e42cb88a7136c54b8d44471…</td></tr><tr><td>&quot;41311833ad1442619fad570eb3186e…</td><td>&quot;ZW02&quot;</td><td>&quot;Z080&quot;</td><td>&quot;Claim paid&quot;</td><td>0.6</td><td>2019-12-02</td><td>&quot;6527fb44ac31cdce99bc39fcec7d94…</td><td>&quot;TRUCK&quot;</td><td>&quot;BU TRUCKS -HEAVY RANGE&quot;</td><td>&quot;Europe&quot;</td><td>&quot;Italy&quot;</td><td>&quot;0007608100561&quot;</td><td>&quot;76081&quot;</td><td>&quot;STARTER MOTOR ASSY&quot;</td><td>&quot;FR&quot;</td><td>&quot;140356535f38645fbae99ad8816575…</td><td>&quot;5cc870b50d68a02f026216d8d089eb…</td><td>&quot;-ECONOMY&quot;</td><td>&quot;P&quot;</td><td>&quot;Pay&quot;</td><td>25.08</td><td>&quot;c18a8ad752fb7e649161dcabed2d1f…</td></tr><tr><td>&quot;178303f7069ee3d0650a50ac6491de…</td><td>&quot;ZW02&quot;</td><td>&quot;Z080&quot;</td><td>&quot;Claim paid&quot;</td><td>2.0</td><td>2020-06-12</td><td>&quot;dc30d2d67f63c15ed647c96de9794a…</td><td>&quot;TRUCK&quot;</td><td>&quot;BU TRUCKS -HEAVY RANGE&quot;</td><td>&quot;Europe&quot;</td><td>&quot;Spain&quot;</td><td>&quot;0005529200031&quot;</td><td>&quot;55292&quot;</td><td>&quot;MUDGUARD&quot;</td><td>&quot;FR&quot;</td><td>&quot;6d9f59542772b3c15939a30ff690d0…</td><td>&quot;5cc870b50d68a02f026216d8d089eb…</td><td>&quot;-ECONOMY&quot;</td><td>&quot;P&quot;</td><td>&quot;Pay&quot;</td><td>114.6</td><td>&quot;40f6461449ca9c11a4e7bf125b6762…</td></tr><tr><td>&quot;4c379212dd6466ae8d1cc9365a6fac…</td><td>&quot;ZW01&quot;</td><td>&quot;Z080&quot;</td><td>&quot;Claim paid&quot;</td><td>0.1</td><td>2021-07-20</td><td>&quot;19e83fb7cfd3a24b4ec4159a22d1bc…</td><td>&quot;BUS&quot;</td><td>&quot;COMMERCIAL VEHICLES B.U.&quot;</td><td>&quot;Europe&quot;</td><td>&quot;Croatia&quot;</td><td>&quot;0005047100011&quot;</td><td>&quot;50471&quot;</td><td>&quot;ELECTRIC DECELERATOR&quot;</td><td>&quot;FR&quot;</td><td>&quot;b4f0f24a67fd7bdc5284caac0d8409…</td><td>&quot;5cc870b50d68a02f026216d8d089eb…</td><td>&quot;-ECONOMY&quot;</td><td>&quot;P&quot;</td><td>&quot;Pay&quot;</td><td>3.1</td><td>&quot;4eb70fde548ac04fb216d9ea047214…</td></tr><tr><td>&hellip;</td><td>&hellip;</td><td>&hellip;</td><td>&hellip;</td><td>&hellip;</td><td>&hellip;</td><td>&hellip;</td><td>&hellip;</td><td>&hellip;</td><td>&hellip;</td><td>&hellip;</td><td>&hellip;</td><td>&hellip;</td><td>&hellip;</td><td>&hellip;</td><td>&hellip;</td><td>&hellip;</td><td>&hellip;</td><td>&hellip;</td><td>&hellip;</td><td>&hellip;</td><td>&hellip;</td></tr><tr><td>&quot;f0744e92e666002e85be195155dd0e…</td><td>&quot;ZW02&quot;</td><td>&quot;Z080&quot;</td><td>&quot;Claim paid&quot;</td><td>1.2</td><td>2019-05-30</td><td>&quot;08dbfa6b2c6bb0031df7ed661fdb03…</td><td>&quot;TRUCK&quot;</td><td>&quot;COMMERCIAL VEHICLES B.U.&quot;</td><td>&quot;Europe&quot;</td><td>&quot;United Kingdom&quot;</td><td>&quot;0005014690421&quot;</td><td>&quot;50146&quot;</td><td>&quot;HYDR.ST.SYS PIPES+HOSES&quot;</td><td>&quot;FR&quot;</td><td>&quot;50938cfdce8595a5f29062abdcafff…</td><td>&quot;5cc870b50d68a02f026216d8d089eb…</td><td>&quot;-ECONOMY&quot;</td><td>&quot;P&quot;</td><td>&quot;Pay&quot;</td><td>84.55814</td><td>&quot;0ac8f96330b2fadef0f4f052dc36e9…</td></tr><tr><td>&quot;5d6969a2ad9a348a582c8866970b84…</td><td>&quot;ZW02&quot;</td><td>&quot;Z080&quot;</td><td>&quot;Claim paid&quot;</td><td>0.1</td><td>2021-01-25</td><td>&quot;3085e86f43483773365dfa04250c48…</td><td>&quot;TRUCK&quot;</td><td>&quot;COMMERCIAL VEHICLES B.U.&quot;</td><td>&quot;Europe&quot;</td><td>&quot;France&quot;</td><td>&quot;0007620100701&quot;</td><td>&quot;76201&quot;</td><td>&quot;BATTERY&quot;</td><td>&quot;FR&quot;</td><td>&quot;be489a7ed23065e5f5341c367f7923…</td><td>&quot;5cc870b50d68a02f026216d8d089eb…</td><td>&quot;-ECONOMY&quot;</td><td>&quot;P&quot;</td><td>&quot;Pay&quot;</td><td>8.1</td><td>&quot;de3d0af8236f47c31d41ff22396266…</td></tr><tr><td>&quot;0530495825d7a8fa90a3d1a8b93316…</td><td>&quot;ZW01&quot;</td><td>&quot;Z080&quot;</td><td>&quot;Claim paid&quot;</td><td>1.0</td><td>2021-01-20</td><td>&quot;c27a1de4ffaed8e4c09a28b83ebe6f…</td><td>&quot;BUS&quot;</td><td>&quot;BUS DIVISION&quot;</td><td>&quot;Europe&quot;</td><td>&quot;Belgium&quot;</td><td>&quot;0005060440011&quot;</td><td>&quot;50604&quot;</td><td>&quot;COLLARS,HOSES,SLEEVES&quot;</td><td>&quot;FR&quot;</td><td>&quot;9b2b4b307c2a19bd1ff2c0f1bb56cc…</td><td>&quot;5cc870b50d68a02f026216d8d089eb…</td><td>&quot;-ECONOMY&quot;</td><td>&quot;P&quot;</td><td>&quot;Pay&quot;</td><td>76.0</td><td>&quot;cc4116d9cf1e2d54ba6644be17e845…</td></tr><tr><td>&quot;29ae30de6c11e97d7398b7b1ca6992…</td><td>&quot;ZW04&quot;</td><td>&quot;Z080&quot;</td><td>&quot;Claim paid&quot;</td><td>0.06</td><td>2019-04-15</td><td>&quot;ce5c769fc693914cf2474b0787ef2f…</td><td>&quot;BUS&quot;</td><td>&quot;BUS DIVISION&quot;</td><td>&quot;Europe&quot;</td><td>&quot;Italy&quot;</td><td>&quot;0005509430601&quot;</td><td>&quot;55094&quot;</td><td>&quot;WINDOW STRIKER&quot;</td><td>&quot;FR&quot;</td><td>&quot;1bad6b8cf97131fceab8543e81f775…</td><td>&quot;5cc870b50d68a02f026216d8d089eb…</td><td>&quot;-ECONOMY&quot;</td><td>&quot;RET_ACC&quot;</td><td>&quot;Adjustment&quot;</td><td>2.64</td><td>&quot;90097d7e42cb88a7136c54b8d44471…</td></tr><tr><td>&quot;6dc77a54e3993f771f6bce7c15cd3d…</td><td>&quot;ZW02&quot;</td><td>&quot;Z080&quot;</td><td>&quot;Claim paid&quot;</td><td>1.0</td><td>2019-08-19</td><td>&quot;d81432fde719603f5a7560f5bb10a8…</td><td>&quot;TRUCK&quot;</td><td>&quot;BU TRUCKS -MEDIUM RANGE&quot;</td><td>&quot;Europe&quot;</td><td>&quot;Poland&quot;</td><td>&quot;0005437100561&quot;</td><td>&quot;54371&quot;</td><td>&quot;EXHAUST BRAKE ASSY&quot;</td><td>&quot;FR&quot;</td><td>&quot;aaffaade4597456ae57dc6a392bf32…</td><td>&quot;5cc870b50d68a02f026216d8d089eb…</td><td>&quot;-ECONOMY&quot;</td><td>&quot;P&quot;</td><td>&quot;Pay&quot;</td><td>36.577181</td><td>&quot;58b56ca565b863349e33f05ed62532…</td></tr></tbody></table></div>"
      ],
      "text/plain": [
       "shape: (644_548, 22)\n",
       "┌───────────┬───────────┬───────────┬───────────┬───┬───────────┬───────────┬───────────┬──────────┐\n",
       "│ id_claim_ ┆ claim_typ ┆ claim_sta ┆ claim_sta ┆ … ┆ cd_decisi ┆ decision_ ┆ amount    ┆ cd_deale │\n",
       "│ hash      ┆ e         ┆ tus       ┆ tus_des   ┆   ┆ on        ┆ des       ┆ ---       ┆ r_hash   │\n",
       "│ ---       ┆ ---       ┆ ---       ┆ ---       ┆   ┆ ---       ┆ ---       ┆ f64       ┆ ---      │\n",
       "│ str       ┆ str       ┆ str       ┆ str       ┆   ┆ str       ┆ str       ┆           ┆ str      │\n",
       "╞═══════════╪═══════════╪═══════════╪═══════════╪═══╪═══════════╪═══════════╪═══════════╪══════════╡\n",
       "│ 70a6c41c3 ┆ ZW02      ┆ Z080      ┆ Claim     ┆ … ┆ P         ┆ Pay       ┆ 5.90604   ┆ 35e183f4 │\n",
       "│ 7a072a071 ┆           ┆           ┆ paid      ┆   ┆           ┆           ┆           ┆ 7f75b85a │\n",
       "│ 64100b118 ┆           ┆           ┆           ┆   ┆           ┆           ┆           ┆ a0c92e62 │\n",
       "│ 230…      ┆           ┆           ┆           ┆   ┆           ┆           ┆           ┆ 51ef8c…  │\n",
       "│ a4645921d ┆ ZW04      ┆ Z080      ┆ Claim     ┆ … ┆ RET_ACC   ┆ Adjustmen ┆ 2.11      ┆ 90097d7e │\n",
       "│ 95cf9b359 ┆           ┆           ┆ paid      ┆   ┆           ┆ t         ┆           ┆ 42cb88a7 │\n",
       "│ 8cd5367b6 ┆           ┆           ┆           ┆   ┆           ┆           ┆           ┆ 136c54b8 │\n",
       "│ 865…      ┆           ┆           ┆           ┆   ┆           ┆           ┆           ┆ d44471…  │\n",
       "│ 41311833a ┆ ZW02      ┆ Z080      ┆ Claim     ┆ … ┆ P         ┆ Pay       ┆ 25.08     ┆ c18a8ad7 │\n",
       "│ d1442619f ┆           ┆           ┆ paid      ┆   ┆           ┆           ┆           ┆ 52fb7e64 │\n",
       "│ ad570eb31 ┆           ┆           ┆           ┆   ┆           ┆           ┆           ┆ 9161dcab │\n",
       "│ 86e…      ┆           ┆           ┆           ┆   ┆           ┆           ┆           ┆ ed2d1f…  │\n",
       "│ 178303f70 ┆ ZW02      ┆ Z080      ┆ Claim     ┆ … ┆ P         ┆ Pay       ┆ 114.6     ┆ 40f64614 │\n",
       "│ 69ee3d065 ┆           ┆           ┆ paid      ┆   ┆           ┆           ┆           ┆ 49ca9c11 │\n",
       "│ 0a50ac649 ┆           ┆           ┆           ┆   ┆           ┆           ┆           ┆ a4e7bf12 │\n",
       "│ 1de…      ┆           ┆           ┆           ┆   ┆           ┆           ┆           ┆ 5b6762…  │\n",
       "│ 4c379212d ┆ ZW01      ┆ Z080      ┆ Claim     ┆ … ┆ P         ┆ Pay       ┆ 3.1       ┆ 4eb70fde │\n",
       "│ d6466ae8d ┆           ┆           ┆ paid      ┆   ┆           ┆           ┆           ┆ 548ac04f │\n",
       "│ 1cc9365a6 ┆           ┆           ┆           ┆   ┆           ┆           ┆           ┆ b216d9ea │\n",
       "│ fac…      ┆           ┆           ┆           ┆   ┆           ┆           ┆           ┆ 047214…  │\n",
       "│ …         ┆ …         ┆ …         ┆ …         ┆ … ┆ …         ┆ …         ┆ …         ┆ …        │\n",
       "│ f0744e92e ┆ ZW02      ┆ Z080      ┆ Claim     ┆ … ┆ P         ┆ Pay       ┆ 84.55814  ┆ 0ac8f963 │\n",
       "│ 666002e85 ┆           ┆           ┆ paid      ┆   ┆           ┆           ┆           ┆ 30b2fade │\n",
       "│ be195155d ┆           ┆           ┆           ┆   ┆           ┆           ┆           ┆ f0f4f052 │\n",
       "│ d0e…      ┆           ┆           ┆           ┆   ┆           ┆           ┆           ┆ dc36e9…  │\n",
       "│ 5d6969a2a ┆ ZW02      ┆ Z080      ┆ Claim     ┆ … ┆ P         ┆ Pay       ┆ 8.1       ┆ de3d0af8 │\n",
       "│ d9a348a58 ┆           ┆           ┆ paid      ┆   ┆           ┆           ┆           ┆ 236f47c3 │\n",
       "│ 2c8866970 ┆           ┆           ┆           ┆   ┆           ┆           ┆           ┆ 1d41ff22 │\n",
       "│ b84…      ┆           ┆           ┆           ┆   ┆           ┆           ┆           ┆ 396266…  │\n",
       "│ 053049582 ┆ ZW01      ┆ Z080      ┆ Claim     ┆ … ┆ P         ┆ Pay       ┆ 76.0      ┆ cc4116d9 │\n",
       "│ 5d7a8fa90 ┆           ┆           ┆ paid      ┆   ┆           ┆           ┆           ┆ cf1e2d54 │\n",
       "│ a3d1a8b93 ┆           ┆           ┆           ┆   ┆           ┆           ┆           ┆ ba6644be │\n",
       "│ 316…      ┆           ┆           ┆           ┆   ┆           ┆           ┆           ┆ 17e845…  │\n",
       "│ 29ae30de6 ┆ ZW04      ┆ Z080      ┆ Claim     ┆ … ┆ RET_ACC   ┆ Adjustmen ┆ 2.64      ┆ 90097d7e │\n",
       "│ c11e97d73 ┆           ┆           ┆ paid      ┆   ┆           ┆ t         ┆           ┆ 42cb88a7 │\n",
       "│ 98b7b1ca6 ┆           ┆           ┆           ┆   ┆           ┆           ┆           ┆ 136c54b8 │\n",
       "│ 992…      ┆           ┆           ┆           ┆   ┆           ┆           ┆           ┆ d44471…  │\n",
       "│ 6dc77a54e ┆ ZW02      ┆ Z080      ┆ Claim     ┆ … ┆ P         ┆ Pay       ┆ 36.577181 ┆ 58b56ca5 │\n",
       "│ 3993f771f ┆           ┆           ┆ paid      ┆   ┆           ┆           ┆           ┆ 65b86334 │\n",
       "│ 6bce7c15c ┆           ┆           ┆           ┆   ┆           ┆           ┆           ┆ 9e33f05e │\n",
       "│ d3d…      ┆           ┆           ┆           ┆   ┆           ┆           ┆           ┆ d62532…  │\n",
       "└───────────┴───────────┴───────────┴───────────┴───┴───────────┴───────────┴───────────┴──────────┘"
      ]
     },
     "metadata": {},
     "output_type": "display_data"
    }
   ],
   "source": [
    "schema = {\n",
    "    'id_claim_hash': pl.Utf8,\n",
    "    'claim_type': pl.Utf8,\n",
    "    'claim_status': pl.Utf8,\n",
    "    'claim_status_des': pl.Utf8,\n",
    "    'work_hours': pl.Float64,\n",
    "    'failure_date': pl.Date,\n",
    "    'vin_hash': pl.Utf8,\n",
    "    'product_division': pl.Utf8,\n",
    "    'business_unit_des': pl.Utf8,\n",
    "    'region': pl.Utf8,\n",
    "    'country': pl.Utf8,\n",
    "    'id_failure': pl.Utf8,\n",
    "    'component': pl.Utf8,\n",
    "    'component_des': pl.Utf8,\n",
    "    'item_type': pl.Utf8,\n",
    "    'id_causal_part_hash': pl.Utf8,\n",
    "    'id_part_number_hash': pl.Utf8,\n",
    "    'part_number_des': pl.Utf8,\n",
    "    'cd_decision': pl.Utf8,\n",
    "    'decision_des': pl.Utf8,\n",
    "    'amount': pl.Float64,\n",
    "    'cd_dealer_hash': pl.Utf8\n",
    "}\n",
    "\n",
    "df=pl.read_excel(\"../dati/raw/UseCase_1_data.xlsx\",sheet_name='Tabella')\n",
    "\n",
    "# Converts data types\n",
    "df = df.with_columns([\n",
    "    pl.col(col).cast(dtype) for col, dtype in schema.items()\n",
    "])\n",
    "\n",
    "display(df)"
   ]
  },
  {
   "cell_type": "code",
   "execution_count": 3,
   "metadata": {},
   "outputs": [
    {
     "name": "stdout",
     "output_type": "stream",
     "text": [
      "# occurrences Dataset: 644548\n"
     ]
    }
   ],
   "source": [
    "print(\"# occurrences Dataset: {}\".format(df.shape[0]))"
   ]
  },
  {
   "cell_type": "code",
   "execution_count": 4,
   "metadata": {},
   "outputs": [
    {
     "data": {
      "text/html": [
       "<div><style>\n",
       ".dataframe > thead > tr,\n",
       ".dataframe > tbody > tr {\n",
       "  text-align: right;\n",
       "  white-space: pre-wrap;\n",
       "}\n",
       "</style>\n",
       "<small>shape: (9, 23)</small><table border=\"1\" class=\"dataframe\"><thead><tr><th>statistic</th><th>id_claim_hash</th><th>claim_type</th><th>claim_status</th><th>claim_status_des</th><th>work_hours</th><th>failure_date</th><th>vin_hash</th><th>product_division</th><th>business_unit_des</th><th>region</th><th>country</th><th>id_failure</th><th>component</th><th>component_des</th><th>item_type</th><th>id_causal_part_hash</th><th>id_part_number_hash</th><th>part_number_des</th><th>cd_decision</th><th>decision_des</th><th>amount</th><th>cd_dealer_hash</th></tr><tr><td>str</td><td>str</td><td>str</td><td>str</td><td>str</td><td>f64</td><td>str</td><td>str</td><td>str</td><td>str</td><td>str</td><td>str</td><td>str</td><td>str</td><td>str</td><td>str</td><td>str</td><td>str</td><td>str</td><td>str</td><td>str</td><td>f64</td><td>str</td></tr></thead><tbody><tr><td>&quot;count&quot;</td><td>&quot;644548&quot;</td><td>&quot;644548&quot;</td><td>&quot;644548&quot;</td><td>&quot;644548&quot;</td><td>638726.0</td><td>&quot;644548&quot;</td><td>&quot;644548&quot;</td><td>&quot;644548&quot;</td><td>&quot;644548&quot;</td><td>&quot;644548&quot;</td><td>&quot;644548&quot;</td><td>&quot;644548&quot;</td><td>&quot;644548&quot;</td><td>&quot;644548&quot;</td><td>&quot;644548&quot;</td><td>&quot;644548&quot;</td><td>&quot;644548&quot;</td><td>&quot;644548&quot;</td><td>&quot;644548&quot;</td><td>&quot;644548&quot;</td><td>644548.0</td><td>&quot;644548&quot;</td></tr><tr><td>&quot;null_count&quot;</td><td>&quot;0&quot;</td><td>&quot;0&quot;</td><td>&quot;0&quot;</td><td>&quot;0&quot;</td><td>5822.0</td><td>&quot;0&quot;</td><td>&quot;0&quot;</td><td>&quot;0&quot;</td><td>&quot;0&quot;</td><td>&quot;0&quot;</td><td>&quot;0&quot;</td><td>&quot;0&quot;</td><td>&quot;0&quot;</td><td>&quot;0&quot;</td><td>&quot;0&quot;</td><td>&quot;0&quot;</td><td>&quot;0&quot;</td><td>&quot;0&quot;</td><td>&quot;0&quot;</td><td>&quot;0&quot;</td><td>0.0</td><td>&quot;0&quot;</td></tr><tr><td>&quot;mean&quot;</td><td>null</td><td>null</td><td>null</td><td>null</td><td>1.467484</td><td>&quot;2020-08-10 16:09:02.668000&quot;</td><td>null</td><td>null</td><td>null</td><td>null</td><td>null</td><td>null</td><td>null</td><td>null</td><td>null</td><td>null</td><td>null</td><td>null</td><td>null</td><td>null</td><td>90.965446</td><td>null</td></tr><tr><td>&quot;std&quot;</td><td>null</td><td>null</td><td>null</td><td>null</td><td>3.171448</td><td>null</td><td>null</td><td>null</td><td>null</td><td>null</td><td>null</td><td>null</td><td>null</td><td>null</td><td>null</td><td>null</td><td>null</td><td>null</td><td>null</td><td>null</td><td>241.368375</td><td>null</td></tr><tr><td>&quot;min&quot;</td><td>&quot;000033d421b8e313d9d310f5c33bcb…</td><td>&quot;ZPC1&quot;</td><td>&quot;W002&quot;</td><td>&quot;Approved - EINV&quot;</td><td>0.0</td><td>&quot;2019-01-01&quot;</td><td>&quot;000076d98991378d39ae0ceb3b3701…</td><td>&quot;BUS&quot;</td><td>&quot;BU TRUCKS -HEAVY RANGE&quot;</td><td>&quot;Europe&quot;</td><td>&quot;Austria&quot;</td><td>&quot;#&quot;</td><td>&quot;#&quot;</td><td>&quot;#&quot;</td><td>&quot;FR&quot;</td><td>&quot;0001b88b8a14f49d0e1127b378dc56…</td><td>&quot;0d61e4ef572158cea35a03878c37f9…</td><td>&quot;-E&quot;</td><td>&quot;#&quot;</td><td>&quot;Adjustment&quot;</td><td>-9624.0</td><td>&quot;000580eb995f2a45fffce7c2651e54…</td></tr><tr><td>&quot;25%&quot;</td><td>null</td><td>null</td><td>null</td><td>null</td><td>0.4</td><td>&quot;2019-11-26&quot;</td><td>null</td><td>null</td><td>null</td><td>null</td><td>null</td><td>null</td><td>null</td><td>null</td><td>null</td><td>null</td><td>null</td><td>null</td><td>null</td><td>null</td><td>18.84</td><td>null</td></tr><tr><td>&quot;50%&quot;</td><td>null</td><td>null</td><td>null</td><td>null</td><td>0.8</td><td>&quot;2020-09-10&quot;</td><td>null</td><td>null</td><td>null</td><td>null</td><td>null</td><td>null</td><td>null</td><td>null</td><td>null</td><td>null</td><td>null</td><td>null</td><td>null</td><td>null</td><td>44.384787</td><td>null</td></tr><tr><td>&quot;75%&quot;</td><td>null</td><td>null</td><td>null</td><td>null</td><td>1.7</td><td>&quot;2021-04-30&quot;</td><td>null</td><td>null</td><td>null</td><td>null</td><td>null</td><td>null</td><td>null</td><td>null</td><td>null</td><td>null</td><td>null</td><td>null</td><td>null</td><td>null</td><td>97.6</td><td>null</td></tr><tr><td>&quot;max&quot;</td><td>&quot;ffffae37ed8654a4c350d24f1618c5…</td><td>&quot;ZW99&quot;</td><td>&quot;ZT14&quot;</td><td>&quot;nan&quot;</td><td>298.0</td><td>&quot;2022-01-01&quot;</td><td>&quot;ffffed41ebd84354759943cbb0df01…</td><td>&quot;TRUCK&quot;</td><td>&quot;nan&quot;</td><td>&quot;Europe&quot;</td><td>&quot;United Kingdom&quot;</td><td>&quot;Z425074240565&quot;</td><td>&quot;T1000&quot;</td><td>&quot;nan&quot;</td><td>&quot;SUBL&quot;</td><td>&quot;fffb30255f14e38c372cba2b5b0d3d…</td><td>&quot;e25ab47cfc9b206e56e5d4e4ab6f92…</td><td>&quot;-ECONOMY50&quot;</td><td>&quot;ZSWR_A&quot;</td><td>&quot;nan&quot;</td><td>41052.27882</td><td>&quot;ffb55a104d4564a099eaf02442271f…</td></tr></tbody></table></div>"
      ],
      "text/plain": [
       "shape: (9, 23)\n",
       "┌───────────┬───────────┬───────────┬───────────┬───┬───────────┬───────────┬───────────┬──────────┐\n",
       "│ statistic ┆ id_claim_ ┆ claim_typ ┆ claim_sta ┆ … ┆ cd_decisi ┆ decision_ ┆ amount    ┆ cd_deale │\n",
       "│ ---       ┆ hash      ┆ e         ┆ tus       ┆   ┆ on        ┆ des       ┆ ---       ┆ r_hash   │\n",
       "│ str       ┆ ---       ┆ ---       ┆ ---       ┆   ┆ ---       ┆ ---       ┆ f64       ┆ ---      │\n",
       "│           ┆ str       ┆ str       ┆ str       ┆   ┆ str       ┆ str       ┆           ┆ str      │\n",
       "╞═══════════╪═══════════╪═══════════╪═══════════╪═══╪═══════════╪═══════════╪═══════════╪══════════╡\n",
       "│ count     ┆ 644548    ┆ 644548    ┆ 644548    ┆ … ┆ 644548    ┆ 644548    ┆ 644548.0  ┆ 644548   │\n",
       "│ null_coun ┆ 0         ┆ 0         ┆ 0         ┆ … ┆ 0         ┆ 0         ┆ 0.0       ┆ 0        │\n",
       "│ t         ┆           ┆           ┆           ┆   ┆           ┆           ┆           ┆          │\n",
       "│ mean      ┆ null      ┆ null      ┆ null      ┆ … ┆ null      ┆ null      ┆ 90.965446 ┆ null     │\n",
       "│ std       ┆ null      ┆ null      ┆ null      ┆ … ┆ null      ┆ null      ┆ 241.36837 ┆ null     │\n",
       "│           ┆           ┆           ┆           ┆   ┆           ┆           ┆ 5         ┆          │\n",
       "│ min       ┆ 000033d42 ┆ ZPC1      ┆ W002      ┆ … ┆ #         ┆ Adjustmen ┆ -9624.0   ┆ 000580eb │\n",
       "│           ┆ 1b8e313d9 ┆           ┆           ┆   ┆           ┆ t         ┆           ┆ 995f2a45 │\n",
       "│           ┆ d310f5c33 ┆           ┆           ┆   ┆           ┆           ┆           ┆ fffce7c2 │\n",
       "│           ┆ bcb…      ┆           ┆           ┆   ┆           ┆           ┆           ┆ 651e54…  │\n",
       "│ 25%       ┆ null      ┆ null      ┆ null      ┆ … ┆ null      ┆ null      ┆ 18.84     ┆ null     │\n",
       "│ 50%       ┆ null      ┆ null      ┆ null      ┆ … ┆ null      ┆ null      ┆ 44.384787 ┆ null     │\n",
       "│ 75%       ┆ null      ┆ null      ┆ null      ┆ … ┆ null      ┆ null      ┆ 97.6      ┆ null     │\n",
       "│ max       ┆ ffffae37e ┆ ZW99      ┆ ZT14      ┆ … ┆ ZSWR_A    ┆ nan       ┆ 41052.278 ┆ ffb55a10 │\n",
       "│           ┆ d8654a4c3 ┆           ┆           ┆   ┆           ┆           ┆ 82        ┆ 4d4564a0 │\n",
       "│           ┆ 50d24f161 ┆           ┆           ┆   ┆           ┆           ┆           ┆ 99eaf024 │\n",
       "│           ┆ 8c5…      ┆           ┆           ┆   ┆           ┆           ┆           ┆ 42271f…  │\n",
       "└───────────┴───────────┴───────────┴───────────┴───┴───────────┴───────────┴───────────┴──────────┘"
      ]
     },
     "execution_count": 4,
     "metadata": {},
     "output_type": "execute_result"
    }
   ],
   "source": [
    "df.describe()"
   ]
  },
  {
   "cell_type": "code",
   "execution_count": 5,
   "metadata": {},
   "outputs": [
    {
     "name": "stdout",
     "output_type": "stream",
     "text": [
      "Schema([('id_claim_hash', String), ('claim_type', String), ('claim_status', String), ('claim_status_des', String), ('work_hours', Float64), ('failure_date', Date), ('vin_hash', String), ('product_division', String), ('business_unit_des', String), ('region', String), ('country', String), ('id_failure', String), ('component', String), ('component_des', String), ('item_type', String), ('id_causal_part_hash', String), ('id_part_number_hash', String), ('part_number_des', String), ('cd_decision', String), ('decision_des', String), ('amount', Float64), ('cd_dealer_hash', String)])\n"
     ]
    }
   ],
   "source": [
    "print(df.schema)"
   ]
  },
  {
   "cell_type": "markdown",
   "metadata": {},
   "source": [
    "#### Data Preparation"
   ]
  },
  {
   "cell_type": "markdown",
   "metadata": {},
   "source": [
    "##### The region of interest is exclusively Europe"
   ]
  },
  {
   "cell_type": "code",
   "execution_count": 6,
   "metadata": {},
   "outputs": [
    {
     "data": {
      "text/html": [
       "<div><style>\n",
       ".dataframe > thead > tr,\n",
       ".dataframe > tbody > tr {\n",
       "  text-align: right;\n",
       "  white-space: pre-wrap;\n",
       "}\n",
       "</style>\n",
       "<small>shape: (1, 2)</small><table border=\"1\" class=\"dataframe\"><thead><tr><th>region</th><th>count</th></tr><tr><td>str</td><td>u32</td></tr></thead><tbody><tr><td>&quot;Europe&quot;</td><td>644548</td></tr></tbody></table></div>"
      ],
      "text/plain": [
       "shape: (1, 2)\n",
       "┌────────┬────────┐\n",
       "│ region ┆ count  │\n",
       "│ ---    ┆ ---    │\n",
       "│ str    ┆ u32    │\n",
       "╞════════╪════════╡\n",
       "│ Europe ┆ 644548 │\n",
       "└────────┴────────┘"
      ]
     },
     "metadata": {},
     "output_type": "display_data"
    }
   ],
   "source": [
    "display(df.group_by('region').agg(pl.len().alias('count')).sort('count', descending=True))"
   ]
  },
  {
   "cell_type": "code",
   "execution_count": 7,
   "metadata": {},
   "outputs": [
    {
     "name": "stdout",
     "output_type": "stream",
     "text": [
      "# Dataset Europe: 644548\n"
     ]
    }
   ],
   "source": [
    "europe_df = df.filter(pl.col('region') == 'Europe')\n",
    "print(\"# Dataset Europe: {}\".format(europe_df.shape[0]))"
   ]
  },
  {
   "cell_type": "markdown",
   "metadata": {},
   "source": [
    "##### We are interested in operations after 01/01/2019"
   ]
  },
  {
   "cell_type": "code",
   "execution_count": 8,
   "metadata": {},
   "outputs": [
    {
     "name": "stdout",
     "output_type": "stream",
     "text": [
      "# Dataset Europe - post 2019-01-01: 644529\n"
     ]
    },
    {
     "data": {
      "text/html": [
       "<div><style>\n",
       ".dataframe > thead > tr,\n",
       ".dataframe > tbody > tr {\n",
       "  text-align: right;\n",
       "  white-space: pre-wrap;\n",
       "}\n",
       "</style>\n",
       "<small>shape: (644_529, 22)</small><table border=\"1\" class=\"dataframe\"><thead><tr><th>id_claim_hash</th><th>claim_type</th><th>claim_status</th><th>claim_status_des</th><th>work_hours</th><th>failure_date</th><th>vin_hash</th><th>product_division</th><th>business_unit_des</th><th>region</th><th>country</th><th>id_failure</th><th>component</th><th>component_des</th><th>item_type</th><th>id_causal_part_hash</th><th>id_part_number_hash</th><th>part_number_des</th><th>cd_decision</th><th>decision_des</th><th>amount</th><th>cd_dealer_hash</th></tr><tr><td>str</td><td>str</td><td>str</td><td>str</td><td>f64</td><td>date</td><td>str</td><td>str</td><td>str</td><td>str</td><td>str</td><td>str</td><td>str</td><td>str</td><td>str</td><td>str</td><td>str</td><td>str</td><td>str</td><td>str</td><td>f64</td><td>str</td></tr></thead><tbody><tr><td>&quot;70a6c41c37a072a07164100b118230…</td><td>&quot;ZW02&quot;</td><td>&quot;Z080&quot;</td><td>&quot;Claim paid&quot;</td><td>0.2</td><td>2019-02-28</td><td>&quot;7844f9bafe2de98fbcb6c501885449…</td><td>&quot;TRUCK&quot;</td><td>&quot;COMMERCIAL VEHICLES B.U.&quot;</td><td>&quot;Europe&quot;</td><td>&quot;Poland&quot;</td><td>&quot;0005406350461&quot;</td><td>&quot;54063&quot;</td><td>&quot;ROCKER TOP COVER&quot;</td><td>&quot;FR&quot;</td><td>&quot;c47636bcc77194a7fbfa08d10d5f18…</td><td>&quot;5cc870b50d68a02f026216d8d089eb…</td><td>&quot;-ECONOMY&quot;</td><td>&quot;P&quot;</td><td>&quot;Pay&quot;</td><td>5.90604</td><td>&quot;35e183f47f75b85aa0c92e6251ef8c…</td></tr><tr><td>&quot;a4645921d95cf9b3598cd5367b6865…</td><td>&quot;ZW04&quot;</td><td>&quot;Z080&quot;</td><td>&quot;Claim paid&quot;</td><td>0.05</td><td>2019-06-06</td><td>&quot;2607209b5f149eb8bd344877eba4cb…</td><td>&quot;BUS&quot;</td><td>&quot;BUS DIVISION&quot;</td><td>&quot;Europe&quot;</td><td>&quot;Italy&quot;</td><td>&quot;0007685790011&quot;</td><td>&quot;76857&quot;</td><td>&quot;TV CAMERA CABLES &amp; CONN.&quot;</td><td>&quot;FR&quot;</td><td>&quot;1bad6b8cf97131fceab8543e81f775…</td><td>&quot;5cc870b50d68a02f026216d8d089eb…</td><td>&quot;-ECONOMY&quot;</td><td>&quot;RET_ACC&quot;</td><td>&quot;Adjustment&quot;</td><td>2.11</td><td>&quot;90097d7e42cb88a7136c54b8d44471…</td></tr><tr><td>&quot;41311833ad1442619fad570eb3186e…</td><td>&quot;ZW02&quot;</td><td>&quot;Z080&quot;</td><td>&quot;Claim paid&quot;</td><td>0.6</td><td>2019-12-02</td><td>&quot;6527fb44ac31cdce99bc39fcec7d94…</td><td>&quot;TRUCK&quot;</td><td>&quot;BU TRUCKS -HEAVY RANGE&quot;</td><td>&quot;Europe&quot;</td><td>&quot;Italy&quot;</td><td>&quot;0007608100561&quot;</td><td>&quot;76081&quot;</td><td>&quot;STARTER MOTOR ASSY&quot;</td><td>&quot;FR&quot;</td><td>&quot;140356535f38645fbae99ad8816575…</td><td>&quot;5cc870b50d68a02f026216d8d089eb…</td><td>&quot;-ECONOMY&quot;</td><td>&quot;P&quot;</td><td>&quot;Pay&quot;</td><td>25.08</td><td>&quot;c18a8ad752fb7e649161dcabed2d1f…</td></tr><tr><td>&quot;178303f7069ee3d0650a50ac6491de…</td><td>&quot;ZW02&quot;</td><td>&quot;Z080&quot;</td><td>&quot;Claim paid&quot;</td><td>2.0</td><td>2020-06-12</td><td>&quot;dc30d2d67f63c15ed647c96de9794a…</td><td>&quot;TRUCK&quot;</td><td>&quot;BU TRUCKS -HEAVY RANGE&quot;</td><td>&quot;Europe&quot;</td><td>&quot;Spain&quot;</td><td>&quot;0005529200031&quot;</td><td>&quot;55292&quot;</td><td>&quot;MUDGUARD&quot;</td><td>&quot;FR&quot;</td><td>&quot;6d9f59542772b3c15939a30ff690d0…</td><td>&quot;5cc870b50d68a02f026216d8d089eb…</td><td>&quot;-ECONOMY&quot;</td><td>&quot;P&quot;</td><td>&quot;Pay&quot;</td><td>114.6</td><td>&quot;40f6461449ca9c11a4e7bf125b6762…</td></tr><tr><td>&quot;4c379212dd6466ae8d1cc9365a6fac…</td><td>&quot;ZW01&quot;</td><td>&quot;Z080&quot;</td><td>&quot;Claim paid&quot;</td><td>0.1</td><td>2021-07-20</td><td>&quot;19e83fb7cfd3a24b4ec4159a22d1bc…</td><td>&quot;BUS&quot;</td><td>&quot;COMMERCIAL VEHICLES B.U.&quot;</td><td>&quot;Europe&quot;</td><td>&quot;Croatia&quot;</td><td>&quot;0005047100011&quot;</td><td>&quot;50471&quot;</td><td>&quot;ELECTRIC DECELERATOR&quot;</td><td>&quot;FR&quot;</td><td>&quot;b4f0f24a67fd7bdc5284caac0d8409…</td><td>&quot;5cc870b50d68a02f026216d8d089eb…</td><td>&quot;-ECONOMY&quot;</td><td>&quot;P&quot;</td><td>&quot;Pay&quot;</td><td>3.1</td><td>&quot;4eb70fde548ac04fb216d9ea047214…</td></tr><tr><td>&hellip;</td><td>&hellip;</td><td>&hellip;</td><td>&hellip;</td><td>&hellip;</td><td>&hellip;</td><td>&hellip;</td><td>&hellip;</td><td>&hellip;</td><td>&hellip;</td><td>&hellip;</td><td>&hellip;</td><td>&hellip;</td><td>&hellip;</td><td>&hellip;</td><td>&hellip;</td><td>&hellip;</td><td>&hellip;</td><td>&hellip;</td><td>&hellip;</td><td>&hellip;</td><td>&hellip;</td></tr><tr><td>&quot;f0744e92e666002e85be195155dd0e…</td><td>&quot;ZW02&quot;</td><td>&quot;Z080&quot;</td><td>&quot;Claim paid&quot;</td><td>1.2</td><td>2019-05-30</td><td>&quot;08dbfa6b2c6bb0031df7ed661fdb03…</td><td>&quot;TRUCK&quot;</td><td>&quot;COMMERCIAL VEHICLES B.U.&quot;</td><td>&quot;Europe&quot;</td><td>&quot;United Kingdom&quot;</td><td>&quot;0005014690421&quot;</td><td>&quot;50146&quot;</td><td>&quot;HYDR.ST.SYS PIPES+HOSES&quot;</td><td>&quot;FR&quot;</td><td>&quot;50938cfdce8595a5f29062abdcafff…</td><td>&quot;5cc870b50d68a02f026216d8d089eb…</td><td>&quot;-ECONOMY&quot;</td><td>&quot;P&quot;</td><td>&quot;Pay&quot;</td><td>84.55814</td><td>&quot;0ac8f96330b2fadef0f4f052dc36e9…</td></tr><tr><td>&quot;5d6969a2ad9a348a582c8866970b84…</td><td>&quot;ZW02&quot;</td><td>&quot;Z080&quot;</td><td>&quot;Claim paid&quot;</td><td>0.1</td><td>2021-01-25</td><td>&quot;3085e86f43483773365dfa04250c48…</td><td>&quot;TRUCK&quot;</td><td>&quot;COMMERCIAL VEHICLES B.U.&quot;</td><td>&quot;Europe&quot;</td><td>&quot;France&quot;</td><td>&quot;0007620100701&quot;</td><td>&quot;76201&quot;</td><td>&quot;BATTERY&quot;</td><td>&quot;FR&quot;</td><td>&quot;be489a7ed23065e5f5341c367f7923…</td><td>&quot;5cc870b50d68a02f026216d8d089eb…</td><td>&quot;-ECONOMY&quot;</td><td>&quot;P&quot;</td><td>&quot;Pay&quot;</td><td>8.1</td><td>&quot;de3d0af8236f47c31d41ff22396266…</td></tr><tr><td>&quot;0530495825d7a8fa90a3d1a8b93316…</td><td>&quot;ZW01&quot;</td><td>&quot;Z080&quot;</td><td>&quot;Claim paid&quot;</td><td>1.0</td><td>2021-01-20</td><td>&quot;c27a1de4ffaed8e4c09a28b83ebe6f…</td><td>&quot;BUS&quot;</td><td>&quot;BUS DIVISION&quot;</td><td>&quot;Europe&quot;</td><td>&quot;Belgium&quot;</td><td>&quot;0005060440011&quot;</td><td>&quot;50604&quot;</td><td>&quot;COLLARS,HOSES,SLEEVES&quot;</td><td>&quot;FR&quot;</td><td>&quot;9b2b4b307c2a19bd1ff2c0f1bb56cc…</td><td>&quot;5cc870b50d68a02f026216d8d089eb…</td><td>&quot;-ECONOMY&quot;</td><td>&quot;P&quot;</td><td>&quot;Pay&quot;</td><td>76.0</td><td>&quot;cc4116d9cf1e2d54ba6644be17e845…</td></tr><tr><td>&quot;29ae30de6c11e97d7398b7b1ca6992…</td><td>&quot;ZW04&quot;</td><td>&quot;Z080&quot;</td><td>&quot;Claim paid&quot;</td><td>0.06</td><td>2019-04-15</td><td>&quot;ce5c769fc693914cf2474b0787ef2f…</td><td>&quot;BUS&quot;</td><td>&quot;BUS DIVISION&quot;</td><td>&quot;Europe&quot;</td><td>&quot;Italy&quot;</td><td>&quot;0005509430601&quot;</td><td>&quot;55094&quot;</td><td>&quot;WINDOW STRIKER&quot;</td><td>&quot;FR&quot;</td><td>&quot;1bad6b8cf97131fceab8543e81f775…</td><td>&quot;5cc870b50d68a02f026216d8d089eb…</td><td>&quot;-ECONOMY&quot;</td><td>&quot;RET_ACC&quot;</td><td>&quot;Adjustment&quot;</td><td>2.64</td><td>&quot;90097d7e42cb88a7136c54b8d44471…</td></tr><tr><td>&quot;6dc77a54e3993f771f6bce7c15cd3d…</td><td>&quot;ZW02&quot;</td><td>&quot;Z080&quot;</td><td>&quot;Claim paid&quot;</td><td>1.0</td><td>2019-08-19</td><td>&quot;d81432fde719603f5a7560f5bb10a8…</td><td>&quot;TRUCK&quot;</td><td>&quot;BU TRUCKS -MEDIUM RANGE&quot;</td><td>&quot;Europe&quot;</td><td>&quot;Poland&quot;</td><td>&quot;0005437100561&quot;</td><td>&quot;54371&quot;</td><td>&quot;EXHAUST BRAKE ASSY&quot;</td><td>&quot;FR&quot;</td><td>&quot;aaffaade4597456ae57dc6a392bf32…</td><td>&quot;5cc870b50d68a02f026216d8d089eb…</td><td>&quot;-ECONOMY&quot;</td><td>&quot;P&quot;</td><td>&quot;Pay&quot;</td><td>36.577181</td><td>&quot;58b56ca565b863349e33f05ed62532…</td></tr></tbody></table></div>"
      ],
      "text/plain": [
       "shape: (644_529, 22)\n",
       "┌───────────┬───────────┬───────────┬───────────┬───┬───────────┬───────────┬───────────┬──────────┐\n",
       "│ id_claim_ ┆ claim_typ ┆ claim_sta ┆ claim_sta ┆ … ┆ cd_decisi ┆ decision_ ┆ amount    ┆ cd_deale │\n",
       "│ hash      ┆ e         ┆ tus       ┆ tus_des   ┆   ┆ on        ┆ des       ┆ ---       ┆ r_hash   │\n",
       "│ ---       ┆ ---       ┆ ---       ┆ ---       ┆   ┆ ---       ┆ ---       ┆ f64       ┆ ---      │\n",
       "│ str       ┆ str       ┆ str       ┆ str       ┆   ┆ str       ┆ str       ┆           ┆ str      │\n",
       "╞═══════════╪═══════════╪═══════════╪═══════════╪═══╪═══════════╪═══════════╪═══════════╪══════════╡\n",
       "│ 70a6c41c3 ┆ ZW02      ┆ Z080      ┆ Claim     ┆ … ┆ P         ┆ Pay       ┆ 5.90604   ┆ 35e183f4 │\n",
       "│ 7a072a071 ┆           ┆           ┆ paid      ┆   ┆           ┆           ┆           ┆ 7f75b85a │\n",
       "│ 64100b118 ┆           ┆           ┆           ┆   ┆           ┆           ┆           ┆ a0c92e62 │\n",
       "│ 230…      ┆           ┆           ┆           ┆   ┆           ┆           ┆           ┆ 51ef8c…  │\n",
       "│ a4645921d ┆ ZW04      ┆ Z080      ┆ Claim     ┆ … ┆ RET_ACC   ┆ Adjustmen ┆ 2.11      ┆ 90097d7e │\n",
       "│ 95cf9b359 ┆           ┆           ┆ paid      ┆   ┆           ┆ t         ┆           ┆ 42cb88a7 │\n",
       "│ 8cd5367b6 ┆           ┆           ┆           ┆   ┆           ┆           ┆           ┆ 136c54b8 │\n",
       "│ 865…      ┆           ┆           ┆           ┆   ┆           ┆           ┆           ┆ d44471…  │\n",
       "│ 41311833a ┆ ZW02      ┆ Z080      ┆ Claim     ┆ … ┆ P         ┆ Pay       ┆ 25.08     ┆ c18a8ad7 │\n",
       "│ d1442619f ┆           ┆           ┆ paid      ┆   ┆           ┆           ┆           ┆ 52fb7e64 │\n",
       "│ ad570eb31 ┆           ┆           ┆           ┆   ┆           ┆           ┆           ┆ 9161dcab │\n",
       "│ 86e…      ┆           ┆           ┆           ┆   ┆           ┆           ┆           ┆ ed2d1f…  │\n",
       "│ 178303f70 ┆ ZW02      ┆ Z080      ┆ Claim     ┆ … ┆ P         ┆ Pay       ┆ 114.6     ┆ 40f64614 │\n",
       "│ 69ee3d065 ┆           ┆           ┆ paid      ┆   ┆           ┆           ┆           ┆ 49ca9c11 │\n",
       "│ 0a50ac649 ┆           ┆           ┆           ┆   ┆           ┆           ┆           ┆ a4e7bf12 │\n",
       "│ 1de…      ┆           ┆           ┆           ┆   ┆           ┆           ┆           ┆ 5b6762…  │\n",
       "│ 4c379212d ┆ ZW01      ┆ Z080      ┆ Claim     ┆ … ┆ P         ┆ Pay       ┆ 3.1       ┆ 4eb70fde │\n",
       "│ d6466ae8d ┆           ┆           ┆ paid      ┆   ┆           ┆           ┆           ┆ 548ac04f │\n",
       "│ 1cc9365a6 ┆           ┆           ┆           ┆   ┆           ┆           ┆           ┆ b216d9ea │\n",
       "│ fac…      ┆           ┆           ┆           ┆   ┆           ┆           ┆           ┆ 047214…  │\n",
       "│ …         ┆ …         ┆ …         ┆ …         ┆ … ┆ …         ┆ …         ┆ …         ┆ …        │\n",
       "│ f0744e92e ┆ ZW02      ┆ Z080      ┆ Claim     ┆ … ┆ P         ┆ Pay       ┆ 84.55814  ┆ 0ac8f963 │\n",
       "│ 666002e85 ┆           ┆           ┆ paid      ┆   ┆           ┆           ┆           ┆ 30b2fade │\n",
       "│ be195155d ┆           ┆           ┆           ┆   ┆           ┆           ┆           ┆ f0f4f052 │\n",
       "│ d0e…      ┆           ┆           ┆           ┆   ┆           ┆           ┆           ┆ dc36e9…  │\n",
       "│ 5d6969a2a ┆ ZW02      ┆ Z080      ┆ Claim     ┆ … ┆ P         ┆ Pay       ┆ 8.1       ┆ de3d0af8 │\n",
       "│ d9a348a58 ┆           ┆           ┆ paid      ┆   ┆           ┆           ┆           ┆ 236f47c3 │\n",
       "│ 2c8866970 ┆           ┆           ┆           ┆   ┆           ┆           ┆           ┆ 1d41ff22 │\n",
       "│ b84…      ┆           ┆           ┆           ┆   ┆           ┆           ┆           ┆ 396266…  │\n",
       "│ 053049582 ┆ ZW01      ┆ Z080      ┆ Claim     ┆ … ┆ P         ┆ Pay       ┆ 76.0      ┆ cc4116d9 │\n",
       "│ 5d7a8fa90 ┆           ┆           ┆ paid      ┆   ┆           ┆           ┆           ┆ cf1e2d54 │\n",
       "│ a3d1a8b93 ┆           ┆           ┆           ┆   ┆           ┆           ┆           ┆ ba6644be │\n",
       "│ 316…      ┆           ┆           ┆           ┆   ┆           ┆           ┆           ┆ 17e845…  │\n",
       "│ 29ae30de6 ┆ ZW04      ┆ Z080      ┆ Claim     ┆ … ┆ RET_ACC   ┆ Adjustmen ┆ 2.64      ┆ 90097d7e │\n",
       "│ c11e97d73 ┆           ┆           ┆ paid      ┆   ┆           ┆ t         ┆           ┆ 42cb88a7 │\n",
       "│ 98b7b1ca6 ┆           ┆           ┆           ┆   ┆           ┆           ┆           ┆ 136c54b8 │\n",
       "│ 992…      ┆           ┆           ┆           ┆   ┆           ┆           ┆           ┆ d44471…  │\n",
       "│ 6dc77a54e ┆ ZW02      ┆ Z080      ┆ Claim     ┆ … ┆ P         ┆ Pay       ┆ 36.577181 ┆ 58b56ca5 │\n",
       "│ 3993f771f ┆           ┆           ┆ paid      ┆   ┆           ┆           ┆           ┆ 65b86334 │\n",
       "│ 6bce7c15c ┆           ┆           ┆           ┆   ┆           ┆           ┆           ┆ 9e33f05e │\n",
       "│ d3d…      ┆           ┆           ┆           ┆   ┆           ┆           ┆           ┆ d62532…  │\n",
       "└───────────┴───────────┴───────────┴───────────┴───┴───────────┴───────────┴───────────┴──────────┘"
      ]
     },
     "metadata": {},
     "output_type": "display_data"
    }
   ],
   "source": [
    "# Check the type of the 'failure_date' column\n",
    "col_type = europe_df.schema['failure_date']\n",
    "\n",
    "# Verify if the column is of type Date, and if not, convert it\n",
    "if col_type != pl.Date:\n",
    "    europe_df = europe_df.with_column(\n",
    "        pl.col('failure_date').str.strptime(pl.Date, fmt='%Y-%m-%d', strict=False).alias('failure_date')\n",
    "    )\n",
    "\n",
    "filtered_df = europe_df.filter(pl.col('failure_date') > pl.lit('2019-01-01').str.strptime(pl.Date, format='%Y-%m-%d'))\n",
    "\n",
    "print(\"# Dataset Europe - post 2019-01-01: {}\".format(filtered_df.shape[0]))\n",
    "display(filtered_df)"
   ]
  },
  {
   "cell_type": "markdown",
   "metadata": {},
   "source": [
    "##### Claims must be of type ZW01, ZW02, and ZW06"
   ]
  },
  {
   "cell_type": "code",
   "execution_count": 9,
   "metadata": {},
   "outputs": [
    {
     "name": "stdout",
     "output_type": "stream",
     "text": [
      "# Dataset Filtered Claim: 584231\n"
     ]
    }
   ],
   "source": [
    "filtered_claim_df = filtered_df.filter(pl.col('claim_type').is_in(['ZW01', 'ZW02', 'ZW06']))\n",
    "print(\"# Dataset Filtered Claim: {}\".format(filtered_claim_df.shape[0]))\n"
   ]
  },
  {
   "cell_type": "markdown",
   "metadata": {},
   "source": [
    "##### In the field part_number_des, we will select the following values:\n",
    "*\t-ECONOMY\n",
    "*\t-ECONOMY50\n",
    "*\t-E1\n",
    "*\t-E2\n",
    "*\t-E3 \n"
   ]
  },
  {
   "cell_type": "code",
   "execution_count": 10,
   "metadata": {},
   "outputs": [
    {
     "data": {
      "text/html": [
       "<div><style>\n",
       ".dataframe > thead > tr,\n",
       ".dataframe > tbody > tr {\n",
       "  text-align: right;\n",
       "  white-space: pre-wrap;\n",
       "}\n",
       "</style>\n",
       "<small>shape: (6, 1)</small><table border=\"1\" class=\"dataframe\"><thead><tr><th>part_number_des</th></tr><tr><td>str</td></tr></thead><tbody><tr><td>&quot;-E&quot;</td></tr><tr><td>&quot;-ECONOMY&quot;</td></tr><tr><td>&quot;-ECONOMY50&quot;</td></tr><tr><td>&quot;-E .&quot;</td></tr><tr><td>&quot;-E3&quot;</td></tr><tr><td>&quot;-E1&quot;</td></tr></tbody></table></div>"
      ],
      "text/plain": [
       "shape: (6, 1)\n",
       "┌─────────────────┐\n",
       "│ part_number_des │\n",
       "│ ---             │\n",
       "│ str             │\n",
       "╞═════════════════╡\n",
       "│ -E              │\n",
       "│ -ECONOMY        │\n",
       "│ -ECONOMY50      │\n",
       "│ -E .            │\n",
       "│ -E3             │\n",
       "│ -E1             │\n",
       "└─────────────────┘"
      ]
     },
     "metadata": {},
     "output_type": "display_data"
    }
   ],
   "source": [
    "display(filtered_claim_df.select(pl.col('part_number_des').unique()))"
   ]
  },
  {
   "cell_type": "code",
   "execution_count": 11,
   "metadata": {},
   "outputs": [
    {
     "name": "stdout",
     "output_type": "stream",
     "text": [
      "# Dataset Filtered End: 507817\n"
     ]
    }
   ],
   "source": [
    "filtered_df_polars = filtered_claim_df.filter(pl.col('part_number_des').is_in(['-ECONOMY', '-ECONOMY50', '-E1', '-E2', '-E3']))\n",
    "print(\"# Dataset Filtered End: {}\".format(filtered_df_polars.shape[0]))\n"
   ]
  },
  {
   "cell_type": "markdown",
   "metadata": {},
   "source": [
    "##### Drop Duplicates"
   ]
  },
  {
   "cell_type": "code",
   "execution_count": 12,
   "metadata": {},
   "outputs": [
    {
     "name": "stdout",
     "output_type": "stream",
     "text": [
      "Ther eare 57 duplicate rows\n"
     ]
    }
   ],
   "source": [
    "unique_df = filtered_df_polars.unique()\n",
    "unique_count = unique_df.height\n",
    "\n",
    "if filtered_df_polars.shape[0] == unique_count:\n",
    "    print(\"There are no duplicate rows\")\n",
    "else:\n",
    "    print(f\"Ther eare {filtered_df_polars.shape[0] - unique_count} duplicate rows\")"
   ]
  },
  {
   "cell_type": "markdown",
   "metadata": {},
   "source": [
    "#### Write"
   ]
  },
  {
   "cell_type": "code",
   "execution_count": 13,
   "metadata": {},
   "outputs": [
    {
     "name": "stdout",
     "output_type": "stream",
     "text": [
      "Path: ../dati/processed\n"
     ]
    }
   ],
   "source": [
    "# Specifica il percorso del file CSV di output\n",
    "csv_file_path = '../dati/processed/filtered_data.csv'\n",
    "csv_directory = os.path.dirname(csv_file_path)\n",
    "print(\"Path: {}\".format(csv_directory))"
   ]
  },
  {
   "cell_type": "code",
   "execution_count": 14,
   "metadata": {},
   "outputs": [],
   "source": [
    "# Crea la directory se non esiste\n",
    "if not os.path.exists(csv_directory):\n",
    "    os.makedirs(csv_directory)"
   ]
  },
  {
   "cell_type": "code",
   "execution_count": 15,
   "metadata": {},
   "outputs": [],
   "source": [
    "unique_df.write_csv(csv_file_path)"
   ]
  }
 ],
 "metadata": {
  "kernelspec": {
   "display_name": "Python 3",
   "language": "python",
   "name": "python3"
  },
  "language_info": {
   "codemirror_mode": {
    "name": "ipython",
    "version": 3
   },
   "file_extension": ".py",
   "mimetype": "text/x-python",
   "name": "python",
   "nbconvert_exporter": "python",
   "pygments_lexer": "ipython3",
   "version": "3.10.5"
  }
 },
 "nbformat": 4,
 "nbformat_minor": 2
}
