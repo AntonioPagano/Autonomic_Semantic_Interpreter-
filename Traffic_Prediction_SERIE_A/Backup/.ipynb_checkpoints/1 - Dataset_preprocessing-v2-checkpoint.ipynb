{
 "cells": [
  {
   "cell_type": "code",
   "execution_count": 5,
   "metadata": {},
   "outputs": [
    {
     "name": "stderr",
     "output_type": "stream",
     "text": [
      "ERROR:root:File `'../../UtilityPython.ipynb.py'` not found.\n"
     ]
    }
   ],
   "source": [
    "import pandas as pd\n",
    "import numpy as np\n",
    "\n",
    "%run ../../UtilityPython.ipynb\n",
    "\n",
    "#Aggiungere nell'analisi da quanti apparati si parte (quando si leggono i csv) e a quanti apparati arriviamo"
   ]
  },
  {
   "cell_type": "code",
   "execution_count": 6,
   "metadata": {},
   "outputs": [
    {
     "name": "stdout",
     "output_type": "stream",
     "text": [
      "['202001_Report_settimanale_DSLAM-OLT_30_12_2019_05_01_2020.csv', '202002_Report_settimanale_DSLAM-OLT_06_01_2020_12_01_2020.csv', '202003_Report_settimanale_DSLAM-OLT_13_01_2020_19_01_2020.csv', '202004_Report_settimanale_DSLAM-OLT_20_01_2020_26_01_2020.csv', '202005_Report_settimanale_DSLAM-OLT_27_01_2020_02_02_2020.csv']\n",
      "['../Datasets/input/20_01/202001_Report_settimanale_DSLAM-OLT_30_12_2019_05_01_2020.csv', '../Datasets/input/20_01/202002_Report_settimanale_DSLAM-OLT_06_01_2020_12_01_2020.csv', '../Datasets/input/20_01/202003_Report_settimanale_DSLAM-OLT_13_01_2020_19_01_2020.csv', '../Datasets/input/20_01/202004_Report_settimanale_DSLAM-OLT_20_01_2020_26_01_2020.csv', '../Datasets/input/20_01/202005_Report_settimanale_DSLAM-OLT_27_01_2020_02_02_2020.csv']\n"
     ]
    }
   ],
   "source": [
    "from os import listdir\n",
    "\n",
    "filepaths = [f for f in listdir(\"../Datasets/input/20_01/\") if f.endswith('.csv')]\n",
    "print(filepaths)\n",
    "filepaths=list(map(lambda x : '../Datasets/input/20_01/' + x,filepaths))\n",
    "print(filepaths)\n",
    "\n",
    "df = pd.concat(map(lambda x : pd.read_csv(x, sep='~', keep_default_na=False, na_values=['_'], error_bad_lines=False), filepaths))\n",
    "df=df[df['FLAG MISURA MANCANTE']!='Y']"
   ]
  },
  {
   "cell_type": "code",
   "execution_count": 7,
   "metadata": {},
   "outputs": [
    {
     "name": "stdout",
     "output_type": "stream",
     "text": [
      "<class 'pandas.core.frame.DataFrame'>\n",
      "Int64Index: 133503 entries, 0 to 39766\n",
      "Data columns (total 1 columns):\n",
      " #   Column     Non-Null Count   Dtype \n",
      "---  ------     --------------   ----- \n",
      " 0   LINEE RES  133503 non-null  object\n",
      "dtypes: object(1)\n",
      "memory usage: 2.0+ MB\n"
     ]
    }
   ],
   "source": [
    "df['LINEE RES'].to_frame().info()"
   ]
  },
  {
   "cell_type": "code",
   "execution_count": 8,
   "metadata": {},
   "outputs": [
    {
     "data": {
      "text/html": [
       "<div>\n",
       "<style scoped>\n",
       "    .dataframe tbody tr th:only-of-type {\n",
       "        vertical-align: middle;\n",
       "    }\n",
       "\n",
       "    .dataframe tbody tr th {\n",
       "        vertical-align: top;\n",
       "    }\n",
       "\n",
       "    .dataframe thead th {\n",
       "        text-align: right;\n",
       "    }\n",
       "</style>\n",
       "<table border=\"1\" class=\"dataframe\">\n",
       "  <thead>\n",
       "    <tr style=\"text-align: right;\">\n",
       "      <th></th>\n",
       "      <th></th>\n",
       "      <th></th>\n",
       "      <th></th>\n",
       "      <th>size</th>\n",
       "    </tr>\n",
       "    <tr>\n",
       "      <th>APPARATO</th>\n",
       "      <th>CATEGORIA</th>\n",
       "      <th>ID_MISURE_ATTESTAZIONE</th>\n",
       "      <th>WEEK</th>\n",
       "      <th></th>\n",
       "    </tr>\n",
       "  </thead>\n",
       "  <tbody>\n",
       "    <tr>\n",
       "      <th>ABBIITAA-001</th>\n",
       "      <th>DIRETTI_ATM</th>\n",
       "      <th>MGX92010/10.12</th>\n",
       "      <th>2020-03</th>\n",
       "      <td>1</td>\n",
       "    </tr>\n",
       "    <tr>\n",
       "      <th rowspan=\"4\" valign=\"top\">PONTITAK-100</th>\n",
       "      <th rowspan=\"4\" valign=\"top\">DIRETTI_IP</th>\n",
       "      <th rowspan=\"4\" valign=\"top\">RGAPI002/0/7/1/7</th>\n",
       "      <th>2020-05</th>\n",
       "      <td>1</td>\n",
       "    </tr>\n",
       "    <tr>\n",
       "      <th>2020-03</th>\n",
       "      <td>1</td>\n",
       "    </tr>\n",
       "    <tr>\n",
       "      <th>2020-02</th>\n",
       "      <td>1</td>\n",
       "    </tr>\n",
       "    <tr>\n",
       "      <th>2020-01</th>\n",
       "      <td>1</td>\n",
       "    </tr>\n",
       "    <tr>\n",
       "      <th>...</th>\n",
       "      <th>...</th>\n",
       "      <th>...</th>\n",
       "      <th>...</th>\n",
       "      <td>...</td>\n",
       "    </tr>\n",
       "    <tr>\n",
       "      <th rowspan=\"4\" valign=\"top\">FOGGITAE-100</th>\n",
       "      <th rowspan=\"4\" valign=\"top\">DIRETTI_IP</th>\n",
       "      <th rowspan=\"4\" valign=\"top\">RGAFG005/102/0/0/16</th>\n",
       "      <th>2020-05</th>\n",
       "      <td>1</td>\n",
       "    </tr>\n",
       "    <tr>\n",
       "      <th>2020-04</th>\n",
       "      <td>1</td>\n",
       "    </tr>\n",
       "    <tr>\n",
       "      <th>2020-03</th>\n",
       "      <td>1</td>\n",
       "    </tr>\n",
       "    <tr>\n",
       "      <th>2020-02</th>\n",
       "      <td>1</td>\n",
       "    </tr>\n",
       "    <tr>\n",
       "      <th>ZOGNITAN-101</th>\n",
       "      <th>FIGLI_IP</th>\n",
       "      <th>0</th>\n",
       "      <th>2020-05</th>\n",
       "      <td>1</td>\n",
       "    </tr>\n",
       "  </tbody>\n",
       "</table>\n",
       "<p>133503 rows × 1 columns</p>\n",
       "</div>"
      ],
      "text/plain": [
       "                                                         size\n",
       "APPARATO     CATEGORIA   ID_MISURE_ATTESTAZIONE WEEK         \n",
       "ABBIITAA-001 DIRETTI_ATM MGX92010/10.12         2020-03     1\n",
       "PONTITAK-100 DIRETTI_IP  RGAPI002/0/7/1/7       2020-05     1\n",
       "                                                2020-03     1\n",
       "                                                2020-02     1\n",
       "                                                2020-01     1\n",
       "...                                                       ...\n",
       "FOGGITAE-100 DIRETTI_IP  RGAFG005/102/0/0/16    2020-05     1\n",
       "                                                2020-04     1\n",
       "                                                2020-03     1\n",
       "                                                2020-02     1\n",
       "ZOGNITAN-101 FIGLI_IP    0                      2020-05     1\n",
       "\n",
       "[133503 rows x 1 columns]"
      ]
     },
     "execution_count": 8,
     "metadata": {},
     "output_type": "execute_result"
    }
   ],
   "source": [
    "#i 3 campi sono univoci per la settimana\n",
    "df.groupby(['APPARATO','CATEGORIA','ID_MISURE_ATTESTAZIONE','WEEK']).size().to_frame('size').sort_values(['size'], ascending=[False])"
   ]
  },
  {
   "cell_type": "raw",
   "metadata": {},
   "source": [
    "Per la nostra analisi, abbiamo bisogno di sapere ogni apparato (identificato da APPARATO-CATEGORIA) a quale Provincia appartiene. Successivamente, per ogni apparato ci occorrono i picchi di traffico per ogni giornata. \n",
    "Le giornate da prendere sono del tipo ('MAX US dd_mm_yyyy', 'INTERVALLO MAX US dd_mm_yyyy', 'TIPO GIORNO US dd_mm_yyyy') e vanno dalla prima giornata del mese di Gennaio (30-12-2019) all'ultima della stessa (05-01-2020)"
   ]
  },
  {
   "cell_type": "code",
   "execution_count": 9,
   "metadata": {},
   "outputs": [
    {
     "name": "stdout",
     "output_type": "stream",
     "text": [
      "shape of beginner dataset :(133503, 282)\n",
      "Number App of beginner dataset: 29311\n",
      "shape of result dataset :(133503, 115)\n",
      "Number App of result dataset: 29311\n"
     ]
    },
    {
     "data": {
      "text/html": [
       "<div>\n",
       "<style scoped>\n",
       "    .dataframe tbody tr th:only-of-type {\n",
       "        vertical-align: middle;\n",
       "    }\n",
       "\n",
       "    .dataframe tbody tr th {\n",
       "        vertical-align: top;\n",
       "    }\n",
       "\n",
       "    .dataframe thead th {\n",
       "        text-align: right;\n",
       "    }\n",
       "</style>\n",
       "<table border=\"1\" class=\"dataframe\">\n",
       "  <thead>\n",
       "    <tr style=\"text-align: right;\">\n",
       "      <th></th>\n",
       "      <th>APPARATO</th>\n",
       "      <th>CATEGORIA</th>\n",
       "      <th>ID_MISURE_ATTESTAZIONE</th>\n",
       "      <th>PROVINCIA</th>\n",
       "      <th>CAPACITA</th>\n",
       "      <th>SOGLIA GIALLA</th>\n",
       "      <th>SOGLIA ROSSA</th>\n",
       "      <th>LINEE RES</th>\n",
       "      <th>LINEE BUS</th>\n",
       "      <th>LINEE WHO</th>\n",
       "      <th>...</th>\n",
       "      <th>TIPO GIORNO DS 24_01_2020</th>\n",
       "      <th>TIPO GIORNO DS 25_01_2020</th>\n",
       "      <th>TIPO GIORNO DS 26_01_2020</th>\n",
       "      <th>TIPO GIORNO DS 27_01_2020</th>\n",
       "      <th>TIPO GIORNO DS 28_01_2020</th>\n",
       "      <th>TIPO GIORNO DS 29_01_2020</th>\n",
       "      <th>TIPO GIORNO DS 30_01_2020</th>\n",
       "      <th>TIPO GIORNO DS 31_01_2020</th>\n",
       "      <th>TIPO GIORNO DS 01_02_2020</th>\n",
       "      <th>TIPO GIORNO DS 02_02_2020</th>\n",
       "    </tr>\n",
       "  </thead>\n",
       "  <tbody>\n",
       "    <tr>\n",
       "      <th>0</th>\n",
       "      <td>NAPOITAY-200</td>\n",
       "      <td>KIT_VULA</td>\n",
       "      <td>KV-NA008/0/0/2</td>\n",
       "      <td>NA</td>\n",
       "      <td>10000</td>\n",
       "      <td>8000</td>\n",
       "      <td>9000</td>\n",
       "      <td></td>\n",
       "      <td></td>\n",
       "      <td></td>\n",
       "      <td>...</td>\n",
       "      <td>NaN</td>\n",
       "      <td>NaN</td>\n",
       "      <td>NaN</td>\n",
       "      <td>NaN</td>\n",
       "      <td>NaN</td>\n",
       "      <td>NaN</td>\n",
       "      <td>NaN</td>\n",
       "      <td>NaN</td>\n",
       "      <td>NaN</td>\n",
       "      <td>NaN</td>\n",
       "    </tr>\n",
       "    <tr>\n",
       "      <th>1</th>\n",
       "      <td>TRCEITAH-100</td>\n",
       "      <td>DIRETTI_IP</td>\n",
       "      <td>RGJRO002/11/2/1</td>\n",
       "      <td>RO</td>\n",
       "      <td>380</td>\n",
       "      <td>304</td>\n",
       "      <td>342</td>\n",
       "      <td>250</td>\n",
       "      <td>11</td>\n",
       "      <td>61</td>\n",
       "      <td>...</td>\n",
       "      <td>NaN</td>\n",
       "      <td>NaN</td>\n",
       "      <td>NaN</td>\n",
       "      <td>NaN</td>\n",
       "      <td>NaN</td>\n",
       "      <td>NaN</td>\n",
       "      <td>NaN</td>\n",
       "      <td>NaN</td>\n",
       "      <td>NaN</td>\n",
       "      <td>NaN</td>\n",
       "    </tr>\n",
       "    <tr>\n",
       "      <th>2</th>\n",
       "      <td>BENEITAF-200</td>\n",
       "      <td>KIT_VULA</td>\n",
       "      <td>KV-BN005/0/0/2</td>\n",
       "      <td>BN</td>\n",
       "      <td>10000</td>\n",
       "      <td>8000</td>\n",
       "      <td>9000</td>\n",
       "      <td></td>\n",
       "      <td></td>\n",
       "      <td></td>\n",
       "      <td>...</td>\n",
       "      <td>NaN</td>\n",
       "      <td>NaN</td>\n",
       "      <td>NaN</td>\n",
       "      <td>NaN</td>\n",
       "      <td>NaN</td>\n",
       "      <td>NaN</td>\n",
       "      <td>NaN</td>\n",
       "      <td>NaN</td>\n",
       "      <td>NaN</td>\n",
       "      <td>NaN</td>\n",
       "    </tr>\n",
       "    <tr>\n",
       "      <th>3</th>\n",
       "      <td>ORBEITBB-100</td>\n",
       "      <td>DIRETTI_IP</td>\n",
       "      <td>RGAGR002/0/7/1/9</td>\n",
       "      <td>GR</td>\n",
       "      <td>150</td>\n",
       "      <td>120</td>\n",
       "      <td>135</td>\n",
       "      <td>60</td>\n",
       "      <td>18</td>\n",
       "      <td>4</td>\n",
       "      <td>...</td>\n",
       "      <td>NaN</td>\n",
       "      <td>NaN</td>\n",
       "      <td>NaN</td>\n",
       "      <td>NaN</td>\n",
       "      <td>NaN</td>\n",
       "      <td>NaN</td>\n",
       "      <td>NaN</td>\n",
       "      <td>NaN</td>\n",
       "      <td>NaN</td>\n",
       "      <td>NaN</td>\n",
       "    </tr>\n",
       "    <tr>\n",
       "      <th>4</th>\n",
       "      <td>MLAZITAC-200</td>\n",
       "      <td>KIT_VULA</td>\n",
       "      <td>KV-ME012/0/0/2</td>\n",
       "      <td>ME</td>\n",
       "      <td>10000</td>\n",
       "      <td>8000</td>\n",
       "      <td>9000</td>\n",
       "      <td></td>\n",
       "      <td></td>\n",
       "      <td></td>\n",
       "      <td>...</td>\n",
       "      <td>NaN</td>\n",
       "      <td>NaN</td>\n",
       "      <td>NaN</td>\n",
       "      <td>NaN</td>\n",
       "      <td>NaN</td>\n",
       "      <td>NaN</td>\n",
       "      <td>NaN</td>\n",
       "      <td>NaN</td>\n",
       "      <td>NaN</td>\n",
       "      <td>NaN</td>\n",
       "    </tr>\n",
       "  </tbody>\n",
       "</table>\n",
       "<p>5 rows × 115 columns</p>\n",
       "</div>"
      ],
      "text/plain": [
       "       APPARATO   CATEGORIA ID_MISURE_ATTESTAZIONE PROVINCIA CAPACITA  \\\n",
       "0  NAPOITAY-200    KIT_VULA         KV-NA008/0/0/2        NA    10000   \n",
       "1  TRCEITAH-100  DIRETTI_IP        RGJRO002/11/2/1        RO      380   \n",
       "2  BENEITAF-200    KIT_VULA         KV-BN005/0/0/2        BN    10000   \n",
       "3  ORBEITBB-100  DIRETTI_IP       RGAGR002/0/7/1/9        GR      150   \n",
       "4  MLAZITAC-200    KIT_VULA         KV-ME012/0/0/2        ME    10000   \n",
       "\n",
       "  SOGLIA GIALLA SOGLIA ROSSA LINEE RES LINEE BUS LINEE WHO  ...  \\\n",
       "0          8000         9000                                ...   \n",
       "1           304          342       250        11        61  ...   \n",
       "2          8000         9000                                ...   \n",
       "3           120          135        60        18         4  ...   \n",
       "4          8000         9000                                ...   \n",
       "\n",
       "  TIPO GIORNO DS 24_01_2020 TIPO GIORNO DS 25_01_2020  \\\n",
       "0                       NaN                       NaN   \n",
       "1                       NaN                       NaN   \n",
       "2                       NaN                       NaN   \n",
       "3                       NaN                       NaN   \n",
       "4                       NaN                       NaN   \n",
       "\n",
       "  TIPO GIORNO DS 26_01_2020 TIPO GIORNO DS 27_01_2020  \\\n",
       "0                       NaN                       NaN   \n",
       "1                       NaN                       NaN   \n",
       "2                       NaN                       NaN   \n",
       "3                       NaN                       NaN   \n",
       "4                       NaN                       NaN   \n",
       "\n",
       "  TIPO GIORNO DS 28_01_2020 TIPO GIORNO DS 29_01_2020  \\\n",
       "0                       NaN                       NaN   \n",
       "1                       NaN                       NaN   \n",
       "2                       NaN                       NaN   \n",
       "3                       NaN                       NaN   \n",
       "4                       NaN                       NaN   \n",
       "\n",
       "  TIPO GIORNO DS 30_01_2020 TIPO GIORNO DS 31_01_2020  \\\n",
       "0                       NaN                       NaN   \n",
       "1                       NaN                       NaN   \n",
       "2                       NaN                       NaN   \n",
       "3                       NaN                       NaN   \n",
       "4                       NaN                       NaN   \n",
       "\n",
       "  TIPO GIORNO DS 01_02_2020 TIPO GIORNO DS 02_02_2020  \n",
       "0                       NaN                       NaN  \n",
       "1                       NaN                       NaN  \n",
       "2                       NaN                       NaN  \n",
       "3                       NaN                       NaN  \n",
       "4                       NaN                       NaN  \n",
       "\n",
       "[5 rows x 115 columns]"
      ]
     },
     "execution_count": 9,
     "metadata": {},
     "output_type": "execute_result"
    }
   ],
   "source": [
    "df_new1 = df.filter(regex='MAX DS ')\n",
    "df_new2 = df.filter(regex='TIPO GIORNO DS ')\n",
    "df_anag = df[['APPARATO', 'CATEGORIA','ID_MISURE_ATTESTAZIONE', 'PROVINCIA', 'CAPACITA', 'SOGLIA GIALLA', 'SOGLIA ROSSA', 'LINEE RES', 'LINEE BUS', 'LINEE WHO']]\n",
    "#df_new = pd.concat(df_example.filter(regex='MAX US '),df_example.filter(regex='TIPO GIORNO US '))\n",
    "result = pd.concat([df_anag, df_new1, df_new2], axis=1, sort=False)\n",
    "print(\"shape of beginner dataset :\"+str(df.shape))\n",
    "tmp = df.groupby(['APPARATO','CATEGORIA', 'ID_MISURE_ATTESTAZIONE','PROVINCIA']).size()\n",
    "print(\"Number App of beginner dataset: \" + str(tmp.shape[0]))\n",
    "print(\"shape of result dataset :\"+str(result.shape))\n",
    "tmp1 = result.groupby(['APPARATO','CATEGORIA', 'ID_MISURE_ATTESTAZIONE','PROVINCIA']).size()\n",
    "print(\"Number App of result dataset: \" + str(tmp1.shape[0]))\n",
    "result.head()"
   ]
  },
  {
   "cell_type": "code",
   "execution_count": 10,
   "metadata": {},
   "outputs": [
    {
     "ename": "NameError",
     "evalue": "name 'missing_data_count' is not defined",
     "output_type": "error",
     "traceback": [
      "\u001b[1;31m---------------------------------------------------------------------------\u001b[0m",
      "\u001b[1;31mNameError\u001b[0m                                 Traceback (most recent call last)",
      "\u001b[1;32m<ipython-input-10-90ac05e92574>\u001b[0m in \u001b[0;36m<module>\u001b[1;34m\u001b[0m\n\u001b[1;32m----> 1\u001b[1;33m \u001b[0mmissing_data_count\u001b[0m\u001b[1;33m(\u001b[0m\u001b[0mresult\u001b[0m\u001b[1;33m)\u001b[0m\u001b[1;33m\u001b[0m\u001b[1;33m\u001b[0m\u001b[0m\n\u001b[0m",
      "\u001b[1;31mNameError\u001b[0m: name 'missing_data_count' is not defined"
     ]
    }
   ],
   "source": [
    "missing_data_count(result)"
   ]
  },
  {
   "cell_type": "code",
   "execution_count": null,
   "metadata": {},
   "outputs": [],
   "source": [
    "#Eliminiamo i dati di cui non abbiamo anagrafica (provincia o linee null) se presenti\n",
    "result['LINEE RES'] = pd.to_numeric(result['LINEE RES'])\n",
    "result['LINEE BUS'] = pd.to_numeric(result['LINEE BUS'])\n",
    "result['LINEE WHO'] = pd.to_numeric(result['LINEE WHO'])\n",
    "result.dropna(subset = ['LINEE RES', 'LINEE BUS', 'LINEE WHO', 'PROVINCIA'],inplace=True)\n",
    "missing_data_count(result)\n",
    "print(\"shape of result dataset :\"+str(result.shape))\n",
    "tmp = result.groupby(['APPARATO','CATEGORIA', 'ID_MISURE_ATTESTAZIONE','PROVINCIA']).size()\n",
    "print(\"Number App of result dataset: \" + str(tmp.shape[0]))"
   ]
  },
  {
   "cell_type": "code",
   "execution_count": null,
   "metadata": {},
   "outputs": [],
   "source": [
    "#Calcolo le percentuali per ottenere ogni apparato quante tipologie di linee possiede\n",
    "result['LINEE RES PERC']=result['LINEE RES']/(result['LINEE RES']+result['LINEE BUS']+result['LINEE WHO'])\n",
    "result['LINEE BUS PERC']=result['LINEE BUS']/(result['LINEE RES']+result['LINEE BUS']+result['LINEE WHO'])\n",
    "result['LINEE WHO PERC']=result['LINEE WHO']/(result['LINEE RES']+result['LINEE BUS']+result['LINEE WHO'])\n",
    "result.drop(['LINEE RES', 'LINEE BUS', 'LINEE WHO'],axis=1,inplace=True)\n",
    "result[['LINEE RES PERC','LINEE BUS PERC','LINEE WHO PERC']].head()"
   ]
  },
  {
   "cell_type": "code",
   "execution_count": null,
   "metadata": {},
   "outputs": [],
   "source": [
    "print(\"shape of result dataset before filter:\"+str(result.shape))\n",
    "tmp = result.groupby(['APPARATO','CATEGORIA', 'ID_MISURE_ATTESTAZIONE','PROVINCIA']).size()\n",
    "print(\"Number App before filter: \" + str(tmp.shape[0]))\n",
    "result_f=result[result['LINEE RES PERC']>=0.75]\n",
    "print(\"shape of result dataset after filter:\"+str(result_f.shape))\n",
    "tmp1 = result_f.groupby(['APPARATO','CATEGORIA', 'ID_MISURE_ATTESTAZIONE','PROVINCIA']).size()\n",
    "print(\"Number App after filter: \" + str(tmp1.shape[0]))\n",
    "result_f.drop(['LINEE RES PERC', 'LINEE BUS PERC', 'LINEE WHO PERC'],axis=1,inplace=True)"
   ]
  },
  {
   "cell_type": "code",
   "execution_count": null,
   "metadata": {},
   "outputs": [],
   "source": [
    "result_f['ID']=result_f['APPARATO']+result_f['CATEGORIA']+result_f['ID_MISURE_ATTESTAZIONE']\n",
    "result_f.drop(['APPARATO', 'CATEGORIA', 'ID_MISURE_ATTESTAZIONE'],axis=1,inplace=True)\n",
    "result_f.head()"
   ]
  },
  {
   "cell_type": "code",
   "execution_count": null,
   "metadata": {},
   "outputs": [],
   "source": [
    "cols = ['ID']  + [col for col in result_f if col != 'ID']\n",
    "result_f = result_f[cols]\n",
    "result_f.head()"
   ]
  },
  {
   "cell_type": "code",
   "execution_count": null,
   "metadata": {},
   "outputs": [],
   "source": [
    "tmp=result_f.groupby(['ID','PROVINCIA']).size().to_frame('number_of_week').sort_values(['number_of_week'], ascending=[False])"
   ]
  },
  {
   "cell_type": "code",
   "execution_count": null,
   "metadata": {},
   "outputs": [],
   "source": [
    "print('Apparati con 5 settimane : ' + str(tmp[tmp['number_of_week']==5].count()))\n",
    "print('Apparati con 4 settimane : ' + str(tmp[tmp['number_of_week']==4].count()))\n",
    "print('Apparati con 3 settimane : ' + str(tmp[tmp['number_of_week']==3].count()))\n",
    "print('Apparati con 2 settimane : ' + str(tmp[tmp['number_of_week']==2].count()))\n",
    "print('Apparati con 1 settimana : ' + str(tmp[tmp['number_of_week']==1].count()))"
   ]
  },
  {
   "cell_type": "code",
   "execution_count": null,
   "metadata": {},
   "outputs": [],
   "source": [
    "join=pd.merge(result_f, tmp, on='ID', how='outer')\n",
    "num_of_weeks = tmp.number_of_week.max()\n",
    "result_f=join[join.number_of_week==num_of_weeks]\n",
    "result_f.drop(['number_of_week'],axis=1,inplace=True)\n",
    "tmp1 = result_f.groupby(['ID','PROVINCIA']).size()\n",
    "print(\"Number App after filter: \" + str(tmp1.shape[0]))"
   ]
  },
  {
   "cell_type": "raw",
   "metadata": {},
   "source": [
    "Creiamo un nuovo dataframe con: (id, pro, data, max us, hour, type) "
   ]
  },
  {
   "cell_type": "code",
   "execution_count": null,
   "metadata": {},
   "outputs": [],
   "source": [
    "import datetime\n",
    "from datetime import date, timedelta\n",
    "\n",
    "def reshape_df(df, start_date, end_date):\n",
    "    sdate = datetime.datetime.strptime(start_date, '%d_%m_%Y')\n",
    "    edate = datetime.datetime.strptime(end_date, '%d_%m_%Y')\n",
    "    \n",
    "    delta = edate - sdate       # as timedelta\n",
    "    final = pd.DataFrame(columns = ['ID', 'PROVINCIA','DATA', 'CAPACITA', 'SOGLIA GIALLA', 'SOGLIA ROSSA', \n",
    "                                    'MAX_DS', 'INTERVALLO_MAX_DS', 'TIPO_GIORNO_DS'])\n",
    "    \n",
    "    for i in range(delta.days + 1):\n",
    "        day = sdate + timedelta(days=i)\n",
    "        \n",
    "        tmp = df.filter(regex=datetime.datetime.strftime(day, '%d_%m_%Y')).rename(\n",
    "            columns={'MAX DS ' + datetime.datetime.strftime(day, '%d_%m_%Y'):'MAX_DS',\n",
    "                     'INTERVALLO MAX DS ' + datetime.datetime.strftime(day, '%d_%m_%Y'):'INTERVALLO_MAX_DS',\n",
    "                     'TIPO GIORNO DS '+datetime.datetime.strftime(day, '%d_%m_%Y'):'TIPO_GIORNO_DS'})\n",
    "        df_anag = df[['ID', 'PROVINCIA', 'CAPACITA', 'SOGLIA GIALLA', 'SOGLIA ROSSA',]]\n",
    "        tmp1 = pd.concat([df_anag, tmp], axis=1, sort=False)\n",
    "        tmp1.dropna(inplace=True)\n",
    "        tmp1['DATA'] = day\n",
    "        final=final.append(tmp1)\n",
    "        \n",
    "    return final"
   ]
  },
  {
   "cell_type": "code",
   "execution_count": null,
   "metadata": {},
   "outputs": [],
   "source": [
    "finale=reshape_df(result_f, result_f.columns[5].split(' ')[-1], result_f.columns[-1].split(' ')[-1])\n",
    "finale['DATA']=finale['DATA'].dt.strftime('%d-%m-%Y')\n",
    "finale=finale[finale.MAX_DS!='0']\n",
    "finale.DATA.value_counts().sort_values"
   ]
  },
  {
   "cell_type": "code",
   "execution_count": null,
   "metadata": {},
   "outputs": [],
   "source": [
    "finale"
   ]
  },
  {
   "cell_type": "code",
   "execution_count": null,
   "metadata": {},
   "outputs": [],
   "source": [
    "finale['MAX_DS'] = finale['MAX_DS'].str.replace(',', '.').astype(float)\n",
    "finale['SOGLIA GIALLA'] = finale['SOGLIA GIALLA'].str.replace(',', '.').astype(float)\n",
    "finale['SOGLIA ROSSA'] = finale['SOGLIA ROSSA'].str.replace(',', '.').astype(float)"
   ]
  },
  {
   "cell_type": "code",
   "execution_count": null,
   "metadata": {},
   "outputs": [],
   "source": [
    "finale.info()"
   ]
  },
  {
   "cell_type": "code",
   "execution_count": null,
   "metadata": {},
   "outputs": [],
   "source": [
    "plot_corr_matrix(finale,25,10)"
   ]
  },
  {
   "cell_type": "code",
   "execution_count": null,
   "metadata": {},
   "outputs": [],
   "source": [
    "#Su DAZN Roma-Torino alle 20.45 del 05-01-2020\n",
    "#Vediamo il numero di apparati che hanno avuto il picco in quella fascia oraria, e di questi \n",
    "#quanti hanno superato la capacità\n",
    "#n° di apparati \n",
    "df_0=finale[(finale['PROVINCIA']=='RM') & (finale['DATA']=='05-01-2020')].groupby(\n",
    "    ['INTERVALLO_MAX_DS']).size().to_frame('N_APPARATI').sort_values(['INTERVALLO_MAX_DS']).tail(20)\n",
    "#n° di apparati che hanno superato la soglia gialla e rossa\n",
    "df_1=finale[(finale['PROVINCIA']=='RM') & (finale['DATA']=='05-01-2020') & \n",
    "       (finale['SOGLIA GIALLA']<finale['MAX_DS'])].groupby(['INTERVALLO_MAX_DS']).size().to_frame(\n",
    "    'N_APPARATI_SOPRA_GIALLA').sort_values(['INTERVALLO_MAX_DS'])\n",
    "df_2=finale[(finale['PROVINCIA']=='RM') & (finale['DATA']=='05-01-2020') &\n",
    "       (finale['SOGLIA ROSSA']<finale['MAX_DS'])].groupby(['INTERVALLO_MAX_DS']).size().to_frame(\n",
    "    'N_APPARATI_SOPRA_ROSSA').sort_values(['INTERVALLO_MAX_DS'])\n",
    "join0=pd.merge(df_0, df_1, on='INTERVALLO_MAX_DS', how='outer')\n",
    "join1=pd.merge(join0, df_2, on='INTERVALLO_MAX_DS', how='outer')\n",
    "join1=join1.fillna(0)\n",
    "#DS Complessivo\n",
    "df_3=finale[(finale['PROVINCIA']=='RM') & (finale['DATA']=='05-01-2020')].groupby(['INTERVALLO_MAX_DS']).agg(\n",
    "    {'MAX_DS': ['sum', 'max']}).sort_values(['INTERVALLO_MAX_DS']).tail(20)\n",
    "join2=pd.merge(join1, df_3, on='INTERVALLO_MAX_DS', how='outer')\n",
    "join2"
   ]
  },
  {
   "cell_type": "code",
   "execution_count": null,
   "metadata": {},
   "outputs": [],
   "source": [
    "#Su Sky ROMA-Juve alle 20.45 del 12-01-2020\n",
    "df_0=finale[(finale['PROVINCIA']=='RM') & (finale['DATA']=='12-01-2020')].groupby(\n",
    "    ['INTERVALLO_MAX_DS']).size().to_frame('N_APPARATI').sort_values(['INTERVALLO_MAX_DS']).tail(20)\n",
    "#n° di apparati che hanno superato la soglia gialla e rossa\n",
    "df_1=finale[(finale['PROVINCIA']=='RM') & (finale['DATA']=='12-01-2020') & \n",
    "       (finale['SOGLIA GIALLA']<finale['MAX_DS'])].groupby(['INTERVALLO_MAX_DS']).size().to_frame(\n",
    "    'N_APPARATI_SOPRA_GIALLA').sort_values(['INTERVALLO_MAX_DS'])\n",
    "df_2=finale[(finale['PROVINCIA']=='RM') & (finale['DATA']=='12-01-2020') &\n",
    "       (finale['SOGLIA ROSSA']<finale['MAX_DS'])].groupby(['INTERVALLO_MAX_DS']).size().to_frame(\n",
    "    'N_APPARATI_SOPRA_ROSSA').sort_values(['INTERVALLO_MAX_DS'])\n",
    "join0=pd.merge(df_0, df_1, on='INTERVALLO_MAX_DS', how='outer')\n",
    "join1=pd.merge(join0, df_2, on='INTERVALLO_MAX_DS', how='outer')\n",
    "join1=join1.fillna(0)\n",
    "#DS Complessivo\n",
    "df_3=finale[(finale['PROVINCIA']=='RM') & (finale['DATA']=='12-01-2020')].groupby(['INTERVALLO_MAX_DS']).agg(\n",
    "    {'MAX_DS': ['sum', 'max']}).sort_values(['INTERVALLO_MAX_DS']).tail(20)\n",
    "join2=pd.merge(join1, df_3, on='INTERVALLO_MAX_DS', how='outer')\n",
    "join2"
   ]
  },
  {
   "cell_type": "code",
   "execution_count": null,
   "metadata": {},
   "outputs": [],
   "source": [
    "#Su DAZN Sabato 11 gennaio 2020, ore 20.45, INTER-ATALANTA\n",
    "df_0=finale[(finale['PROVINCIA']=='BG') & (finale['DATA']=='11-01-2020')].groupby(\n",
    "    ['INTERVALLO_MAX_DS']).size().to_frame('N_APPARATI').sort_values(['INTERVALLO_MAX_DS']).tail(20)\n",
    "#n° di apparati che hanno superato la soglia gialla e rossa\n",
    "df_1=finale[(finale['PROVINCIA']=='BG') & (finale['DATA']=='11-01-2020') & \n",
    "       (finale['SOGLIA GIALLA']<finale['MAX_DS'])].groupby(['INTERVALLO_MAX_DS']).size().to_frame(\n",
    "    'N_APPARATI_SOPRA_GIALLA').sort_values(['INTERVALLO_MAX_DS'])\n",
    "df_2=finale[(finale['PROVINCIA']=='BG') & (finale['DATA']=='11-01-2020') &\n",
    "       (finale['SOGLIA ROSSA']<finale['MAX_DS'])].groupby(['INTERVALLO_MAX_DS']).size().to_frame(\n",
    "    'N_APPARATI_SOPRA_ROSSA').sort_values(['INTERVALLO_MAX_DS'])\n",
    "join0=pd.merge(df_0, df_1, on='INTERVALLO_MAX_DS', how='outer')\n",
    "join1=pd.merge(join0, df_2, on='INTERVALLO_MAX_DS', how='outer')\n",
    "join1=join1.fillna(0)\n",
    "#DS Complessivo\n",
    "df_3=finale[(finale['PROVINCIA']=='BG') & (finale['DATA']=='11-01-2020')].groupby(['INTERVALLO_MAX_DS']).agg(\n",
    "    {'MAX_DS': ['sum', 'max']}).sort_values(['INTERVALLO_MAX_DS']).tail(20)\n",
    "join2=pd.merge(join1, df_3, on='INTERVALLO_MAX_DS', how='outer')\n",
    "join2"
   ]
  },
  {
   "cell_type": "code",
   "execution_count": null,
   "metadata": {},
   "outputs": [],
   "source": [
    "#Su DAZN Domenica 26 gennaio 2020, ore 15.00, SAMPDORIA-SASSUOLO\n",
    "#Domenica 26 gennaio 2020, ore 12.30, INTER-CAGLIARI\n",
    "\n",
    "df_0=finale[(finale['PROVINCIA']=='MI') & (finale['DATA']=='23-01-2020')].groupby(\n",
    "    ['INTERVALLO_MAX_DS']).size().to_frame('N_APPARATI').sort_values(['INTERVALLO_MAX_DS']).head(20)\n",
    "#n° di apparati che hanno superato la soglia gialla e rossa\n",
    "df_1=finale[(finale['PROVINCIA']=='MI') & (finale['DATA']=='23-01-2020') & \n",
    "       (finale['SOGLIA GIALLA']<finale['MAX_DS'])].groupby(['INTERVALLO_MAX_DS']).size().to_frame(\n",
    "    'N_APPARATI_SOPRA_GIALLA').sort_values(['INTERVALLO_MAX_DS'])\n",
    "df_2=finale[(finale['PROVINCIA']=='MI') & (finale['DATA']=='23-01-2020') &\n",
    "       (finale['SOGLIA ROSSA']<finale['MAX_DS'])].groupby(['INTERVALLO_MAX_DS']).size().to_frame(\n",
    "    'N_APPARATI_SOPRA_ROSSA').sort_values(['INTERVALLO_MAX_DS'])\n",
    "join0=pd.merge(df_0, df_1, on='INTERVALLO_MAX_DS', how='outer')\n",
    "join1=pd.merge(join0, df_2, on='INTERVALLO_MAX_DS', how='outer')\n",
    "join1=join1.fillna(0)\n",
    "#DS Complessivo\n",
    "df_3=finale[(finale['PROVINCIA']=='MI') & (finale['DATA']=='23-01-2020')].groupby(['INTERVALLO_MAX_DS']).agg(\n",
    "    {'MAX_DS': ['sum', 'max']}).sort_values(['INTERVALLO_MAX_DS']).head(20)\n",
    "join2=pd.merge(join1, df_3, on='INTERVALLO_MAX_DS', how='outer')\n",
    "join2"
   ]
  },
  {
   "cell_type": "code",
   "execution_count": null,
   "metadata": {},
   "outputs": [],
   "source": [
    "df_0=finale[(finale['PROVINCIA']=='RM') & (finale['DATA']=='27-12-2019')].groupby(\n",
    "    ['DATA','INTERVALLO_MAX_DS']).size().to_frame('N_APPARATI').sort_values(['INTERVALLO_MAX_DS']).tail(20)\n",
    "#n° di apparati che hanno superato la soglia gialla e rossa\n",
    "df_1=finale[(finale['PROVINCIA']=='RM') & (finale['DATA']=='27-12-2019') & \n",
    "       (finale['SOGLIA GIALLA']<finale['MAX_DS'])].groupby(['DATA','INTERVALLO_MAX_DS']).size().to_frame(\n",
    "    'N_APPARATI_SOPRA_GIALLA').sort_values(['INTERVALLO_MAX_DS'])\n",
    "df_2=finale[(finale['PROVINCIA']=='RM') & (finale['DATA']=='27-12-2019') &\n",
    "       (finale['SOGLIA ROSSA']<finale['MAX_DS'])].groupby(['DATA','INTERVALLO_MAX_DS']).size().to_frame(\n",
    "    'N_APPARATI_SOPRA_ROSSA').sort_values(['INTERVALLO_MAX_DS'])\n",
    "join0=pd.merge(df_0, df_1, on=['DATA','INTERVALLO_MAX_DS'], how='outer')\n",
    "join1=pd.merge(join0, df_2, on=['DATA','INTERVALLO_MAX_DS'], how='outer')\n",
    "join1=join1.fillna(0)\n",
    "#DS Complessivo\n",
    "df_3=finale[(finale['PROVINCIA']=='RM') & (finale['DATA']=='27-12-2019')].groupby(['DATA','INTERVALLO_MAX_DS']).agg(\n",
    "    {'MAX_DS': ['sum', 'max']}).sort_values(['INTERVALLO_MAX_DS']).tail(20)\n",
    "join2=pd.merge(join1, df_3, on=['DATA','INTERVALLO_MAX_DS'], how='outer')\n",
    "join2"
   ]
  },
  {
   "cell_type": "code",
   "execution_count": null,
   "metadata": {},
   "outputs": [],
   "source": [
    "missing_data_count(finale)"
   ]
  },
  {
   "cell_type": "code",
   "execution_count": null,
   "metadata": {},
   "outputs": [],
   "source": [
    "#finale[finale['MAX_DS'].isnull()].groupby('DATA').size()\n",
    "finale.groupby('DATA').size().to_frame('size').reset_index().sort_values(\n",
    "    ['DATA', 'size'], ascending=[True, False])"
   ]
  },
  {
   "cell_type": "code",
   "execution_count": null,
   "metadata": {},
   "outputs": [],
   "source": [
    "finale.to_csv (r'./final_dataset_v2.csv', index = None, header=True)"
   ]
  }
 ],
 "metadata": {
  "kernelspec": {
   "display_name": "Python 3",
   "language": "python",
   "name": "python3"
  },
  "language_info": {
   "codemirror_mode": {
    "name": "ipython",
    "version": 3
   },
   "file_extension": ".py",
   "mimetype": "text/x-python",
   "name": "python",
   "nbconvert_exporter": "python",
   "pygments_lexer": "ipython3",
   "version": "3.7.7"
  }
 },
 "nbformat": 4,
 "nbformat_minor": 4
}
