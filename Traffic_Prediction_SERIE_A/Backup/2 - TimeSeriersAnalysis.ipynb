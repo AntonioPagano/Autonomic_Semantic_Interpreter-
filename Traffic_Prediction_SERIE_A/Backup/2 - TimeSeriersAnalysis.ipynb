{
 "cells": [
  {
   "cell_type": "code",
   "execution_count": 1,
   "metadata": {},
   "outputs": [
    {
     "data": {
      "text/html": [
       "        <script type=\"text/javascript\">\n",
       "        window.PlotlyConfig = {MathJaxConfig: 'local'};\n",
       "        if (window.MathJax) {MathJax.Hub.Config({SVG: {font: \"STIX-Web\"}});}\n",
       "        if (typeof require !== 'undefined') {\n",
       "        require.undef(\"plotly\");\n",
       "        requirejs.config({\n",
       "            paths: {\n",
       "                'plotly': ['https://cdn.plot.ly/plotly-latest.min']\n",
       "            }\n",
       "        });\n",
       "        require(['plotly'], function(Plotly) {\n",
       "            window._Plotly = Plotly;\n",
       "        });\n",
       "        }\n",
       "        </script>\n",
       "        "
      ]
     },
     "metadata": {},
     "output_type": "display_data"
    }
   ],
   "source": [
    "import pandas as pd\n",
    "import numpy as np\n",
    "from plotly import tools\n",
    "\n",
    "%run ../../UtilityPython.ipynb"
   ]
  },
  {
   "cell_type": "code",
   "execution_count": 2,
   "metadata": {},
   "outputs": [
    {
     "data": {
      "text/html": [
       "<div>\n",
       "<style scoped>\n",
       "    .dataframe tbody tr th:only-of-type {\n",
       "        vertical-align: middle;\n",
       "    }\n",
       "\n",
       "    .dataframe tbody tr th {\n",
       "        vertical-align: top;\n",
       "    }\n",
       "\n",
       "    .dataframe thead th {\n",
       "        text-align: right;\n",
       "    }\n",
       "</style>\n",
       "<table border=\"1\" class=\"dataframe\">\n",
       "  <thead>\n",
       "    <tr style=\"text-align: right;\">\n",
       "      <th></th>\n",
       "      <th>ID</th>\n",
       "      <th>PROVINCIA</th>\n",
       "      <th>DATA</th>\n",
       "      <th>CAPACITA</th>\n",
       "      <th>SOGLIA GIALLA</th>\n",
       "      <th>SOGLIA ROSSA</th>\n",
       "      <th>MAX_DS</th>\n",
       "      <th>INTERVALLO_MAX_DS</th>\n",
       "      <th>TIPO_GIORNO_DS</th>\n",
       "    </tr>\n",
       "  </thead>\n",
       "  <tbody>\n",
       "    <tr>\n",
       "      <th>178698</th>\n",
       "      <td>PSSTITAB-100DIRETTI_IPRGAAR001/0/1/1/14</td>\n",
       "      <td>AR</td>\n",
       "      <td>26-01-2020</td>\n",
       "      <td>450</td>\n",
       "      <td>360.0</td>\n",
       "      <td>405.0</td>\n",
       "      <td>80.2232</td>\n",
       "      <td>16:45</td>\n",
       "      <td>FES</td>\n",
       "    </tr>\n",
       "    <tr>\n",
       "      <th>178699</th>\n",
       "      <td>BSLOITEE-400MSANOLT</td>\n",
       "      <td>FI</td>\n",
       "      <td>26-01-2020</td>\n",
       "      <td>450</td>\n",
       "      <td>360.0</td>\n",
       "      <td>405.0</td>\n",
       "      <td>117.2371</td>\n",
       "      <td>21:45</td>\n",
       "      <td>FES</td>\n",
       "    </tr>\n",
       "    <tr>\n",
       "      <th>178700</th>\n",
       "      <td>SORAITAN-100DIRETTI_IPRGAFR003/101/0/0/20</td>\n",
       "      <td>FR</td>\n",
       "      <td>26-01-2020</td>\n",
       "      <td>450</td>\n",
       "      <td>360.0</td>\n",
       "      <td>405.0</td>\n",
       "      <td>118.9139</td>\n",
       "      <td>17:00</td>\n",
       "      <td>FES</td>\n",
       "    </tr>\n",
       "    <tr>\n",
       "      <th>178701</th>\n",
       "      <td>CUNEITAD-001MINIDSLAM0</td>\n",
       "      <td>CN</td>\n",
       "      <td>26-01-2020</td>\n",
       "      <td>8</td>\n",
       "      <td>6.0</td>\n",
       "      <td>7.2</td>\n",
       "      <td>4.0556</td>\n",
       "      <td>23:45</td>\n",
       "      <td>FES</td>\n",
       "    </tr>\n",
       "    <tr>\n",
       "      <th>178702</th>\n",
       "      <td>ASTIITAB-001MINIDSLAM0</td>\n",
       "      <td>AT</td>\n",
       "      <td>26-01-2020</td>\n",
       "      <td>8</td>\n",
       "      <td>6.0</td>\n",
       "      <td>7.2</td>\n",
       "      <td>5.3720</td>\n",
       "      <td>19:45</td>\n",
       "      <td>FES</td>\n",
       "    </tr>\n",
       "  </tbody>\n",
       "</table>\n",
       "</div>"
      ],
      "text/plain": [
       "                                               ID PROVINCIA        DATA  \\\n",
       "178698    PSSTITAB-100DIRETTI_IPRGAAR001/0/1/1/14        AR  26-01-2020   \n",
       "178699                        BSLOITEE-400MSANOLT        FI  26-01-2020   \n",
       "178700  SORAITAN-100DIRETTI_IPRGAFR003/101/0/0/20        FR  26-01-2020   \n",
       "178701                     CUNEITAD-001MINIDSLAM0        CN  26-01-2020   \n",
       "178702                     ASTIITAB-001MINIDSLAM0        AT  26-01-2020   \n",
       "\n",
       "        CAPACITA  SOGLIA GIALLA  SOGLIA ROSSA    MAX_DS INTERVALLO_MAX_DS  \\\n",
       "178698       450          360.0         405.0   80.2232             16:45   \n",
       "178699       450          360.0         405.0  117.2371             21:45   \n",
       "178700       450          360.0         405.0  118.9139             17:00   \n",
       "178701         8            6.0           7.2    4.0556             23:45   \n",
       "178702         8            6.0           7.2    5.3720             19:45   \n",
       "\n",
       "       TIPO_GIORNO_DS  \n",
       "178698            FES  \n",
       "178699            FES  \n",
       "178700            FES  \n",
       "178701            FES  \n",
       "178702            FES  "
      ]
     },
     "execution_count": 2,
     "metadata": {},
     "output_type": "execute_result"
    }
   ],
   "source": [
    "df = pd.read_csv('./datasets/final_dataset_v2.csv', keep_default_na=False, na_values=['_'])\n",
    "df.tail()"
   ]
  },
  {
   "cell_type": "raw",
   "metadata": {},
   "source": [
    "18ª Giornata\n",
    "\n",
    "Domenica 5 gennaio 2020, ore 20.45, ROMA-TORINO\n",
    "Lunedì 6 gennaio 2020, ore 12.30, BOLOGNA-FIORENTINA\n",
    "Lunedì 6 gennaio 2020, ore 15.00, ATALANTA-PARMA\n",
    "\n",
    "19ª Giornata\n",
    "\n",
    "Sabato 11 gennaio 2020, ore 20.45, INTER-ATALANTA\n",
    "Domenica 12 gennaio 2020, ore 12.30, UDINESE-SASSUOLO\n",
    "Domenica 12 gennaio 2020, ore 15.00, SAMPDORIA-BRESCIA\n",
    "\n",
    "20ª Giornata\n",
    "\n",
    "Sabato 18 gennaio 2020, ore 20.45, NAPOLI-FIORENTINA\n",
    "Domenica 19 gennaio 2020, ore 12.30, MILAN-UDINESE\n",
    "Domenica 19 gennaio 2020, ore 15.00, BOLOGNA -VERONA\n",
    "\n",
    "21ª Giornata\n",
    "\n",
    "Sabato 25 gennaio 2020, ore 20.45, TORINO-ATALANTA\n",
    "Domenica 26 gennaio 2020, ore 12.30, INTER-CAGLIARI\n",
    "Domenica 26 gennaio 2020, ore 15.00, SAMPDORIA-SASSUOLO"
   ]
  },
  {
   "cell_type": "code",
   "execution_count": 3,
   "metadata": {},
   "outputs": [
    {
     "data": {
      "text/html": [
       "<div>\n",
       "<style scoped>\n",
       "    .dataframe tbody tr th:only-of-type {\n",
       "        vertical-align: middle;\n",
       "    }\n",
       "\n",
       "    .dataframe tbody tr th {\n",
       "        vertical-align: top;\n",
       "    }\n",
       "\n",
       "    .dataframe thead th {\n",
       "        text-align: right;\n",
       "    }\n",
       "</style>\n",
       "<table border=\"1\" class=\"dataframe\">\n",
       "  <thead>\n",
       "    <tr style=\"text-align: right;\">\n",
       "      <th></th>\n",
       "      <th>DATA</th>\n",
       "      <th>size</th>\n",
       "    </tr>\n",
       "  </thead>\n",
       "  <tbody>\n",
       "    <tr>\n",
       "      <th>0</th>\n",
       "      <td>01-01-2020</td>\n",
       "      <td>5133</td>\n",
       "    </tr>\n",
       "    <tr>\n",
       "      <th>1</th>\n",
       "      <td>02-01-2020</td>\n",
       "      <td>5131</td>\n",
       "    </tr>\n",
       "    <tr>\n",
       "      <th>2</th>\n",
       "      <td>03-01-2020</td>\n",
       "      <td>5171</td>\n",
       "    </tr>\n",
       "    <tr>\n",
       "      <th>3</th>\n",
       "      <td>04-01-2020</td>\n",
       "      <td>5155</td>\n",
       "    </tr>\n",
       "    <tr>\n",
       "      <th>4</th>\n",
       "      <td>05-01-2020</td>\n",
       "      <td>5139</td>\n",
       "    </tr>\n",
       "  </tbody>\n",
       "</table>\n",
       "</div>"
      ],
      "text/plain": [
       "         DATA  size\n",
       "0  01-01-2020  5133\n",
       "1  02-01-2020  5131\n",
       "2  03-01-2020  5171\n",
       "3  04-01-2020  5155\n",
       "4  05-01-2020  5139"
      ]
     },
     "execution_count": 3,
     "metadata": {},
     "output_type": "execute_result"
    }
   ],
   "source": [
    "df.groupby('DATA').size().to_frame('size').reset_index().sort_values(['DATA', 'size'], ascending=[True, False]).head()"
   ]
  },
  {
   "cell_type": "code",
   "execution_count": 4,
   "metadata": {},
   "outputs": [
    {
     "data": {
      "text/plain": [
       "<matplotlib.axes._subplots.AxesSubplot at 0x20bde73eec8>"
      ]
     },
     "execution_count": 4,
     "metadata": {},
     "output_type": "execute_result"
    },
    {
     "data": {
      "image/png": "[encoded data removed]",
      "text/plain": [
       "<Figure size 432x288 with 1 Axes>"
      ]
     },
     "metadata": {
      "needs_background": "light"
     },
     "output_type": "display_data"
    }
   ],
   "source": [
    "df.loc[:,'DATA'] = pd.to_datetime(df.DATA + ' ' + df.INTERVALLO_MAX_DS, format=\"%d-%m-%Y %H:%M\")\n",
    "x=df[(df.PROVINCIA=='RM') & (df.DATA=='2020-01-05 21:15')]['MAX_DS']\n",
    "sns.distplot(x)"
   ]
  },
  {
   "cell_type": "code",
   "execution_count": 5,
   "metadata": {},
   "outputs": [
    {
     "data": {
      "text/html": [
       "<div>\n",
       "<style scoped>\n",
       "    .dataframe tbody tr th:only-of-type {\n",
       "        vertical-align: middle;\n",
       "    }\n",
       "\n",
       "    .dataframe tbody tr th {\n",
       "        vertical-align: top;\n",
       "    }\n",
       "\n",
       "    .dataframe thead th {\n",
       "        text-align: right;\n",
       "    }\n",
       "</style>\n",
       "<table border=\"1\" class=\"dataframe\">\n",
       "  <thead>\n",
       "    <tr style=\"text-align: right;\">\n",
       "      <th></th>\n",
       "      <th>PROVINCIA</th>\n",
       "      <th>MAX_DS</th>\n",
       "    </tr>\n",
       "    <tr>\n",
       "      <th>DATA</th>\n",
       "      <th></th>\n",
       "      <th></th>\n",
       "    </tr>\n",
       "  </thead>\n",
       "  <tbody>\n",
       "    <tr>\n",
       "      <th>2020-01-26 23:45:00</th>\n",
       "      <td>SR</td>\n",
       "      <td>45.4287</td>\n",
       "    </tr>\n",
       "    <tr>\n",
       "      <th>2020-01-26 23:45:00</th>\n",
       "      <td>TO</td>\n",
       "      <td>71.2253</td>\n",
       "    </tr>\n",
       "    <tr>\n",
       "      <th>2020-01-26 23:45:00</th>\n",
       "      <td>UD</td>\n",
       "      <td>6.0009</td>\n",
       "    </tr>\n",
       "    <tr>\n",
       "      <th>2020-01-26 23:45:00</th>\n",
       "      <td>VA</td>\n",
       "      <td>40.0217</td>\n",
       "    </tr>\n",
       "    <tr>\n",
       "      <th>2020-01-26 23:45:00</th>\n",
       "      <td>VI</td>\n",
       "      <td>25.9858</td>\n",
       "    </tr>\n",
       "  </tbody>\n",
       "</table>\n",
       "</div>"
      ],
      "text/plain": [
       "                    PROVINCIA   MAX_DS\n",
       "DATA                                  \n",
       "2020-01-26 23:45:00        SR  45.4287\n",
       "2020-01-26 23:45:00        TO  71.2253\n",
       "2020-01-26 23:45:00        UD   6.0009\n",
       "2020-01-26 23:45:00        VA  40.0217\n",
       "2020-01-26 23:45:00        VI  25.9858"
      ]
     },
     "execution_count": 5,
     "metadata": {},
     "output_type": "execute_result"
    }
   ],
   "source": [
    "import datetime\n",
    "#Aggregazione per DATA, aggregato a 3 ore, per PROVINCIA.\n",
    "#Vediamo l'andamento della somma dei picchi (sum MAX_DS)\n",
    "#.dt.strftime('%d-%m-%Y')\n",
    "df_f=df.groupby(['DATA', 'PROVINCIA'], as_index=False).agg({'MAX_DS': \"sum\"})\n",
    "df_f.set_index('DATA',inplace=True)\n",
    "df_f.tail()"
   ]
  },
  {
   "cell_type": "code",
   "execution_count": 6,
   "metadata": {},
   "outputs": [
    {
     "name": "stdout",
     "output_type": "stream",
     "text": [
      "\n",
      "----------- Calculate Mean -----------\n",
      "\n",
      "989.4349750000001\n",
      "\n",
      "----------- Calculate Median -----------\n",
      "\n",
      "926.5476\n"
     ]
    },
    {
     "data": {
      "text/plain": [
       "<matplotlib.axes._subplots.AxesSubplot at 0x20be5d83e08>"
      ]
     },
     "execution_count": 6,
     "metadata": {},
     "output_type": "execute_result"
    },
    {
     "data": {
      "image/png": "[encoded data removed]",
      "text/plain": [
       "<Figure size 432x288 with 1 Axes>"
      ]
     },
     "metadata": {
      "needs_background": "light"
     },
     "output_type": "display_data"
    }
   ],
   "source": [
    "#Studiamo la distribuzione di MAX_DS per comprendere quale misura aggregata è rappresentativa\n",
    "x=df_f[(df_f.PROVINCIA=='NA') & (df_f.index>='2020-01-19 15:00') & (df_f.index<='2020-01-19 18:45')]['MAX_DS']\n",
    "print(\"\\n----------- Calculate Mean -----------\\n\")\n",
    "print(x.mean())\n",
    "\n",
    "print(\"\\n----------- Calculate Median -----------\\n\")\n",
    "print(x.median())\n",
    "\n",
    "\n",
    "sns.distplot(x)"
   ]
  },
  {
   "cell_type": "code",
   "execution_count": 7,
   "metadata": {},
   "outputs": [],
   "source": [
    "df_rm_week1=df_f[(df_f.PROVINCIA=='RM') & (df_f.index>='2019-12-23 00:00') & (df_f.index<='2019-12-29 23:45')]\n",
    "df_rm_3H_week1 = df_rm_week1['MAX_DS'].resample('3H').sum()\n",
    "\n",
    "df_rm_week2=df_f[(df_f.PROVINCIA=='RM') & (df_f.index>='2019-12-30 00:00') & (df_f.index<='2020-01-05 23:45')]\n",
    "df_rm_3H_week2 = df_rm_week2['MAX_DS'].resample('3H').sum()\n",
    "\n",
    "df_rm_week3=df_f[(df_f.PROVINCIA=='RM') & (df_f.index>='2020-01-06 00:00') & (df_f.index<='2020-01-12 23:45')]\n",
    "df_rm_3H_week3 = df_rm_week3['MAX_DS'].resample('3H').sum()\n",
    "\n",
    "df_rm_week4=df_f[(df_f.PROVINCIA=='RM') & (df_f.index>='2020-01-13 00:00') & (df_f.index<='2020-01-19 23:45')]\n",
    "df_rm_3H_week4 = df_rm_week4['MAX_DS'].resample('3H').sum()\n",
    "\n",
    "df_rm_week5=df_f[(df_f.PROVINCIA=='RM') & (df_f.index>='2020-01-20 00:00') & (df_f.index<='2020-01-26 23:45')]\n",
    "df_rm_3H_week5 = df_rm_week5['MAX_DS'].resample('3H').sum()"
   ]
  },
  {
   "cell_type": "code",
   "execution_count": 8,
   "metadata": {},
   "outputs": [
    {
     "name": "stderr",
     "output_type": "stream",
     "text": [
      "C:\\Users\\ant.pagano\\AppData\\Local\\Continuum\\anaconda3\\lib\\site-packages\\plotly\\tools.py:465: DeprecationWarning:\n",
      "\n",
      "plotly.tools.make_subplots is deprecated, please use plotly.subplots.make_subplots instead\n",
      "\n"
     ]
    },
    {
     "data": {
      "application/vnd.plotly.v1+json": {
       "config": {
        "plotlyServerURL": "https://plot.ly"
       },
       "data": [
        {
         "line": {
          "color": "#17BECF"
         },
         "name": "SUM(MAX_DS)",
         "opacity": 0.8,
         "type": "scatter",
         "x": [
          "2019-12-23T00:00:00",
          "2019-12-23T03:00:00",
          "2019-12-23T06:00:00",
          "2019-12-23T09:00:00",
          "2019-12-23T12:00:00",
          "2019-12-23T15:00:00",
          "2019-12-23T18:00:00",
          "2019-12-23T21:00:00",
          "2019-12-24T00:00:00",
          "2019-12-24T03:00:00",
          "2019-12-24T06:00:00",
          "2019-12-24T09:00:00",
          "2019-12-24T12:00:00",
          "2019-12-24T15:00:00",
          "2019-12-24T18:00:00",
          "2019-12-24T21:00:00",
          "2019-12-25T00:00:00",
          "2019-12-25T03:00:00",
          "2019-12-25T06:00:00",
          "2019-12-25T09:00:00",
          "2019-12-25T12:00:00",
          "2019-12-25T15:00:00",
          "2019-12-25T18:00:00",
          "2019-12-25T21:00:00",
          "2019-12-26T00:00:00",
          "2019-12-26T03:00:00",
          "2019-12-26T06:00:00",
          "2019-12-26T09:00:00",
          "2019-12-26T12:00:00",
          "2019-12-26T15:00:00",
          "2019-12-26T18:00:00",
          "2019-12-26T21:00:00",
          "2019-12-27T00:00:00",
          "2019-12-27T03:00:00",
          "2019-12-27T06:00:00",
          "2019-12-27T09:00:00",
          "2019-12-27T12:00:00",
          "2019-12-27T15:00:00",
          "2019-12-27T18:00:00",
          "2019-12-27T21:00:00",
          "2019-12-28T00:00:00",
          "2019-12-28T03:00:00",
          "2019-12-28T06:00:00",
          "2019-12-28T09:00:00",
          "2019-12-28T12:00:00",
          "2019-12-28T15:00:00",
          "2019-12-28T18:00:00",
          "2019-12-28T21:00:00",
          "2019-12-29T00:00:00",
          "2019-12-29T03:00:00",
          "2019-12-29T06:00:00",
          "2019-12-29T09:00:00",
          "2019-12-29T12:00:00",
          "2019-12-29T15:00:00",
          "2019-12-29T18:00:00",
          "2019-12-29T21:00:00"
         ],
         "xaxis": "x",
         "y": [
          1746.7164999999998,
          0,
          12.9277,
          169.18449999999999,
          933.4785999999999,
          2067.9122,
          2770.1851000000006,
          33268.31479999999,
          3024.8462000000004,
          0,
          12.8238,
          258.9006,
          3951.9554,
          20650.240500000007,
          7054.6846,
          461.8409,
          257.1188,
          13.6011,
          30.4711,
          792.7456,
          277.7643,
          953.9105999999999,
          9008.475699999999,
          26921.681700000005,
          1702.6062,
          0,
          0,
          353.2179,
          737.2382,
          4116.3148,
          7132.335800000001,
          27870.979700000004,
          1241.2469,
          0,
          0,
          174.3407,
          358.81129999999996,
          2905.2603,
          4716.9109,
          33773.24229999999,
          949.4004000000001,
          0,
          0,
          43.2099,
          1547.9965,
          3968.2525,
          6201.6455000000005,
          28874.9648,
          381.2007,
          0,
          0,
          119.8973,
          555.0296999999999,
          4560.2532,
          5068.7228,
          34182.1509
         ],
         "yaxis": "y"
        },
        {
         "line": {
          "color": "#7F7F7F"
         },
         "name": "SUM(MAX_DS)",
         "opacity": 0.8,
         "type": "scatter",
         "x": [
          "2019-12-30T00:00:00",
          "2019-12-30T03:00:00",
          "2019-12-30T06:00:00",
          "2019-12-30T09:00:00",
          "2019-12-30T12:00:00",
          "2019-12-30T15:00:00",
          "2019-12-30T18:00:00",
          "2019-12-30T21:00:00",
          "2019-12-31T00:00:00",
          "2019-12-31T03:00:00",
          "2019-12-31T06:00:00",
          "2019-12-31T09:00:00",
          "2019-12-31T12:00:00",
          "2019-12-31T15:00:00",
          "2019-12-31T18:00:00",
          "2019-12-31T21:00:00",
          "2020-01-01T00:00:00",
          "2020-01-01T03:00:00",
          "2020-01-01T06:00:00",
          "2020-01-01T09:00:00",
          "2020-01-01T12:00:00",
          "2020-01-01T15:00:00",
          "2020-01-01T18:00:00",
          "2020-01-01T21:00:00",
          "2020-01-02T00:00:00",
          "2020-01-02T03:00:00",
          "2020-01-02T06:00:00",
          "2020-01-02T09:00:00",
          "2020-01-02T12:00:00",
          "2020-01-02T15:00:00",
          "2020-01-02T18:00:00",
          "2020-01-02T21:00:00",
          "2020-01-03T00:00:00",
          "2020-01-03T03:00:00",
          "2020-01-03T06:00:00",
          "2020-01-03T09:00:00",
          "2020-01-03T12:00:00",
          "2020-01-03T15:00:00",
          "2020-01-03T18:00:00",
          "2020-01-03T21:00:00",
          "2020-01-04T00:00:00",
          "2020-01-04T03:00:00",
          "2020-01-04T06:00:00",
          "2020-01-04T09:00:00",
          "2020-01-04T12:00:00",
          "2020-01-04T15:00:00",
          "2020-01-04T18:00:00",
          "2020-01-04T21:00:00",
          "2020-01-05T00:00:00",
          "2020-01-05T03:00:00",
          "2020-01-05T06:00:00",
          "2020-01-05T09:00:00",
          "2020-01-05T12:00:00",
          "2020-01-05T15:00:00",
          "2020-01-05T18:00:00",
          "2020-01-05T21:00:00"
         ],
         "xaxis": "x2",
         "y": [
          1090.4379,
          0,
          0,
          117.8923,
          784.4291999999999,
          1686.3511999999998,
          1624.0116,
          38397.736500000006,
          7347.6142,
          0,
          0,
          204.1128,
          3941.2771000000002,
          17948.6881,
          5385.6768999999995,
          76.6886,
          0,
          0,
          0,
          132.6029,
          255.78430000000003,
          2184.5786,
          8748.5865,
          32617.370900000005,
          655.9341000000001,
          21.1021,
          0,
          160.9676,
          578.1474000000001,
          1209.2426,
          3492.268,
          37928.274699999994,
          1218.1065,
          0,
          0,
          25.9556,
          493.4148,
          1466.0389000000002,
          3279.6905999999994,
          36402.2532,
          1365.6897,
          0,
          0,
          143.23210000000003,
          1144.6687000000002,
          5027.7928999999995,
          4340.049399999999,
          29449.299399999996,
          276.39009999999996,
          10.1766,
          0,
          84.0064,
          213.0836,
          1092.1698,
          1519.7212,
          47908.4283
         ],
         "yaxis": "y2"
        },
        {
         "line": {
          "color": "#32CD32"
         },
         "name": "SUM(MAX_DS)",
         "opacity": 0.8,
         "type": "scatter",
         "x": [
          "2020-01-06T00:00:00",
          "2020-01-06T03:00:00",
          "2020-01-06T06:00:00",
          "2020-01-06T09:00:00",
          "2020-01-06T12:00:00",
          "2020-01-06T15:00:00",
          "2020-01-06T18:00:00",
          "2020-01-06T21:00:00",
          "2020-01-07T00:00:00",
          "2020-01-07T03:00:00",
          "2020-01-07T06:00:00",
          "2020-01-07T09:00:00",
          "2020-01-07T12:00:00",
          "2020-01-07T15:00:00",
          "2020-01-07T18:00:00",
          "2020-01-07T21:00:00",
          "2020-01-08T00:00:00",
          "2020-01-08T03:00:00",
          "2020-01-08T06:00:00",
          "2020-01-08T09:00:00",
          "2020-01-08T12:00:00",
          "2020-01-08T15:00:00",
          "2020-01-08T18:00:00",
          "2020-01-08T21:00:00",
          "2020-01-09T00:00:00",
          "2020-01-09T03:00:00",
          "2020-01-09T06:00:00",
          "2020-01-09T09:00:00",
          "2020-01-09T12:00:00",
          "2020-01-09T15:00:00",
          "2020-01-09T18:00:00",
          "2020-01-09T21:00:00",
          "2020-01-10T00:00:00",
          "2020-01-10T03:00:00",
          "2020-01-10T06:00:00",
          "2020-01-10T09:00:00",
          "2020-01-10T12:00:00",
          "2020-01-10T15:00:00",
          "2020-01-10T18:00:00",
          "2020-01-10T21:00:00",
          "2020-01-11T00:00:00",
          "2020-01-11T03:00:00",
          "2020-01-11T06:00:00",
          "2020-01-11T09:00:00",
          "2020-01-11T12:00:00",
          "2020-01-11T15:00:00",
          "2020-01-11T18:00:00",
          "2020-01-11T21:00:00",
          "2020-01-12T00:00:00",
          "2020-01-12T03:00:00",
          "2020-01-12T06:00:00",
          "2020-01-12T09:00:00",
          "2020-01-12T12:00:00",
          "2020-01-12T15:00:00",
          "2020-01-12T18:00:00",
          "2020-01-12T21:00:00"
         ],
         "xaxis": "x3",
         "y": [
          868.1083,
          118.16460000000001,
          0,
          21.7363,
          654.0323999999999,
          1814.6467,
          5406.603999999999,
          38436.5441,
          349.4857,
          0,
          0,
          15.3586,
          78.676,
          1076.4482000000003,
          2321.0452,
          39882.56509999999,
          349.0648,
          0,
          16.3589,
          16.9812,
          107.09930000000001,
          1055.8602,
          3016.9577,
          37878.9961,
          310.5644,
          48.589,
          23.9094,
          76.2625,
          107.68249999999999,
          1286.5283000000002,
          3241.6872,
          35869.51419999999,
          412.4704,
          0,
          21.9046,
          88.8629,
          459.1118,
          1140.2305000000001,
          3748.2632,
          34693.6431,
          275.3962,
          0,
          0,
          15.0074,
          811.1041,
          3050.9287,
          4159.807699999999,
          38137.896599999985,
          125.06280000000001,
          10.6484,
          0,
          127.9701,
          679.3576,
          3295.2214999999997,
          5755.1414,
          37738.4141
         ],
         "yaxis": "y3"
        },
        {
         "line": {
          "color": "#AD9B0C"
         },
         "name": "SUM(MAX_DS)",
         "opacity": 0.8,
         "type": "scatter",
         "x": [
          "2020-01-13T00:00:00",
          "2020-01-13T03:00:00",
          "2020-01-13T06:00:00",
          "2020-01-13T09:00:00",
          "2020-01-13T12:00:00",
          "2020-01-13T15:00:00",
          "2020-01-13T18:00:00",
          "2020-01-13T21:00:00",
          "2020-01-14T00:00:00",
          "2020-01-14T03:00:00",
          "2020-01-14T06:00:00",
          "2020-01-14T09:00:00",
          "2020-01-14T12:00:00",
          "2020-01-14T15:00:00",
          "2020-01-14T18:00:00",
          "2020-01-14T21:00:00",
          "2020-01-15T00:00:00",
          "2020-01-15T03:00:00",
          "2020-01-15T06:00:00",
          "2020-01-15T09:00:00",
          "2020-01-15T12:00:00",
          "2020-01-15T15:00:00",
          "2020-01-15T18:00:00",
          "2020-01-15T21:00:00",
          "2020-01-16T00:00:00",
          "2020-01-16T03:00:00",
          "2020-01-16T06:00:00",
          "2020-01-16T09:00:00",
          "2020-01-16T12:00:00",
          "2020-01-16T15:00:00",
          "2020-01-16T18:00:00",
          "2020-01-16T21:00:00",
          "2020-01-17T00:00:00",
          "2020-01-17T03:00:00",
          "2020-01-17T06:00:00",
          "2020-01-17T09:00:00",
          "2020-01-17T12:00:00",
          "2020-01-17T15:00:00",
          "2020-01-17T18:00:00",
          "2020-01-17T21:00:00",
          "2020-01-18T00:00:00",
          "2020-01-18T03:00:00",
          "2020-01-18T06:00:00",
          "2020-01-18T09:00:00",
          "2020-01-18T12:00:00",
          "2020-01-18T15:00:00",
          "2020-01-18T18:00:00",
          "2020-01-18T21:00:00",
          "2020-01-19T00:00:00",
          "2020-01-19T03:00:00",
          "2020-01-19T06:00:00",
          "2020-01-19T09:00:00",
          "2020-01-19T12:00:00",
          "2020-01-19T15:00:00",
          "2020-01-19T18:00:00",
          "2020-01-19T21:00:00"
         ],
         "xaxis": "x4",
         "y": [
          213.7387,
          0,
          0,
          17.1067,
          297.5139,
          1098.6254,
          3024.597,
          38281.57810000001,
          21.0393,
          0,
          0,
          30.8144,
          209.99450000000002,
          821.3348999999998,
          3574.6489,
          39582.924,
          257.08910000000003,
          19.9977,
          0,
          105.89150000000001,
          512.0998,
          2017.5773999999997,
          9897.314699999999,
          31503.625700000004,
          317.1151,
          65.4827,
          20.9301,
          100.85379999999999,
          584.3503000000001,
          1545.7333,
          8462.4512,
          30418.6367,
          279.7477,
          0,
          0,
          32.9684,
          352.3002,
          2505.2549000000004,
          6012.491399999999,
          33850.75059999999,
          277.9267,
          0,
          0,
          266.3158,
          1763.4284000000002,
          6912.307000000001,
          3418.9202000000005,
          33916.81019999999,
          333.3312,
          0,
          0,
          115.24050000000001,
          1901.5549,
          4900.5527999999995,
          10627.016900000002,
          30518.376699999997
         ],
         "yaxis": "y4"
        },
        {
         "line": {
          "color": "#B22222"
         },
         "name": "SUM(MAX_DS)",
         "opacity": 0.8,
         "type": "scatter",
         "x": [
          "2020-01-20T00:00:00",
          "2020-01-20T03:00:00",
          "2020-01-20T06:00:00",
          "2020-01-20T09:00:00",
          "2020-01-20T12:00:00",
          "2020-01-20T15:00:00",
          "2020-01-20T18:00:00",
          "2020-01-20T21:00:00",
          "2020-01-21T00:00:00",
          "2020-01-21T03:00:00",
          "2020-01-21T06:00:00",
          "2020-01-21T09:00:00",
          "2020-01-21T12:00:00",
          "2020-01-21T15:00:00",
          "2020-01-21T18:00:00",
          "2020-01-21T21:00:00",
          "2020-01-22T00:00:00",
          "2020-01-22T03:00:00",
          "2020-01-22T06:00:00",
          "2020-01-22T09:00:00",
          "2020-01-22T12:00:00",
          "2020-01-22T15:00:00",
          "2020-01-22T18:00:00",
          "2020-01-22T21:00:00",
          "2020-01-23T00:00:00",
          "2020-01-23T03:00:00",
          "2020-01-23T06:00:00",
          "2020-01-23T09:00:00",
          "2020-01-23T12:00:00",
          "2020-01-23T15:00:00",
          "2020-01-23T18:00:00",
          "2020-01-23T21:00:00",
          "2020-01-24T00:00:00",
          "2020-01-24T03:00:00",
          "2020-01-24T06:00:00",
          "2020-01-24T09:00:00",
          "2020-01-24T12:00:00",
          "2020-01-24T15:00:00",
          "2020-01-24T18:00:00",
          "2020-01-24T21:00:00",
          "2020-01-25T00:00:00",
          "2020-01-25T03:00:00",
          "2020-01-25T06:00:00",
          "2020-01-25T09:00:00",
          "2020-01-25T12:00:00",
          "2020-01-25T15:00:00",
          "2020-01-25T18:00:00",
          "2020-01-25T21:00:00",
          "2020-01-26T00:00:00",
          "2020-01-26T03:00:00",
          "2020-01-26T06:00:00",
          "2020-01-26T09:00:00",
          "2020-01-26T12:00:00",
          "2020-01-26T15:00:00",
          "2020-01-26T18:00:00",
          "2020-01-26T21:00:00"
         ],
         "xaxis": "x5",
         "y": [
          144.617,
          73.4953,
          0,
          38.9598,
          82.2819,
          1960.3173,
          1806.9761999999998,
          40146.890100000004,
          281.3889,
          0,
          27.1932,
          30.6456,
          403.6752,
          1358.4142000000002,
          3477.2185,
          35391.6139,
          157.07889999999998,
          0,
          0,
          28.8335,
          560.2973,
          2393.452,
          4832.2564,
          35565.0295,
          303.2812,
          53.2805,
          0,
          47.4711,
          122.3255,
          1076.5055,
          4332.2562,
          36371.0243,
          166.75509999999997,
          0,
          0,
          67.0673,
          154.4371,
          2153.3096,
          4602.2798,
          36264.29749999999,
          488.81480000000005,
          0,
          0,
          374.7776,
          2521.7010000000005,
          6185.7339,
          4849.318700000001,
          30829.3025,
          476.42269999999996,
          27.8654,
          0,
          75.3938,
          2604.2958000000003,
          5042.6976,
          10755.1255,
          30327.166
         ],
         "yaxis": "y5"
        }
       ],
       "layout": {
        "height": 900,
        "showlegend": false,
        "template": {
         "data": {
          "bar": [
           {
            "error_x": {
             "color": "#2a3f5f"
            },
            "error_y": {
             "color": "#2a3f5f"
            },
            "marker": {
             "line": {
              "color": "#E5ECF6",
              "width": 0.5
             }
            },
            "type": "bar"
           }
          ],
          "barpolar": [
           {
            "marker": {
             "line": {
              "color": "#E5ECF6",
              "width": 0.5
             }
            },
            "type": "barpolar"
           }
          ],
          "carpet": [
           {
            "aaxis": {
             "endlinecolor": "#2a3f5f",
             "gridcolor": "white",
             "linecolor": "white",
             "minorgridcolor": "white",
             "startlinecolor": "#2a3f5f"
            },
            "baxis": {
             "endlinecolor": "#2a3f5f",
             "gridcolor": "white",
             "linecolor": "white",
             "minorgridcolor": "white",
             "startlinecolor": "#2a3f5f"
            },
            "type": "carpet"
           }
          ],
          "choropleth": [
           {
            "colorbar": {
             "outlinewidth": 0,
             "ticks": ""
            },
            "type": "choropleth"
           }
          ],
          "contour": [
           {
            "colorbar": {
             "outlinewidth": 0,
             "ticks": ""
            },
            "colorscale": [
             [
              0,
              "#0d0887"
             ],
             [
              0.1111111111111111,
              "#46039f"
             ],
             [
              0.2222222222222222,
              "#7201a8"
             ],
             [
              0.3333333333333333,
              "#9c179e"
             ],
             [
              0.4444444444444444,
              "#bd3786"
             ],
             [
              0.5555555555555556,
              "#d8576b"
             ],
             [
              0.6666666666666666,
              "#ed7953"
             ],
             [
              0.7777777777777778,
              "#fb9f3a"
             ],
             [
              0.8888888888888888,
              "#fdca26"
             ],
             [
              1,
              "#f0f921"
             ]
            ],
            "type": "contour"
           }
          ],
          "contourcarpet": [
           {
            "colorbar": {
             "outlinewidth": 0,
             "ticks": ""
            },
            "type": "contourcarpet"
           }
          ],
          "heatmap": [
           {
            "colorbar": {
             "outlinewidth": 0,
             "ticks": ""
            },
            "colorscale": [
             [
              0,
              "#0d0887"
             ],
             [
              0.1111111111111111,
              "#46039f"
             ],
             [
              0.2222222222222222,
              "#7201a8"
             ],
             [
              0.3333333333333333,
              "#9c179e"
             ],
             [
              0.4444444444444444,
              "#bd3786"
             ],
             [
              0.5555555555555556,
              "#d8576b"
             ],
             [
              0.6666666666666666,
              "#ed7953"
             ],
             [
              0.7777777777777778,
              "#fb9f3a"
             ],
             [
              0.8888888888888888,
              "#fdca26"
             ],
             [
              1,
              "#f0f921"
             ]
            ],
            "type": "heatmap"
           }
          ],
          "heatmapgl": [
           {
            "colorbar": {
             "outlinewidth": 0,
             "ticks": ""
            },
            "colorscale": [
             [
              0,
              "#0d0887"
             ],
             [
              0.1111111111111111,
              "#46039f"
             ],
             [
              0.2222222222222222,
              "#7201a8"
             ],
             [
              0.3333333333333333,
              "#9c179e"
             ],
             [
              0.4444444444444444,
              "#bd3786"
             ],
             [
              0.5555555555555556,
              "#d8576b"
             ],
             [
              0.6666666666666666,
              "#ed7953"
             ],
             [
              0.7777777777777778,
              "#fb9f3a"
             ],
             [
              0.8888888888888888,
              "#fdca26"
             ],
             [
              1,
              "#f0f921"
             ]
            ],
            "type": "heatmapgl"
           }
          ],
          "histogram": [
           {
            "marker": {
             "colorbar": {
              "outlinewidth": 0,
              "ticks": ""
             }
            },
            "type": "histogram"
           }
          ],
          "histogram2d": [
           {
            "colorbar": {
             "outlinewidth": 0,
             "ticks": ""
            },
            "colorscale": [
             [
              0,
              "#0d0887"
             ],
             [
              0.1111111111111111,
              "#46039f"
             ],
             [
              0.2222222222222222,
              "#7201a8"
             ],
             [
              0.3333333333333333,
              "#9c179e"
             ],
             [
              0.4444444444444444,
              "#bd3786"
             ],
             [
              0.5555555555555556,
              "#d8576b"
             ],
             [
              0.6666666666666666,
              "#ed7953"
             ],
             [
              0.7777777777777778,
              "#fb9f3a"
             ],
             [
              0.8888888888888888,
              "#fdca26"
             ],
             [
              1,
              "#f0f921"
             ]
            ],
            "type": "histogram2d"
           }
          ],
          "histogram2dcontour": [
           {
            "colorbar": {
             "outlinewidth": 0,
             "ticks": ""
            },
            "colorscale": [
             [
              0,
              "#0d0887"
             ],
             [
              0.1111111111111111,
              "#46039f"
             ],
             [
              0.2222222222222222,
              "#7201a8"
             ],
             [
              0.3333333333333333,
              "#9c179e"
             ],
             [
              0.4444444444444444,
              "#bd3786"
             ],
             [
              0.5555555555555556,
              "#d8576b"
             ],
             [
              0.6666666666666666,
              "#ed7953"
             ],
             [
              0.7777777777777778,
              "#fb9f3a"
             ],
             [
              0.8888888888888888,
              "#fdca26"
             ],
             [
              1,
              "#f0f921"
             ]
            ],
            "type": "histogram2dcontour"
           }
          ],
          "mesh3d": [
           {
            "colorbar": {
             "outlinewidth": 0,
             "ticks": ""
            },
            "type": "mesh3d"
           }
          ],
          "parcoords": [
           {
            "line": {
             "colorbar": {
              "outlinewidth": 0,
              "ticks": ""
             }
            },
            "type": "parcoords"
           }
          ],
          "pie": [
           {
            "automargin": true,
            "type": "pie"
           }
          ],
          "scatter": [
           {
            "marker": {
             "colorbar": {
              "outlinewidth": 0,
              "ticks": ""
             }
            },
            "type": "scatter"
           }
          ],
          "scatter3d": [
           {
            "line": {
             "colorbar": {
              "outlinewidth": 0,
              "ticks": ""
             }
            },
            "marker": {
             "colorbar": {
              "outlinewidth": 0,
              "ticks": ""
             }
            },
            "type": "scatter3d"
           }
          ],
          "scattercarpet": [
           {
            "marker": {
             "colorbar": {
              "outlinewidth": 0,
              "ticks": ""
             }
            },
            "type": "scattercarpet"
           }
          ],
          "scattergeo": [
           {
            "marker": {
             "colorbar": {
              "outlinewidth": 0,
              "ticks": ""
             }
            },
            "type": "scattergeo"
           }
          ],
          "scattergl": [
           {
            "marker": {
             "colorbar": {
              "outlinewidth": 0,
              "ticks": ""
             }
            },
            "type": "scattergl"
           }
          ],
          "scattermapbox": [
           {
            "marker": {
             "colorbar": {
              "outlinewidth": 0,
              "ticks": ""
             }
            },
            "type": "scattermapbox"
           }
          ],
          "scatterpolar": [
           {
            "marker": {
             "colorbar": {
              "outlinewidth": 0,
              "ticks": ""
             }
            },
            "type": "scatterpolar"
           }
          ],
          "scatterpolargl": [
           {
            "marker": {
             "colorbar": {
              "outlinewidth": 0,
              "ticks": ""
             }
            },
            "type": "scatterpolargl"
           }
          ],
          "scatterternary": [
           {
            "marker": {
             "colorbar": {
              "outlinewidth": 0,
              "ticks": ""
             }
            },
            "type": "scatterternary"
           }
          ],
          "surface": [
           {
            "colorbar": {
             "outlinewidth": 0,
             "ticks": ""
            },
            "colorscale": [
             [
              0,
              "#0d0887"
             ],
             [
              0.1111111111111111,
              "#46039f"
             ],
             [
              0.2222222222222222,
              "#7201a8"
             ],
             [
              0.3333333333333333,
              "#9c179e"
             ],
             [
              0.4444444444444444,
              "#bd3786"
             ],
             [
              0.5555555555555556,
              "#d8576b"
             ],
             [
              0.6666666666666666,
              "#ed7953"
             ],
             [
              0.7777777777777778,
              "#fb9f3a"
             ],
             [
              0.8888888888888888,
              "#fdca26"
             ],
             [
              1,
              "#f0f921"
             ]
            ],
            "type": "surface"
           }
          ],
          "table": [
           {
            "cells": {
             "fill": {
              "color": "#EBF0F8"
             },
             "line": {
              "color": "white"
             }
            },
            "header": {
             "fill": {
              "color": "#C8D4E3"
             },
             "line": {
              "color": "white"
             }
            },
            "type": "table"
           }
          ]
         },
         "layout": {
          "annotationdefaults": {
           "arrowcolor": "#2a3f5f",
           "arrowhead": 0,
           "arrowwidth": 1
          },
          "coloraxis": {
           "colorbar": {
            "outlinewidth": 0,
            "ticks": ""
           }
          },
          "colorscale": {
           "diverging": [
            [
             0,
             "#8e0152"
            ],
            [
             0.1,
             "#c51b7d"
            ],
            [
             0.2,
             "#de77ae"
            ],
            [
             0.3,
             "#f1b6da"
            ],
            [
             0.4,
             "#fde0ef"
            ],
            [
             0.5,
             "#f7f7f7"
            ],
            [
             0.6,
             "#e6f5d0"
            ],
            [
             0.7,
             "#b8e186"
            ],
            [
             0.8,
             "#7fbc41"
            ],
            [
             0.9,
             "#4d9221"
            ],
            [
             1,
             "#276419"
            ]
           ],
           "sequential": [
            [
             0,
             "#0d0887"
            ],
            [
             0.1111111111111111,
             "#46039f"
            ],
            [
             0.2222222222222222,
             "#7201a8"
            ],
            [
             0.3333333333333333,
             "#9c179e"
            ],
            [
             0.4444444444444444,
             "#bd3786"
            ],
            [
             0.5555555555555556,
             "#d8576b"
            ],
            [
             0.6666666666666666,
             "#ed7953"
            ],
            [
             0.7777777777777778,
             "#fb9f3a"
            ],
            [
             0.8888888888888888,
             "#fdca26"
            ],
            [
             1,
             "#f0f921"
            ]
           ],
           "sequentialminus": [
            [
             0,
             "#0d0887"
            ],
            [
             0.1111111111111111,
             "#46039f"
            ],
            [
             0.2222222222222222,
             "#7201a8"
            ],
            [
             0.3333333333333333,
             "#9c179e"
            ],
            [
             0.4444444444444444,
             "#bd3786"
            ],
            [
             0.5555555555555556,
             "#d8576b"
            ],
            [
             0.6666666666666666,
             "#ed7953"
            ],
            [
             0.7777777777777778,
             "#fb9f3a"
            ],
            [
             0.8888888888888888,
             "#fdca26"
            ],
            [
             1,
             "#f0f921"
            ]
           ]
          },
          "colorway": [
           "#636efa",
           "#EF553B",
           "#00cc96",
           "#ab63fa",
           "#FFA15A",
           "#19d3f3",
           "#FF6692",
           "#B6E880",
           "#FF97FF",
           "#FECB52"
          ],
          "font": {
           "color": "#2a3f5f"
          },
          "geo": {
           "bgcolor": "white",
           "lakecolor": "white",
           "landcolor": "#E5ECF6",
           "showlakes": true,
           "showland": true,
           "subunitcolor": "white"
          },
          "hoverlabel": {
           "align": "left"
          },
          "hovermode": "closest",
          "mapbox": {
           "style": "light"
          },
          "paper_bgcolor": "white",
          "plot_bgcolor": "#E5ECF6",
          "polar": {
           "angularaxis": {
            "gridcolor": "white",
            "linecolor": "white",
            "ticks": ""
           },
           "bgcolor": "#E5ECF6",
           "radialaxis": {
            "gridcolor": "white",
            "linecolor": "white",
            "ticks": ""
           }
          },
          "scene": {
           "xaxis": {
            "backgroundcolor": "#E5ECF6",
            "gridcolor": "white",
            "gridwidth": 2,
            "linecolor": "white",
            "showbackground": true,
            "ticks": "",
            "zerolinecolor": "white"
           },
           "yaxis": {
            "backgroundcolor": "#E5ECF6",
            "gridcolor": "white",
            "gridwidth": 2,
            "linecolor": "white",
            "showbackground": true,
            "ticks": "",
            "zerolinecolor": "white"
           },
           "zaxis": {
            "backgroundcolor": "#E5ECF6",
            "gridcolor": "white",
            "gridwidth": 2,
            "linecolor": "white",
            "showbackground": true,
            "ticks": "",
            "zerolinecolor": "white"
           }
          },
          "shapedefaults": {
           "line": {
            "color": "#2a3f5f"
           }
          },
          "ternary": {
           "aaxis": {
            "gridcolor": "white",
            "linecolor": "white",
            "ticks": ""
           },
           "baxis": {
            "gridcolor": "white",
            "linecolor": "white",
            "ticks": ""
           },
           "bgcolor": "#E5ECF6",
           "caxis": {
            "gridcolor": "white",
            "linecolor": "white",
            "ticks": ""
           }
          },
          "title": {
           "x": 0.05
          },
          "xaxis": {
           "automargin": true,
           "gridcolor": "white",
           "linecolor": "white",
           "ticks": "",
           "title": {
            "standoff": 15
           },
           "zerolinecolor": "white",
           "zerolinewidth": 2
          },
          "yaxis": {
           "automargin": true,
           "gridcolor": "white",
           "linecolor": "white",
           "ticks": "",
           "title": {
            "standoff": 15
           },
           "zerolinecolor": "white",
           "zerolinewidth": 2
          }
         }
        },
        "title": {
         "text": "Time Series Max_DS provincia di RM"
        },
        "xaxis": {
         "anchor": "y",
         "domain": [
          0,
          1
         ]
        },
        "xaxis2": {
         "anchor": "y2",
         "domain": [
          0,
          1
         ]
        },
        "xaxis3": {
         "anchor": "y3",
         "domain": [
          0,
          1
         ]
        },
        "xaxis4": {
         "anchor": "y4",
         "domain": [
          0,
          1
         ]
        },
        "xaxis5": {
         "anchor": "y5",
         "domain": [
          0,
          1
         ]
        },
        "yaxis": {
         "anchor": "x",
         "domain": [
          0.848,
          1
         ]
        },
        "yaxis2": {
         "anchor": "x2",
         "domain": [
          0.6359999999999999,
          0.7879999999999999
         ]
        },
        "yaxis3": {
         "anchor": "x3",
         "domain": [
          0.424,
          0.576
         ]
        },
        "yaxis4": {
         "anchor": "x4",
         "domain": [
          0.212,
          0.364
         ]
        },
        "yaxis5": {
         "anchor": "x5",
         "domain": [
          0,
          0.152
         ]
        }
       }
      },
      "text/html": [
       "<div>\n",
       "        \n",
       "        \n",
       "            <div id=\"279f4b6b-3cca-4475-8e53-c9c0b23066da\" class=\"plotly-graph-div\" style=\"height:900px; width:100%;\"></div>\n",
       "            <script type=\"text/javascript\">\n",
       "                require([\"plotly\"], function(Plotly) {\n",
       "                    window.PLOTLYENV=window.PLOTLYENV || {};\n",
       "                    \n",
       "                if (document.getElementById(\"279f4b6b-3cca-4475-8e53-c9c0b23066da\")) {\n",
       "                    Plotly.newPlot(\n",
       "                        '279f4b6b-3cca-4475-8e53-c9c0b23066da',\n",
       "                        [{\"line\": {\"color\": \"#17BECF\"}, \"name\": \"SUM(MAX_DS)\", \"opacity\": 0.8, \"type\": \"scatter\", \"x\": [\"2019-12-23T00:00:00\", \"2019-12-23T03:00:00\", \"2019-12-23T06:00:00\", \"2019-12-23T09:00:00\", \"2019-12-23T12:00:00\", \"2019-12-23T15:00:00\", \"2019-12-23T18:00:00\", \"2019-12-23T21:00:00\", \"2019-12-24T00:00:00\", \"2019-12-24T03:00:00\", \"2019-12-24T06:00:00\", \"2019-12-24T09:00:00\", \"2019-12-24T12:00:00\", \"2019-12-24T15:00:00\", \"2019-12-24T18:00:00\", \"2019-12-24T21:00:00\", \"2019-12-25T00:00:00\", \"2019-12-25T03:00:00\", \"2019-12-25T06:00:00\", \"2019-12-25T09:00:00\", \"2019-12-25T12:00:00\", \"2019-12-25T15:00:00\", \"2019-12-25T18:00:00\", \"2019-12-25T21:00:00\", \"2019-12-26T00:00:00\", \"2019-12-26T03:00:00\", \"2019-12-26T06:00:00\", \"2019-12-26T09:00:00\", \"2019-12-26T12:00:00\", \"2019-12-26T15:00:00\", \"2019-12-26T18:00:00\", \"2019-12-26T21:00:00\", \"2019-12-27T00:00:00\", \"2019-12-27T03:00:00\", \"2019-12-27T06:00:00\", \"2019-12-27T09:00:00\", \"2019-12-27T12:00:00\", \"2019-12-27T15:00:00\", \"2019-12-27T18:00:00\", \"2019-12-27T21:00:00\", \"2019-12-28T00:00:00\", \"2019-12-28T03:00:00\", \"2019-12-28T06:00:00\", \"2019-12-28T09:00:00\", \"2019-12-28T12:00:00\", \"2019-12-28T15:00:00\", \"2019-12-28T18:00:00\", \"2019-12-28T21:00:00\", \"2019-12-29T00:00:00\", \"2019-12-29T03:00:00\", \"2019-12-29T06:00:00\", \"2019-12-29T09:00:00\", \"2019-12-29T12:00:00\", \"2019-12-29T15:00:00\", \"2019-12-29T18:00:00\", \"2019-12-29T21:00:00\"], \"xaxis\": \"x\", \"y\": [1746.7164999999998, 0.0, 12.9277, 169.18449999999999, 933.4785999999999, 2067.9122, 2770.1851000000006, 33268.31479999999, 3024.8462000000004, 0.0, 12.8238, 258.9006, 3951.9554, 20650.240500000007, 7054.6846, 461.8409, 257.1188, 13.6011, 30.4711, 792.7456, 277.7643, 953.9105999999999, 9008.475699999999, 26921.681700000005, 1702.6062, 0.0, 0.0, 353.2179, 737.2382, 4116.3148, 7132.335800000001, 27870.979700000004, 1241.2469, 0.0, 0.0, 174.3407, 358.81129999999996, 2905.2603, 4716.9109, 33773.24229999999, 949.4004000000001, 0.0, 0.0, 43.2099, 1547.9965, 3968.2525, 6201.6455000000005, 28874.9648, 381.2007, 0.0, 0.0, 119.8973, 555.0296999999999, 4560.2532, 5068.7228, 34182.1509], \"yaxis\": \"y\"}, {\"line\": {\"color\": \"#7F7F7F\"}, \"name\": \"SUM(MAX_DS)\", \"opacity\": 0.8, \"type\": \"scatter\", \"x\": [\"2019-12-30T00:00:00\", \"2019-12-30T03:00:00\", \"2019-12-30T06:00:00\", \"2019-12-30T09:00:00\", \"2019-12-30T12:00:00\", \"2019-12-30T15:00:00\", \"2019-12-30T18:00:00\", \"2019-12-30T21:00:00\", \"2019-12-31T00:00:00\", \"2019-12-31T03:00:00\", \"2019-12-31T06:00:00\", \"2019-12-31T09:00:00\", \"2019-12-31T12:00:00\", \"2019-12-31T15:00:00\", \"2019-12-31T18:00:00\", \"2019-12-31T21:00:00\", \"2020-01-01T00:00:00\", \"2020-01-01T03:00:00\", \"2020-01-01T06:00:00\", \"2020-01-01T09:00:00\", \"2020-01-01T12:00:00\", \"2020-01-01T15:00:00\", \"2020-01-01T18:00:00\", \"2020-01-01T21:00:00\", \"2020-01-02T00:00:00\", \"2020-01-02T03:00:00\", \"2020-01-02T06:00:00\", \"2020-01-02T09:00:00\", \"2020-01-02T12:00:00\", \"2020-01-02T15:00:00\", \"2020-01-02T18:00:00\", \"2020-01-02T21:00:00\", \"2020-01-03T00:00:00\", \"2020-01-03T03:00:00\", \"2020-01-03T06:00:00\", \"2020-01-03T09:00:00\", \"2020-01-03T12:00:00\", \"2020-01-03T15:00:00\", \"2020-01-03T18:00:00\", \"2020-01-03T21:00:00\", \"2020-01-04T00:00:00\", \"2020-01-04T03:00:00\", \"2020-01-04T06:00:00\", \"2020-01-04T09:00:00\", \"2020-01-04T12:00:00\", \"2020-01-04T15:00:00\", \"2020-01-04T18:00:00\", \"2020-01-04T21:00:00\", \"2020-01-05T00:00:00\", \"2020-01-05T03:00:00\", \"2020-01-05T06:00:00\", \"2020-01-05T09:00:00\", \"2020-01-05T12:00:00\", \"2020-01-05T15:00:00\", \"2020-01-05T18:00:00\", \"2020-01-05T21:00:00\"], \"xaxis\": \"x2\", \"y\": [1090.4379, 0.0, 0.0, 117.8923, 784.4291999999999, 1686.3511999999998, 1624.0116, 38397.736500000006, 7347.6142, 0.0, 0.0, 204.1128, 3941.2771000000002, 17948.6881, 5385.6768999999995, 76.6886, 0.0, 0.0, 0.0, 132.6029, 255.78430000000003, 2184.5786, 8748.5865, 32617.370900000005, 655.9341000000001, 21.1021, 0.0, 160.9676, 578.1474000000001, 1209.2426, 3492.268, 37928.274699999994, 1218.1065, 0.0, 0.0, 25.9556, 493.4148, 1466.0389000000002, 3279.6905999999994, 36402.2532, 1365.6897, 0.0, 0.0, 143.23210000000003, 1144.6687000000002, 5027.7928999999995, 4340.049399999999, 29449.299399999996, 276.39009999999996, 10.1766, 0.0, 84.0064, 213.0836, 1092.1698, 1519.7212, 47908.4283], \"yaxis\": \"y2\"}, {\"line\": {\"color\": \"#32CD32\"}, \"name\": \"SUM(MAX_DS)\", \"opacity\": 0.8, \"type\": \"scatter\", \"x\": [\"2020-01-06T00:00:00\", \"2020-01-06T03:00:00\", \"2020-01-06T06:00:00\", \"2020-01-06T09:00:00\", \"2020-01-06T12:00:00\", \"2020-01-06T15:00:00\", \"2020-01-06T18:00:00\", \"2020-01-06T21:00:00\", \"2020-01-07T00:00:00\", \"2020-01-07T03:00:00\", \"2020-01-07T06:00:00\", \"2020-01-07T09:00:00\", \"2020-01-07T12:00:00\", \"2020-01-07T15:00:00\", \"2020-01-07T18:00:00\", \"2020-01-07T21:00:00\", \"2020-01-08T00:00:00\", \"2020-01-08T03:00:00\", \"2020-01-08T06:00:00\", \"2020-01-08T09:00:00\", \"2020-01-08T12:00:00\", \"2020-01-08T15:00:00\", \"2020-01-08T18:00:00\", \"2020-01-08T21:00:00\", \"2020-01-09T00:00:00\", \"2020-01-09T03:00:00\", \"2020-01-09T06:00:00\", \"2020-01-09T09:00:00\", \"2020-01-09T12:00:00\", \"2020-01-09T15:00:00\", \"2020-01-09T18:00:00\", \"2020-01-09T21:00:00\", \"2020-01-10T00:00:00\", \"2020-01-10T03:00:00\", \"2020-01-10T06:00:00\", \"2020-01-10T09:00:00\", \"2020-01-10T12:00:00\", \"2020-01-10T15:00:00\", \"2020-01-10T18:00:00\", \"2020-01-10T21:00:00\", \"2020-01-11T00:00:00\", \"2020-01-11T03:00:00\", \"2020-01-11T06:00:00\", \"2020-01-11T09:00:00\", \"2020-01-11T12:00:00\", \"2020-01-11T15:00:00\", \"2020-01-11T18:00:00\", \"2020-01-11T21:00:00\", \"2020-01-12T00:00:00\", \"2020-01-12T03:00:00\", \"2020-01-12T06:00:00\", \"2020-01-12T09:00:00\", \"2020-01-12T12:00:00\", \"2020-01-12T15:00:00\", \"2020-01-12T18:00:00\", \"2020-01-12T21:00:00\"], \"xaxis\": \"x3\", \"y\": [868.1083, 118.16460000000001, 0.0, 21.7363, 654.0323999999999, 1814.6467, 5406.603999999999, 38436.5441, 349.4857, 0.0, 0.0, 15.3586, 78.676, 1076.4482000000003, 2321.0452, 39882.56509999999, 349.0648, 0.0, 16.3589, 16.9812, 107.09930000000001, 1055.8602, 3016.9577, 37878.9961, 310.5644, 48.589, 23.9094, 76.2625, 107.68249999999999, 1286.5283000000002, 3241.6872, 35869.51419999999, 412.4704, 0.0, 21.9046, 88.8629, 459.1118, 1140.2305000000001, 3748.2632, 34693.6431, 275.3962, 0.0, 0.0, 15.0074, 811.1041, 3050.9287, 4159.807699999999, 38137.896599999985, 125.06280000000001, 10.6484, 0.0, 127.9701, 679.3576, 3295.2214999999997, 5755.1414, 37738.4141], \"yaxis\": \"y3\"}, {\"line\": {\"color\": \"#AD9B0C\"}, \"name\": \"SUM(MAX_DS)\", \"opacity\": 0.8, \"type\": \"scatter\", \"x\": [\"2020-01-13T00:00:00\", \"2020-01-13T03:00:00\", \"2020-01-13T06:00:00\", \"2020-01-13T09:00:00\", \"2020-01-13T12:00:00\", \"2020-01-13T15:00:00\", \"2020-01-13T18:00:00\", \"2020-01-13T21:00:00\", \"2020-01-14T00:00:00\", \"2020-01-14T03:00:00\", \"2020-01-14T06:00:00\", \"2020-01-14T09:00:00\", \"2020-01-14T12:00:00\", \"2020-01-14T15:00:00\", \"2020-01-14T18:00:00\", \"2020-01-14T21:00:00\", \"2020-01-15T00:00:00\", \"2020-01-15T03:00:00\", \"2020-01-15T06:00:00\", \"2020-01-15T09:00:00\", \"2020-01-15T12:00:00\", \"2020-01-15T15:00:00\", \"2020-01-15T18:00:00\", \"2020-01-15T21:00:00\", \"2020-01-16T00:00:00\", \"2020-01-16T03:00:00\", \"2020-01-16T06:00:00\", \"2020-01-16T09:00:00\", \"2020-01-16T12:00:00\", \"2020-01-16T15:00:00\", \"2020-01-16T18:00:00\", \"2020-01-16T21:00:00\", \"2020-01-17T00:00:00\", \"2020-01-17T03:00:00\", \"2020-01-17T06:00:00\", \"2020-01-17T09:00:00\", \"2020-01-17T12:00:00\", \"2020-01-17T15:00:00\", \"2020-01-17T18:00:00\", \"2020-01-17T21:00:00\", \"2020-01-18T00:00:00\", \"2020-01-18T03:00:00\", \"2020-01-18T06:00:00\", \"2020-01-18T09:00:00\", \"2020-01-18T12:00:00\", \"2020-01-18T15:00:00\", \"2020-01-18T18:00:00\", \"2020-01-18T21:00:00\", \"2020-01-19T00:00:00\", \"2020-01-19T03:00:00\", \"2020-01-19T06:00:00\", \"2020-01-19T09:00:00\", \"2020-01-19T12:00:00\", \"2020-01-19T15:00:00\", \"2020-01-19T18:00:00\", \"2020-01-19T21:00:00\"], \"xaxis\": \"x4\", \"y\": [213.7387, 0.0, 0.0, 17.1067, 297.5139, 1098.6254, 3024.597, 38281.57810000001, 21.0393, 0.0, 0.0, 30.8144, 209.99450000000002, 821.3348999999998, 3574.6489, 39582.924, 257.08910000000003, 19.9977, 0.0, 105.89150000000001, 512.0998, 2017.5773999999997, 9897.314699999999, 31503.625700000004, 317.1151, 65.4827, 20.9301, 100.85379999999999, 584.3503000000001, 1545.7333, 8462.4512, 30418.6367, 279.7477, 0.0, 0.0, 32.9684, 352.3002, 2505.2549000000004, 6012.491399999999, 33850.75059999999, 277.9267, 0.0, 0.0, 266.3158, 1763.4284000000002, 6912.307000000001, 3418.9202000000005, 33916.81019999999, 333.3312, 0.0, 0.0, 115.24050000000001, 1901.5549, 4900.5527999999995, 10627.016900000002, 30518.376699999997], \"yaxis\": \"y4\"}, {\"line\": {\"color\": \"#B22222\"}, \"name\": \"SUM(MAX_DS)\", \"opacity\": 0.8, \"type\": \"scatter\", \"x\": [\"2020-01-20T00:00:00\", \"2020-01-20T03:00:00\", \"2020-01-20T06:00:00\", \"2020-01-20T09:00:00\", \"2020-01-20T12:00:00\", \"2020-01-20T15:00:00\", \"2020-01-20T18:00:00\", \"2020-01-20T21:00:00\", \"2020-01-21T00:00:00\", \"2020-01-21T03:00:00\", \"2020-01-21T06:00:00\", \"2020-01-21T09:00:00\", \"2020-01-21T12:00:00\", \"2020-01-21T15:00:00\", \"2020-01-21T18:00:00\", \"2020-01-21T21:00:00\", \"2020-01-22T00:00:00\", \"2020-01-22T03:00:00\", \"2020-01-22T06:00:00\", \"2020-01-22T09:00:00\", \"2020-01-22T12:00:00\", \"2020-01-22T15:00:00\", \"2020-01-22T18:00:00\", \"2020-01-22T21:00:00\", \"2020-01-23T00:00:00\", \"2020-01-23T03:00:00\", \"2020-01-23T06:00:00\", \"2020-01-23T09:00:00\", \"2020-01-23T12:00:00\", \"2020-01-23T15:00:00\", \"2020-01-23T18:00:00\", \"2020-01-23T21:00:00\", \"2020-01-24T00:00:00\", \"2020-01-24T03:00:00\", \"2020-01-24T06:00:00\", \"2020-01-24T09:00:00\", \"2020-01-24T12:00:00\", \"2020-01-24T15:00:00\", \"2020-01-24T18:00:00\", \"2020-01-24T21:00:00\", \"2020-01-25T00:00:00\", \"2020-01-25T03:00:00\", \"2020-01-25T06:00:00\", \"2020-01-25T09:00:00\", \"2020-01-25T12:00:00\", \"2020-01-25T15:00:00\", \"2020-01-25T18:00:00\", \"2020-01-25T21:00:00\", \"2020-01-26T00:00:00\", \"2020-01-26T03:00:00\", \"2020-01-26T06:00:00\", \"2020-01-26T09:00:00\", \"2020-01-26T12:00:00\", \"2020-01-26T15:00:00\", \"2020-01-26T18:00:00\", \"2020-01-26T21:00:00\"], \"xaxis\": \"x5\", \"y\": [144.617, 73.4953, 0.0, 38.9598, 82.2819, 1960.3173, 1806.9761999999998, 40146.890100000004, 281.3889, 0.0, 27.1932, 30.6456, 403.6752, 1358.4142000000002, 3477.2185, 35391.6139, 157.07889999999998, 0.0, 0.0, 28.8335, 560.2973, 2393.452, 4832.2564, 35565.0295, 303.2812, 53.2805, 0.0, 47.4711, 122.3255, 1076.5055, 4332.2562, 36371.0243, 166.75509999999997, 0.0, 0.0, 67.0673, 154.4371, 2153.3096, 4602.2798, 36264.29749999999, 488.81480000000005, 0.0, 0.0, 374.7776, 2521.7010000000005, 6185.7339, 4849.318700000001, 30829.3025, 476.42269999999996, 27.8654, 0.0, 75.3938, 2604.2958000000003, 5042.6976, 10755.1255, 30327.166], \"yaxis\": \"y5\"}],\n",
       "                        {\"height\": 900, \"showlegend\": false, \"template\": {\"data\": {\"bar\": [{\"error_x\": {\"color\": \"#2a3f5f\"}, \"error_y\": {\"color\": \"#2a3f5f\"}, \"marker\": {\"line\": {\"color\": \"#E5ECF6\", \"width\": 0.5}}, \"type\": \"bar\"}], \"barpolar\": [{\"marker\": {\"line\": {\"color\": \"#E5ECF6\", \"width\": 0.5}}, \"type\": \"barpolar\"}], \"carpet\": [{\"aaxis\": {\"endlinecolor\": \"#2a3f5f\", \"gridcolor\": \"white\", \"linecolor\": \"white\", \"minorgridcolor\": \"white\", \"startlinecolor\": \"#2a3f5f\"}, \"baxis\": {\"endlinecolor\": \"#2a3f5f\", \"gridcolor\": \"white\", \"linecolor\": \"white\", \"minorgridcolor\": \"white\", \"startlinecolor\": \"#2a3f5f\"}, \"type\": \"carpet\"}], \"choropleth\": [{\"colorbar\": {\"outlinewidth\": 0, \"ticks\": \"\"}, \"type\": \"choropleth\"}], \"contour\": [{\"colorbar\": {\"outlinewidth\": 0, \"ticks\": \"\"}, \"colorscale\": [[0.0, \"#0d0887\"], [0.1111111111111111, \"#46039f\"], [0.2222222222222222, \"#7201a8\"], [0.3333333333333333, \"#9c179e\"], [0.4444444444444444, \"#bd3786\"], [0.5555555555555556, \"#d8576b\"], [0.6666666666666666, \"#ed7953\"], [0.7777777777777778, \"#fb9f3a\"], [0.8888888888888888, \"#fdca26\"], [1.0, \"#f0f921\"]], \"type\": \"contour\"}], \"contourcarpet\": [{\"colorbar\": {\"outlinewidth\": 0, \"ticks\": \"\"}, \"type\": \"contourcarpet\"}], \"heatmap\": [{\"colorbar\": {\"outlinewidth\": 0, \"ticks\": \"\"}, \"colorscale\": [[0.0, \"#0d0887\"], [0.1111111111111111, \"#46039f\"], [0.2222222222222222, \"#7201a8\"], [0.3333333333333333, \"#9c179e\"], [0.4444444444444444, \"#bd3786\"], [0.5555555555555556, \"#d8576b\"], [0.6666666666666666, \"#ed7953\"], [0.7777777777777778, \"#fb9f3a\"], [0.8888888888888888, \"#fdca26\"], [1.0, \"#f0f921\"]], \"type\": \"heatmap\"}], \"heatmapgl\": [{\"colorbar\": {\"outlinewidth\": 0, \"ticks\": \"\"}, \"colorscale\": [[0.0, \"#0d0887\"], [0.1111111111111111, \"#46039f\"], [0.2222222222222222, \"#7201a8\"], [0.3333333333333333, \"#9c179e\"], [0.4444444444444444, \"#bd3786\"], [0.5555555555555556, \"#d8576b\"], [0.6666666666666666, \"#ed7953\"], [0.7777777777777778, \"#fb9f3a\"], [0.8888888888888888, \"#fdca26\"], [1.0, \"#f0f921\"]], \"type\": \"heatmapgl\"}], \"histogram\": [{\"marker\": {\"colorbar\": {\"outlinewidth\": 0, \"ticks\": \"\"}}, \"type\": \"histogram\"}], \"histogram2d\": [{\"colorbar\": {\"outlinewidth\": 0, \"ticks\": \"\"}, \"colorscale\": [[0.0, \"#0d0887\"], [0.1111111111111111, \"#46039f\"], [0.2222222222222222, \"#7201a8\"], [0.3333333333333333, \"#9c179e\"], [0.4444444444444444, \"#bd3786\"], [0.5555555555555556, \"#d8576b\"], [0.6666666666666666, \"#ed7953\"], [0.7777777777777778, \"#fb9f3a\"], [0.8888888888888888, \"#fdca26\"], [1.0, \"#f0f921\"]], \"type\": \"histogram2d\"}], \"histogram2dcontour\": [{\"colorbar\": {\"outlinewidth\": 0, \"ticks\": \"\"}, \"colorscale\": [[0.0, \"#0d0887\"], [0.1111111111111111, \"#46039f\"], [0.2222222222222222, \"#7201a8\"], [0.3333333333333333, \"#9c179e\"], [0.4444444444444444, \"#bd3786\"], [0.5555555555555556, \"#d8576b\"], [0.6666666666666666, \"#ed7953\"], [0.7777777777777778, \"#fb9f3a\"], [0.8888888888888888, \"#fdca26\"], [1.0, \"#f0f921\"]], \"type\": \"histogram2dcontour\"}], \"mesh3d\": [{\"colorbar\": {\"outlinewidth\": 0, \"ticks\": \"\"}, \"type\": \"mesh3d\"}], \"parcoords\": [{\"line\": {\"colorbar\": {\"outlinewidth\": 0, \"ticks\": \"\"}}, \"type\": \"parcoords\"}], \"pie\": [{\"automargin\": true, \"type\": \"pie\"}], \"scatter\": [{\"marker\": {\"colorbar\": {\"outlinewidth\": 0, \"ticks\": \"\"}}, \"type\": \"scatter\"}], \"scatter3d\": [{\"line\": {\"colorbar\": {\"outlinewidth\": 0, \"ticks\": \"\"}}, \"marker\": {\"colorbar\": {\"outlinewidth\": 0, \"ticks\": \"\"}}, \"type\": \"scatter3d\"}], \"scattercarpet\": [{\"marker\": {\"colorbar\": {\"outlinewidth\": 0, \"ticks\": \"\"}}, \"type\": \"scattercarpet\"}], \"scattergeo\": [{\"marker\": {\"colorbar\": {\"outlinewidth\": 0, \"ticks\": \"\"}}, \"type\": \"scattergeo\"}], \"scattergl\": [{\"marker\": {\"colorbar\": {\"outlinewidth\": 0, \"ticks\": \"\"}}, \"type\": \"scattergl\"}], \"scattermapbox\": [{\"marker\": {\"colorbar\": {\"outlinewidth\": 0, \"ticks\": \"\"}}, \"type\": \"scattermapbox\"}], \"scatterpolar\": [{\"marker\": {\"colorbar\": {\"outlinewidth\": 0, \"ticks\": \"\"}}, \"type\": \"scatterpolar\"}], \"scatterpolargl\": [{\"marker\": {\"colorbar\": {\"outlinewidth\": 0, \"ticks\": \"\"}}, \"type\": \"scatterpolargl\"}], \"scatterternary\": [{\"marker\": {\"colorbar\": {\"outlinewidth\": 0, \"ticks\": \"\"}}, \"type\": \"scatterternary\"}], \"surface\": [{\"colorbar\": {\"outlinewidth\": 0, \"ticks\": \"\"}, \"colorscale\": [[0.0, \"#0d0887\"], [0.1111111111111111, \"#46039f\"], [0.2222222222222222, \"#7201a8\"], [0.3333333333333333, \"#9c179e\"], [0.4444444444444444, \"#bd3786\"], [0.5555555555555556, \"#d8576b\"], [0.6666666666666666, \"#ed7953\"], [0.7777777777777778, \"#fb9f3a\"], [0.8888888888888888, \"#fdca26\"], [1.0, \"#f0f921\"]], \"type\": \"surface\"}], \"table\": [{\"cells\": {\"fill\": {\"color\": \"#EBF0F8\"}, \"line\": {\"color\": \"white\"}}, \"header\": {\"fill\": {\"color\": \"#C8D4E3\"}, \"line\": {\"color\": \"white\"}}, \"type\": \"table\"}]}, \"layout\": {\"annotationdefaults\": {\"arrowcolor\": \"#2a3f5f\", \"arrowhead\": 0, \"arrowwidth\": 1}, \"coloraxis\": {\"colorbar\": {\"outlinewidth\": 0, \"ticks\": \"\"}}, \"colorscale\": {\"diverging\": [[0, \"#8e0152\"], [0.1, \"#c51b7d\"], [0.2, \"#de77ae\"], [0.3, \"#f1b6da\"], [0.4, \"#fde0ef\"], [0.5, \"#f7f7f7\"], [0.6, \"#e6f5d0\"], [0.7, \"#b8e186\"], [0.8, \"#7fbc41\"], [0.9, \"#4d9221\"], [1, \"#276419\"]], \"sequential\": [[0.0, \"#0d0887\"], [0.1111111111111111, \"#46039f\"], [0.2222222222222222, \"#7201a8\"], [0.3333333333333333, \"#9c179e\"], [0.4444444444444444, \"#bd3786\"], [0.5555555555555556, \"#d8576b\"], [0.6666666666666666, \"#ed7953\"], [0.7777777777777778, \"#fb9f3a\"], [0.8888888888888888, \"#fdca26\"], [1.0, \"#f0f921\"]], \"sequentialminus\": [[0.0, \"#0d0887\"], [0.1111111111111111, \"#46039f\"], [0.2222222222222222, \"#7201a8\"], [0.3333333333333333, \"#9c179e\"], [0.4444444444444444, \"#bd3786\"], [0.5555555555555556, \"#d8576b\"], [0.6666666666666666, \"#ed7953\"], [0.7777777777777778, \"#fb9f3a\"], [0.8888888888888888, \"#fdca26\"], [1.0, \"#f0f921\"]]}, \"colorway\": [\"#636efa\", \"#EF553B\", \"#00cc96\", \"#ab63fa\", \"#FFA15A\", \"#19d3f3\", \"#FF6692\", \"#B6E880\", \"#FF97FF\", \"#FECB52\"], \"font\": {\"color\": \"#2a3f5f\"}, \"geo\": {\"bgcolor\": \"white\", \"lakecolor\": \"white\", \"landcolor\": \"#E5ECF6\", \"showlakes\": true, \"showland\": true, \"subunitcolor\": \"white\"}, \"hoverlabel\": {\"align\": \"left\"}, \"hovermode\": \"closest\", \"mapbox\": {\"style\": \"light\"}, \"paper_bgcolor\": \"white\", \"plot_bgcolor\": \"#E5ECF6\", \"polar\": {\"angularaxis\": {\"gridcolor\": \"white\", \"linecolor\": \"white\", \"ticks\": \"\"}, \"bgcolor\": \"#E5ECF6\", \"radialaxis\": {\"gridcolor\": \"white\", \"linecolor\": \"white\", \"ticks\": \"\"}}, \"scene\": {\"xaxis\": {\"backgroundcolor\": \"#E5ECF6\", \"gridcolor\": \"white\", \"gridwidth\": 2, \"linecolor\": \"white\", \"showbackground\": true, \"ticks\": \"\", \"zerolinecolor\": \"white\"}, \"yaxis\": {\"backgroundcolor\": \"#E5ECF6\", \"gridcolor\": \"white\", \"gridwidth\": 2, \"linecolor\": \"white\", \"showbackground\": true, \"ticks\": \"\", \"zerolinecolor\": \"white\"}, \"zaxis\": {\"backgroundcolor\": \"#E5ECF6\", \"gridcolor\": \"white\", \"gridwidth\": 2, \"linecolor\": \"white\", \"showbackground\": true, \"ticks\": \"\", \"zerolinecolor\": \"white\"}}, \"shapedefaults\": {\"line\": {\"color\": \"#2a3f5f\"}}, \"ternary\": {\"aaxis\": {\"gridcolor\": \"white\", \"linecolor\": \"white\", \"ticks\": \"\"}, \"baxis\": {\"gridcolor\": \"white\", \"linecolor\": \"white\", \"ticks\": \"\"}, \"bgcolor\": \"#E5ECF6\", \"caxis\": {\"gridcolor\": \"white\", \"linecolor\": \"white\", \"ticks\": \"\"}}, \"title\": {\"x\": 0.05}, \"xaxis\": {\"automargin\": true, \"gridcolor\": \"white\", \"linecolor\": \"white\", \"ticks\": \"\", \"title\": {\"standoff\": 15}, \"zerolinecolor\": \"white\", \"zerolinewidth\": 2}, \"yaxis\": {\"automargin\": true, \"gridcolor\": \"white\", \"linecolor\": \"white\", \"ticks\": \"\", \"title\": {\"standoff\": 15}, \"zerolinecolor\": \"white\", \"zerolinewidth\": 2}}}, \"title\": {\"text\": \"Time Series Max_DS provincia di RM\"}, \"xaxis\": {\"anchor\": \"y\", \"domain\": [0.0, 1.0]}, \"xaxis2\": {\"anchor\": \"y2\", \"domain\": [0.0, 1.0]}, \"xaxis3\": {\"anchor\": \"y3\", \"domain\": [0.0, 1.0]}, \"xaxis4\": {\"anchor\": \"y4\", \"domain\": [0.0, 1.0]}, \"xaxis5\": {\"anchor\": \"y5\", \"domain\": [0.0, 1.0]}, \"yaxis\": {\"anchor\": \"x\", \"domain\": [0.848, 1.0]}, \"yaxis2\": {\"anchor\": \"x2\", \"domain\": [0.6359999999999999, 0.7879999999999999]}, \"yaxis3\": {\"anchor\": \"x3\", \"domain\": [0.424, 0.576]}, \"yaxis4\": {\"anchor\": \"x4\", \"domain\": [0.212, 0.364]}, \"yaxis5\": {\"anchor\": \"x5\", \"domain\": [0.0, 0.152]}},\n",
       "                        {\"responsive\": true}\n",
       "                    ).then(function(){\n",
       "                            \n",
       "var gd = document.getElementById('279f4b6b-3cca-4475-8e53-c9c0b23066da');\n",
       "var x = new MutationObserver(function (mutations, observer) {{\n",
       "        var display = window.getComputedStyle(gd).display;\n",
       "        if (!display || display === 'none') {{\n",
       "            console.log([gd, 'removed!']);\n",
       "            Plotly.purge(gd);\n",
       "            observer.disconnect();\n",
       "        }}\n",
       "}});\n",
       "\n",
       "// Listen for the removal of the full notebook cells\n",
       "var notebookContainer = gd.closest('#notebook-container');\n",
       "if (notebookContainer) {{\n",
       "    x.observe(notebookContainer, {childList: true});\n",
       "}}\n",
       "\n",
       "// Listen for the clearing of the current output cell\n",
       "var outputEl = gd.closest('.output');\n",
       "if (outputEl) {{\n",
       "    x.observe(outputEl, {childList: true});\n",
       "}}\n",
       "\n",
       "                        })\n",
       "                };\n",
       "                });\n",
       "            </script>\n",
       "        </div>"
      ]
     },
     "metadata": {},
     "output_type": "display_data"
    }
   ],
   "source": [
    "import plotly.graph_objs as go\n",
    "\n",
    "#time series by 3 hours\n",
    "trace1 = go.Scatter(x = df_rm_3H_week1.index, y = df_rm_3H_week1, name = \"SUM(MAX_DS)\", line = dict(color = '#17BECF'), opacity = 0.8)\n",
    "trace2 = go.Scatter(x = df_rm_3H_week2.index ,y = df_rm_3H_week2, name = \"SUM(MAX_DS)\", line = dict(color = '#7F7F7F'), opacity = 0.8)\n",
    "trace3 = go.Scatter(x = df_rm_3H_week3.index ,y = df_rm_3H_week3, name = \"SUM(MAX_DS)\", line = dict(color ='#32CD32'), opacity = 0.8)\n",
    "trace4 = go.Scatter(x = df_rm_3H_week4.index ,y = df_rm_3H_week4, name = \"SUM(MAX_DS)\", line = dict(color ='#AD9B0C'), opacity = 0.8)\n",
    "trace5 = go.Scatter(x = df_rm_3H_week5.index ,y = df_rm_3H_week5, name = \"SUM(MAX_DS)\", line = dict(color ='#B22222'), opacity = 0.8)\n",
    "\n",
    "fig = tools.make_subplots(rows=5, cols=1, specs=[[{}], [{}], [{}], [{}], [{}]])\n",
    "\n",
    "fig.append_trace(trace1, 1,1)\n",
    "fig.append_trace(trace2, 2,1)\n",
    "fig.append_trace(trace3, 3,1)\n",
    "fig.append_trace(trace4, 4,1)\n",
    "fig.append_trace(trace5, 5,1)\n",
    "\n",
    "fig['layout'].update( height=900,title='Time Series Max_DS provincia di RM', showlegend=False)\n",
    "\n",
    "fig.show()"
   ]
  },
  {
   "cell_type": "code",
   "execution_count": 9,
   "metadata": {},
   "outputs": [
    {
     "data": {
      "application/vnd.plotly.v1+json": {
       "config": {
        "plotlyServerURL": "https://plot.ly"
       },
       "data": [
        {
         "line": {
          "color": "#17BECF"
         },
         "name": "SUM(MAX_DS)",
         "opacity": 0.8,
         "type": "scatter",
         "x": [
          "2019-12-23T00:00:00",
          "2019-12-23T03:00:00",
          "2019-12-23T06:00:00",
          "2019-12-23T09:00:00",
          "2019-12-23T12:00:00",
          "2019-12-23T15:00:00",
          "2019-12-23T18:00:00",
          "2019-12-23T21:00:00",
          "2019-12-24T00:00:00",
          "2019-12-24T03:00:00",
          "2019-12-24T06:00:00",
          "2019-12-24T09:00:00",
          "2019-12-24T12:00:00",
          "2019-12-24T15:00:00",
          "2019-12-24T18:00:00",
          "2019-12-24T21:00:00",
          "2019-12-25T00:00:00",
          "2019-12-25T03:00:00",
          "2019-12-25T06:00:00",
          "2019-12-25T09:00:00",
          "2019-12-25T12:00:00",
          "2019-12-25T15:00:00",
          "2019-12-25T18:00:00",
          "2019-12-25T21:00:00",
          "2019-12-26T00:00:00",
          "2019-12-26T03:00:00",
          "2019-12-26T06:00:00",
          "2019-12-26T09:00:00",
          "2019-12-26T12:00:00",
          "2019-12-26T15:00:00",
          "2019-12-26T18:00:00",
          "2019-12-26T21:00:00",
          "2019-12-27T00:00:00",
          "2019-12-27T03:00:00",
          "2019-12-27T06:00:00",
          "2019-12-27T09:00:00",
          "2019-12-27T12:00:00",
          "2019-12-27T15:00:00",
          "2019-12-27T18:00:00",
          "2019-12-27T21:00:00",
          "2019-12-28T00:00:00",
          "2019-12-28T03:00:00",
          "2019-12-28T06:00:00",
          "2019-12-28T09:00:00",
          "2019-12-28T12:00:00",
          "2019-12-28T15:00:00",
          "2019-12-28T18:00:00",
          "2019-12-28T21:00:00",
          "2019-12-29T00:00:00",
          "2019-12-29T03:00:00",
          "2019-12-29T06:00:00",
          "2019-12-29T09:00:00",
          "2019-12-29T12:00:00",
          "2019-12-29T15:00:00",
          "2019-12-29T18:00:00",
          "2019-12-29T21:00:00"
         ],
         "xaxis": "x",
         "y": [
          1746.7164999999998,
          0,
          12.9277,
          169.18449999999999,
          933.4785999999999,
          2067.9122,
          2770.1851000000006,
          33268.31479999999,
          3024.8462000000004,
          0,
          12.8238,
          258.9006,
          3951.9554,
          20650.240500000007,
          7054.6846,
          461.8409,
          257.1188,
          13.6011,
          30.4711,
          792.7456,
          277.7643,
          953.9105999999999,
          9008.475699999999,
          26921.681700000005,
          1702.6062,
          0,
          0,
          353.2179,
          737.2382,
          4116.3148,
          7132.335800000001,
          27870.979700000004,
          1241.2469,
          0,
          0,
          174.3407,
          358.81129999999996,
          2905.2603,
          4716.9109,
          33773.24229999999,
          949.4004000000001,
          0,
          0,
          43.2099,
          1547.9965,
          3968.2525,
          6201.6455000000005,
          28874.9648,
          381.2007,
          0,
          0,
          119.8973,
          555.0296999999999,
          4560.2532,
          5068.7228,
          34182.1509
         ],
         "yaxis": "y"
        },
        {
         "line": {
          "color": "#7F7F7F"
         },
         "name": "SUM(MAX_DS)",
         "opacity": 0.8,
         "type": "scatter",
         "x": [
          "2019-12-30T00:00:00",
          "2019-12-30T03:00:00",
          "2019-12-30T06:00:00",
          "2019-12-30T09:00:00",
          "2019-12-30T12:00:00",
          "2019-12-30T15:00:00",
          "2019-12-30T18:00:00",
          "2019-12-30T21:00:00",
          "2019-12-31T00:00:00",
          "2019-12-31T03:00:00",
          "2019-12-31T06:00:00",
          "2019-12-31T09:00:00",
          "2019-12-31T12:00:00",
          "2019-12-31T15:00:00",
          "2019-12-31T18:00:00",
          "2019-12-31T21:00:00",
          "2020-01-01T00:00:00",
          "2020-01-01T03:00:00",
          "2020-01-01T06:00:00",
          "2020-01-01T09:00:00",
          "2020-01-01T12:00:00",
          "2020-01-01T15:00:00",
          "2020-01-01T18:00:00",
          "2020-01-01T21:00:00",
          "2020-01-02T00:00:00",
          "2020-01-02T03:00:00",
          "2020-01-02T06:00:00",
          "2020-01-02T09:00:00",
          "2020-01-02T12:00:00",
          "2020-01-02T15:00:00",
          "2020-01-02T18:00:00",
          "2020-01-02T21:00:00",
          "2020-01-03T00:00:00",
          "2020-01-03T03:00:00",
          "2020-01-03T06:00:00",
          "2020-01-03T09:00:00",
          "2020-01-03T12:00:00",
          "2020-01-03T15:00:00",
          "2020-01-03T18:00:00",
          "2020-01-03T21:00:00",
          "2020-01-04T00:00:00",
          "2020-01-04T03:00:00",
          "2020-01-04T06:00:00",
          "2020-01-04T09:00:00",
          "2020-01-04T12:00:00",
          "2020-01-04T15:00:00",
          "2020-01-04T18:00:00",
          "2020-01-04T21:00:00",
          "2020-01-05T00:00:00",
          "2020-01-05T03:00:00",
          "2020-01-05T06:00:00",
          "2020-01-05T09:00:00",
          "2020-01-05T12:00:00",
          "2020-01-05T15:00:00",
          "2020-01-05T18:00:00",
          "2020-01-05T21:00:00"
         ],
         "xaxis": "x",
         "y": [
          1090.4379,
          0,
          0,
          117.8923,
          784.4291999999999,
          1686.3511999999998,
          1624.0116,
          38397.736500000006,
          7347.6142,
          0,
          0,
          204.1128,
          3941.2771000000002,
          17948.6881,
          5385.6768999999995,
          76.6886,
          0,
          0,
          0,
          132.6029,
          255.78430000000003,
          2184.5786,
          8748.5865,
          32617.370900000005,
          655.9341000000001,
          21.1021,
          0,
          160.9676,
          578.1474000000001,
          1209.2426,
          3492.268,
          37928.274699999994,
          1218.1065,
          0,
          0,
          25.9556,
          493.4148,
          1466.0389000000002,
          3279.6905999999994,
          36402.2532,
          1365.6897,
          0,
          0,
          143.23210000000003,
          1144.6687000000002,
          5027.7928999999995,
          4340.049399999999,
          29449.299399999996,
          276.39009999999996,
          10.1766,
          0,
          84.0064,
          213.0836,
          1092.1698,
          1519.7212,
          47908.4283
         ],
         "yaxis": "y"
        },
        {
         "line": {
          "color": "#32CD32"
         },
         "name": "SUM(MAX_DS)",
         "opacity": 0.8,
         "type": "scatter",
         "x": [
          "2020-01-06T00:00:00",
          "2020-01-06T03:00:00",
          "2020-01-06T06:00:00",
          "2020-01-06T09:00:00",
          "2020-01-06T12:00:00",
          "2020-01-06T15:00:00",
          "2020-01-06T18:00:00",
          "2020-01-06T21:00:00",
          "2020-01-07T00:00:00",
          "2020-01-07T03:00:00",
          "2020-01-07T06:00:00",
          "2020-01-07T09:00:00",
          "2020-01-07T12:00:00",
          "2020-01-07T15:00:00",
          "2020-01-07T18:00:00",
          "2020-01-07T21:00:00",
          "2020-01-08T00:00:00",
          "2020-01-08T03:00:00",
          "2020-01-08T06:00:00",
          "2020-01-08T09:00:00",
          "2020-01-08T12:00:00",
          "2020-01-08T15:00:00",
          "2020-01-08T18:00:00",
          "2020-01-08T21:00:00",
          "2020-01-09T00:00:00",
          "2020-01-09T03:00:00",
          "2020-01-09T06:00:00",
          "2020-01-09T09:00:00",
          "2020-01-09T12:00:00",
          "2020-01-09T15:00:00",
          "2020-01-09T18:00:00",
          "2020-01-09T21:00:00",
          "2020-01-10T00:00:00",
          "2020-01-10T03:00:00",
          "2020-01-10T06:00:00",
          "2020-01-10T09:00:00",
          "2020-01-10T12:00:00",
          "2020-01-10T15:00:00",
          "2020-01-10T18:00:00",
          "2020-01-10T21:00:00",
          "2020-01-11T00:00:00",
          "2020-01-11T03:00:00",
          "2020-01-11T06:00:00",
          "2020-01-11T09:00:00",
          "2020-01-11T12:00:00",
          "2020-01-11T15:00:00",
          "2020-01-11T18:00:00",
          "2020-01-11T21:00:00",
          "2020-01-12T00:00:00",
          "2020-01-12T03:00:00",
          "2020-01-12T06:00:00",
          "2020-01-12T09:00:00",
          "2020-01-12T12:00:00",
          "2020-01-12T15:00:00",
          "2020-01-12T18:00:00",
          "2020-01-12T21:00:00"
         ],
         "xaxis": "x",
         "y": [
          868.1083,
          118.16460000000001,
          0,
          21.7363,
          654.0323999999999,
          1814.6467,
          5406.603999999999,
          38436.5441,
          349.4857,
          0,
          0,
          15.3586,
          78.676,
          1076.4482000000003,
          2321.0452,
          39882.56509999999,
          349.0648,
          0,
          16.3589,
          16.9812,
          107.09930000000001,
          1055.8602,
          3016.9577,
          37878.9961,
          310.5644,
          48.589,
          23.9094,
          76.2625,
          107.68249999999999,
          1286.5283000000002,
          3241.6872,
          35869.51419999999,
          412.4704,
          0,
          21.9046,
          88.8629,
          459.1118,
          1140.2305000000001,
          3748.2632,
          34693.6431,
          275.3962,
          0,
          0,
          15.0074,
          811.1041,
          3050.9287,
          4159.807699999999,
          38137.896599999985,
          125.06280000000001,
          10.6484,
          0,
          127.9701,
          679.3576,
          3295.2214999999997,
          5755.1414,
          37738.4141
         ],
         "yaxis": "y"
        },
        {
         "line": {
          "color": "#AD9B0C"
         },
         "name": "SUM(MAX_DS)",
         "opacity": 0.8,
         "type": "scatter",
         "x": [
          "2020-01-13T00:00:00",
          "2020-01-13T03:00:00",
          "2020-01-13T06:00:00",
          "2020-01-13T09:00:00",
          "2020-01-13T12:00:00",
          "2020-01-13T15:00:00",
          "2020-01-13T18:00:00",
          "2020-01-13T21:00:00",
          "2020-01-14T00:00:00",
          "2020-01-14T03:00:00",
          "2020-01-14T06:00:00",
          "2020-01-14T09:00:00",
          "2020-01-14T12:00:00",
          "2020-01-14T15:00:00",
          "2020-01-14T18:00:00",
          "2020-01-14T21:00:00",
          "2020-01-15T00:00:00",
          "2020-01-15T03:00:00",
          "2020-01-15T06:00:00",
          "2020-01-15T09:00:00",
          "2020-01-15T12:00:00",
          "2020-01-15T15:00:00",
          "2020-01-15T18:00:00",
          "2020-01-15T21:00:00",
          "2020-01-16T00:00:00",
          "2020-01-16T03:00:00",
          "2020-01-16T06:00:00",
          "2020-01-16T09:00:00",
          "2020-01-16T12:00:00",
          "2020-01-16T15:00:00",
          "2020-01-16T18:00:00",
          "2020-01-16T21:00:00",
          "2020-01-17T00:00:00",
          "2020-01-17T03:00:00",
          "2020-01-17T06:00:00",
          "2020-01-17T09:00:00",
          "2020-01-17T12:00:00",
          "2020-01-17T15:00:00",
          "2020-01-17T18:00:00",
          "2020-01-17T21:00:00",
          "2020-01-18T00:00:00",
          "2020-01-18T03:00:00",
          "2020-01-18T06:00:00",
          "2020-01-18T09:00:00",
          "2020-01-18T12:00:00",
          "2020-01-18T15:00:00",
          "2020-01-18T18:00:00",
          "2020-01-18T21:00:00",
          "2020-01-19T00:00:00",
          "2020-01-19T03:00:00",
          "2020-01-19T06:00:00",
          "2020-01-19T09:00:00",
          "2020-01-19T12:00:00",
          "2020-01-19T15:00:00",
          "2020-01-19T18:00:00",
          "2020-01-19T21:00:00"
         ],
         "xaxis": "x",
         "y": [
          213.7387,
          0,
          0,
          17.1067,
          297.5139,
          1098.6254,
          3024.597,
          38281.57810000001,
          21.0393,
          0,
          0,
          30.8144,
          209.99450000000002,
          821.3348999999998,
          3574.6489,
          39582.924,
          257.08910000000003,
          19.9977,
          0,
          105.89150000000001,
          512.0998,
          2017.5773999999997,
          9897.314699999999,
          31503.625700000004,
          317.1151,
          65.4827,
          20.9301,
          100.85379999999999,
          584.3503000000001,
          1545.7333,
          8462.4512,
          30418.6367,
          279.7477,
          0,
          0,
          32.9684,
          352.3002,
          2505.2549000000004,
          6012.491399999999,
          33850.75059999999,
          277.9267,
          0,
          0,
          266.3158,
          1763.4284000000002,
          6912.307000000001,
          3418.9202000000005,
          33916.81019999999,
          333.3312,
          0,
          0,
          115.24050000000001,
          1901.5549,
          4900.5527999999995,
          10627.016900000002,
          30518.376699999997
         ],
         "yaxis": "y"
        },
        {
         "line": {
          "color": "#B22222"
         },
         "name": "SUM(MAX_DS)",
         "opacity": 0.8,
         "type": "scatter",
         "x": [
          "2020-01-20T00:00:00",
          "2020-01-20T03:00:00",
          "2020-01-20T06:00:00",
          "2020-01-20T09:00:00",
          "2020-01-20T12:00:00",
          "2020-01-20T15:00:00",
          "2020-01-20T18:00:00",
          "2020-01-20T21:00:00",
          "2020-01-21T00:00:00",
          "2020-01-21T03:00:00",
          "2020-01-21T06:00:00",
          "2020-01-21T09:00:00",
          "2020-01-21T12:00:00",
          "2020-01-21T15:00:00",
          "2020-01-21T18:00:00",
          "2020-01-21T21:00:00",
          "2020-01-22T00:00:00",
          "2020-01-22T03:00:00",
          "2020-01-22T06:00:00",
          "2020-01-22T09:00:00",
          "2020-01-22T12:00:00",
          "2020-01-22T15:00:00",
          "2020-01-22T18:00:00",
          "2020-01-22T21:00:00",
          "2020-01-23T00:00:00",
          "2020-01-23T03:00:00",
          "2020-01-23T06:00:00",
          "2020-01-23T09:00:00",
          "2020-01-23T12:00:00",
          "2020-01-23T15:00:00",
          "2020-01-23T18:00:00",
          "2020-01-23T21:00:00",
          "2020-01-24T00:00:00",
          "2020-01-24T03:00:00",
          "2020-01-24T06:00:00",
          "2020-01-24T09:00:00",
          "2020-01-24T12:00:00",
          "2020-01-24T15:00:00",
          "2020-01-24T18:00:00",
          "2020-01-24T21:00:00",
          "2020-01-25T00:00:00",
          "2020-01-25T03:00:00",
          "2020-01-25T06:00:00",
          "2020-01-25T09:00:00",
          "2020-01-25T12:00:00",
          "2020-01-25T15:00:00",
          "2020-01-25T18:00:00",
          "2020-01-25T21:00:00",
          "2020-01-26T00:00:00",
          "2020-01-26T03:00:00",
          "2020-01-26T06:00:00",
          "2020-01-26T09:00:00",
          "2020-01-26T12:00:00",
          "2020-01-26T15:00:00",
          "2020-01-26T18:00:00",
          "2020-01-26T21:00:00"
         ],
         "xaxis": "x",
         "y": [
          144.617,
          73.4953,
          0,
          38.9598,
          82.2819,
          1960.3173,
          1806.9761999999998,
          40146.890100000004,
          281.3889,
          0,
          27.1932,
          30.6456,
          403.6752,
          1358.4142000000002,
          3477.2185,
          35391.6139,
          157.07889999999998,
          0,
          0,
          28.8335,
          560.2973,
          2393.452,
          4832.2564,
          35565.0295,
          303.2812,
          53.2805,
          0,
          47.4711,
          122.3255,
          1076.5055,
          4332.2562,
          36371.0243,
          166.75509999999997,
          0,
          0,
          67.0673,
          154.4371,
          2153.3096,
          4602.2798,
          36264.29749999999,
          488.81480000000005,
          0,
          0,
          374.7776,
          2521.7010000000005,
          6185.7339,
          4849.318700000001,
          30829.3025,
          476.42269999999996,
          27.8654,
          0,
          75.3938,
          2604.2958000000003,
          5042.6976,
          10755.1255,
          30327.166
         ],
         "yaxis": "y"
        }
       ],
       "layout": {
        "height": 900,
        "showlegend": false,
        "template": {
         "data": {
          "bar": [
           {
            "error_x": {
             "color": "#2a3f5f"
            },
            "error_y": {
             "color": "#2a3f5f"
            },
            "marker": {
             "line": {
              "color": "#E5ECF6",
              "width": 0.5
             }
            },
            "type": "bar"
           }
          ],
          "barpolar": [
           {
            "marker": {
             "line": {
              "color": "#E5ECF6",
              "width": 0.5
             }
            },
            "type": "barpolar"
           }
          ],
          "carpet": [
           {
            "aaxis": {
             "endlinecolor": "#2a3f5f",
             "gridcolor": "white",
             "linecolor": "white",
             "minorgridcolor": "white",
             "startlinecolor": "#2a3f5f"
            },
            "baxis": {
             "endlinecolor": "#2a3f5f",
             "gridcolor": "white",
             "linecolor": "white",
             "minorgridcolor": "white",
             "startlinecolor": "#2a3f5f"
            },
            "type": "carpet"
           }
          ],
          "choropleth": [
           {
            "colorbar": {
             "outlinewidth": 0,
             "ticks": ""
            },
            "type": "choropleth"
           }
          ],
          "contour": [
           {
            "colorbar": {
             "outlinewidth": 0,
             "ticks": ""
            },
            "colorscale": [
             [
              0,
              "#0d0887"
             ],
             [
              0.1111111111111111,
              "#46039f"
             ],
             [
              0.2222222222222222,
              "#7201a8"
             ],
             [
              0.3333333333333333,
              "#9c179e"
             ],
             [
              0.4444444444444444,
              "#bd3786"
             ],
             [
              0.5555555555555556,
              "#d8576b"
             ],
             [
              0.6666666666666666,
              "#ed7953"
             ],
             [
              0.7777777777777778,
              "#fb9f3a"
             ],
             [
              0.8888888888888888,
              "#fdca26"
             ],
             [
              1,
              "#f0f921"
             ]
            ],
            "type": "contour"
           }
          ],
          "contourcarpet": [
           {
            "colorbar": {
             "outlinewidth": 0,
             "ticks": ""
            },
            "type": "contourcarpet"
           }
          ],
          "heatmap": [
           {
            "colorbar": {
             "outlinewidth": 0,
             "ticks": ""
            },
            "colorscale": [
             [
              0,
              "#0d0887"
             ],
             [
              0.1111111111111111,
              "#46039f"
             ],
             [
              0.2222222222222222,
              "#7201a8"
             ],
             [
              0.3333333333333333,
              "#9c179e"
             ],
             [
              0.4444444444444444,
              "#bd3786"
             ],
             [
              0.5555555555555556,
              "#d8576b"
             ],
             [
              0.6666666666666666,
              "#ed7953"
             ],
             [
              0.7777777777777778,
              "#fb9f3a"
             ],
             [
              0.8888888888888888,
              "#fdca26"
             ],
             [
              1,
              "#f0f921"
             ]
            ],
            "type": "heatmap"
           }
          ],
          "heatmapgl": [
           {
            "colorbar": {
             "outlinewidth": 0,
             "ticks": ""
            },
            "colorscale": [
             [
              0,
              "#0d0887"
             ],
             [
              0.1111111111111111,
              "#46039f"
             ],
             [
              0.2222222222222222,
              "#7201a8"
             ],
             [
              0.3333333333333333,
              "#9c179e"
             ],
             [
              0.4444444444444444,
              "#bd3786"
             ],
             [
              0.5555555555555556,
              "#d8576b"
             ],
             [
              0.6666666666666666,
              "#ed7953"
             ],
             [
              0.7777777777777778,
              "#fb9f3a"
             ],
             [
              0.8888888888888888,
              "#fdca26"
             ],
             [
              1,
              "#f0f921"
             ]
            ],
            "type": "heatmapgl"
           }
          ],
          "histogram": [
           {
            "marker": {
             "colorbar": {
              "outlinewidth": 0,
              "ticks": ""
             }
            },
            "type": "histogram"
           }
          ],
          "histogram2d": [
           {
            "colorbar": {
             "outlinewidth": 0,
             "ticks": ""
            },
            "colorscale": [
             [
              0,
              "#0d0887"
             ],
             [
              0.1111111111111111,
              "#46039f"
             ],
             [
              0.2222222222222222,
              "#7201a8"
             ],
             [
              0.3333333333333333,
              "#9c179e"
             ],
             [
              0.4444444444444444,
              "#bd3786"
             ],
             [
              0.5555555555555556,
              "#d8576b"
             ],
             [
              0.6666666666666666,
              "#ed7953"
             ],
             [
              0.7777777777777778,
              "#fb9f3a"
             ],
             [
              0.8888888888888888,
              "#fdca26"
             ],
             [
              1,
              "#f0f921"
             ]
            ],
            "type": "histogram2d"
           }
          ],
          "histogram2dcontour": [
           {
            "colorbar": {
             "outlinewidth": 0,
             "ticks": ""
            },
            "colorscale": [
             [
              0,
              "#0d0887"
             ],
             [
              0.1111111111111111,
              "#46039f"
             ],
             [
              0.2222222222222222,
              "#7201a8"
             ],
             [
              0.3333333333333333,
              "#9c179e"
             ],
             [
              0.4444444444444444,
              "#bd3786"
             ],
             [
              0.5555555555555556,
              "#d8576b"
             ],
             [
              0.6666666666666666,
              "#ed7953"
             ],
             [
              0.7777777777777778,
              "#fb9f3a"
             ],
             [
              0.8888888888888888,
              "#fdca26"
             ],
             [
              1,
              "#f0f921"
             ]
            ],
            "type": "histogram2dcontour"
           }
          ],
          "mesh3d": [
           {
            "colorbar": {
             "outlinewidth": 0,
             "ticks": ""
            },
            "type": "mesh3d"
           }
          ],
          "parcoords": [
           {
            "line": {
             "colorbar": {
              "outlinewidth": 0,
              "ticks": ""
             }
            },
            "type": "parcoords"
           }
          ],
          "pie": [
           {
            "automargin": true,
            "type": "pie"
           }
          ],
          "scatter": [
           {
            "marker": {
             "colorbar": {
              "outlinewidth": 0,
              "ticks": ""
             }
            },
            "type": "scatter"
           }
          ],
          "scatter3d": [
           {
            "line": {
             "colorbar": {
              "outlinewidth": 0,
              "ticks": ""
             }
            },
            "marker": {
             "colorbar": {
              "outlinewidth": 0,
              "ticks": ""
             }
            },
            "type": "scatter3d"
           }
          ],
          "scattercarpet": [
           {
            "marker": {
             "colorbar": {
              "outlinewidth": 0,
              "ticks": ""
             }
            },
            "type": "scattercarpet"
           }
          ],
          "scattergeo": [
           {
            "marker": {
             "colorbar": {
              "outlinewidth": 0,
              "ticks": ""
             }
            },
            "type": "scattergeo"
           }
          ],
          "scattergl": [
           {
            "marker": {
             "colorbar": {
              "outlinewidth": 0,
              "ticks": ""
             }
            },
            "type": "scattergl"
           }
          ],
          "scattermapbox": [
           {
            "marker": {
             "colorbar": {
              "outlinewidth": 0,
              "ticks": ""
             }
            },
            "type": "scattermapbox"
           }
          ],
          "scatterpolar": [
           {
            "marker": {
             "colorbar": {
              "outlinewidth": 0,
              "ticks": ""
             }
            },
            "type": "scatterpolar"
           }
          ],
          "scatterpolargl": [
           {
            "marker": {
             "colorbar": {
              "outlinewidth": 0,
              "ticks": ""
             }
            },
            "type": "scatterpolargl"
           }
          ],
          "scatterternary": [
           {
            "marker": {
             "colorbar": {
              "outlinewidth": 0,
              "ticks": ""
             }
            },
            "type": "scatterternary"
           }
          ],
          "surface": [
           {
            "colorbar": {
             "outlinewidth": 0,
             "ticks": ""
            },
            "colorscale": [
             [
              0,
              "#0d0887"
             ],
             [
              0.1111111111111111,
              "#46039f"
             ],
             [
              0.2222222222222222,
              "#7201a8"
             ],
             [
              0.3333333333333333,
              "#9c179e"
             ],
             [
              0.4444444444444444,
              "#bd3786"
             ],
             [
              0.5555555555555556,
              "#d8576b"
             ],
             [
              0.6666666666666666,
              "#ed7953"
             ],
             [
              0.7777777777777778,
              "#fb9f3a"
             ],
             [
              0.8888888888888888,
              "#fdca26"
             ],
             [
              1,
              "#f0f921"
             ]
            ],
            "type": "surface"
           }
          ],
          "table": [
           {
            "cells": {
             "fill": {
              "color": "#EBF0F8"
             },
             "line": {
              "color": "white"
             }
            },
            "header": {
             "fill": {
              "color": "#C8D4E3"
             },
             "line": {
              "color": "white"
             }
            },
            "type": "table"
           }
          ]
         },
         "layout": {
          "annotationdefaults": {
           "arrowcolor": "#2a3f5f",
           "arrowhead": 0,
           "arrowwidth": 1
          },
          "coloraxis": {
           "colorbar": {
            "outlinewidth": 0,
            "ticks": ""
           }
          },
          "colorscale": {
           "diverging": [
            [
             0,
             "#8e0152"
            ],
            [
             0.1,
             "#c51b7d"
            ],
            [
             0.2,
             "#de77ae"
            ],
            [
             0.3,
             "#f1b6da"
            ],
            [
             0.4,
             "#fde0ef"
            ],
            [
             0.5,
             "#f7f7f7"
            ],
            [
             0.6,
             "#e6f5d0"
            ],
            [
             0.7,
             "#b8e186"
            ],
            [
             0.8,
             "#7fbc41"
            ],
            [
             0.9,
             "#4d9221"
            ],
            [
             1,
             "#276419"
            ]
           ],
           "sequential": [
            [
             0,
             "#0d0887"
            ],
            [
             0.1111111111111111,
             "#46039f"
            ],
            [
             0.2222222222222222,
             "#7201a8"
            ],
            [
             0.3333333333333333,
             "#9c179e"
            ],
            [
             0.4444444444444444,
             "#bd3786"
            ],
            [
             0.5555555555555556,
             "#d8576b"
            ],
            [
             0.6666666666666666,
             "#ed7953"
            ],
            [
             0.7777777777777778,
             "#fb9f3a"
            ],
            [
             0.8888888888888888,
             "#fdca26"
            ],
            [
             1,
             "#f0f921"
            ]
           ],
           "sequentialminus": [
            [
             0,
             "#0d0887"
            ],
            [
             0.1111111111111111,
             "#46039f"
            ],
            [
             0.2222222222222222,
             "#7201a8"
            ],
            [
             0.3333333333333333,
             "#9c179e"
            ],
            [
             0.4444444444444444,
             "#bd3786"
            ],
            [
             0.5555555555555556,
             "#d8576b"
            ],
            [
             0.6666666666666666,
             "#ed7953"
            ],
            [
             0.7777777777777778,
             "#fb9f3a"
            ],
            [
             0.8888888888888888,
             "#fdca26"
            ],
            [
             1,
             "#f0f921"
            ]
           ]
          },
          "colorway": [
           "#636efa",
           "#EF553B",
           "#00cc96",
           "#ab63fa",
           "#FFA15A",
           "#19d3f3",
           "#FF6692",
           "#B6E880",
           "#FF97FF",
           "#FECB52"
          ],
          "font": {
           "color": "#2a3f5f"
          },
          "geo": {
           "bgcolor": "white",
           "lakecolor": "white",
           "landcolor": "#E5ECF6",
           "showlakes": true,
           "showland": true,
           "subunitcolor": "white"
          },
          "hoverlabel": {
           "align": "left"
          },
          "hovermode": "closest",
          "mapbox": {
           "style": "light"
          },
          "paper_bgcolor": "white",
          "plot_bgcolor": "#E5ECF6",
          "polar": {
           "angularaxis": {
            "gridcolor": "white",
            "linecolor": "white",
            "ticks": ""
           },
           "bgcolor": "#E5ECF6",
           "radialaxis": {
            "gridcolor": "white",
            "linecolor": "white",
            "ticks": ""
           }
          },
          "scene": {
           "xaxis": {
            "backgroundcolor": "#E5ECF6",
            "gridcolor": "white",
            "gridwidth": 2,
            "linecolor": "white",
            "showbackground": true,
            "ticks": "",
            "zerolinecolor": "white"
           },
           "yaxis": {
            "backgroundcolor": "#E5ECF6",
            "gridcolor": "white",
            "gridwidth": 2,
            "linecolor": "white",
            "showbackground": true,
            "ticks": "",
            "zerolinecolor": "white"
           },
           "zaxis": {
            "backgroundcolor": "#E5ECF6",
            "gridcolor": "white",
            "gridwidth": 2,
            "linecolor": "white",
            "showbackground": true,
            "ticks": "",
            "zerolinecolor": "white"
           }
          },
          "shapedefaults": {
           "line": {
            "color": "#2a3f5f"
           }
          },
          "ternary": {
           "aaxis": {
            "gridcolor": "white",
            "linecolor": "white",
            "ticks": ""
           },
           "baxis": {
            "gridcolor": "white",
            "linecolor": "white",
            "ticks": ""
           },
           "bgcolor": "#E5ECF6",
           "caxis": {
            "gridcolor": "white",
            "linecolor": "white",
            "ticks": ""
           }
          },
          "title": {
           "x": 0.05
          },
          "xaxis": {
           "automargin": true,
           "gridcolor": "white",
           "linecolor": "white",
           "ticks": "",
           "title": {
            "standoff": 15
           },
           "zerolinecolor": "white",
           "zerolinewidth": 2
          },
          "yaxis": {
           "automargin": true,
           "gridcolor": "white",
           "linecolor": "white",
           "ticks": "",
           "title": {
            "standoff": 15
           },
           "zerolinecolor": "white",
           "zerolinewidth": 2
          }
         }
        },
        "title": {
         "text": "Time Series Max_DS provincia di RM"
        },
        "xaxis": {
         "anchor": "y",
         "domain": [
          0,
          1
         ]
        },
        "yaxis": {
         "anchor": "x",
         "domain": [
          0,
          1
         ]
        }
       }
      },
      "text/html": [
       "<div>\n",
       "        \n",
       "        \n",
       "            <div id=\"c0a8aa05-07b8-41b3-b846-506f82ef36c2\" class=\"plotly-graph-div\" style=\"height:900px; width:100%;\"></div>\n",
       "            <script type=\"text/javascript\">\n",
       "                require([\"plotly\"], function(Plotly) {\n",
       "                    window.PLOTLYENV=window.PLOTLYENV || {};\n",
       "                    \n",
       "                if (document.getElementById(\"c0a8aa05-07b8-41b3-b846-506f82ef36c2\")) {\n",
       "                    Plotly.newPlot(\n",
       "                        'c0a8aa05-07b8-41b3-b846-506f82ef36c2',\n",
       "                        [{\"line\": {\"color\": \"#17BECF\"}, \"name\": \"SUM(MAX_DS)\", \"opacity\": 0.8, \"type\": \"scatter\", \"x\": [\"2019-12-23T00:00:00\", \"2019-12-23T03:00:00\", \"2019-12-23T06:00:00\", \"2019-12-23T09:00:00\", \"2019-12-23T12:00:00\", \"2019-12-23T15:00:00\", \"2019-12-23T18:00:00\", \"2019-12-23T21:00:00\", \"2019-12-24T00:00:00\", \"2019-12-24T03:00:00\", \"2019-12-24T06:00:00\", \"2019-12-24T09:00:00\", \"2019-12-24T12:00:00\", \"2019-12-24T15:00:00\", \"2019-12-24T18:00:00\", \"2019-12-24T21:00:00\", \"2019-12-25T00:00:00\", \"2019-12-25T03:00:00\", \"2019-12-25T06:00:00\", \"2019-12-25T09:00:00\", \"2019-12-25T12:00:00\", \"2019-12-25T15:00:00\", \"2019-12-25T18:00:00\", \"2019-12-25T21:00:00\", \"2019-12-26T00:00:00\", \"2019-12-26T03:00:00\", \"2019-12-26T06:00:00\", \"2019-12-26T09:00:00\", \"2019-12-26T12:00:00\", \"2019-12-26T15:00:00\", \"2019-12-26T18:00:00\", \"2019-12-26T21:00:00\", \"2019-12-27T00:00:00\", \"2019-12-27T03:00:00\", \"2019-12-27T06:00:00\", \"2019-12-27T09:00:00\", \"2019-12-27T12:00:00\", \"2019-12-27T15:00:00\", \"2019-12-27T18:00:00\", \"2019-12-27T21:00:00\", \"2019-12-28T00:00:00\", \"2019-12-28T03:00:00\", \"2019-12-28T06:00:00\", \"2019-12-28T09:00:00\", \"2019-12-28T12:00:00\", \"2019-12-28T15:00:00\", \"2019-12-28T18:00:00\", \"2019-12-28T21:00:00\", \"2019-12-29T00:00:00\", \"2019-12-29T03:00:00\", \"2019-12-29T06:00:00\", \"2019-12-29T09:00:00\", \"2019-12-29T12:00:00\", \"2019-12-29T15:00:00\", \"2019-12-29T18:00:00\", \"2019-12-29T21:00:00\"], \"xaxis\": \"x\", \"y\": [1746.7164999999998, 0.0, 12.9277, 169.18449999999999, 933.4785999999999, 2067.9122, 2770.1851000000006, 33268.31479999999, 3024.8462000000004, 0.0, 12.8238, 258.9006, 3951.9554, 20650.240500000007, 7054.6846, 461.8409, 257.1188, 13.6011, 30.4711, 792.7456, 277.7643, 953.9105999999999, 9008.475699999999, 26921.681700000005, 1702.6062, 0.0, 0.0, 353.2179, 737.2382, 4116.3148, 7132.335800000001, 27870.979700000004, 1241.2469, 0.0, 0.0, 174.3407, 358.81129999999996, 2905.2603, 4716.9109, 33773.24229999999, 949.4004000000001, 0.0, 0.0, 43.2099, 1547.9965, 3968.2525, 6201.6455000000005, 28874.9648, 381.2007, 0.0, 0.0, 119.8973, 555.0296999999999, 4560.2532, 5068.7228, 34182.1509], \"yaxis\": \"y\"}, {\"line\": {\"color\": \"#7F7F7F\"}, \"name\": \"SUM(MAX_DS)\", \"opacity\": 0.8, \"type\": \"scatter\", \"x\": [\"2019-12-30T00:00:00\", \"2019-12-30T03:00:00\", \"2019-12-30T06:00:00\", \"2019-12-30T09:00:00\", \"2019-12-30T12:00:00\", \"2019-12-30T15:00:00\", \"2019-12-30T18:00:00\", \"2019-12-30T21:00:00\", \"2019-12-31T00:00:00\", \"2019-12-31T03:00:00\", \"2019-12-31T06:00:00\", \"2019-12-31T09:00:00\", \"2019-12-31T12:00:00\", \"2019-12-31T15:00:00\", \"2019-12-31T18:00:00\", \"2019-12-31T21:00:00\", \"2020-01-01T00:00:00\", \"2020-01-01T03:00:00\", \"2020-01-01T06:00:00\", \"2020-01-01T09:00:00\", \"2020-01-01T12:00:00\", \"2020-01-01T15:00:00\", \"2020-01-01T18:00:00\", \"2020-01-01T21:00:00\", \"2020-01-02T00:00:00\", \"2020-01-02T03:00:00\", \"2020-01-02T06:00:00\", \"2020-01-02T09:00:00\", \"2020-01-02T12:00:00\", \"2020-01-02T15:00:00\", \"2020-01-02T18:00:00\", \"2020-01-02T21:00:00\", \"2020-01-03T00:00:00\", \"2020-01-03T03:00:00\", \"2020-01-03T06:00:00\", \"2020-01-03T09:00:00\", \"2020-01-03T12:00:00\", \"2020-01-03T15:00:00\", \"2020-01-03T18:00:00\", \"2020-01-03T21:00:00\", \"2020-01-04T00:00:00\", \"2020-01-04T03:00:00\", \"2020-01-04T06:00:00\", \"2020-01-04T09:00:00\", \"2020-01-04T12:00:00\", \"2020-01-04T15:00:00\", \"2020-01-04T18:00:00\", \"2020-01-04T21:00:00\", \"2020-01-05T00:00:00\", \"2020-01-05T03:00:00\", \"2020-01-05T06:00:00\", \"2020-01-05T09:00:00\", \"2020-01-05T12:00:00\", \"2020-01-05T15:00:00\", \"2020-01-05T18:00:00\", \"2020-01-05T21:00:00\"], \"xaxis\": \"x\", \"y\": [1090.4379, 0.0, 0.0, 117.8923, 784.4291999999999, 1686.3511999999998, 1624.0116, 38397.736500000006, 7347.6142, 0.0, 0.0, 204.1128, 3941.2771000000002, 17948.6881, 5385.6768999999995, 76.6886, 0.0, 0.0, 0.0, 132.6029, 255.78430000000003, 2184.5786, 8748.5865, 32617.370900000005, 655.9341000000001, 21.1021, 0.0, 160.9676, 578.1474000000001, 1209.2426, 3492.268, 37928.274699999994, 1218.1065, 0.0, 0.0, 25.9556, 493.4148, 1466.0389000000002, 3279.6905999999994, 36402.2532, 1365.6897, 0.0, 0.0, 143.23210000000003, 1144.6687000000002, 5027.7928999999995, 4340.049399999999, 29449.299399999996, 276.39009999999996, 10.1766, 0.0, 84.0064, 213.0836, 1092.1698, 1519.7212, 47908.4283], \"yaxis\": \"y\"}, {\"line\": {\"color\": \"#32CD32\"}, \"name\": \"SUM(MAX_DS)\", \"opacity\": 0.8, \"type\": \"scatter\", \"x\": [\"2020-01-06T00:00:00\", \"2020-01-06T03:00:00\", \"2020-01-06T06:00:00\", \"2020-01-06T09:00:00\", \"2020-01-06T12:00:00\", \"2020-01-06T15:00:00\", \"2020-01-06T18:00:00\", \"2020-01-06T21:00:00\", \"2020-01-07T00:00:00\", \"2020-01-07T03:00:00\", \"2020-01-07T06:00:00\", \"2020-01-07T09:00:00\", \"2020-01-07T12:00:00\", \"2020-01-07T15:00:00\", \"2020-01-07T18:00:00\", \"2020-01-07T21:00:00\", \"2020-01-08T00:00:00\", \"2020-01-08T03:00:00\", \"2020-01-08T06:00:00\", \"2020-01-08T09:00:00\", \"2020-01-08T12:00:00\", \"2020-01-08T15:00:00\", \"2020-01-08T18:00:00\", \"2020-01-08T21:00:00\", \"2020-01-09T00:00:00\", \"2020-01-09T03:00:00\", \"2020-01-09T06:00:00\", \"2020-01-09T09:00:00\", \"2020-01-09T12:00:00\", \"2020-01-09T15:00:00\", \"2020-01-09T18:00:00\", \"2020-01-09T21:00:00\", \"2020-01-10T00:00:00\", \"2020-01-10T03:00:00\", \"2020-01-10T06:00:00\", \"2020-01-10T09:00:00\", \"2020-01-10T12:00:00\", \"2020-01-10T15:00:00\", \"2020-01-10T18:00:00\", \"2020-01-10T21:00:00\", \"2020-01-11T00:00:00\", \"2020-01-11T03:00:00\", \"2020-01-11T06:00:00\", \"2020-01-11T09:00:00\", \"2020-01-11T12:00:00\", \"2020-01-11T15:00:00\", \"2020-01-11T18:00:00\", \"2020-01-11T21:00:00\", \"2020-01-12T00:00:00\", \"2020-01-12T03:00:00\", \"2020-01-12T06:00:00\", \"2020-01-12T09:00:00\", \"2020-01-12T12:00:00\", \"2020-01-12T15:00:00\", \"2020-01-12T18:00:00\", \"2020-01-12T21:00:00\"], \"xaxis\": \"x\", \"y\": [868.1083, 118.16460000000001, 0.0, 21.7363, 654.0323999999999, 1814.6467, 5406.603999999999, 38436.5441, 349.4857, 0.0, 0.0, 15.3586, 78.676, 1076.4482000000003, 2321.0452, 39882.56509999999, 349.0648, 0.0, 16.3589, 16.9812, 107.09930000000001, 1055.8602, 3016.9577, 37878.9961, 310.5644, 48.589, 23.9094, 76.2625, 107.68249999999999, 1286.5283000000002, 3241.6872, 35869.51419999999, 412.4704, 0.0, 21.9046, 88.8629, 459.1118, 1140.2305000000001, 3748.2632, 34693.6431, 275.3962, 0.0, 0.0, 15.0074, 811.1041, 3050.9287, 4159.807699999999, 38137.896599999985, 125.06280000000001, 10.6484, 0.0, 127.9701, 679.3576, 3295.2214999999997, 5755.1414, 37738.4141], \"yaxis\": \"y\"}, {\"line\": {\"color\": \"#AD9B0C\"}, \"name\": \"SUM(MAX_DS)\", \"opacity\": 0.8, \"type\": \"scatter\", \"x\": [\"2020-01-13T00:00:00\", \"2020-01-13T03:00:00\", \"2020-01-13T06:00:00\", \"2020-01-13T09:00:00\", \"2020-01-13T12:00:00\", \"2020-01-13T15:00:00\", \"2020-01-13T18:00:00\", \"2020-01-13T21:00:00\", \"2020-01-14T00:00:00\", \"2020-01-14T03:00:00\", \"2020-01-14T06:00:00\", \"2020-01-14T09:00:00\", \"2020-01-14T12:00:00\", \"2020-01-14T15:00:00\", \"2020-01-14T18:00:00\", \"2020-01-14T21:00:00\", \"2020-01-15T00:00:00\", \"2020-01-15T03:00:00\", \"2020-01-15T06:00:00\", \"2020-01-15T09:00:00\", \"2020-01-15T12:00:00\", \"2020-01-15T15:00:00\", \"2020-01-15T18:00:00\", \"2020-01-15T21:00:00\", \"2020-01-16T00:00:00\", \"2020-01-16T03:00:00\", \"2020-01-16T06:00:00\", \"2020-01-16T09:00:00\", \"2020-01-16T12:00:00\", \"2020-01-16T15:00:00\", \"2020-01-16T18:00:00\", \"2020-01-16T21:00:00\", \"2020-01-17T00:00:00\", \"2020-01-17T03:00:00\", \"2020-01-17T06:00:00\", \"2020-01-17T09:00:00\", \"2020-01-17T12:00:00\", \"2020-01-17T15:00:00\", \"2020-01-17T18:00:00\", \"2020-01-17T21:00:00\", \"2020-01-18T00:00:00\", \"2020-01-18T03:00:00\", \"2020-01-18T06:00:00\", \"2020-01-18T09:00:00\", \"2020-01-18T12:00:00\", \"2020-01-18T15:00:00\", \"2020-01-18T18:00:00\", \"2020-01-18T21:00:00\", \"2020-01-19T00:00:00\", \"2020-01-19T03:00:00\", \"2020-01-19T06:00:00\", \"2020-01-19T09:00:00\", \"2020-01-19T12:00:00\", \"2020-01-19T15:00:00\", \"2020-01-19T18:00:00\", \"2020-01-19T21:00:00\"], \"xaxis\": \"x\", \"y\": [213.7387, 0.0, 0.0, 17.1067, 297.5139, 1098.6254, 3024.597, 38281.57810000001, 21.0393, 0.0, 0.0, 30.8144, 209.99450000000002, 821.3348999999998, 3574.6489, 39582.924, 257.08910000000003, 19.9977, 0.0, 105.89150000000001, 512.0998, 2017.5773999999997, 9897.314699999999, 31503.625700000004, 317.1151, 65.4827, 20.9301, 100.85379999999999, 584.3503000000001, 1545.7333, 8462.4512, 30418.6367, 279.7477, 0.0, 0.0, 32.9684, 352.3002, 2505.2549000000004, 6012.491399999999, 33850.75059999999, 277.9267, 0.0, 0.0, 266.3158, 1763.4284000000002, 6912.307000000001, 3418.9202000000005, 33916.81019999999, 333.3312, 0.0, 0.0, 115.24050000000001, 1901.5549, 4900.5527999999995, 10627.016900000002, 30518.376699999997], \"yaxis\": \"y\"}, {\"line\": {\"color\": \"#B22222\"}, \"name\": \"SUM(MAX_DS)\", \"opacity\": 0.8, \"type\": \"scatter\", \"x\": [\"2020-01-20T00:00:00\", \"2020-01-20T03:00:00\", \"2020-01-20T06:00:00\", \"2020-01-20T09:00:00\", \"2020-01-20T12:00:00\", \"2020-01-20T15:00:00\", \"2020-01-20T18:00:00\", \"2020-01-20T21:00:00\", \"2020-01-21T00:00:00\", \"2020-01-21T03:00:00\", \"2020-01-21T06:00:00\", \"2020-01-21T09:00:00\", \"2020-01-21T12:00:00\", \"2020-01-21T15:00:00\", \"2020-01-21T18:00:00\", \"2020-01-21T21:00:00\", \"2020-01-22T00:00:00\", \"2020-01-22T03:00:00\", \"2020-01-22T06:00:00\", \"2020-01-22T09:00:00\", \"2020-01-22T12:00:00\", \"2020-01-22T15:00:00\", \"2020-01-22T18:00:00\", \"2020-01-22T21:00:00\", \"2020-01-23T00:00:00\", \"2020-01-23T03:00:00\", \"2020-01-23T06:00:00\", \"2020-01-23T09:00:00\", \"2020-01-23T12:00:00\", \"2020-01-23T15:00:00\", \"2020-01-23T18:00:00\", \"2020-01-23T21:00:00\", \"2020-01-24T00:00:00\", \"2020-01-24T03:00:00\", \"2020-01-24T06:00:00\", \"2020-01-24T09:00:00\", \"2020-01-24T12:00:00\", \"2020-01-24T15:00:00\", \"2020-01-24T18:00:00\", \"2020-01-24T21:00:00\", \"2020-01-25T00:00:00\", \"2020-01-25T03:00:00\", \"2020-01-25T06:00:00\", \"2020-01-25T09:00:00\", \"2020-01-25T12:00:00\", \"2020-01-25T15:00:00\", \"2020-01-25T18:00:00\", \"2020-01-25T21:00:00\", \"2020-01-26T00:00:00\", \"2020-01-26T03:00:00\", \"2020-01-26T06:00:00\", \"2020-01-26T09:00:00\", \"2020-01-26T12:00:00\", \"2020-01-26T15:00:00\", \"2020-01-26T18:00:00\", \"2020-01-26T21:00:00\"], \"xaxis\": \"x\", \"y\": [144.617, 73.4953, 0.0, 38.9598, 82.2819, 1960.3173, 1806.9761999999998, 40146.890100000004, 281.3889, 0.0, 27.1932, 30.6456, 403.6752, 1358.4142000000002, 3477.2185, 35391.6139, 157.07889999999998, 0.0, 0.0, 28.8335, 560.2973, 2393.452, 4832.2564, 35565.0295, 303.2812, 53.2805, 0.0, 47.4711, 122.3255, 1076.5055, 4332.2562, 36371.0243, 166.75509999999997, 0.0, 0.0, 67.0673, 154.4371, 2153.3096, 4602.2798, 36264.29749999999, 488.81480000000005, 0.0, 0.0, 374.7776, 2521.7010000000005, 6185.7339, 4849.318700000001, 30829.3025, 476.42269999999996, 27.8654, 0.0, 75.3938, 2604.2958000000003, 5042.6976, 10755.1255, 30327.166], \"yaxis\": \"y\"}],\n",
       "                        {\"height\": 900, \"showlegend\": false, \"template\": {\"data\": {\"bar\": [{\"error_x\": {\"color\": \"#2a3f5f\"}, \"error_y\": {\"color\": \"#2a3f5f\"}, \"marker\": {\"line\": {\"color\": \"#E5ECF6\", \"width\": 0.5}}, \"type\": \"bar\"}], \"barpolar\": [{\"marker\": {\"line\": {\"color\": \"#E5ECF6\", \"width\": 0.5}}, \"type\": \"barpolar\"}], \"carpet\": [{\"aaxis\": {\"endlinecolor\": \"#2a3f5f\", \"gridcolor\": \"white\", \"linecolor\": \"white\", \"minorgridcolor\": \"white\", \"startlinecolor\": \"#2a3f5f\"}, \"baxis\": {\"endlinecolor\": \"#2a3f5f\", \"gridcolor\": \"white\", \"linecolor\": \"white\", \"minorgridcolor\": \"white\", \"startlinecolor\": \"#2a3f5f\"}, \"type\": \"carpet\"}], \"choropleth\": [{\"colorbar\": {\"outlinewidth\": 0, \"ticks\": \"\"}, \"type\": \"choropleth\"}], \"contour\": [{\"colorbar\": {\"outlinewidth\": 0, \"ticks\": \"\"}, \"colorscale\": [[0.0, \"#0d0887\"], [0.1111111111111111, \"#46039f\"], [0.2222222222222222, \"#7201a8\"], [0.3333333333333333, \"#9c179e\"], [0.4444444444444444, \"#bd3786\"], [0.5555555555555556, \"#d8576b\"], [0.6666666666666666, \"#ed7953\"], [0.7777777777777778, \"#fb9f3a\"], [0.8888888888888888, \"#fdca26\"], [1.0, \"#f0f921\"]], \"type\": \"contour\"}], \"contourcarpet\": [{\"colorbar\": {\"outlinewidth\": 0, \"ticks\": \"\"}, \"type\": \"contourcarpet\"}], \"heatmap\": [{\"colorbar\": {\"outlinewidth\": 0, \"ticks\": \"\"}, \"colorscale\": [[0.0, \"#0d0887\"], [0.1111111111111111, \"#46039f\"], [0.2222222222222222, \"#7201a8\"], [0.3333333333333333, \"#9c179e\"], [0.4444444444444444, \"#bd3786\"], [0.5555555555555556, \"#d8576b\"], [0.6666666666666666, \"#ed7953\"], [0.7777777777777778, \"#fb9f3a\"], [0.8888888888888888, \"#fdca26\"], [1.0, \"#f0f921\"]], \"type\": \"heatmap\"}], \"heatmapgl\": [{\"colorbar\": {\"outlinewidth\": 0, \"ticks\": \"\"}, \"colorscale\": [[0.0, \"#0d0887\"], [0.1111111111111111, \"#46039f\"], [0.2222222222222222, \"#7201a8\"], [0.3333333333333333, \"#9c179e\"], [0.4444444444444444, \"#bd3786\"], [0.5555555555555556, \"#d8576b\"], [0.6666666666666666, \"#ed7953\"], [0.7777777777777778, \"#fb9f3a\"], [0.8888888888888888, \"#fdca26\"], [1.0, \"#f0f921\"]], \"type\": \"heatmapgl\"}], \"histogram\": [{\"marker\": {\"colorbar\": {\"outlinewidth\": 0, \"ticks\": \"\"}}, \"type\": \"histogram\"}], \"histogram2d\": [{\"colorbar\": {\"outlinewidth\": 0, \"ticks\": \"\"}, \"colorscale\": [[0.0, \"#0d0887\"], [0.1111111111111111, \"#46039f\"], [0.2222222222222222, \"#7201a8\"], [0.3333333333333333, \"#9c179e\"], [0.4444444444444444, \"#bd3786\"], [0.5555555555555556, \"#d8576b\"], [0.6666666666666666, \"#ed7953\"], [0.7777777777777778, \"#fb9f3a\"], [0.8888888888888888, \"#fdca26\"], [1.0, \"#f0f921\"]], \"type\": \"histogram2d\"}], \"histogram2dcontour\": [{\"colorbar\": {\"outlinewidth\": 0, \"ticks\": \"\"}, \"colorscale\": [[0.0, \"#0d0887\"], [0.1111111111111111, \"#46039f\"], [0.2222222222222222, \"#7201a8\"], [0.3333333333333333, \"#9c179e\"], [0.4444444444444444, \"#bd3786\"], [0.5555555555555556, \"#d8576b\"], [0.6666666666666666, \"#ed7953\"], [0.7777777777777778, \"#fb9f3a\"], [0.8888888888888888, \"#fdca26\"], [1.0, \"#f0f921\"]], \"type\": \"histogram2dcontour\"}], \"mesh3d\": [{\"colorbar\": {\"outlinewidth\": 0, \"ticks\": \"\"}, \"type\": \"mesh3d\"}], \"parcoords\": [{\"line\": {\"colorbar\": {\"outlinewidth\": 0, \"ticks\": \"\"}}, \"type\": \"parcoords\"}], \"pie\": [{\"automargin\": true, \"type\": \"pie\"}], \"scatter\": [{\"marker\": {\"colorbar\": {\"outlinewidth\": 0, \"ticks\": \"\"}}, \"type\": \"scatter\"}], \"scatter3d\": [{\"line\": {\"colorbar\": {\"outlinewidth\": 0, \"ticks\": \"\"}}, \"marker\": {\"colorbar\": {\"outlinewidth\": 0, \"ticks\": \"\"}}, \"type\": \"scatter3d\"}], \"scattercarpet\": [{\"marker\": {\"colorbar\": {\"outlinewidth\": 0, \"ticks\": \"\"}}, \"type\": \"scattercarpet\"}], \"scattergeo\": [{\"marker\": {\"colorbar\": {\"outlinewidth\": 0, \"ticks\": \"\"}}, \"type\": \"scattergeo\"}], \"scattergl\": [{\"marker\": {\"colorbar\": {\"outlinewidth\": 0, \"ticks\": \"\"}}, \"type\": \"scattergl\"}], \"scattermapbox\": [{\"marker\": {\"colorbar\": {\"outlinewidth\": 0, \"ticks\": \"\"}}, \"type\": \"scattermapbox\"}], \"scatterpolar\": [{\"marker\": {\"colorbar\": {\"outlinewidth\": 0, \"ticks\": \"\"}}, \"type\": \"scatterpolar\"}], \"scatterpolargl\": [{\"marker\": {\"colorbar\": {\"outlinewidth\": 0, \"ticks\": \"\"}}, \"type\": \"scatterpolargl\"}], \"scatterternary\": [{\"marker\": {\"colorbar\": {\"outlinewidth\": 0, \"ticks\": \"\"}}, \"type\": \"scatterternary\"}], \"surface\": [{\"colorbar\": {\"outlinewidth\": 0, \"ticks\": \"\"}, \"colorscale\": [[0.0, \"#0d0887\"], [0.1111111111111111, \"#46039f\"], [0.2222222222222222, \"#7201a8\"], [0.3333333333333333, \"#9c179e\"], [0.4444444444444444, \"#bd3786\"], [0.5555555555555556, \"#d8576b\"], [0.6666666666666666, \"#ed7953\"], [0.7777777777777778, \"#fb9f3a\"], [0.8888888888888888, \"#fdca26\"], [1.0, \"#f0f921\"]], \"type\": \"surface\"}], \"table\": [{\"cells\": {\"fill\": {\"color\": \"#EBF0F8\"}, \"line\": {\"color\": \"white\"}}, \"header\": {\"fill\": {\"color\": \"#C8D4E3\"}, \"line\": {\"color\": \"white\"}}, \"type\": \"table\"}]}, \"layout\": {\"annotationdefaults\": {\"arrowcolor\": \"#2a3f5f\", \"arrowhead\": 0, \"arrowwidth\": 1}, \"coloraxis\": {\"colorbar\": {\"outlinewidth\": 0, \"ticks\": \"\"}}, \"colorscale\": {\"diverging\": [[0, \"#8e0152\"], [0.1, \"#c51b7d\"], [0.2, \"#de77ae\"], [0.3, \"#f1b6da\"], [0.4, \"#fde0ef\"], [0.5, \"#f7f7f7\"], [0.6, \"#e6f5d0\"], [0.7, \"#b8e186\"], [0.8, \"#7fbc41\"], [0.9, \"#4d9221\"], [1, \"#276419\"]], \"sequential\": [[0.0, \"#0d0887\"], [0.1111111111111111, \"#46039f\"], [0.2222222222222222, \"#7201a8\"], [0.3333333333333333, \"#9c179e\"], [0.4444444444444444, \"#bd3786\"], [0.5555555555555556, \"#d8576b\"], [0.6666666666666666, \"#ed7953\"], [0.7777777777777778, \"#fb9f3a\"], [0.8888888888888888, \"#fdca26\"], [1.0, \"#f0f921\"]], \"sequentialminus\": [[0.0, \"#0d0887\"], [0.1111111111111111, \"#46039f\"], [0.2222222222222222, \"#7201a8\"], [0.3333333333333333, \"#9c179e\"], [0.4444444444444444, \"#bd3786\"], [0.5555555555555556, \"#d8576b\"], [0.6666666666666666, \"#ed7953\"], [0.7777777777777778, \"#fb9f3a\"], [0.8888888888888888, \"#fdca26\"], [1.0, \"#f0f921\"]]}, \"colorway\": [\"#636efa\", \"#EF553B\", \"#00cc96\", \"#ab63fa\", \"#FFA15A\", \"#19d3f3\", \"#FF6692\", \"#B6E880\", \"#FF97FF\", \"#FECB52\"], \"font\": {\"color\": \"#2a3f5f\"}, \"geo\": {\"bgcolor\": \"white\", \"lakecolor\": \"white\", \"landcolor\": \"#E5ECF6\", \"showlakes\": true, \"showland\": true, \"subunitcolor\": \"white\"}, \"hoverlabel\": {\"align\": \"left\"}, \"hovermode\": \"closest\", \"mapbox\": {\"style\": \"light\"}, \"paper_bgcolor\": \"white\", \"plot_bgcolor\": \"#E5ECF6\", \"polar\": {\"angularaxis\": {\"gridcolor\": \"white\", \"linecolor\": \"white\", \"ticks\": \"\"}, \"bgcolor\": \"#E5ECF6\", \"radialaxis\": {\"gridcolor\": \"white\", \"linecolor\": \"white\", \"ticks\": \"\"}}, \"scene\": {\"xaxis\": {\"backgroundcolor\": \"#E5ECF6\", \"gridcolor\": \"white\", \"gridwidth\": 2, \"linecolor\": \"white\", \"showbackground\": true, \"ticks\": \"\", \"zerolinecolor\": \"white\"}, \"yaxis\": {\"backgroundcolor\": \"#E5ECF6\", \"gridcolor\": \"white\", \"gridwidth\": 2, \"linecolor\": \"white\", \"showbackground\": true, \"ticks\": \"\", \"zerolinecolor\": \"white\"}, \"zaxis\": {\"backgroundcolor\": \"#E5ECF6\", \"gridcolor\": \"white\", \"gridwidth\": 2, \"linecolor\": \"white\", \"showbackground\": true, \"ticks\": \"\", \"zerolinecolor\": \"white\"}}, \"shapedefaults\": {\"line\": {\"color\": \"#2a3f5f\"}}, \"ternary\": {\"aaxis\": {\"gridcolor\": \"white\", \"linecolor\": \"white\", \"ticks\": \"\"}, \"baxis\": {\"gridcolor\": \"white\", \"linecolor\": \"white\", \"ticks\": \"\"}, \"bgcolor\": \"#E5ECF6\", \"caxis\": {\"gridcolor\": \"white\", \"linecolor\": \"white\", \"ticks\": \"\"}}, \"title\": {\"x\": 0.05}, \"xaxis\": {\"automargin\": true, \"gridcolor\": \"white\", \"linecolor\": \"white\", \"ticks\": \"\", \"title\": {\"standoff\": 15}, \"zerolinecolor\": \"white\", \"zerolinewidth\": 2}, \"yaxis\": {\"automargin\": true, \"gridcolor\": \"white\", \"linecolor\": \"white\", \"ticks\": \"\", \"title\": {\"standoff\": 15}, \"zerolinecolor\": \"white\", \"zerolinewidth\": 2}}}, \"title\": {\"text\": \"Time Series Max_DS provincia di RM\"}, \"xaxis\": {\"anchor\": \"y\", \"domain\": [0.0, 1.0]}, \"yaxis\": {\"anchor\": \"x\", \"domain\": [0.0, 1.0]}},\n",
       "                        {\"responsive\": true}\n",
       "                    ).then(function(){\n",
       "                            \n",
       "var gd = document.getElementById('c0a8aa05-07b8-41b3-b846-506f82ef36c2');\n",
       "var x = new MutationObserver(function (mutations, observer) {{\n",
       "        var display = window.getComputedStyle(gd).display;\n",
       "        if (!display || display === 'none') {{\n",
       "            console.log([gd, 'removed!']);\n",
       "            Plotly.purge(gd);\n",
       "            observer.disconnect();\n",
       "        }}\n",
       "}});\n",
       "\n",
       "// Listen for the removal of the full notebook cells\n",
       "var notebookContainer = gd.closest('#notebook-container');\n",
       "if (notebookContainer) {{\n",
       "    x.observe(notebookContainer, {childList: true});\n",
       "}}\n",
       "\n",
       "// Listen for the clearing of the current output cell\n",
       "var outputEl = gd.closest('.output');\n",
       "if (outputEl) {{\n",
       "    x.observe(outputEl, {childList: true});\n",
       "}}\n",
       "\n",
       "                        })\n",
       "                };\n",
       "                });\n",
       "            </script>\n",
       "        </div>"
      ]
     },
     "metadata": {},
     "output_type": "display_data"
    }
   ],
   "source": [
    "#Domenica 5 gennaio 2020, ore 20.45, ROMA-TORINO\n",
    "\n",
    "fig1 = tools.make_subplots(rows=1, cols=1, specs=[[{}]])\n",
    "\n",
    "fig1.append_trace(trace1, 1,1)\n",
    "fig1.append_trace(trace2, 1,1)\n",
    "fig1.append_trace(trace3, 1,1)\n",
    "fig1.append_trace(trace4, 1,1)\n",
    "fig1.append_trace(trace5, 1,1)\n",
    "\n",
    "fig1['layout'].update( height=900,title='Time Series Max_DS provincia di RM', showlegend=False)\n",
    "\n",
    "fig1.show()"
   ]
  },
  {
   "cell_type": "code",
   "execution_count": 10,
   "metadata": {},
   "outputs": [],
   "source": [
    "df_mi_week1=df_f[(df_f.PROVINCIA=='MI') & (df_f.index>='2019-12-23 00:00') & (df_f.index<='2019-12-29 23:45')]\n",
    "df_mi_3H_week1 = df_mi_week1['MAX_DS'].resample('3H').mean()\n",
    "\n",
    "df_mi_week2=df_f[(df_f.PROVINCIA=='MI') & (df_f.index>='2019-12-30 00:00') & (df_f.index<='2020-01-05 23:45')]\n",
    "df_mi_3H_week2 = df_mi_week2['MAX_DS'].resample('3H').mean()\n",
    "\n",
    "df_mi_week3=df_f[(df_f.PROVINCIA=='MI') & (df_f.index>='2020-01-06 00:00') & (df_f.index<='2020-01-12 23:45')]\n",
    "df_mi_3H_week3 = df_mi_week3['MAX_DS'].resample('3H').mean()\n",
    "\n",
    "df_mi_week4=df_f[(df_f.PROVINCIA=='MI') & (df_f.index>='2020-01-13 00:00') & (df_f.index<='2020-01-19 23:45')]\n",
    "df_mi_3H_week4 = df_mi_week4['MAX_DS'].resample('3H').mean()\n",
    "\n",
    "df_mi_week5=df_f[(df_f.PROVINCIA=='MI') & (df_f.index>='2020-01-20 00:00') & (df_f.index<='2020-01-26 23:45')]\n",
    "df_mi_3H_week5 = df_mi_week5['MAX_DS'].resample('3H').mean()"
   ]
  },
  {
   "cell_type": "code",
   "execution_count": 11,
   "metadata": {},
   "outputs": [
    {
     "data": {
      "application/vnd.plotly.v1+json": {
       "config": {
        "plotlyServerURL": "https://plot.ly"
       },
       "data": [
        {
         "line": {
          "color": "#17BECF"
         },
         "name": "SUM(MAX_DS)",
         "opacity": 0.8,
         "type": "scatter",
         "x": [
          "2019-12-23T00:00:00",
          "2019-12-23T03:00:00",
          "2019-12-23T06:00:00",
          "2019-12-23T09:00:00",
          "2019-12-23T12:00:00",
          "2019-12-23T15:00:00",
          "2019-12-23T18:00:00",
          "2019-12-23T21:00:00",
          "2019-12-24T00:00:00",
          "2019-12-24T03:00:00",
          "2019-12-24T06:00:00",
          "2019-12-24T09:00:00",
          "2019-12-24T12:00:00",
          "2019-12-24T15:00:00",
          "2019-12-24T18:00:00",
          "2019-12-24T21:00:00",
          "2019-12-25T00:00:00",
          "2019-12-25T03:00:00",
          "2019-12-25T06:00:00",
          "2019-12-25T09:00:00",
          "2019-12-25T12:00:00",
          "2019-12-25T15:00:00",
          "2019-12-25T18:00:00",
          "2019-12-25T21:00:00",
          "2019-12-26T00:00:00",
          "2019-12-26T03:00:00",
          "2019-12-26T06:00:00",
          "2019-12-26T09:00:00",
          "2019-12-26T12:00:00",
          "2019-12-26T15:00:00",
          "2019-12-26T18:00:00",
          "2019-12-26T21:00:00",
          "2019-12-27T00:00:00",
          "2019-12-27T03:00:00",
          "2019-12-27T06:00:00",
          "2019-12-27T09:00:00",
          "2019-12-27T12:00:00",
          "2019-12-27T15:00:00",
          "2019-12-27T18:00:00",
          "2019-12-27T21:00:00",
          "2019-12-28T00:00:00",
          "2019-12-28T03:00:00",
          "2019-12-28T06:00:00",
          "2019-12-28T09:00:00",
          "2019-12-28T12:00:00",
          "2019-12-28T15:00:00",
          "2019-12-28T18:00:00",
          "2019-12-28T21:00:00",
          "2019-12-29T00:00:00",
          "2019-12-29T03:00:00",
          "2019-12-29T06:00:00",
          "2019-12-29T09:00:00",
          "2019-12-29T12:00:00",
          "2019-12-29T15:00:00",
          "2019-12-29T18:00:00",
          "2019-12-29T21:00:00"
         ],
         "xaxis": "x",
         "y": [
          173.3683,
          9.8933,
          null,
          34.274566666666665,
          232.6067857142857,
          97.26151666666668,
          228.6090909090909,
          2408.8791,
          661.2175,
          null,
          30.3979,
          74.11836666666666,
          569.2037874999999,
          677.7695,
          382.20679166666656,
          544.3800083333333,
          407.5237,
          null,
          19.2472,
          79.58086,
          43.3513,
          128.70276666666666,
          462.93108,
          2039.2765666666662,
          217.91844,
          null,
          null,
          74.79745,
          184.2861125,
          290.89526666666666,
          775.6363636363636,
          1589.9457583333333,
          150.03067500000003,
          null,
          null,
          335.9694,
          291.2582714285714,
          279.92914,
          238.5898909090909,
          2117.844372727273,
          137.911975,
          null,
          null,
          null,
          150.18701428571427,
          248.93809000000002,
          257.5846272727273,
          2002.7955666666667,
          442.233025,
          null,
          null,
          47.0665,
          320.0241833333334,
          266.37298181818187,
          489.9839,
          1745.495475
         ],
         "yaxis": "y"
        },
        {
         "line": {
          "color": "#7F7F7F"
         },
         "name": "SUM(MAX_DS)",
         "opacity": 0.8,
         "type": "scatter",
         "x": [
          "2019-12-30T00:00:00",
          "2019-12-30T03:00:00",
          "2019-12-30T06:00:00",
          "2019-12-30T09:00:00",
          "2019-12-30T12:00:00",
          "2019-12-30T15:00:00",
          "2019-12-30T18:00:00",
          "2019-12-30T21:00:00",
          "2019-12-31T00:00:00",
          "2019-12-31T03:00:00",
          "2019-12-31T06:00:00",
          "2019-12-31T09:00:00",
          "2019-12-31T12:00:00",
          "2019-12-31T15:00:00",
          "2019-12-31T18:00:00",
          "2019-12-31T21:00:00",
          "2020-01-01T00:00:00",
          "2020-01-01T03:00:00",
          "2020-01-01T06:00:00",
          "2020-01-01T09:00:00",
          "2020-01-01T12:00:00",
          "2020-01-01T15:00:00",
          "2020-01-01T18:00:00",
          "2020-01-01T21:00:00",
          "2020-01-02T00:00:00",
          "2020-01-02T03:00:00",
          "2020-01-02T06:00:00",
          "2020-01-02T09:00:00",
          "2020-01-02T12:00:00",
          "2020-01-02T15:00:00",
          "2020-01-02T18:00:00",
          "2020-01-02T21:00:00",
          "2020-01-03T00:00:00",
          "2020-01-03T03:00:00",
          "2020-01-03T06:00:00",
          "2020-01-03T09:00:00",
          "2020-01-03T12:00:00",
          "2020-01-03T15:00:00",
          "2020-01-03T18:00:00",
          "2020-01-03T21:00:00",
          "2020-01-04T00:00:00",
          "2020-01-04T03:00:00",
          "2020-01-04T06:00:00",
          "2020-01-04T09:00:00",
          "2020-01-04T12:00:00",
          "2020-01-04T15:00:00",
          "2020-01-04T18:00:00",
          "2020-01-04T21:00:00",
          "2020-01-05T00:00:00",
          "2020-01-05T03:00:00",
          "2020-01-05T06:00:00",
          "2020-01-05T09:00:00",
          "2020-01-05T12:00:00",
          "2020-01-05T15:00:00",
          "2020-01-05T18:00:00",
          "2020-01-05T21:00:00"
         ],
         "xaxis": "x2",
         "y": [
          338.9395,
          332.1583,
          null,
          null,
          92.29045,
          122.74523333333335,
          270.7106,
          2038.8911583333331,
          1117.108014285714,
          null,
          null,
          23.055875,
          501.7068125,
          735.2722,
          358.30254444444444,
          152.762175,
          306.935,
          null,
          null,
          25.4368,
          53.68775000000001,
          319.85817272727274,
          399.95565833333336,
          1944.940291666666,
          156.0684,
          null,
          null,
          18.3433,
          78.5807,
          254.60891999999998,
          457.0664222222223,
          2099.7865500000003,
          76.10655,
          null,
          null,
          null,
          130.2531,
          81.21461428571429,
          353.37269999999995,
          2196.101008333333,
          359.683125,
          null,
          null,
          36.004000000000005,
          115.54351111111113,
          182.02659,
          291.85905,
          2286.671863636364,
          56.22053333333334,
          null,
          null,
          null,
          88.63373333333334,
          206.70369,
          232.82956,
          2604.1565000000005
         ],
         "yaxis": "y2"
        },
        {
         "line": {
          "color": "#32CD32"
         },
         "name": "SUM(MAX_DS)",
         "opacity": 0.8,
         "type": "scatter",
         "x": [
          "2020-01-06T00:00:00",
          "2020-01-06T03:00:00",
          "2020-01-06T06:00:00",
          "2020-01-06T09:00:00",
          "2020-01-06T12:00:00",
          "2020-01-06T15:00:00",
          "2020-01-06T18:00:00",
          "2020-01-06T21:00:00",
          "2020-01-07T00:00:00",
          "2020-01-07T03:00:00",
          "2020-01-07T06:00:00",
          "2020-01-07T09:00:00",
          "2020-01-07T12:00:00",
          "2020-01-07T15:00:00",
          "2020-01-07T18:00:00",
          "2020-01-07T21:00:00",
          "2020-01-08T00:00:00",
          "2020-01-08T03:00:00",
          "2020-01-08T06:00:00",
          "2020-01-08T09:00:00",
          "2020-01-08T12:00:00",
          "2020-01-08T15:00:00",
          "2020-01-08T18:00:00",
          "2020-01-08T21:00:00",
          "2020-01-09T00:00:00",
          "2020-01-09T03:00:00",
          "2020-01-09T06:00:00",
          "2020-01-09T09:00:00",
          "2020-01-09T12:00:00",
          "2020-01-09T15:00:00",
          "2020-01-09T18:00:00",
          "2020-01-09T21:00:00",
          "2020-01-10T00:00:00",
          "2020-01-10T03:00:00",
          "2020-01-10T06:00:00",
          "2020-01-10T09:00:00",
          "2020-01-10T12:00:00",
          "2020-01-10T15:00:00",
          "2020-01-10T18:00:00",
          "2020-01-10T21:00:00",
          "2020-01-11T00:00:00",
          "2020-01-11T03:00:00",
          "2020-01-11T06:00:00",
          "2020-01-11T09:00:00",
          "2020-01-11T12:00:00",
          "2020-01-11T15:00:00",
          "2020-01-11T18:00:00",
          "2020-01-11T21:00:00",
          "2020-01-12T00:00:00",
          "2020-01-12T03:00:00",
          "2020-01-12T06:00:00",
          "2020-01-12T09:00:00",
          "2020-01-12T12:00:00",
          "2020-01-12T15:00:00",
          "2020-01-12T18:00:00",
          "2020-01-12T21:00:00"
         ],
         "xaxis": "x3",
         "y": [
          135.9698,
          null,
          18.3794,
          61.18755,
          313.26421999999997,
          258.58094444444447,
          254.78966363636357,
          2883.427881818182,
          90.28559999999999,
          null,
          null,
          null,
          33.8613,
          234.64233333333334,
          173.31353,
          3306.03417,
          59.14,
          null,
          null,
          null,
          185.391,
          61.84742857142857,
          220.011875,
          2602.2291666666665,
          50.50783333333334,
          null,
          null,
          null,
          70.85403333333333,
          128.46060000000003,
          320.1804,
          2700.0543636363636,
          594.29805,
          null,
          null,
          null,
          132.6106,
          95.907075,
          226.0235090909091,
          2402.5465249999997,
          733.3119,
          null,
          null,
          19.60415,
          484.75426666666664,
          90.51110000000001,
          238.31875714285712,
          3169.8947272727264,
          65.949325,
          null,
          null,
          null,
          61.30072,
          257.40541999999994,
          283.06786,
          3022.1775090909096
         ],
         "yaxis": "y3"
        },
        {
         "line": {
          "color": "#AD9B0C"
         },
         "name": "SUM(MAX_DS)",
         "opacity": 0.8,
         "type": "scatter",
         "x": [
          "2020-01-13T00:00:00",
          "2020-01-13T03:00:00",
          "2020-01-13T06:00:00",
          "2020-01-13T09:00:00",
          "2020-01-13T12:00:00",
          "2020-01-13T15:00:00",
          "2020-01-13T18:00:00",
          "2020-01-13T21:00:00",
          "2020-01-14T00:00:00",
          "2020-01-14T03:00:00",
          "2020-01-14T06:00:00",
          "2020-01-14T09:00:00",
          "2020-01-14T12:00:00",
          "2020-01-14T15:00:00",
          "2020-01-14T18:00:00",
          "2020-01-14T21:00:00",
          "2020-01-15T00:00:00",
          "2020-01-15T03:00:00",
          "2020-01-15T06:00:00",
          "2020-01-15T09:00:00",
          "2020-01-15T12:00:00",
          "2020-01-15T15:00:00",
          "2020-01-15T18:00:00",
          "2020-01-15T21:00:00",
          "2020-01-16T00:00:00",
          "2020-01-16T03:00:00",
          "2020-01-16T06:00:00",
          "2020-01-16T09:00:00",
          "2020-01-16T12:00:00",
          "2020-01-16T15:00:00",
          "2020-01-16T18:00:00",
          "2020-01-16T21:00:00",
          "2020-01-17T00:00:00",
          "2020-01-17T03:00:00",
          "2020-01-17T06:00:00",
          "2020-01-17T09:00:00",
          "2020-01-17T12:00:00",
          "2020-01-17T15:00:00",
          "2020-01-17T18:00:00",
          "2020-01-17T21:00:00",
          "2020-01-18T00:00:00",
          "2020-01-18T03:00:00",
          "2020-01-18T06:00:00",
          "2020-01-18T09:00:00",
          "2020-01-18T12:00:00",
          "2020-01-18T15:00:00",
          "2020-01-18T18:00:00",
          "2020-01-18T21:00:00",
          "2020-01-19T00:00:00",
          "2020-01-19T03:00:00",
          "2020-01-19T06:00:00",
          "2020-01-19T09:00:00",
          "2020-01-19T12:00:00",
          "2020-01-19T15:00:00",
          "2020-01-19T18:00:00",
          "2020-01-19T21:00:00"
         ],
         "xaxis": "x4",
         "y": [
          80.96043333333333,
          null,
          null,
          null,
          282.2633333333333,
          96.86661999999998,
          141.7693875,
          3012.686481818181,
          null,
          null,
          null,
          null,
          67.3853,
          148.08035555555554,
          349.92216666666667,
          2492.852525,
          33.2124,
          null,
          null,
          null,
          96.82321666666667,
          233.4903875,
          288.8213222222222,
          2606.7678083333335,
          168.3581,
          null,
          null,
          null,
          67.64866666666667,
          346.66696249999995,
          275.08508,
          2720.0150363636367,
          130.1024,
          null,
          null,
          null,
          177.15522499999997,
          112.25606666666665,
          247.31905454545452,
          2731.8805545454543,
          99.24340000000001,
          null,
          null,
          224.5708,
          363.98474285714286,
          362.55461,
          118.54242857142859,
          2365.390191666667,
          29.3571,
          null,
          null,
          null,
          359.8750125,
          259.33433,
          307.2243444444445,
          2680.3799416666666
         ],
         "yaxis": "y4"
        },
        {
         "line": {
          "color": "#B22222"
         },
         "name": "SUM(MAX_DS)",
         "opacity": 0.8,
         "type": "scatter",
         "x": [
          "2020-01-20T00:00:00",
          "2020-01-20T03:00:00",
          "2020-01-20T06:00:00",
          "2020-01-20T09:00:00",
          "2020-01-20T12:00:00",
          "2020-01-20T15:00:00",
          "2020-01-20T18:00:00",
          "2020-01-20T21:00:00",
          "2020-01-21T00:00:00",
          "2020-01-21T03:00:00",
          "2020-01-21T06:00:00",
          "2020-01-21T09:00:00",
          "2020-01-21T12:00:00",
          "2020-01-21T15:00:00",
          "2020-01-21T18:00:00",
          "2020-01-21T21:00:00",
          "2020-01-22T00:00:00",
          "2020-01-22T03:00:00",
          "2020-01-22T06:00:00",
          "2020-01-22T09:00:00",
          "2020-01-22T12:00:00",
          "2020-01-22T15:00:00",
          "2020-01-22T18:00:00",
          "2020-01-22T21:00:00",
          "2020-01-23T00:00:00",
          "2020-01-23T03:00:00",
          "2020-01-23T06:00:00",
          "2020-01-23T09:00:00",
          "2020-01-23T12:00:00",
          "2020-01-23T15:00:00",
          "2020-01-23T18:00:00",
          "2020-01-23T21:00:00",
          "2020-01-24T00:00:00",
          "2020-01-24T03:00:00",
          "2020-01-24T06:00:00",
          "2020-01-24T09:00:00",
          "2020-01-24T12:00:00",
          "2020-01-24T15:00:00",
          "2020-01-24T18:00:00",
          "2020-01-24T21:00:00",
          "2020-01-25T00:00:00",
          "2020-01-25T03:00:00",
          "2020-01-25T06:00:00",
          "2020-01-25T09:00:00",
          "2020-01-25T12:00:00",
          "2020-01-25T15:00:00",
          "2020-01-25T18:00:00",
          "2020-01-25T21:00:00",
          "2020-01-26T00:00:00",
          "2020-01-26T03:00:00",
          "2020-01-26T06:00:00",
          "2020-01-26T09:00:00",
          "2020-01-26T12:00:00",
          "2020-01-26T15:00:00",
          "2020-01-26T18:00:00",
          "2020-01-26T21:00:00"
         ],
         "xaxis": "x5",
         "y": [
          31.40775,
          null,
          null,
          367.8533,
          498.0571,
          143.4231,
          302.5164875,
          2647.200625,
          58.7575,
          null,
          null,
          null,
          364.44669999999996,
          184.88558,
          318.44475,
          2401.3152666666665,
          69.2653,
          null,
          null,
          60.7311,
          57.0992,
          371.8139857142857,
          438.84129090909084,
          2597.314181818181,
          364.84305,
          null,
          null,
          15.8747,
          438.34695,
          176.23026249999998,
          318.38307,
          2402.1845083333333,
          247.3863,
          null,
          25.3044,
          33.3525,
          37.5994,
          325.28792,
          338.11616666666663,
          2554.971227272727,
          22.623,
          null,
          null,
          62.16025,
          312.82557499999996,
          432.3977545454545,
          491.83027999999996,
          1974.5706249999996,
          21.6941,
          null,
          null,
          null,
          497.5844222222222,
          290.38735454545457,
          282.4534181818181,
          2802.1574800000008
         ],
         "yaxis": "y5"
        }
       ],
       "layout": {
        "height": 900,
        "showlegend": false,
        "template": {
         "data": {
          "bar": [
           {
            "error_x": {
             "color": "#2a3f5f"
            },
            "error_y": {
             "color": "#2a3f5f"
            },
            "marker": {
             "line": {
              "color": "#E5ECF6",
              "width": 0.5
             }
            },
            "type": "bar"
           }
          ],
          "barpolar": [
           {
            "marker": {
             "line": {
              "color": "#E5ECF6",
              "width": 0.5
             }
            },
            "type": "barpolar"
           }
          ],
          "carpet": [
           {
            "aaxis": {
             "endlinecolor": "#2a3f5f",
             "gridcolor": "white",
             "linecolor": "white",
             "minorgridcolor": "white",
             "startlinecolor": "#2a3f5f"
            },
            "baxis": {
             "endlinecolor": "#2a3f5f",
             "gridcolor": "white",
             "linecolor": "white",
             "minorgridcolor": "white",
             "startlinecolor": "#2a3f5f"
            },
            "type": "carpet"
           }
          ],
          "choropleth": [
           {
            "colorbar": {
             "outlinewidth": 0,
             "ticks": ""
            },
            "type": "choropleth"
           }
          ],
          "contour": [
           {
            "colorbar": {
             "outlinewidth": 0,
             "ticks": ""
            },
            "colorscale": [
             [
              0,
              "#0d0887"
             ],
             [
              0.1111111111111111,
              "#46039f"
             ],
             [
              0.2222222222222222,
              "#7201a8"
             ],
             [
              0.3333333333333333,
              "#9c179e"
             ],
             [
              0.4444444444444444,
              "#bd3786"
             ],
             [
              0.5555555555555556,
              "#d8576b"
             ],
             [
              0.6666666666666666,
              "#ed7953"
             ],
             [
              0.7777777777777778,
              "#fb9f3a"
             ],
             [
              0.8888888888888888,
              "#fdca26"
             ],
             [
              1,
              "#f0f921"
             ]
            ],
            "type": "contour"
           }
          ],
          "contourcarpet": [
           {
            "colorbar": {
             "outlinewidth": 0,
             "ticks": ""
            },
            "type": "contourcarpet"
           }
          ],
          "heatmap": [
           {
            "colorbar": {
             "outlinewidth": 0,
             "ticks": ""
            },
            "colorscale": [
             [
              0,
              "#0d0887"
             ],
             [
              0.1111111111111111,
              "#46039f"
             ],
             [
              0.2222222222222222,
              "#7201a8"
             ],
             [
              0.3333333333333333,
              "#9c179e"
             ],
             [
              0.4444444444444444,
              "#bd3786"
             ],
             [
              0.5555555555555556,
              "#d8576b"
             ],
             [
              0.6666666666666666,
              "#ed7953"
             ],
             [
              0.7777777777777778,
              "#fb9f3a"
             ],
             [
              0.8888888888888888,
              "#fdca26"
             ],
             [
              1,
              "#f0f921"
             ]
            ],
            "type": "heatmap"
           }
          ],
          "heatmapgl": [
           {
            "colorbar": {
             "outlinewidth": 0,
             "ticks": ""
            },
            "colorscale": [
             [
              0,
              "#0d0887"
             ],
             [
              0.1111111111111111,
              "#46039f"
             ],
             [
              0.2222222222222222,
              "#7201a8"
             ],
             [
              0.3333333333333333,
              "#9c179e"
             ],
             [
              0.4444444444444444,
              "#bd3786"
             ],
             [
              0.5555555555555556,
              "#d8576b"
             ],
             [
              0.6666666666666666,
              "#ed7953"
             ],
             [
              0.7777777777777778,
              "#fb9f3a"
             ],
             [
              0.8888888888888888,
              "#fdca26"
             ],
             [
              1,
              "#f0f921"
             ]
            ],
            "type": "heatmapgl"
           }
          ],
          "histogram": [
           {
            "marker": {
             "colorbar": {
              "outlinewidth": 0,
              "ticks": ""
             }
            },
            "type": "histogram"
           }
          ],
          "histogram2d": [
           {
            "colorbar": {
             "outlinewidth": 0,
             "ticks": ""
            },
            "colorscale": [
             [
              0,
              "#0d0887"
             ],
             [
              0.1111111111111111,
              "#46039f"
             ],
             [
              0.2222222222222222,
              "#7201a8"
             ],
             [
              0.3333333333333333,
              "#9c179e"
             ],
             [
              0.4444444444444444,
              "#bd3786"
             ],
             [
              0.5555555555555556,
              "#d8576b"
             ],
             [
              0.6666666666666666,
              "#ed7953"
             ],
             [
              0.7777777777777778,
              "#fb9f3a"
             ],
             [
              0.8888888888888888,
              "#fdca26"
             ],
             [
              1,
              "#f0f921"
             ]
            ],
            "type": "histogram2d"
           }
          ],
          "histogram2dcontour": [
           {
            "colorbar": {
             "outlinewidth": 0,
             "ticks": ""
            },
            "colorscale": [
             [
              0,
              "#0d0887"
             ],
             [
              0.1111111111111111,
              "#46039f"
             ],
             [
              0.2222222222222222,
              "#7201a8"
             ],
             [
              0.3333333333333333,
              "#9c179e"
             ],
             [
              0.4444444444444444,
              "#bd3786"
             ],
             [
              0.5555555555555556,
              "#d8576b"
             ],
             [
              0.6666666666666666,
              "#ed7953"
             ],
             [
              0.7777777777777778,
              "#fb9f3a"
             ],
             [
              0.8888888888888888,
              "#fdca26"
             ],
             [
              1,
              "#f0f921"
             ]
            ],
            "type": "histogram2dcontour"
           }
          ],
          "mesh3d": [
           {
            "colorbar": {
             "outlinewidth": 0,
             "ticks": ""
            },
            "type": "mesh3d"
           }
          ],
          "parcoords": [
           {
            "line": {
             "colorbar": {
              "outlinewidth": 0,
              "ticks": ""
             }
            },
            "type": "parcoords"
           }
          ],
          "pie": [
           {
            "automargin": true,
            "type": "pie"
           }
          ],
          "scatter": [
           {
            "marker": {
             "colorbar": {
              "outlinewidth": 0,
              "ticks": ""
             }
            },
            "type": "scatter"
           }
          ],
          "scatter3d": [
           {
            "line": {
             "colorbar": {
              "outlinewidth": 0,
              "ticks": ""
             }
            },
            "marker": {
             "colorbar": {
              "outlinewidth": 0,
              "ticks": ""
             }
            },
            "type": "scatter3d"
           }
          ],
          "scattercarpet": [
           {
            "marker": {
             "colorbar": {
              "outlinewidth": 0,
              "ticks": ""
             }
            },
            "type": "scattercarpet"
           }
          ],
          "scattergeo": [
           {
            "marker": {
             "colorbar": {
              "outlinewidth": 0,
              "ticks": ""
             }
            },
            "type": "scattergeo"
           }
          ],
          "scattergl": [
           {
            "marker": {
             "colorbar": {
              "outlinewidth": 0,
              "ticks": ""
             }
            },
            "type": "scattergl"
           }
          ],
          "scattermapbox": [
           {
            "marker": {
             "colorbar": {
              "outlinewidth": 0,
              "ticks": ""
             }
            },
            "type": "scattermapbox"
           }
          ],
          "scatterpolar": [
           {
            "marker": {
             "colorbar": {
              "outlinewidth": 0,
              "ticks": ""
             }
            },
            "type": "scatterpolar"
           }
          ],
          "scatterpolargl": [
           {
            "marker": {
             "colorbar": {
              "outlinewidth": 0,
              "ticks": ""
             }
            },
            "type": "scatterpolargl"
           }
          ],
          "scatterternary": [
           {
            "marker": {
             "colorbar": {
              "outlinewidth": 0,
              "ticks": ""
             }
            },
            "type": "scatterternary"
           }
          ],
          "surface": [
           {
            "colorbar": {
             "outlinewidth": 0,
             "ticks": ""
            },
            "colorscale": [
             [
              0,
              "#0d0887"
             ],
             [
              0.1111111111111111,
              "#46039f"
             ],
             [
              0.2222222222222222,
              "#7201a8"
             ],
             [
              0.3333333333333333,
              "#9c179e"
             ],
             [
              0.4444444444444444,
              "#bd3786"
             ],
             [
              0.5555555555555556,
              "#d8576b"
             ],
             [
              0.6666666666666666,
              "#ed7953"
             ],
             [
              0.7777777777777778,
              "#fb9f3a"
             ],
             [
              0.8888888888888888,
              "#fdca26"
             ],
             [
              1,
              "#f0f921"
             ]
            ],
            "type": "surface"
           }
          ],
          "table": [
           {
            "cells": {
             "fill": {
              "color": "#EBF0F8"
             },
             "line": {
              "color": "white"
             }
            },
            "header": {
             "fill": {
              "color": "#C8D4E3"
             },
             "line": {
              "color": "white"
             }
            },
            "type": "table"
           }
          ]
         },
         "layout": {
          "annotationdefaults": {
           "arrowcolor": "#2a3f5f",
           "arrowhead": 0,
           "arrowwidth": 1
          },
          "coloraxis": {
           "colorbar": {
            "outlinewidth": 0,
            "ticks": ""
           }
          },
          "colorscale": {
           "diverging": [
            [
             0,
             "#8e0152"
            ],
            [
             0.1,
             "#c51b7d"
            ],
            [
             0.2,
             "#de77ae"
            ],
            [
             0.3,
             "#f1b6da"
            ],
            [
             0.4,
             "#fde0ef"
            ],
            [
             0.5,
             "#f7f7f7"
            ],
            [
             0.6,
             "#e6f5d0"
            ],
            [
             0.7,
             "#b8e186"
            ],
            [
             0.8,
             "#7fbc41"
            ],
            [
             0.9,
             "#4d9221"
            ],
            [
             1,
             "#276419"
            ]
           ],
           "sequential": [
            [
             0,
             "#0d0887"
            ],
            [
             0.1111111111111111,
             "#46039f"
            ],
            [
             0.2222222222222222,
             "#7201a8"
            ],
            [
             0.3333333333333333,
             "#9c179e"
            ],
            [
             0.4444444444444444,
             "#bd3786"
            ],
            [
             0.5555555555555556,
             "#d8576b"
            ],
            [
             0.6666666666666666,
             "#ed7953"
            ],
            [
             0.7777777777777778,
             "#fb9f3a"
            ],
            [
             0.8888888888888888,
             "#fdca26"
            ],
            [
             1,
             "#f0f921"
            ]
           ],
           "sequentialminus": [
            [
             0,
             "#0d0887"
            ],
            [
             0.1111111111111111,
             "#46039f"
            ],
            [
             0.2222222222222222,
             "#7201a8"
            ],
            [
             0.3333333333333333,
             "#9c179e"
            ],
            [
             0.4444444444444444,
             "#bd3786"
            ],
            [
             0.5555555555555556,
             "#d8576b"
            ],
            [
             0.6666666666666666,
             "#ed7953"
            ],
            [
             0.7777777777777778,
             "#fb9f3a"
            ],
            [
             0.8888888888888888,
             "#fdca26"
            ],
            [
             1,
             "#f0f921"
            ]
           ]
          },
          "colorway": [
           "#636efa",
           "#EF553B",
           "#00cc96",
           "#ab63fa",
           "#FFA15A",
           "#19d3f3",
           "#FF6692",
           "#B6E880",
           "#FF97FF",
           "#FECB52"
          ],
          "font": {
           "color": "#2a3f5f"
          },
          "geo": {
           "bgcolor": "white",
           "lakecolor": "white",
           "landcolor": "#E5ECF6",
           "showlakes": true,
           "showland": true,
           "subunitcolor": "white"
          },
          "hoverlabel": {
           "align": "left"
          },
          "hovermode": "closest",
          "mapbox": {
           "style": "light"
          },
          "paper_bgcolor": "white",
          "plot_bgcolor": "#E5ECF6",
          "polar": {
           "angularaxis": {
            "gridcolor": "white",
            "linecolor": "white",
            "ticks": ""
           },
           "bgcolor": "#E5ECF6",
           "radialaxis": {
            "gridcolor": "white",
            "linecolor": "white",
            "ticks": ""
           }
          },
          "scene": {
           "xaxis": {
            "backgroundcolor": "#E5ECF6",
            "gridcolor": "white",
            "gridwidth": 2,
            "linecolor": "white",
            "showbackground": true,
            "ticks": "",
            "zerolinecolor": "white"
           },
           "yaxis": {
            "backgroundcolor": "#E5ECF6",
            "gridcolor": "white",
            "gridwidth": 2,
            "linecolor": "white",
            "showbackground": true,
            "ticks": "",
            "zerolinecolor": "white"
           },
           "zaxis": {
            "backgroundcolor": "#E5ECF6",
            "gridcolor": "white",
            "gridwidth": 2,
            "linecolor": "white",
            "showbackground": true,
            "ticks": "",
            "zerolinecolor": "white"
           }
          },
          "shapedefaults": {
           "line": {
            "color": "#2a3f5f"
           }
          },
          "ternary": {
           "aaxis": {
            "gridcolor": "white",
            "linecolor": "white",
            "ticks": ""
           },
           "baxis": {
            "gridcolor": "white",
            "linecolor": "white",
            "ticks": ""
           },
           "bgcolor": "#E5ECF6",
           "caxis": {
            "gridcolor": "white",
            "linecolor": "white",
            "ticks": ""
           }
          },
          "title": {
           "x": 0.05
          },
          "xaxis": {
           "automargin": true,
           "gridcolor": "white",
           "linecolor": "white",
           "ticks": "",
           "title": {
            "standoff": 15
           },
           "zerolinecolor": "white",
           "zerolinewidth": 2
          },
          "yaxis": {
           "automargin": true,
           "gridcolor": "white",
           "linecolor": "white",
           "ticks": "",
           "title": {
            "standoff": 15
           },
           "zerolinecolor": "white",
           "zerolinewidth": 2
          }
         }
        },
        "title": {
         "text": "Time Series Max_DS provincia di MI"
        },
        "xaxis": {
         "anchor": "y",
         "domain": [
          0,
          1
         ]
        },
        "xaxis2": {
         "anchor": "y2",
         "domain": [
          0,
          1
         ]
        },
        "xaxis3": {
         "anchor": "y3",
         "domain": [
          0,
          1
         ]
        },
        "xaxis4": {
         "anchor": "y4",
         "domain": [
          0,
          1
         ]
        },
        "xaxis5": {
         "anchor": "y5",
         "domain": [
          0,
          1
         ]
        },
        "yaxis": {
         "anchor": "x",
         "domain": [
          0.848,
          1
         ]
        },
        "yaxis2": {
         "anchor": "x2",
         "domain": [
          0.6359999999999999,
          0.7879999999999999
         ]
        },
        "yaxis3": {
         "anchor": "x3",
         "domain": [
          0.424,
          0.576
         ]
        },
        "yaxis4": {
         "anchor": "x4",
         "domain": [
          0.212,
          0.364
         ]
        },
        "yaxis5": {
         "anchor": "x5",
         "domain": [
          0,
          0.152
         ]
        }
       }
      },
      "text/html": [
       "<div>\n",
       "        \n",
       "        \n",
       "            <div id=\"f0f92588-21d3-4779-a757-5ca582d3701e\" class=\"plotly-graph-div\" style=\"height:900px; width:100%;\"></div>\n",
       "            <script type=\"text/javascript\">\n",
       "                require([\"plotly\"], function(Plotly) {\n",
       "                    window.PLOTLYENV=window.PLOTLYENV || {};\n",
       "                    \n",
       "                if (document.getElementById(\"f0f92588-21d3-4779-a757-5ca582d3701e\")) {\n",
       "                    Plotly.newPlot(\n",
       "                        'f0f92588-21d3-4779-a757-5ca582d3701e',\n",
       "                        [{\"line\": {\"color\": \"#17BECF\"}, \"name\": \"SUM(MAX_DS)\", \"opacity\": 0.8, \"type\": \"scatter\", \"x\": [\"2019-12-23T00:00:00\", \"2019-12-23T03:00:00\", \"2019-12-23T06:00:00\", \"2019-12-23T09:00:00\", \"2019-12-23T12:00:00\", \"2019-12-23T15:00:00\", \"2019-12-23T18:00:00\", \"2019-12-23T21:00:00\", \"2019-12-24T00:00:00\", \"2019-12-24T03:00:00\", \"2019-12-24T06:00:00\", \"2019-12-24T09:00:00\", \"2019-12-24T12:00:00\", \"2019-12-24T15:00:00\", \"2019-12-24T18:00:00\", \"2019-12-24T21:00:00\", \"2019-12-25T00:00:00\", \"2019-12-25T03:00:00\", \"2019-12-25T06:00:00\", \"2019-12-25T09:00:00\", \"2019-12-25T12:00:00\", \"2019-12-25T15:00:00\", \"2019-12-25T18:00:00\", \"2019-12-25T21:00:00\", \"2019-12-26T00:00:00\", \"2019-12-26T03:00:00\", \"2019-12-26T06:00:00\", \"2019-12-26T09:00:00\", \"2019-12-26T12:00:00\", \"2019-12-26T15:00:00\", \"2019-12-26T18:00:00\", \"2019-12-26T21:00:00\", \"2019-12-27T00:00:00\", \"2019-12-27T03:00:00\", \"2019-12-27T06:00:00\", \"2019-12-27T09:00:00\", \"2019-12-27T12:00:00\", \"2019-12-27T15:00:00\", \"2019-12-27T18:00:00\", \"2019-12-27T21:00:00\", \"2019-12-28T00:00:00\", \"2019-12-28T03:00:00\", \"2019-12-28T06:00:00\", \"2019-12-28T09:00:00\", \"2019-12-28T12:00:00\", \"2019-12-28T15:00:00\", \"2019-12-28T18:00:00\", \"2019-12-28T21:00:00\", \"2019-12-29T00:00:00\", \"2019-12-29T03:00:00\", \"2019-12-29T06:00:00\", \"2019-12-29T09:00:00\", \"2019-12-29T12:00:00\", \"2019-12-29T15:00:00\", \"2019-12-29T18:00:00\", \"2019-12-29T21:00:00\"], \"xaxis\": \"x\", \"y\": [173.3683, 9.8933, null, 34.274566666666665, 232.6067857142857, 97.26151666666668, 228.6090909090909, 2408.8791, 661.2175, null, 30.3979, 74.11836666666666, 569.2037874999999, 677.7695, 382.20679166666656, 544.3800083333333, 407.5237, null, 19.2472, 79.58086, 43.3513, 128.70276666666666, 462.93108, 2039.2765666666662, 217.91844, null, null, 74.79745, 184.2861125, 290.89526666666666, 775.6363636363636, 1589.9457583333333, 150.03067500000003, null, null, 335.9694, 291.2582714285714, 279.92914, 238.5898909090909, 2117.844372727273, 137.911975, null, null, null, 150.18701428571427, 248.93809000000002, 257.5846272727273, 2002.7955666666667, 442.233025, null, null, 47.0665, 320.0241833333334, 266.37298181818187, 489.9839, 1745.495475], \"yaxis\": \"y\"}, {\"line\": {\"color\": \"#7F7F7F\"}, \"name\": \"SUM(MAX_DS)\", \"opacity\": 0.8, \"type\": \"scatter\", \"x\": [\"2019-12-30T00:00:00\", \"2019-12-30T03:00:00\", \"2019-12-30T06:00:00\", \"2019-12-30T09:00:00\", \"2019-12-30T12:00:00\", \"2019-12-30T15:00:00\", \"2019-12-30T18:00:00\", \"2019-12-30T21:00:00\", \"2019-12-31T00:00:00\", \"2019-12-31T03:00:00\", \"2019-12-31T06:00:00\", \"2019-12-31T09:00:00\", \"2019-12-31T12:00:00\", \"2019-12-31T15:00:00\", \"2019-12-31T18:00:00\", \"2019-12-31T21:00:00\", \"2020-01-01T00:00:00\", \"2020-01-01T03:00:00\", \"2020-01-01T06:00:00\", \"2020-01-01T09:00:00\", \"2020-01-01T12:00:00\", \"2020-01-01T15:00:00\", \"2020-01-01T18:00:00\", \"2020-01-01T21:00:00\", \"2020-01-02T00:00:00\", \"2020-01-02T03:00:00\", \"2020-01-02T06:00:00\", \"2020-01-02T09:00:00\", \"2020-01-02T12:00:00\", \"2020-01-02T15:00:00\", \"2020-01-02T18:00:00\", \"2020-01-02T21:00:00\", \"2020-01-03T00:00:00\", \"2020-01-03T03:00:00\", \"2020-01-03T06:00:00\", \"2020-01-03T09:00:00\", \"2020-01-03T12:00:00\", \"2020-01-03T15:00:00\", \"2020-01-03T18:00:00\", \"2020-01-03T21:00:00\", \"2020-01-04T00:00:00\", \"2020-01-04T03:00:00\", \"2020-01-04T06:00:00\", \"2020-01-04T09:00:00\", \"2020-01-04T12:00:00\", \"2020-01-04T15:00:00\", \"2020-01-04T18:00:00\", \"2020-01-04T21:00:00\", \"2020-01-05T00:00:00\", \"2020-01-05T03:00:00\", \"2020-01-05T06:00:00\", \"2020-01-05T09:00:00\", \"2020-01-05T12:00:00\", \"2020-01-05T15:00:00\", \"2020-01-05T18:00:00\", \"2020-01-05T21:00:00\"], \"xaxis\": \"x2\", \"y\": [338.9395, 332.1583, null, null, 92.29045, 122.74523333333335, 270.7106, 2038.8911583333331, 1117.108014285714, null, null, 23.055875, 501.7068125, 735.2722, 358.30254444444444, 152.762175, 306.935, null, null, 25.4368, 53.68775000000001, 319.85817272727274, 399.95565833333336, 1944.940291666666, 156.0684, null, null, 18.3433, 78.5807, 254.60891999999998, 457.0664222222223, 2099.7865500000003, 76.10655, null, null, null, 130.2531, 81.21461428571429, 353.37269999999995, 2196.101008333333, 359.683125, null, null, 36.004000000000005, 115.54351111111113, 182.02659, 291.85905, 2286.671863636364, 56.22053333333334, null, null, null, 88.63373333333334, 206.70369, 232.82956, 2604.1565000000005], \"yaxis\": \"y2\"}, {\"line\": {\"color\": \"#32CD32\"}, \"name\": \"SUM(MAX_DS)\", \"opacity\": 0.8, \"type\": \"scatter\", \"x\": [\"2020-01-06T00:00:00\", \"2020-01-06T03:00:00\", \"2020-01-06T06:00:00\", \"2020-01-06T09:00:00\", \"2020-01-06T12:00:00\", \"2020-01-06T15:00:00\", \"2020-01-06T18:00:00\", \"2020-01-06T21:00:00\", \"2020-01-07T00:00:00\", \"2020-01-07T03:00:00\", \"2020-01-07T06:00:00\", \"2020-01-07T09:00:00\", \"2020-01-07T12:00:00\", \"2020-01-07T15:00:00\", \"2020-01-07T18:00:00\", \"2020-01-07T21:00:00\", \"2020-01-08T00:00:00\", \"2020-01-08T03:00:00\", \"2020-01-08T06:00:00\", \"2020-01-08T09:00:00\", \"2020-01-08T12:00:00\", \"2020-01-08T15:00:00\", \"2020-01-08T18:00:00\", \"2020-01-08T21:00:00\", \"2020-01-09T00:00:00\", \"2020-01-09T03:00:00\", \"2020-01-09T06:00:00\", \"2020-01-09T09:00:00\", \"2020-01-09T12:00:00\", \"2020-01-09T15:00:00\", \"2020-01-09T18:00:00\", \"2020-01-09T21:00:00\", \"2020-01-10T00:00:00\", \"2020-01-10T03:00:00\", \"2020-01-10T06:00:00\", \"2020-01-10T09:00:00\", \"2020-01-10T12:00:00\", \"2020-01-10T15:00:00\", \"2020-01-10T18:00:00\", \"2020-01-10T21:00:00\", \"2020-01-11T00:00:00\", \"2020-01-11T03:00:00\", \"2020-01-11T06:00:00\", \"2020-01-11T09:00:00\", \"2020-01-11T12:00:00\", \"2020-01-11T15:00:00\", \"2020-01-11T18:00:00\", \"2020-01-11T21:00:00\", \"2020-01-12T00:00:00\", \"2020-01-12T03:00:00\", \"2020-01-12T06:00:00\", \"2020-01-12T09:00:00\", \"2020-01-12T12:00:00\", \"2020-01-12T15:00:00\", \"2020-01-12T18:00:00\", \"2020-01-12T21:00:00\"], \"xaxis\": \"x3\", \"y\": [135.9698, null, 18.3794, 61.18755, 313.26421999999997, 258.58094444444447, 254.78966363636357, 2883.427881818182, 90.28559999999999, null, null, null, 33.8613, 234.64233333333334, 173.31353, 3306.03417, 59.14, null, null, null, 185.391, 61.84742857142857, 220.011875, 2602.2291666666665, 50.50783333333334, null, null, null, 70.85403333333333, 128.46060000000003, 320.1804, 2700.0543636363636, 594.29805, null, null, null, 132.6106, 95.907075, 226.0235090909091, 2402.5465249999997, 733.3119, null, null, 19.60415, 484.75426666666664, 90.51110000000001, 238.31875714285712, 3169.8947272727264, 65.949325, null, null, null, 61.30072, 257.40541999999994, 283.06786, 3022.1775090909096], \"yaxis\": \"y3\"}, {\"line\": {\"color\": \"#AD9B0C\"}, \"name\": \"SUM(MAX_DS)\", \"opacity\": 0.8, \"type\": \"scatter\", \"x\": [\"2020-01-13T00:00:00\", \"2020-01-13T03:00:00\", \"2020-01-13T06:00:00\", \"2020-01-13T09:00:00\", \"2020-01-13T12:00:00\", \"2020-01-13T15:00:00\", \"2020-01-13T18:00:00\", \"2020-01-13T21:00:00\", \"2020-01-14T00:00:00\", \"2020-01-14T03:00:00\", \"2020-01-14T06:00:00\", \"2020-01-14T09:00:00\", \"2020-01-14T12:00:00\", \"2020-01-14T15:00:00\", \"2020-01-14T18:00:00\", \"2020-01-14T21:00:00\", \"2020-01-15T00:00:00\", \"2020-01-15T03:00:00\", \"2020-01-15T06:00:00\", \"2020-01-15T09:00:00\", \"2020-01-15T12:00:00\", \"2020-01-15T15:00:00\", \"2020-01-15T18:00:00\", \"2020-01-15T21:00:00\", \"2020-01-16T00:00:00\", \"2020-01-16T03:00:00\", \"2020-01-16T06:00:00\", \"2020-01-16T09:00:00\", \"2020-01-16T12:00:00\", \"2020-01-16T15:00:00\", \"2020-01-16T18:00:00\", \"2020-01-16T21:00:00\", \"2020-01-17T00:00:00\", \"2020-01-17T03:00:00\", \"2020-01-17T06:00:00\", \"2020-01-17T09:00:00\", \"2020-01-17T12:00:00\", \"2020-01-17T15:00:00\", \"2020-01-17T18:00:00\", \"2020-01-17T21:00:00\", \"2020-01-18T00:00:00\", \"2020-01-18T03:00:00\", \"2020-01-18T06:00:00\", \"2020-01-18T09:00:00\", \"2020-01-18T12:00:00\", \"2020-01-18T15:00:00\", \"2020-01-18T18:00:00\", \"2020-01-18T21:00:00\", \"2020-01-19T00:00:00\", \"2020-01-19T03:00:00\", \"2020-01-19T06:00:00\", \"2020-01-19T09:00:00\", \"2020-01-19T12:00:00\", \"2020-01-19T15:00:00\", \"2020-01-19T18:00:00\", \"2020-01-19T21:00:00\"], \"xaxis\": \"x4\", \"y\": [80.96043333333333, null, null, null, 282.2633333333333, 96.86661999999998, 141.7693875, 3012.686481818181, null, null, null, null, 67.3853, 148.08035555555554, 349.92216666666667, 2492.852525, 33.2124, null, null, null, 96.82321666666667, 233.4903875, 288.8213222222222, 2606.7678083333335, 168.3581, null, null, null, 67.64866666666667, 346.66696249999995, 275.08508, 2720.0150363636367, 130.1024, null, null, null, 177.15522499999997, 112.25606666666665, 247.31905454545452, 2731.8805545454543, 99.24340000000001, null, null, 224.5708, 363.98474285714286, 362.55461, 118.54242857142859, 2365.390191666667, 29.3571, null, null, null, 359.8750125, 259.33433, 307.2243444444445, 2680.3799416666666], \"yaxis\": \"y4\"}, {\"line\": {\"color\": \"#B22222\"}, \"name\": \"SUM(MAX_DS)\", \"opacity\": 0.8, \"type\": \"scatter\", \"x\": [\"2020-01-20T00:00:00\", \"2020-01-20T03:00:00\", \"2020-01-20T06:00:00\", \"2020-01-20T09:00:00\", \"2020-01-20T12:00:00\", \"2020-01-20T15:00:00\", \"2020-01-20T18:00:00\", \"2020-01-20T21:00:00\", \"2020-01-21T00:00:00\", \"2020-01-21T03:00:00\", \"2020-01-21T06:00:00\", \"2020-01-21T09:00:00\", \"2020-01-21T12:00:00\", \"2020-01-21T15:00:00\", \"2020-01-21T18:00:00\", \"2020-01-21T21:00:00\", \"2020-01-22T00:00:00\", \"2020-01-22T03:00:00\", \"2020-01-22T06:00:00\", \"2020-01-22T09:00:00\", \"2020-01-22T12:00:00\", \"2020-01-22T15:00:00\", \"2020-01-22T18:00:00\", \"2020-01-22T21:00:00\", \"2020-01-23T00:00:00\", \"2020-01-23T03:00:00\", \"2020-01-23T06:00:00\", \"2020-01-23T09:00:00\", \"2020-01-23T12:00:00\", \"2020-01-23T15:00:00\", \"2020-01-23T18:00:00\", \"2020-01-23T21:00:00\", \"2020-01-24T00:00:00\", \"2020-01-24T03:00:00\", \"2020-01-24T06:00:00\", \"2020-01-24T09:00:00\", \"2020-01-24T12:00:00\", \"2020-01-24T15:00:00\", \"2020-01-24T18:00:00\", \"2020-01-24T21:00:00\", \"2020-01-25T00:00:00\", \"2020-01-25T03:00:00\", \"2020-01-25T06:00:00\", \"2020-01-25T09:00:00\", \"2020-01-25T12:00:00\", \"2020-01-25T15:00:00\", \"2020-01-25T18:00:00\", \"2020-01-25T21:00:00\", \"2020-01-26T00:00:00\", \"2020-01-26T03:00:00\", \"2020-01-26T06:00:00\", \"2020-01-26T09:00:00\", \"2020-01-26T12:00:00\", \"2020-01-26T15:00:00\", \"2020-01-26T18:00:00\", \"2020-01-26T21:00:00\"], \"xaxis\": \"x5\", \"y\": [31.40775, null, null, 367.8533, 498.0571, 143.4231, 302.5164875, 2647.200625, 58.7575, null, null, null, 364.44669999999996, 184.88558, 318.44475, 2401.3152666666665, 69.2653, null, null, 60.7311, 57.0992, 371.8139857142857, 438.84129090909084, 2597.314181818181, 364.84305, null, null, 15.8747, 438.34695, 176.23026249999998, 318.38307, 2402.1845083333333, 247.3863, null, 25.3044, 33.3525, 37.5994, 325.28792, 338.11616666666663, 2554.971227272727, 22.623, null, null, 62.16025, 312.82557499999996, 432.3977545454545, 491.83027999999996, 1974.5706249999996, 21.6941, null, null, null, 497.5844222222222, 290.38735454545457, 282.4534181818181, 2802.1574800000008], \"yaxis\": \"y5\"}],\n",
       "                        {\"height\": 900, \"showlegend\": false, \"template\": {\"data\": {\"bar\": [{\"error_x\": {\"color\": \"#2a3f5f\"}, \"error_y\": {\"color\": \"#2a3f5f\"}, \"marker\": {\"line\": {\"color\": \"#E5ECF6\", \"width\": 0.5}}, \"type\": \"bar\"}], \"barpolar\": [{\"marker\": {\"line\": {\"color\": \"#E5ECF6\", \"width\": 0.5}}, \"type\": \"barpolar\"}], \"carpet\": [{\"aaxis\": {\"endlinecolor\": \"#2a3f5f\", \"gridcolor\": \"white\", \"linecolor\": \"white\", \"minorgridcolor\": \"white\", \"startlinecolor\": \"#2a3f5f\"}, \"baxis\": {\"endlinecolor\": \"#2a3f5f\", \"gridcolor\": \"white\", \"linecolor\": \"white\", \"minorgridcolor\": \"white\", \"startlinecolor\": \"#2a3f5f\"}, \"type\": \"carpet\"}], \"choropleth\": [{\"colorbar\": {\"outlinewidth\": 0, \"ticks\": \"\"}, \"type\": \"choropleth\"}], \"contour\": [{\"colorbar\": {\"outlinewidth\": 0, \"ticks\": \"\"}, \"colorscale\": [[0.0, \"#0d0887\"], [0.1111111111111111, \"#46039f\"], [0.2222222222222222, \"#7201a8\"], [0.3333333333333333, \"#9c179e\"], [0.4444444444444444, \"#bd3786\"], [0.5555555555555556, \"#d8576b\"], [0.6666666666666666, \"#ed7953\"], [0.7777777777777778, \"#fb9f3a\"], [0.8888888888888888, \"#fdca26\"], [1.0, \"#f0f921\"]], \"type\": \"contour\"}], \"contourcarpet\": [{\"colorbar\": {\"outlinewidth\": 0, \"ticks\": \"\"}, \"type\": \"contourcarpet\"}], \"heatmap\": [{\"colorbar\": {\"outlinewidth\": 0, \"ticks\": \"\"}, \"colorscale\": [[0.0, \"#0d0887\"], [0.1111111111111111, \"#46039f\"], [0.2222222222222222, \"#7201a8\"], [0.3333333333333333, \"#9c179e\"], [0.4444444444444444, \"#bd3786\"], [0.5555555555555556, \"#d8576b\"], [0.6666666666666666, \"#ed7953\"], [0.7777777777777778, \"#fb9f3a\"], [0.8888888888888888, \"#fdca26\"], [1.0, \"#f0f921\"]], \"type\": \"heatmap\"}], \"heatmapgl\": [{\"colorbar\": {\"outlinewidth\": 0, \"ticks\": \"\"}, \"colorscale\": [[0.0, \"#0d0887\"], [0.1111111111111111, \"#46039f\"], [0.2222222222222222, \"#7201a8\"], [0.3333333333333333, \"#9c179e\"], [0.4444444444444444, \"#bd3786\"], [0.5555555555555556, \"#d8576b\"], [0.6666666666666666, \"#ed7953\"], [0.7777777777777778, \"#fb9f3a\"], [0.8888888888888888, \"#fdca26\"], [1.0, \"#f0f921\"]], \"type\": \"heatmapgl\"}], \"histogram\": [{\"marker\": {\"colorbar\": {\"outlinewidth\": 0, \"ticks\": \"\"}}, \"type\": \"histogram\"}], \"histogram2d\": [{\"colorbar\": {\"outlinewidth\": 0, \"ticks\": \"\"}, \"colorscale\": [[0.0, \"#0d0887\"], [0.1111111111111111, \"#46039f\"], [0.2222222222222222, \"#7201a8\"], [0.3333333333333333, \"#9c179e\"], [0.4444444444444444, \"#bd3786\"], [0.5555555555555556, \"#d8576b\"], [0.6666666666666666, \"#ed7953\"], [0.7777777777777778, \"#fb9f3a\"], [0.8888888888888888, \"#fdca26\"], [1.0, \"#f0f921\"]], \"type\": \"histogram2d\"}], \"histogram2dcontour\": [{\"colorbar\": {\"outlinewidth\": 0, \"ticks\": \"\"}, \"colorscale\": [[0.0, \"#0d0887\"], [0.1111111111111111, \"#46039f\"], [0.2222222222222222, \"#7201a8\"], [0.3333333333333333, \"#9c179e\"], [0.4444444444444444, \"#bd3786\"], [0.5555555555555556, \"#d8576b\"], [0.6666666666666666, \"#ed7953\"], [0.7777777777777778, \"#fb9f3a\"], [0.8888888888888888, \"#fdca26\"], [1.0, \"#f0f921\"]], \"type\": \"histogram2dcontour\"}], \"mesh3d\": [{\"colorbar\": {\"outlinewidth\": 0, \"ticks\": \"\"}, \"type\": \"mesh3d\"}], \"parcoords\": [{\"line\": {\"colorbar\": {\"outlinewidth\": 0, \"ticks\": \"\"}}, \"type\": \"parcoords\"}], \"pie\": [{\"automargin\": true, \"type\": \"pie\"}], \"scatter\": [{\"marker\": {\"colorbar\": {\"outlinewidth\": 0, \"ticks\": \"\"}}, \"type\": \"scatter\"}], \"scatter3d\": [{\"line\": {\"colorbar\": {\"outlinewidth\": 0, \"ticks\": \"\"}}, \"marker\": {\"colorbar\": {\"outlinewidth\": 0, \"ticks\": \"\"}}, \"type\": \"scatter3d\"}], \"scattercarpet\": [{\"marker\": {\"colorbar\": {\"outlinewidth\": 0, \"ticks\": \"\"}}, \"type\": \"scattercarpet\"}], \"scattergeo\": [{\"marker\": {\"colorbar\": {\"outlinewidth\": 0, \"ticks\": \"\"}}, \"type\": \"scattergeo\"}], \"scattergl\": [{\"marker\": {\"colorbar\": {\"outlinewidth\": 0, \"ticks\": \"\"}}, \"type\": \"scattergl\"}], \"scattermapbox\": [{\"marker\": {\"colorbar\": {\"outlinewidth\": 0, \"ticks\": \"\"}}, \"type\": \"scattermapbox\"}], \"scatterpolar\": [{\"marker\": {\"colorbar\": {\"outlinewidth\": 0, \"ticks\": \"\"}}, \"type\": \"scatterpolar\"}], \"scatterpolargl\": [{\"marker\": {\"colorbar\": {\"outlinewidth\": 0, \"ticks\": \"\"}}, \"type\": \"scatterpolargl\"}], \"scatterternary\": [{\"marker\": {\"colorbar\": {\"outlinewidth\": 0, \"ticks\": \"\"}}, \"type\": \"scatterternary\"}], \"surface\": [{\"colorbar\": {\"outlinewidth\": 0, \"ticks\": \"\"}, \"colorscale\": [[0.0, \"#0d0887\"], [0.1111111111111111, \"#46039f\"], [0.2222222222222222, \"#7201a8\"], [0.3333333333333333, \"#9c179e\"], [0.4444444444444444, \"#bd3786\"], [0.5555555555555556, \"#d8576b\"], [0.6666666666666666, \"#ed7953\"], [0.7777777777777778, \"#fb9f3a\"], [0.8888888888888888, \"#fdca26\"], [1.0, \"#f0f921\"]], \"type\": \"surface\"}], \"table\": [{\"cells\": {\"fill\": {\"color\": \"#EBF0F8\"}, \"line\": {\"color\": \"white\"}}, \"header\": {\"fill\": {\"color\": \"#C8D4E3\"}, \"line\": {\"color\": \"white\"}}, \"type\": \"table\"}]}, \"layout\": {\"annotationdefaults\": {\"arrowcolor\": \"#2a3f5f\", \"arrowhead\": 0, \"arrowwidth\": 1}, \"coloraxis\": {\"colorbar\": {\"outlinewidth\": 0, \"ticks\": \"\"}}, \"colorscale\": {\"diverging\": [[0, \"#8e0152\"], [0.1, \"#c51b7d\"], [0.2, \"#de77ae\"], [0.3, \"#f1b6da\"], [0.4, \"#fde0ef\"], [0.5, \"#f7f7f7\"], [0.6, \"#e6f5d0\"], [0.7, \"#b8e186\"], [0.8, \"#7fbc41\"], [0.9, \"#4d9221\"], [1, \"#276419\"]], \"sequential\": [[0.0, \"#0d0887\"], [0.1111111111111111, \"#46039f\"], [0.2222222222222222, \"#7201a8\"], [0.3333333333333333, \"#9c179e\"], [0.4444444444444444, \"#bd3786\"], [0.5555555555555556, \"#d8576b\"], [0.6666666666666666, \"#ed7953\"], [0.7777777777777778, \"#fb9f3a\"], [0.8888888888888888, \"#fdca26\"], [1.0, \"#f0f921\"]], \"sequentialminus\": [[0.0, \"#0d0887\"], [0.1111111111111111, \"#46039f\"], [0.2222222222222222, \"#7201a8\"], [0.3333333333333333, \"#9c179e\"], [0.4444444444444444, \"#bd3786\"], [0.5555555555555556, \"#d8576b\"], [0.6666666666666666, \"#ed7953\"], [0.7777777777777778, \"#fb9f3a\"], [0.8888888888888888, \"#fdca26\"], [1.0, \"#f0f921\"]]}, \"colorway\": [\"#636efa\", \"#EF553B\", \"#00cc96\", \"#ab63fa\", \"#FFA15A\", \"#19d3f3\", \"#FF6692\", \"#B6E880\", \"#FF97FF\", \"#FECB52\"], \"font\": {\"color\": \"#2a3f5f\"}, \"geo\": {\"bgcolor\": \"white\", \"lakecolor\": \"white\", \"landcolor\": \"#E5ECF6\", \"showlakes\": true, \"showland\": true, \"subunitcolor\": \"white\"}, \"hoverlabel\": {\"align\": \"left\"}, \"hovermode\": \"closest\", \"mapbox\": {\"style\": \"light\"}, \"paper_bgcolor\": \"white\", \"plot_bgcolor\": \"#E5ECF6\", \"polar\": {\"angularaxis\": {\"gridcolor\": \"white\", \"linecolor\": \"white\", \"ticks\": \"\"}, \"bgcolor\": \"#E5ECF6\", \"radialaxis\": {\"gridcolor\": \"white\", \"linecolor\": \"white\", \"ticks\": \"\"}}, \"scene\": {\"xaxis\": {\"backgroundcolor\": \"#E5ECF6\", \"gridcolor\": \"white\", \"gridwidth\": 2, \"linecolor\": \"white\", \"showbackground\": true, \"ticks\": \"\", \"zerolinecolor\": \"white\"}, \"yaxis\": {\"backgroundcolor\": \"#E5ECF6\", \"gridcolor\": \"white\", \"gridwidth\": 2, \"linecolor\": \"white\", \"showbackground\": true, \"ticks\": \"\", \"zerolinecolor\": \"white\"}, \"zaxis\": {\"backgroundcolor\": \"#E5ECF6\", \"gridcolor\": \"white\", \"gridwidth\": 2, \"linecolor\": \"white\", \"showbackground\": true, \"ticks\": \"\", \"zerolinecolor\": \"white\"}}, \"shapedefaults\": {\"line\": {\"color\": \"#2a3f5f\"}}, \"ternary\": {\"aaxis\": {\"gridcolor\": \"white\", \"linecolor\": \"white\", \"ticks\": \"\"}, \"baxis\": {\"gridcolor\": \"white\", \"linecolor\": \"white\", \"ticks\": \"\"}, \"bgcolor\": \"#E5ECF6\", \"caxis\": {\"gridcolor\": \"white\", \"linecolor\": \"white\", \"ticks\": \"\"}}, \"title\": {\"x\": 0.05}, \"xaxis\": {\"automargin\": true, \"gridcolor\": \"white\", \"linecolor\": \"white\", \"ticks\": \"\", \"title\": {\"standoff\": 15}, \"zerolinecolor\": \"white\", \"zerolinewidth\": 2}, \"yaxis\": {\"automargin\": true, \"gridcolor\": \"white\", \"linecolor\": \"white\", \"ticks\": \"\", \"title\": {\"standoff\": 15}, \"zerolinecolor\": \"white\", \"zerolinewidth\": 2}}}, \"title\": {\"text\": \"Time Series Max_DS provincia di MI\"}, \"xaxis\": {\"anchor\": \"y\", \"domain\": [0.0, 1.0]}, \"xaxis2\": {\"anchor\": \"y2\", \"domain\": [0.0, 1.0]}, \"xaxis3\": {\"anchor\": \"y3\", \"domain\": [0.0, 1.0]}, \"xaxis4\": {\"anchor\": \"y4\", \"domain\": [0.0, 1.0]}, \"xaxis5\": {\"anchor\": \"y5\", \"domain\": [0.0, 1.0]}, \"yaxis\": {\"anchor\": \"x\", \"domain\": [0.848, 1.0]}, \"yaxis2\": {\"anchor\": \"x2\", \"domain\": [0.6359999999999999, 0.7879999999999999]}, \"yaxis3\": {\"anchor\": \"x3\", \"domain\": [0.424, 0.576]}, \"yaxis4\": {\"anchor\": \"x4\", \"domain\": [0.212, 0.364]}, \"yaxis5\": {\"anchor\": \"x5\", \"domain\": [0.0, 0.152]}},\n",
       "                        {\"responsive\": true}\n",
       "                    ).then(function(){\n",
       "                            \n",
       "var gd = document.getElementById('f0f92588-21d3-4779-a757-5ca582d3701e');\n",
       "var x = new MutationObserver(function (mutations, observer) {{\n",
       "        var display = window.getComputedStyle(gd).display;\n",
       "        if (!display || display === 'none') {{\n",
       "            console.log([gd, 'removed!']);\n",
       "            Plotly.purge(gd);\n",
       "            observer.disconnect();\n",
       "        }}\n",
       "}});\n",
       "\n",
       "// Listen for the removal of the full notebook cells\n",
       "var notebookContainer = gd.closest('#notebook-container');\n",
       "if (notebookContainer) {{\n",
       "    x.observe(notebookContainer, {childList: true});\n",
       "}}\n",
       "\n",
       "// Listen for the clearing of the current output cell\n",
       "var outputEl = gd.closest('.output');\n",
       "if (outputEl) {{\n",
       "    x.observe(outputEl, {childList: true});\n",
       "}}\n",
       "\n",
       "                        })\n",
       "                };\n",
       "                });\n",
       "            </script>\n",
       "        </div>"
      ]
     },
     "metadata": {},
     "output_type": "display_data"
    }
   ],
   "source": [
    "#Inter-Atalanta  11/01/2020 20:45\n",
    "#Domenica 19 gennaio 2020, ore 12.30, MILAN-UDINESE\n",
    "#Domenica 26 gennaio 2020, ore 12.30, INTER-CAGLIARI\n",
    "\n",
    "#time series by 3 hours\n",
    "trace1 = go.Scatter(x = df_mi_3H_week1.index, y = df_mi_3H_week1, name = \"SUM(MAX_DS)\", line = dict(color = '#17BECF'), opacity = 0.8)\n",
    "trace2 = go.Scatter(x = df_mi_3H_week2.index ,y = df_mi_3H_week2, name = \"SUM(MAX_DS)\", line = dict(color = '#7F7F7F'), opacity = 0.8)\n",
    "trace3 = go.Scatter(x = df_mi_3H_week3.index ,y = df_mi_3H_week3, name = \"SUM(MAX_DS)\", line = dict(color ='#32CD32'), opacity = 0.8)\n",
    "trace4 = go.Scatter(x = df_mi_3H_week4.index ,y = df_mi_3H_week4, name = \"SUM(MAX_DS)\", line = dict(color ='#AD9B0C'), opacity = 0.8)\n",
    "trace5 = go.Scatter(x = df_mi_3H_week5.index ,y = df_mi_3H_week5, name = \"SUM(MAX_DS)\", line = dict(color ='#B22222'), opacity = 0.8)\n",
    "\n",
    "fig = tools.make_subplots(rows=5, cols=1, specs=[[{}], [{}], [{}], [{}], [{}]])\n",
    "\n",
    "fig.append_trace(trace1, 1,1)\n",
    "fig.append_trace(trace2, 2,1)\n",
    "fig.append_trace(trace3, 3,1)\n",
    "fig.append_trace(trace4, 4,1)\n",
    "fig.append_trace(trace5, 5,1)\n",
    "\n",
    "fig['layout'].update( height=900,title='Time Series Max_DS provincia di MI', showlegend=False)\n",
    "\n",
    "fig.show()"
   ]
  },
  {
   "cell_type": "code",
   "execution_count": 12,
   "metadata": {},
   "outputs": [
    {
     "data": {
      "application/vnd.plotly.v1+json": {
       "config": {
        "plotlyServerURL": "https://plot.ly"
       },
       "data": [
        {
         "line": {
          "color": "#17BECF"
         },
         "name": "SUM(MAX_DS)",
         "opacity": 0.8,
         "type": "scatter",
         "x": [
          "2019-12-23T00:00:00",
          "2019-12-23T03:00:00",
          "2019-12-23T06:00:00",
          "2019-12-23T09:00:00",
          "2019-12-23T12:00:00",
          "2019-12-23T15:00:00",
          "2019-12-23T18:00:00",
          "2019-12-23T21:00:00",
          "2019-12-24T00:00:00",
          "2019-12-24T03:00:00",
          "2019-12-24T06:00:00",
          "2019-12-24T09:00:00",
          "2019-12-24T12:00:00",
          "2019-12-24T15:00:00",
          "2019-12-24T18:00:00",
          "2019-12-24T21:00:00",
          "2019-12-25T00:00:00",
          "2019-12-25T03:00:00",
          "2019-12-25T06:00:00",
          "2019-12-25T09:00:00",
          "2019-12-25T12:00:00",
          "2019-12-25T15:00:00",
          "2019-12-25T18:00:00",
          "2019-12-25T21:00:00",
          "2019-12-26T00:00:00",
          "2019-12-26T03:00:00",
          "2019-12-26T06:00:00",
          "2019-12-26T09:00:00",
          "2019-12-26T12:00:00",
          "2019-12-26T15:00:00",
          "2019-12-26T18:00:00",
          "2019-12-26T21:00:00",
          "2019-12-27T00:00:00",
          "2019-12-27T03:00:00",
          "2019-12-27T06:00:00",
          "2019-12-27T09:00:00",
          "2019-12-27T12:00:00",
          "2019-12-27T15:00:00",
          "2019-12-27T18:00:00",
          "2019-12-27T21:00:00",
          "2019-12-28T00:00:00",
          "2019-12-28T03:00:00",
          "2019-12-28T06:00:00",
          "2019-12-28T09:00:00",
          "2019-12-28T12:00:00",
          "2019-12-28T15:00:00",
          "2019-12-28T18:00:00",
          "2019-12-28T21:00:00",
          "2019-12-29T00:00:00",
          "2019-12-29T03:00:00",
          "2019-12-29T06:00:00",
          "2019-12-29T09:00:00",
          "2019-12-29T12:00:00",
          "2019-12-29T15:00:00",
          "2019-12-29T18:00:00",
          "2019-12-29T21:00:00"
         ],
         "xaxis": "x",
         "y": [
          173.3683,
          9.8933,
          null,
          34.274566666666665,
          232.6067857142857,
          97.26151666666668,
          228.6090909090909,
          2408.8791,
          661.2175,
          null,
          30.3979,
          74.11836666666666,
          569.2037874999999,
          677.7695,
          382.20679166666656,
          544.3800083333333,
          407.5237,
          null,
          19.2472,
          79.58086,
          43.3513,
          128.70276666666666,
          462.93108,
          2039.2765666666662,
          217.91844,
          null,
          null,
          74.79745,
          184.2861125,
          290.89526666666666,
          775.6363636363636,
          1589.9457583333333,
          150.03067500000003,
          null,
          null,
          335.9694,
          291.2582714285714,
          279.92914,
          238.5898909090909,
          2117.844372727273,
          137.911975,
          null,
          null,
          null,
          150.18701428571427,
          248.93809000000002,
          257.5846272727273,
          2002.7955666666667,
          442.233025,
          null,
          null,
          47.0665,
          320.0241833333334,
          266.37298181818187,
          489.9839,
          1745.495475
         ],
         "yaxis": "y"
        },
        {
         "line": {
          "color": "#7F7F7F"
         },
         "name": "SUM(MAX_DS)",
         "opacity": 0.8,
         "type": "scatter",
         "x": [
          "2019-12-30T00:00:00",
          "2019-12-30T03:00:00",
          "2019-12-30T06:00:00",
          "2019-12-30T09:00:00",
          "2019-12-30T12:00:00",
          "2019-12-30T15:00:00",
          "2019-12-30T18:00:00",
          "2019-12-30T21:00:00",
          "2019-12-31T00:00:00",
          "2019-12-31T03:00:00",
          "2019-12-31T06:00:00",
          "2019-12-31T09:00:00",
          "2019-12-31T12:00:00",
          "2019-12-31T15:00:00",
          "2019-12-31T18:00:00",
          "2019-12-31T21:00:00",
          "2020-01-01T00:00:00",
          "2020-01-01T03:00:00",
          "2020-01-01T06:00:00",
          "2020-01-01T09:00:00",
          "2020-01-01T12:00:00",
          "2020-01-01T15:00:00",
          "2020-01-01T18:00:00",
          "2020-01-01T21:00:00",
          "2020-01-02T00:00:00",
          "2020-01-02T03:00:00",
          "2020-01-02T06:00:00",
          "2020-01-02T09:00:00",
          "2020-01-02T12:00:00",
          "2020-01-02T15:00:00",
          "2020-01-02T18:00:00",
          "2020-01-02T21:00:00",
          "2020-01-03T00:00:00",
          "2020-01-03T03:00:00",
          "2020-01-03T06:00:00",
          "2020-01-03T09:00:00",
          "2020-01-03T12:00:00",
          "2020-01-03T15:00:00",
          "2020-01-03T18:00:00",
          "2020-01-03T21:00:00",
          "2020-01-04T00:00:00",
          "2020-01-04T03:00:00",
          "2020-01-04T06:00:00",
          "2020-01-04T09:00:00",
          "2020-01-04T12:00:00",
          "2020-01-04T15:00:00",
          "2020-01-04T18:00:00",
          "2020-01-04T21:00:00",
          "2020-01-05T00:00:00",
          "2020-01-05T03:00:00",
          "2020-01-05T06:00:00",
          "2020-01-05T09:00:00",
          "2020-01-05T12:00:00",
          "2020-01-05T15:00:00",
          "2020-01-05T18:00:00",
          "2020-01-05T21:00:00"
         ],
         "xaxis": "x",
         "y": [
          338.9395,
          332.1583,
          null,
          null,
          92.29045,
          122.74523333333335,
          270.7106,
          2038.8911583333331,
          1117.108014285714,
          null,
          null,
          23.055875,
          501.7068125,
          735.2722,
          358.30254444444444,
          152.762175,
          306.935,
          null,
          null,
          25.4368,
          53.68775000000001,
          319.85817272727274,
          399.95565833333336,
          1944.940291666666,
          156.0684,
          null,
          null,
          18.3433,
          78.5807,
          254.60891999999998,
          457.0664222222223,
          2099.7865500000003,
          76.10655,
          null,
          null,
          null,
          130.2531,
          81.21461428571429,
          353.37269999999995,
          2196.101008333333,
          359.683125,
          null,
          null,
          36.004000000000005,
          115.54351111111113,
          182.02659,
          291.85905,
          2286.671863636364,
          56.22053333333334,
          null,
          null,
          null,
          88.63373333333334,
          206.70369,
          232.82956,
          2604.1565000000005
         ],
         "yaxis": "y"
        },
        {
         "line": {
          "color": "#32CD32"
         },
         "name": "SUM(MAX_DS)",
         "opacity": 0.8,
         "type": "scatter",
         "x": [
          "2020-01-06T00:00:00",
          "2020-01-06T03:00:00",
          "2020-01-06T06:00:00",
          "2020-01-06T09:00:00",
          "2020-01-06T12:00:00",
          "2020-01-06T15:00:00",
          "2020-01-06T18:00:00",
          "2020-01-06T21:00:00",
          "2020-01-07T00:00:00",
          "2020-01-07T03:00:00",
          "2020-01-07T06:00:00",
          "2020-01-07T09:00:00",
          "2020-01-07T12:00:00",
          "2020-01-07T15:00:00",
          "2020-01-07T18:00:00",
          "2020-01-07T21:00:00",
          "2020-01-08T00:00:00",
          "2020-01-08T03:00:00",
          "2020-01-08T06:00:00",
          "2020-01-08T09:00:00",
          "2020-01-08T12:00:00",
          "2020-01-08T15:00:00",
          "2020-01-08T18:00:00",
          "2020-01-08T21:00:00",
          "2020-01-09T00:00:00",
          "2020-01-09T03:00:00",
          "2020-01-09T06:00:00",
          "2020-01-09T09:00:00",
          "2020-01-09T12:00:00",
          "2020-01-09T15:00:00",
          "2020-01-09T18:00:00",
          "2020-01-09T21:00:00",
          "2020-01-10T00:00:00",
          "2020-01-10T03:00:00",
          "2020-01-10T06:00:00",
          "2020-01-10T09:00:00",
          "2020-01-10T12:00:00",
          "2020-01-10T15:00:00",
          "2020-01-10T18:00:00",
          "2020-01-10T21:00:00",
          "2020-01-11T00:00:00",
          "2020-01-11T03:00:00",
          "2020-01-11T06:00:00",
          "2020-01-11T09:00:00",
          "2020-01-11T12:00:00",
          "2020-01-11T15:00:00",
          "2020-01-11T18:00:00",
          "2020-01-11T21:00:00",
          "2020-01-12T00:00:00",
          "2020-01-12T03:00:00",
          "2020-01-12T06:00:00",
          "2020-01-12T09:00:00",
          "2020-01-12T12:00:00",
          "2020-01-12T15:00:00",
          "2020-01-12T18:00:00",
          "2020-01-12T21:00:00"
         ],
         "xaxis": "x",
         "y": [
          135.9698,
          null,
          18.3794,
          61.18755,
          313.26421999999997,
          258.58094444444447,
          254.78966363636357,
          2883.427881818182,
          90.28559999999999,
          null,
          null,
          null,
          33.8613,
          234.64233333333334,
          173.31353,
          3306.03417,
          59.14,
          null,
          null,
          null,
          185.391,
          61.84742857142857,
          220.011875,
          2602.2291666666665,
          50.50783333333334,
          null,
          null,
          null,
          70.85403333333333,
          128.46060000000003,
          320.1804,
          2700.0543636363636,
          594.29805,
          null,
          null,
          null,
          132.6106,
          95.907075,
          226.0235090909091,
          2402.5465249999997,
          733.3119,
          null,
          null,
          19.60415,
          484.75426666666664,
          90.51110000000001,
          238.31875714285712,
          3169.8947272727264,
          65.949325,
          null,
          null,
          null,
          61.30072,
          257.40541999999994,
          283.06786,
          3022.1775090909096
         ],
         "yaxis": "y"
        },
        {
         "line": {
          "color": "#AD9B0C"
         },
         "name": "SUM(MAX_DS)",
         "opacity": 0.8,
         "type": "scatter",
         "x": [
          "2020-01-13T00:00:00",
          "2020-01-13T03:00:00",
          "2020-01-13T06:00:00",
          "2020-01-13T09:00:00",
          "2020-01-13T12:00:00",
          "2020-01-13T15:00:00",
          "2020-01-13T18:00:00",
          "2020-01-13T21:00:00",
          "2020-01-14T00:00:00",
          "2020-01-14T03:00:00",
          "2020-01-14T06:00:00",
          "2020-01-14T09:00:00",
          "2020-01-14T12:00:00",
          "2020-01-14T15:00:00",
          "2020-01-14T18:00:00",
          "2020-01-14T21:00:00",
          "2020-01-15T00:00:00",
          "2020-01-15T03:00:00",
          "2020-01-15T06:00:00",
          "2020-01-15T09:00:00",
          "2020-01-15T12:00:00",
          "2020-01-15T15:00:00",
          "2020-01-15T18:00:00",
          "2020-01-15T21:00:00",
          "2020-01-16T00:00:00",
          "2020-01-16T03:00:00",
          "2020-01-16T06:00:00",
          "2020-01-16T09:00:00",
          "2020-01-16T12:00:00",
          "2020-01-16T15:00:00",
          "2020-01-16T18:00:00",
          "2020-01-16T21:00:00",
          "2020-01-17T00:00:00",
          "2020-01-17T03:00:00",
          "2020-01-17T06:00:00",
          "2020-01-17T09:00:00",
          "2020-01-17T12:00:00",
          "2020-01-17T15:00:00",
          "2020-01-17T18:00:00",
          "2020-01-17T21:00:00",
          "2020-01-18T00:00:00",
          "2020-01-18T03:00:00",
          "2020-01-18T06:00:00",
          "2020-01-18T09:00:00",
          "2020-01-18T12:00:00",
          "2020-01-18T15:00:00",
          "2020-01-18T18:00:00",
          "2020-01-18T21:00:00",
          "2020-01-19T00:00:00",
          "2020-01-19T03:00:00",
          "2020-01-19T06:00:00",
          "2020-01-19T09:00:00",
          "2020-01-19T12:00:00",
          "2020-01-19T15:00:00",
          "2020-01-19T18:00:00",
          "2020-01-19T21:00:00"
         ],
         "xaxis": "x",
         "y": [
          80.96043333333333,
          null,
          null,
          null,
          282.2633333333333,
          96.86661999999998,
          141.7693875,
          3012.686481818181,
          null,
          null,
          null,
          null,
          67.3853,
          148.08035555555554,
          349.92216666666667,
          2492.852525,
          33.2124,
          null,
          null,
          null,
          96.82321666666667,
          233.4903875,
          288.8213222222222,
          2606.7678083333335,
          168.3581,
          null,
          null,
          null,
          67.64866666666667,
          346.66696249999995,
          275.08508,
          2720.0150363636367,
          130.1024,
          null,
          null,
          null,
          177.15522499999997,
          112.25606666666665,
          247.31905454545452,
          2731.8805545454543,
          99.24340000000001,
          null,
          null,
          224.5708,
          363.98474285714286,
          362.55461,
          118.54242857142859,
          2365.390191666667,
          29.3571,
          null,
          null,
          null,
          359.8750125,
          259.33433,
          307.2243444444445,
          2680.3799416666666
         ],
         "yaxis": "y"
        },
        {
         "line": {
          "color": "#B22222"
         },
         "name": "SUM(MAX_DS)",
         "opacity": 0.8,
         "type": "scatter",
         "x": [
          "2020-01-20T00:00:00",
          "2020-01-20T03:00:00",
          "2020-01-20T06:00:00",
          "2020-01-20T09:00:00",
          "2020-01-20T12:00:00",
          "2020-01-20T15:00:00",
          "2020-01-20T18:00:00",
          "2020-01-20T21:00:00",
          "2020-01-21T00:00:00",
          "2020-01-21T03:00:00",
          "2020-01-21T06:00:00",
          "2020-01-21T09:00:00",
          "2020-01-21T12:00:00",
          "2020-01-21T15:00:00",
          "2020-01-21T18:00:00",
          "2020-01-21T21:00:00",
          "2020-01-22T00:00:00",
          "2020-01-22T03:00:00",
          "2020-01-22T06:00:00",
          "2020-01-22T09:00:00",
          "2020-01-22T12:00:00",
          "2020-01-22T15:00:00",
          "2020-01-22T18:00:00",
          "2020-01-22T21:00:00",
          "2020-01-23T00:00:00",
          "2020-01-23T03:00:00",
          "2020-01-23T06:00:00",
          "2020-01-23T09:00:00",
          "2020-01-23T12:00:00",
          "2020-01-23T15:00:00",
          "2020-01-23T18:00:00",
          "2020-01-23T21:00:00",
          "2020-01-24T00:00:00",
          "2020-01-24T03:00:00",
          "2020-01-24T06:00:00",
          "2020-01-24T09:00:00",
          "2020-01-24T12:00:00",
          "2020-01-24T15:00:00",
          "2020-01-24T18:00:00",
          "2020-01-24T21:00:00",
          "2020-01-25T00:00:00",
          "2020-01-25T03:00:00",
          "2020-01-25T06:00:00",
          "2020-01-25T09:00:00",
          "2020-01-25T12:00:00",
          "2020-01-25T15:00:00",
          "2020-01-25T18:00:00",
          "2020-01-25T21:00:00",
          "2020-01-26T00:00:00",
          "2020-01-26T03:00:00",
          "2020-01-26T06:00:00",
          "2020-01-26T09:00:00",
          "2020-01-26T12:00:00",
          "2020-01-26T15:00:00",
          "2020-01-26T18:00:00",
          "2020-01-26T21:00:00"
         ],
         "xaxis": "x",
         "y": [
          31.40775,
          null,
          null,
          367.8533,
          498.0571,
          143.4231,
          302.5164875,
          2647.200625,
          58.7575,
          null,
          null,
          null,
          364.44669999999996,
          184.88558,
          318.44475,
          2401.3152666666665,
          69.2653,
          null,
          null,
          60.7311,
          57.0992,
          371.8139857142857,
          438.84129090909084,
          2597.314181818181,
          364.84305,
          null,
          null,
          15.8747,
          438.34695,
          176.23026249999998,
          318.38307,
          2402.1845083333333,
          247.3863,
          null,
          25.3044,
          33.3525,
          37.5994,
          325.28792,
          338.11616666666663,
          2554.971227272727,
          22.623,
          null,
          null,
          62.16025,
          312.82557499999996,
          432.3977545454545,
          491.83027999999996,
          1974.5706249999996,
          21.6941,
          null,
          null,
          null,
          497.5844222222222,
          290.38735454545457,
          282.4534181818181,
          2802.1574800000008
         ],
         "yaxis": "y"
        }
       ],
       "layout": {
        "height": 900,
        "showlegend": false,
        "template": {
         "data": {
          "bar": [
           {
            "error_x": {
             "color": "#2a3f5f"
            },
            "error_y": {
             "color": "#2a3f5f"
            },
            "marker": {
             "line": {
              "color": "#E5ECF6",
              "width": 0.5
             }
            },
            "type": "bar"
           }
          ],
          "barpolar": [
           {
            "marker": {
             "line": {
              "color": "#E5ECF6",
              "width": 0.5
             }
            },
            "type": "barpolar"
           }
          ],
          "carpet": [
           {
            "aaxis": {
             "endlinecolor": "#2a3f5f",
             "gridcolor": "white",
             "linecolor": "white",
             "minorgridcolor": "white",
             "startlinecolor": "#2a3f5f"
            },
            "baxis": {
             "endlinecolor": "#2a3f5f",
             "gridcolor": "white",
             "linecolor": "white",
             "minorgridcolor": "white",
             "startlinecolor": "#2a3f5f"
            },
            "type": "carpet"
           }
          ],
          "choropleth": [
           {
            "colorbar": {
             "outlinewidth": 0,
             "ticks": ""
            },
            "type": "choropleth"
           }
          ],
          "contour": [
           {
            "colorbar": {
             "outlinewidth": 0,
             "ticks": ""
            },
            "colorscale": [
             [
              0,
              "#0d0887"
             ],
             [
              0.1111111111111111,
              "#46039f"
             ],
             [
              0.2222222222222222,
              "#7201a8"
             ],
             [
              0.3333333333333333,
              "#9c179e"
             ],
             [
              0.4444444444444444,
              "#bd3786"
             ],
             [
              0.5555555555555556,
              "#d8576b"
             ],
             [
              0.6666666666666666,
              "#ed7953"
             ],
             [
              0.7777777777777778,
              "#fb9f3a"
             ],
             [
              0.8888888888888888,
              "#fdca26"
             ],
             [
              1,
              "#f0f921"
             ]
            ],
            "type": "contour"
           }
          ],
          "contourcarpet": [
           {
            "colorbar": {
             "outlinewidth": 0,
             "ticks": ""
            },
            "type": "contourcarpet"
           }
          ],
          "heatmap": [
           {
            "colorbar": {
             "outlinewidth": 0,
             "ticks": ""
            },
            "colorscale": [
             [
              0,
              "#0d0887"
             ],
             [
              0.1111111111111111,
              "#46039f"
             ],
             [
              0.2222222222222222,
              "#7201a8"
             ],
             [
              0.3333333333333333,
              "#9c179e"
             ],
             [
              0.4444444444444444,
              "#bd3786"
             ],
             [
              0.5555555555555556,
              "#d8576b"
             ],
             [
              0.6666666666666666,
              "#ed7953"
             ],
             [
              0.7777777777777778,
              "#fb9f3a"
             ],
             [
              0.8888888888888888,
              "#fdca26"
             ],
             [
              1,
              "#f0f921"
             ]
            ],
            "type": "heatmap"
           }
          ],
          "heatmapgl": [
           {
            "colorbar": {
             "outlinewidth": 0,
             "ticks": ""
            },
            "colorscale": [
             [
              0,
              "#0d0887"
             ],
             [
              0.1111111111111111,
              "#46039f"
             ],
             [
              0.2222222222222222,
              "#7201a8"
             ],
             [
              0.3333333333333333,
              "#9c179e"
             ],
             [
              0.4444444444444444,
              "#bd3786"
             ],
             [
              0.5555555555555556,
              "#d8576b"
             ],
             [
              0.6666666666666666,
              "#ed7953"
             ],
             [
              0.7777777777777778,
              "#fb9f3a"
             ],
             [
              0.8888888888888888,
              "#fdca26"
             ],
             [
              1,
              "#f0f921"
             ]
            ],
            "type": "heatmapgl"
           }
          ],
          "histogram": [
           {
            "marker": {
             "colorbar": {
              "outlinewidth": 0,
              "ticks": ""
             }
            },
            "type": "histogram"
           }
          ],
          "histogram2d": [
           {
            "colorbar": {
             "outlinewidth": 0,
             "ticks": ""
            },
            "colorscale": [
             [
              0,
              "#0d0887"
             ],
             [
              0.1111111111111111,
              "#46039f"
             ],
             [
              0.2222222222222222,
              "#7201a8"
             ],
             [
              0.3333333333333333,
              "#9c179e"
             ],
             [
              0.4444444444444444,
              "#bd3786"
             ],
             [
              0.5555555555555556,
              "#d8576b"
             ],
             [
              0.6666666666666666,
              "#ed7953"
             ],
             [
              0.7777777777777778,
              "#fb9f3a"
             ],
             [
              0.8888888888888888,
              "#fdca26"
             ],
             [
              1,
              "#f0f921"
             ]
            ],
            "type": "histogram2d"
           }
          ],
          "histogram2dcontour": [
           {
            "colorbar": {
             "outlinewidth": 0,
             "ticks": ""
            },
            "colorscale": [
             [
              0,
              "#0d0887"
             ],
             [
              0.1111111111111111,
              "#46039f"
             ],
             [
              0.2222222222222222,
              "#7201a8"
             ],
             [
              0.3333333333333333,
              "#9c179e"
             ],
             [
              0.4444444444444444,
              "#bd3786"
             ],
             [
              0.5555555555555556,
              "#d8576b"
             ],
             [
              0.6666666666666666,
              "#ed7953"
             ],
             [
              0.7777777777777778,
              "#fb9f3a"
             ],
             [
              0.8888888888888888,
              "#fdca26"
             ],
             [
              1,
              "#f0f921"
             ]
            ],
            "type": "histogram2dcontour"
           }
          ],
          "mesh3d": [
           {
            "colorbar": {
             "outlinewidth": 0,
             "ticks": ""
            },
            "type": "mesh3d"
           }
          ],
          "parcoords": [
           {
            "line": {
             "colorbar": {
              "outlinewidth": 0,
              "ticks": ""
             }
            },
            "type": "parcoords"
           }
          ],
          "pie": [
           {
            "automargin": true,
            "type": "pie"
           }
          ],
          "scatter": [
           {
            "marker": {
             "colorbar": {
              "outlinewidth": 0,
              "ticks": ""
             }
            },
            "type": "scatter"
           }
          ],
          "scatter3d": [
           {
            "line": {
             "colorbar": {
              "outlinewidth": 0,
              "ticks": ""
             }
            },
            "marker": {
             "colorbar": {
              "outlinewidth": 0,
              "ticks": ""
             }
            },
            "type": "scatter3d"
           }
          ],
          "scattercarpet": [
           {
            "marker": {
             "colorbar": {
              "outlinewidth": 0,
              "ticks": ""
             }
            },
            "type": "scattercarpet"
           }
          ],
          "scattergeo": [
           {
            "marker": {
             "colorbar": {
              "outlinewidth": 0,
              "ticks": ""
             }
            },
            "type": "scattergeo"
           }
          ],
          "scattergl": [
           {
            "marker": {
             "colorbar": {
              "outlinewidth": 0,
              "ticks": ""
             }
            },
            "type": "scattergl"
           }
          ],
          "scattermapbox": [
           {
            "marker": {
             "colorbar": {
              "outlinewidth": 0,
              "ticks": ""
             }
            },
            "type": "scattermapbox"
           }
          ],
          "scatterpolar": [
           {
            "marker": {
             "colorbar": {
              "outlinewidth": 0,
              "ticks": ""
             }
            },
            "type": "scatterpolar"
           }
          ],
          "scatterpolargl": [
           {
            "marker": {
             "colorbar": {
              "outlinewidth": 0,
              "ticks": ""
             }
            },
            "type": "scatterpolargl"
           }
          ],
          "scatterternary": [
           {
            "marker": {
             "colorbar": {
              "outlinewidth": 0,
              "ticks": ""
             }
            },
            "type": "scatterternary"
           }
          ],
          "surface": [
           {
            "colorbar": {
             "outlinewidth": 0,
             "ticks": ""
            },
            "colorscale": [
             [
              0,
              "#0d0887"
             ],
             [
              0.1111111111111111,
              "#46039f"
             ],
             [
              0.2222222222222222,
              "#7201a8"
             ],
             [
              0.3333333333333333,
              "#9c179e"
             ],
             [
              0.4444444444444444,
              "#bd3786"
             ],
             [
              0.5555555555555556,
              "#d8576b"
             ],
             [
              0.6666666666666666,
              "#ed7953"
             ],
             [
              0.7777777777777778,
              "#fb9f3a"
             ],
             [
              0.8888888888888888,
              "#fdca26"
             ],
             [
              1,
              "#f0f921"
             ]
            ],
            "type": "surface"
           }
          ],
          "table": [
           {
            "cells": {
             "fill": {
              "color": "#EBF0F8"
             },
             "line": {
              "color": "white"
             }
            },
            "header": {
             "fill": {
              "color": "#C8D4E3"
             },
             "line": {
              "color": "white"
             }
            },
            "type": "table"
           }
          ]
         },
         "layout": {
          "annotationdefaults": {
           "arrowcolor": "#2a3f5f",
           "arrowhead": 0,
           "arrowwidth": 1
          },
          "coloraxis": {
           "colorbar": {
            "outlinewidth": 0,
            "ticks": ""
           }
          },
          "colorscale": {
           "diverging": [
            [
             0,
             "#8e0152"
            ],
            [
             0.1,
             "#c51b7d"
            ],
            [
             0.2,
             "#de77ae"
            ],
            [
             0.3,
             "#f1b6da"
            ],
            [
             0.4,
             "#fde0ef"
            ],
            [
             0.5,
             "#f7f7f7"
            ],
            [
             0.6,
             "#e6f5d0"
            ],
            [
             0.7,
             "#b8e186"
            ],
            [
             0.8,
             "#7fbc41"
            ],
            [
             0.9,
             "#4d9221"
            ],
            [
             1,
             "#276419"
            ]
           ],
           "sequential": [
            [
             0,
             "#0d0887"
            ],
            [
             0.1111111111111111,
             "#46039f"
            ],
            [
             0.2222222222222222,
             "#7201a8"
            ],
            [
             0.3333333333333333,
             "#9c179e"
            ],
            [
             0.4444444444444444,
             "#bd3786"
            ],
            [
             0.5555555555555556,
             "#d8576b"
            ],
            [
             0.6666666666666666,
             "#ed7953"
            ],
            [
             0.7777777777777778,
             "#fb9f3a"
            ],
            [
             0.8888888888888888,
             "#fdca26"
            ],
            [
             1,
             "#f0f921"
            ]
           ],
           "sequentialminus": [
            [
             0,
             "#0d0887"
            ],
            [
             0.1111111111111111,
             "#46039f"
            ],
            [
             0.2222222222222222,
             "#7201a8"
            ],
            [
             0.3333333333333333,
             "#9c179e"
            ],
            [
             0.4444444444444444,
             "#bd3786"
            ],
            [
             0.5555555555555556,
             "#d8576b"
            ],
            [
             0.6666666666666666,
             "#ed7953"
            ],
            [
             0.7777777777777778,
             "#fb9f3a"
            ],
            [
             0.8888888888888888,
             "#fdca26"
            ],
            [
             1,
             "#f0f921"
            ]
           ]
          },
          "colorway": [
           "#636efa",
           "#EF553B",
           "#00cc96",
           "#ab63fa",
           "#FFA15A",
           "#19d3f3",
           "#FF6692",
           "#B6E880",
           "#FF97FF",
           "#FECB52"
          ],
          "font": {
           "color": "#2a3f5f"
          },
          "geo": {
           "bgcolor": "white",
           "lakecolor": "white",
           "landcolor": "#E5ECF6",
           "showlakes": true,
           "showland": true,
           "subunitcolor": "white"
          },
          "hoverlabel": {
           "align": "left"
          },
          "hovermode": "closest",
          "mapbox": {
           "style": "light"
          },
          "paper_bgcolor": "white",
          "plot_bgcolor": "#E5ECF6",
          "polar": {
           "angularaxis": {
            "gridcolor": "white",
            "linecolor": "white",
            "ticks": ""
           },
           "bgcolor": "#E5ECF6",
           "radialaxis": {
            "gridcolor": "white",
            "linecolor": "white",
            "ticks": ""
           }
          },
          "scene": {
           "xaxis": {
            "backgroundcolor": "#E5ECF6",
            "gridcolor": "white",
            "gridwidth": 2,
            "linecolor": "white",
            "showbackground": true,
            "ticks": "",
            "zerolinecolor": "white"
           },
           "yaxis": {
            "backgroundcolor": "#E5ECF6",
            "gridcolor": "white",
            "gridwidth": 2,
            "linecolor": "white",
            "showbackground": true,
            "ticks": "",
            "zerolinecolor": "white"
           },
           "zaxis": {
            "backgroundcolor": "#E5ECF6",
            "gridcolor": "white",
            "gridwidth": 2,
            "linecolor": "white",
            "showbackground": true,
            "ticks": "",
            "zerolinecolor": "white"
           }
          },
          "shapedefaults": {
           "line": {
            "color": "#2a3f5f"
           }
          },
          "ternary": {
           "aaxis": {
            "gridcolor": "white",
            "linecolor": "white",
            "ticks": ""
           },
           "baxis": {
            "gridcolor": "white",
            "linecolor": "white",
            "ticks": ""
           },
           "bgcolor": "#E5ECF6",
           "caxis": {
            "gridcolor": "white",
            "linecolor": "white",
            "ticks": ""
           }
          },
          "title": {
           "x": 0.05
          },
          "xaxis": {
           "automargin": true,
           "gridcolor": "white",
           "linecolor": "white",
           "ticks": "",
           "title": {
            "standoff": 15
           },
           "zerolinecolor": "white",
           "zerolinewidth": 2
          },
          "yaxis": {
           "automargin": true,
           "gridcolor": "white",
           "linecolor": "white",
           "ticks": "",
           "title": {
            "standoff": 15
           },
           "zerolinecolor": "white",
           "zerolinewidth": 2
          }
         }
        },
        "title": {
         "text": "Time Series Max_DS provincia di MI"
        },
        "xaxis": {
         "anchor": "y",
         "domain": [
          0,
          1
         ]
        },
        "yaxis": {
         "anchor": "x",
         "domain": [
          0,
          1
         ]
        }
       }
      },
      "text/html": [
       "<div>\n",
       "        \n",
       "        \n",
       "            <div id=\"3014ac51-c823-4130-9965-ba7d67aa1651\" class=\"plotly-graph-div\" style=\"height:900px; width:100%;\"></div>\n",
       "            <script type=\"text/javascript\">\n",
       "                require([\"plotly\"], function(Plotly) {\n",
       "                    window.PLOTLYENV=window.PLOTLYENV || {};\n",
       "                    \n",
       "                if (document.getElementById(\"3014ac51-c823-4130-9965-ba7d67aa1651\")) {\n",
       "                    Plotly.newPlot(\n",
       "                        '3014ac51-c823-4130-9965-ba7d67aa1651',\n",
       "                        [{\"line\": {\"color\": \"#17BECF\"}, \"name\": \"SUM(MAX_DS)\", \"opacity\": 0.8, \"type\": \"scatter\", \"x\": [\"2019-12-23T00:00:00\", \"2019-12-23T03:00:00\", \"2019-12-23T06:00:00\", \"2019-12-23T09:00:00\", \"2019-12-23T12:00:00\", \"2019-12-23T15:00:00\", \"2019-12-23T18:00:00\", \"2019-12-23T21:00:00\", \"2019-12-24T00:00:00\", \"2019-12-24T03:00:00\", \"2019-12-24T06:00:00\", \"2019-12-24T09:00:00\", \"2019-12-24T12:00:00\", \"2019-12-24T15:00:00\", \"2019-12-24T18:00:00\", \"2019-12-24T21:00:00\", \"2019-12-25T00:00:00\", \"2019-12-25T03:00:00\", \"2019-12-25T06:00:00\", \"2019-12-25T09:00:00\", \"2019-12-25T12:00:00\", \"2019-12-25T15:00:00\", \"2019-12-25T18:00:00\", \"2019-12-25T21:00:00\", \"2019-12-26T00:00:00\", \"2019-12-26T03:00:00\", \"2019-12-26T06:00:00\", \"2019-12-26T09:00:00\", \"2019-12-26T12:00:00\", \"2019-12-26T15:00:00\", \"2019-12-26T18:00:00\", \"2019-12-26T21:00:00\", \"2019-12-27T00:00:00\", \"2019-12-27T03:00:00\", \"2019-12-27T06:00:00\", \"2019-12-27T09:00:00\", \"2019-12-27T12:00:00\", \"2019-12-27T15:00:00\", \"2019-12-27T18:00:00\", \"2019-12-27T21:00:00\", \"2019-12-28T00:00:00\", \"2019-12-28T03:00:00\", \"2019-12-28T06:00:00\", \"2019-12-28T09:00:00\", \"2019-12-28T12:00:00\", \"2019-12-28T15:00:00\", \"2019-12-28T18:00:00\", \"2019-12-28T21:00:00\", \"2019-12-29T00:00:00\", \"2019-12-29T03:00:00\", \"2019-12-29T06:00:00\", \"2019-12-29T09:00:00\", \"2019-12-29T12:00:00\", \"2019-12-29T15:00:00\", \"2019-12-29T18:00:00\", \"2019-12-29T21:00:00\"], \"xaxis\": \"x\", \"y\": [173.3683, 9.8933, null, 34.274566666666665, 232.6067857142857, 97.26151666666668, 228.6090909090909, 2408.8791, 661.2175, null, 30.3979, 74.11836666666666, 569.2037874999999, 677.7695, 382.20679166666656, 544.3800083333333, 407.5237, null, 19.2472, 79.58086, 43.3513, 128.70276666666666, 462.93108, 2039.2765666666662, 217.91844, null, null, 74.79745, 184.2861125, 290.89526666666666, 775.6363636363636, 1589.9457583333333, 150.03067500000003, null, null, 335.9694, 291.2582714285714, 279.92914, 238.5898909090909, 2117.844372727273, 137.911975, null, null, null, 150.18701428571427, 248.93809000000002, 257.5846272727273, 2002.7955666666667, 442.233025, null, null, 47.0665, 320.0241833333334, 266.37298181818187, 489.9839, 1745.495475], \"yaxis\": \"y\"}, {\"line\": {\"color\": \"#7F7F7F\"}, \"name\": \"SUM(MAX_DS)\", \"opacity\": 0.8, \"type\": \"scatter\", \"x\": [\"2019-12-30T00:00:00\", \"2019-12-30T03:00:00\", \"2019-12-30T06:00:00\", \"2019-12-30T09:00:00\", \"2019-12-30T12:00:00\", \"2019-12-30T15:00:00\", \"2019-12-30T18:00:00\", \"2019-12-30T21:00:00\", \"2019-12-31T00:00:00\", \"2019-12-31T03:00:00\", \"2019-12-31T06:00:00\", \"2019-12-31T09:00:00\", \"2019-12-31T12:00:00\", \"2019-12-31T15:00:00\", \"2019-12-31T18:00:00\", \"2019-12-31T21:00:00\", \"2020-01-01T00:00:00\", \"2020-01-01T03:00:00\", \"2020-01-01T06:00:00\", \"2020-01-01T09:00:00\", \"2020-01-01T12:00:00\", \"2020-01-01T15:00:00\", \"2020-01-01T18:00:00\", \"2020-01-01T21:00:00\", \"2020-01-02T00:00:00\", \"2020-01-02T03:00:00\", \"2020-01-02T06:00:00\", \"2020-01-02T09:00:00\", \"2020-01-02T12:00:00\", \"2020-01-02T15:00:00\", \"2020-01-02T18:00:00\", \"2020-01-02T21:00:00\", \"2020-01-03T00:00:00\", \"2020-01-03T03:00:00\", \"2020-01-03T06:00:00\", \"2020-01-03T09:00:00\", \"2020-01-03T12:00:00\", \"2020-01-03T15:00:00\", \"2020-01-03T18:00:00\", \"2020-01-03T21:00:00\", \"2020-01-04T00:00:00\", \"2020-01-04T03:00:00\", \"2020-01-04T06:00:00\", \"2020-01-04T09:00:00\", \"2020-01-04T12:00:00\", \"2020-01-04T15:00:00\", \"2020-01-04T18:00:00\", \"2020-01-04T21:00:00\", \"2020-01-05T00:00:00\", \"2020-01-05T03:00:00\", \"2020-01-05T06:00:00\", \"2020-01-05T09:00:00\", \"2020-01-05T12:00:00\", \"2020-01-05T15:00:00\", \"2020-01-05T18:00:00\", \"2020-01-05T21:00:00\"], \"xaxis\": \"x\", \"y\": [338.9395, 332.1583, null, null, 92.29045, 122.74523333333335, 270.7106, 2038.8911583333331, 1117.108014285714, null, null, 23.055875, 501.7068125, 735.2722, 358.30254444444444, 152.762175, 306.935, null, null, 25.4368, 53.68775000000001, 319.85817272727274, 399.95565833333336, 1944.940291666666, 156.0684, null, null, 18.3433, 78.5807, 254.60891999999998, 457.0664222222223, 2099.7865500000003, 76.10655, null, null, null, 130.2531, 81.21461428571429, 353.37269999999995, 2196.101008333333, 359.683125, null, null, 36.004000000000005, 115.54351111111113, 182.02659, 291.85905, 2286.671863636364, 56.22053333333334, null, null, null, 88.63373333333334, 206.70369, 232.82956, 2604.1565000000005], \"yaxis\": \"y\"}, {\"line\": {\"color\": \"#32CD32\"}, \"name\": \"SUM(MAX_DS)\", \"opacity\": 0.8, \"type\": \"scatter\", \"x\": [\"2020-01-06T00:00:00\", \"2020-01-06T03:00:00\", \"2020-01-06T06:00:00\", \"2020-01-06T09:00:00\", \"2020-01-06T12:00:00\", \"2020-01-06T15:00:00\", \"2020-01-06T18:00:00\", \"2020-01-06T21:00:00\", \"2020-01-07T00:00:00\", \"2020-01-07T03:00:00\", \"2020-01-07T06:00:00\", \"2020-01-07T09:00:00\", \"2020-01-07T12:00:00\", \"2020-01-07T15:00:00\", \"2020-01-07T18:00:00\", \"2020-01-07T21:00:00\", \"2020-01-08T00:00:00\", \"2020-01-08T03:00:00\", \"2020-01-08T06:00:00\", \"2020-01-08T09:00:00\", \"2020-01-08T12:00:00\", \"2020-01-08T15:00:00\", \"2020-01-08T18:00:00\", \"2020-01-08T21:00:00\", \"2020-01-09T00:00:00\", \"2020-01-09T03:00:00\", \"2020-01-09T06:00:00\", \"2020-01-09T09:00:00\", \"2020-01-09T12:00:00\", \"2020-01-09T15:00:00\", \"2020-01-09T18:00:00\", \"2020-01-09T21:00:00\", \"2020-01-10T00:00:00\", \"2020-01-10T03:00:00\", \"2020-01-10T06:00:00\", \"2020-01-10T09:00:00\", \"2020-01-10T12:00:00\", \"2020-01-10T15:00:00\", \"2020-01-10T18:00:00\", \"2020-01-10T21:00:00\", \"2020-01-11T00:00:00\", \"2020-01-11T03:00:00\", \"2020-01-11T06:00:00\", \"2020-01-11T09:00:00\", \"2020-01-11T12:00:00\", \"2020-01-11T15:00:00\", \"2020-01-11T18:00:00\", \"2020-01-11T21:00:00\", \"2020-01-12T00:00:00\", \"2020-01-12T03:00:00\", \"2020-01-12T06:00:00\", \"2020-01-12T09:00:00\", \"2020-01-12T12:00:00\", \"2020-01-12T15:00:00\", \"2020-01-12T18:00:00\", \"2020-01-12T21:00:00\"], \"xaxis\": \"x\", \"y\": [135.9698, null, 18.3794, 61.18755, 313.26421999999997, 258.58094444444447, 254.78966363636357, 2883.427881818182, 90.28559999999999, null, null, null, 33.8613, 234.64233333333334, 173.31353, 3306.03417, 59.14, null, null, null, 185.391, 61.84742857142857, 220.011875, 2602.2291666666665, 50.50783333333334, null, null, null, 70.85403333333333, 128.46060000000003, 320.1804, 2700.0543636363636, 594.29805, null, null, null, 132.6106, 95.907075, 226.0235090909091, 2402.5465249999997, 733.3119, null, null, 19.60415, 484.75426666666664, 90.51110000000001, 238.31875714285712, 3169.8947272727264, 65.949325, null, null, null, 61.30072, 257.40541999999994, 283.06786, 3022.1775090909096], \"yaxis\": \"y\"}, {\"line\": {\"color\": \"#AD9B0C\"}, \"name\": \"SUM(MAX_DS)\", \"opacity\": 0.8, \"type\": \"scatter\", \"x\": [\"2020-01-13T00:00:00\", \"2020-01-13T03:00:00\", \"2020-01-13T06:00:00\", \"2020-01-13T09:00:00\", \"2020-01-13T12:00:00\", \"2020-01-13T15:00:00\", \"2020-01-13T18:00:00\", \"2020-01-13T21:00:00\", \"2020-01-14T00:00:00\", \"2020-01-14T03:00:00\", \"2020-01-14T06:00:00\", \"2020-01-14T09:00:00\", \"2020-01-14T12:00:00\", \"2020-01-14T15:00:00\", \"2020-01-14T18:00:00\", \"2020-01-14T21:00:00\", \"2020-01-15T00:00:00\", \"2020-01-15T03:00:00\", \"2020-01-15T06:00:00\", \"2020-01-15T09:00:00\", \"2020-01-15T12:00:00\", \"2020-01-15T15:00:00\", \"2020-01-15T18:00:00\", \"2020-01-15T21:00:00\", \"2020-01-16T00:00:00\", \"2020-01-16T03:00:00\", \"2020-01-16T06:00:00\", \"2020-01-16T09:00:00\", \"2020-01-16T12:00:00\", \"2020-01-16T15:00:00\", \"2020-01-16T18:00:00\", \"2020-01-16T21:00:00\", \"2020-01-17T00:00:00\", \"2020-01-17T03:00:00\", \"2020-01-17T06:00:00\", \"2020-01-17T09:00:00\", \"2020-01-17T12:00:00\", \"2020-01-17T15:00:00\", \"2020-01-17T18:00:00\", \"2020-01-17T21:00:00\", \"2020-01-18T00:00:00\", \"2020-01-18T03:00:00\", \"2020-01-18T06:00:00\", \"2020-01-18T09:00:00\", \"2020-01-18T12:00:00\", \"2020-01-18T15:00:00\", \"2020-01-18T18:00:00\", \"2020-01-18T21:00:00\", \"2020-01-19T00:00:00\", \"2020-01-19T03:00:00\", \"2020-01-19T06:00:00\", \"2020-01-19T09:00:00\", \"2020-01-19T12:00:00\", \"2020-01-19T15:00:00\", \"2020-01-19T18:00:00\", \"2020-01-19T21:00:00\"], \"xaxis\": \"x\", \"y\": [80.96043333333333, null, null, null, 282.2633333333333, 96.86661999999998, 141.7693875, 3012.686481818181, null, null, null, null, 67.3853, 148.08035555555554, 349.92216666666667, 2492.852525, 33.2124, null, null, null, 96.82321666666667, 233.4903875, 288.8213222222222, 2606.7678083333335, 168.3581, null, null, null, 67.64866666666667, 346.66696249999995, 275.08508, 2720.0150363636367, 130.1024, null, null, null, 177.15522499999997, 112.25606666666665, 247.31905454545452, 2731.8805545454543, 99.24340000000001, null, null, 224.5708, 363.98474285714286, 362.55461, 118.54242857142859, 2365.390191666667, 29.3571, null, null, null, 359.8750125, 259.33433, 307.2243444444445, 2680.3799416666666], \"yaxis\": \"y\"}, {\"line\": {\"color\": \"#B22222\"}, \"name\": \"SUM(MAX_DS)\", \"opacity\": 0.8, \"type\": \"scatter\", \"x\": [\"2020-01-20T00:00:00\", \"2020-01-20T03:00:00\", \"2020-01-20T06:00:00\", \"2020-01-20T09:00:00\", \"2020-01-20T12:00:00\", \"2020-01-20T15:00:00\", \"2020-01-20T18:00:00\", \"2020-01-20T21:00:00\", \"2020-01-21T00:00:00\", \"2020-01-21T03:00:00\", \"2020-01-21T06:00:00\", \"2020-01-21T09:00:00\", \"2020-01-21T12:00:00\", \"2020-01-21T15:00:00\", \"2020-01-21T18:00:00\", \"2020-01-21T21:00:00\", \"2020-01-22T00:00:00\", \"2020-01-22T03:00:00\", \"2020-01-22T06:00:00\", \"2020-01-22T09:00:00\", \"2020-01-22T12:00:00\", \"2020-01-22T15:00:00\", \"2020-01-22T18:00:00\", \"2020-01-22T21:00:00\", \"2020-01-23T00:00:00\", \"2020-01-23T03:00:00\", \"2020-01-23T06:00:00\", \"2020-01-23T09:00:00\", \"2020-01-23T12:00:00\", \"2020-01-23T15:00:00\", \"2020-01-23T18:00:00\", \"2020-01-23T21:00:00\", \"2020-01-24T00:00:00\", \"2020-01-24T03:00:00\", \"2020-01-24T06:00:00\", \"2020-01-24T09:00:00\", \"2020-01-24T12:00:00\", \"2020-01-24T15:00:00\", \"2020-01-24T18:00:00\", \"2020-01-24T21:00:00\", \"2020-01-25T00:00:00\", \"2020-01-25T03:00:00\", \"2020-01-25T06:00:00\", \"2020-01-25T09:00:00\", \"2020-01-25T12:00:00\", \"2020-01-25T15:00:00\", \"2020-01-25T18:00:00\", \"2020-01-25T21:00:00\", \"2020-01-26T00:00:00\", \"2020-01-26T03:00:00\", \"2020-01-26T06:00:00\", \"2020-01-26T09:00:00\", \"2020-01-26T12:00:00\", \"2020-01-26T15:00:00\", \"2020-01-26T18:00:00\", \"2020-01-26T21:00:00\"], \"xaxis\": \"x\", \"y\": [31.40775, null, null, 367.8533, 498.0571, 143.4231, 302.5164875, 2647.200625, 58.7575, null, null, null, 364.44669999999996, 184.88558, 318.44475, 2401.3152666666665, 69.2653, null, null, 60.7311, 57.0992, 371.8139857142857, 438.84129090909084, 2597.314181818181, 364.84305, null, null, 15.8747, 438.34695, 176.23026249999998, 318.38307, 2402.1845083333333, 247.3863, null, 25.3044, 33.3525, 37.5994, 325.28792, 338.11616666666663, 2554.971227272727, 22.623, null, null, 62.16025, 312.82557499999996, 432.3977545454545, 491.83027999999996, 1974.5706249999996, 21.6941, null, null, null, 497.5844222222222, 290.38735454545457, 282.4534181818181, 2802.1574800000008], \"yaxis\": \"y\"}],\n",
       "                        {\"height\": 900, \"showlegend\": false, \"template\": {\"data\": {\"bar\": [{\"error_x\": {\"color\": \"#2a3f5f\"}, \"error_y\": {\"color\": \"#2a3f5f\"}, \"marker\": {\"line\": {\"color\": \"#E5ECF6\", \"width\": 0.5}}, \"type\": \"bar\"}], \"barpolar\": [{\"marker\": {\"line\": {\"color\": \"#E5ECF6\", \"width\": 0.5}}, \"type\": \"barpolar\"}], \"carpet\": [{\"aaxis\": {\"endlinecolor\": \"#2a3f5f\", \"gridcolor\": \"white\", \"linecolor\": \"white\", \"minorgridcolor\": \"white\", \"startlinecolor\": \"#2a3f5f\"}, \"baxis\": {\"endlinecolor\": \"#2a3f5f\", \"gridcolor\": \"white\", \"linecolor\": \"white\", \"minorgridcolor\": \"white\", \"startlinecolor\": \"#2a3f5f\"}, \"type\": \"carpet\"}], \"choropleth\": [{\"colorbar\": {\"outlinewidth\": 0, \"ticks\": \"\"}, \"type\": \"choropleth\"}], \"contour\": [{\"colorbar\": {\"outlinewidth\": 0, \"ticks\": \"\"}, \"colorscale\": [[0.0, \"#0d0887\"], [0.1111111111111111, \"#46039f\"], [0.2222222222222222, \"#7201a8\"], [0.3333333333333333, \"#9c179e\"], [0.4444444444444444, \"#bd3786\"], [0.5555555555555556, \"#d8576b\"], [0.6666666666666666, \"#ed7953\"], [0.7777777777777778, \"#fb9f3a\"], [0.8888888888888888, \"#fdca26\"], [1.0, \"#f0f921\"]], \"type\": \"contour\"}], \"contourcarpet\": [{\"colorbar\": {\"outlinewidth\": 0, \"ticks\": \"\"}, \"type\": \"contourcarpet\"}], \"heatmap\": [{\"colorbar\": {\"outlinewidth\": 0, \"ticks\": \"\"}, \"colorscale\": [[0.0, \"#0d0887\"], [0.1111111111111111, \"#46039f\"], [0.2222222222222222, \"#7201a8\"], [0.3333333333333333, \"#9c179e\"], [0.4444444444444444, \"#bd3786\"], [0.5555555555555556, \"#d8576b\"], [0.6666666666666666, \"#ed7953\"], [0.7777777777777778, \"#fb9f3a\"], [0.8888888888888888, \"#fdca26\"], [1.0, \"#f0f921\"]], \"type\": \"heatmap\"}], \"heatmapgl\": [{\"colorbar\": {\"outlinewidth\": 0, \"ticks\": \"\"}, \"colorscale\": [[0.0, \"#0d0887\"], [0.1111111111111111, \"#46039f\"], [0.2222222222222222, \"#7201a8\"], [0.3333333333333333, \"#9c179e\"], [0.4444444444444444, \"#bd3786\"], [0.5555555555555556, \"#d8576b\"], [0.6666666666666666, \"#ed7953\"], [0.7777777777777778, \"#fb9f3a\"], [0.8888888888888888, \"#fdca26\"], [1.0, \"#f0f921\"]], \"type\": \"heatmapgl\"}], \"histogram\": [{\"marker\": {\"colorbar\": {\"outlinewidth\": 0, \"ticks\": \"\"}}, \"type\": \"histogram\"}], \"histogram2d\": [{\"colorbar\": {\"outlinewidth\": 0, \"ticks\": \"\"}, \"colorscale\": [[0.0, \"#0d0887\"], [0.1111111111111111, \"#46039f\"], [0.2222222222222222, \"#7201a8\"], [0.3333333333333333, \"#9c179e\"], [0.4444444444444444, \"#bd3786\"], [0.5555555555555556, \"#d8576b\"], [0.6666666666666666, \"#ed7953\"], [0.7777777777777778, \"#fb9f3a\"], [0.8888888888888888, \"#fdca26\"], [1.0, \"#f0f921\"]], \"type\": \"histogram2d\"}], \"histogram2dcontour\": [{\"colorbar\": {\"outlinewidth\": 0, \"ticks\": \"\"}, \"colorscale\": [[0.0, \"#0d0887\"], [0.1111111111111111, \"#46039f\"], [0.2222222222222222, \"#7201a8\"], [0.3333333333333333, \"#9c179e\"], [0.4444444444444444, \"#bd3786\"], [0.5555555555555556, \"#d8576b\"], [0.6666666666666666, \"#ed7953\"], [0.7777777777777778, \"#fb9f3a\"], [0.8888888888888888, \"#fdca26\"], [1.0, \"#f0f921\"]], \"type\": \"histogram2dcontour\"}], \"mesh3d\": [{\"colorbar\": {\"outlinewidth\": 0, \"ticks\": \"\"}, \"type\": \"mesh3d\"}], \"parcoords\": [{\"line\": {\"colorbar\": {\"outlinewidth\": 0, \"ticks\": \"\"}}, \"type\": \"parcoords\"}], \"pie\": [{\"automargin\": true, \"type\": \"pie\"}], \"scatter\": [{\"marker\": {\"colorbar\": {\"outlinewidth\": 0, \"ticks\": \"\"}}, \"type\": \"scatter\"}], \"scatter3d\": [{\"line\": {\"colorbar\": {\"outlinewidth\": 0, \"ticks\": \"\"}}, \"marker\": {\"colorbar\": {\"outlinewidth\": 0, \"ticks\": \"\"}}, \"type\": \"scatter3d\"}], \"scattercarpet\": [{\"marker\": {\"colorbar\": {\"outlinewidth\": 0, \"ticks\": \"\"}}, \"type\": \"scattercarpet\"}], \"scattergeo\": [{\"marker\": {\"colorbar\": {\"outlinewidth\": 0, \"ticks\": \"\"}}, \"type\": \"scattergeo\"}], \"scattergl\": [{\"marker\": {\"colorbar\": {\"outlinewidth\": 0, \"ticks\": \"\"}}, \"type\": \"scattergl\"}], \"scattermapbox\": [{\"marker\": {\"colorbar\": {\"outlinewidth\": 0, \"ticks\": \"\"}}, \"type\": \"scattermapbox\"}], \"scatterpolar\": [{\"marker\": {\"colorbar\": {\"outlinewidth\": 0, \"ticks\": \"\"}}, \"type\": \"scatterpolar\"}], \"scatterpolargl\": [{\"marker\": {\"colorbar\": {\"outlinewidth\": 0, \"ticks\": \"\"}}, \"type\": \"scatterpolargl\"}], \"scatterternary\": [{\"marker\": {\"colorbar\": {\"outlinewidth\": 0, \"ticks\": \"\"}}, \"type\": \"scatterternary\"}], \"surface\": [{\"colorbar\": {\"outlinewidth\": 0, \"ticks\": \"\"}, \"colorscale\": [[0.0, \"#0d0887\"], [0.1111111111111111, \"#46039f\"], [0.2222222222222222, \"#7201a8\"], [0.3333333333333333, \"#9c179e\"], [0.4444444444444444, \"#bd3786\"], [0.5555555555555556, \"#d8576b\"], [0.6666666666666666, \"#ed7953\"], [0.7777777777777778, \"#fb9f3a\"], [0.8888888888888888, \"#fdca26\"], [1.0, \"#f0f921\"]], \"type\": \"surface\"}], \"table\": [{\"cells\": {\"fill\": {\"color\": \"#EBF0F8\"}, \"line\": {\"color\": \"white\"}}, \"header\": {\"fill\": {\"color\": \"#C8D4E3\"}, \"line\": {\"color\": \"white\"}}, \"type\": \"table\"}]}, \"layout\": {\"annotationdefaults\": {\"arrowcolor\": \"#2a3f5f\", \"arrowhead\": 0, \"arrowwidth\": 1}, \"coloraxis\": {\"colorbar\": {\"outlinewidth\": 0, \"ticks\": \"\"}}, \"colorscale\": {\"diverging\": [[0, \"#8e0152\"], [0.1, \"#c51b7d\"], [0.2, \"#de77ae\"], [0.3, \"#f1b6da\"], [0.4, \"#fde0ef\"], [0.5, \"#f7f7f7\"], [0.6, \"#e6f5d0\"], [0.7, \"#b8e186\"], [0.8, \"#7fbc41\"], [0.9, \"#4d9221\"], [1, \"#276419\"]], \"sequential\": [[0.0, \"#0d0887\"], [0.1111111111111111, \"#46039f\"], [0.2222222222222222, \"#7201a8\"], [0.3333333333333333, \"#9c179e\"], [0.4444444444444444, \"#bd3786\"], [0.5555555555555556, \"#d8576b\"], [0.6666666666666666, \"#ed7953\"], [0.7777777777777778, \"#fb9f3a\"], [0.8888888888888888, \"#fdca26\"], [1.0, \"#f0f921\"]], \"sequentialminus\": [[0.0, \"#0d0887\"], [0.1111111111111111, \"#46039f\"], [0.2222222222222222, \"#7201a8\"], [0.3333333333333333, \"#9c179e\"], [0.4444444444444444, \"#bd3786\"], [0.5555555555555556, \"#d8576b\"], [0.6666666666666666, \"#ed7953\"], [0.7777777777777778, \"#fb9f3a\"], [0.8888888888888888, \"#fdca26\"], [1.0, \"#f0f921\"]]}, \"colorway\": [\"#636efa\", \"#EF553B\", \"#00cc96\", \"#ab63fa\", \"#FFA15A\", \"#19d3f3\", \"#FF6692\", \"#B6E880\", \"#FF97FF\", \"#FECB52\"], \"font\": {\"color\": \"#2a3f5f\"}, \"geo\": {\"bgcolor\": \"white\", \"lakecolor\": \"white\", \"landcolor\": \"#E5ECF6\", \"showlakes\": true, \"showland\": true, \"subunitcolor\": \"white\"}, \"hoverlabel\": {\"align\": \"left\"}, \"hovermode\": \"closest\", \"mapbox\": {\"style\": \"light\"}, \"paper_bgcolor\": \"white\", \"plot_bgcolor\": \"#E5ECF6\", \"polar\": {\"angularaxis\": {\"gridcolor\": \"white\", \"linecolor\": \"white\", \"ticks\": \"\"}, \"bgcolor\": \"#E5ECF6\", \"radialaxis\": {\"gridcolor\": \"white\", \"linecolor\": \"white\", \"ticks\": \"\"}}, \"scene\": {\"xaxis\": {\"backgroundcolor\": \"#E5ECF6\", \"gridcolor\": \"white\", \"gridwidth\": 2, \"linecolor\": \"white\", \"showbackground\": true, \"ticks\": \"\", \"zerolinecolor\": \"white\"}, \"yaxis\": {\"backgroundcolor\": \"#E5ECF6\", \"gridcolor\": \"white\", \"gridwidth\": 2, \"linecolor\": \"white\", \"showbackground\": true, \"ticks\": \"\", \"zerolinecolor\": \"white\"}, \"zaxis\": {\"backgroundcolor\": \"#E5ECF6\", \"gridcolor\": \"white\", \"gridwidth\": 2, \"linecolor\": \"white\", \"showbackground\": true, \"ticks\": \"\", \"zerolinecolor\": \"white\"}}, \"shapedefaults\": {\"line\": {\"color\": \"#2a3f5f\"}}, \"ternary\": {\"aaxis\": {\"gridcolor\": \"white\", \"linecolor\": \"white\", \"ticks\": \"\"}, \"baxis\": {\"gridcolor\": \"white\", \"linecolor\": \"white\", \"ticks\": \"\"}, \"bgcolor\": \"#E5ECF6\", \"caxis\": {\"gridcolor\": \"white\", \"linecolor\": \"white\", \"ticks\": \"\"}}, \"title\": {\"x\": 0.05}, \"xaxis\": {\"automargin\": true, \"gridcolor\": \"white\", \"linecolor\": \"white\", \"ticks\": \"\", \"title\": {\"standoff\": 15}, \"zerolinecolor\": \"white\", \"zerolinewidth\": 2}, \"yaxis\": {\"automargin\": true, \"gridcolor\": \"white\", \"linecolor\": \"white\", \"ticks\": \"\", \"title\": {\"standoff\": 15}, \"zerolinecolor\": \"white\", \"zerolinewidth\": 2}}}, \"title\": {\"text\": \"Time Series Max_DS provincia di MI\"}, \"xaxis\": {\"anchor\": \"y\", \"domain\": [0.0, 1.0]}, \"yaxis\": {\"anchor\": \"x\", \"domain\": [0.0, 1.0]}},\n",
       "                        {\"responsive\": true}\n",
       "                    ).then(function(){\n",
       "                            \n",
       "var gd = document.getElementById('3014ac51-c823-4130-9965-ba7d67aa1651');\n",
       "var x = new MutationObserver(function (mutations, observer) {{\n",
       "        var display = window.getComputedStyle(gd).display;\n",
       "        if (!display || display === 'none') {{\n",
       "            console.log([gd, 'removed!']);\n",
       "            Plotly.purge(gd);\n",
       "            observer.disconnect();\n",
       "        }}\n",
       "}});\n",
       "\n",
       "// Listen for the removal of the full notebook cells\n",
       "var notebookContainer = gd.closest('#notebook-container');\n",
       "if (notebookContainer) {{\n",
       "    x.observe(notebookContainer, {childList: true});\n",
       "}}\n",
       "\n",
       "// Listen for the clearing of the current output cell\n",
       "var outputEl = gd.closest('.output');\n",
       "if (outputEl) {{\n",
       "    x.observe(outputEl, {childList: true});\n",
       "}}\n",
       "\n",
       "                        })\n",
       "                };\n",
       "                });\n",
       "            </script>\n",
       "        </div>"
      ]
     },
     "metadata": {},
     "output_type": "display_data"
    }
   ],
   "source": [
    "fig1 = tools.make_subplots(rows=1, cols=1, specs=[[{}]])\n",
    "\n",
    "fig1.append_trace(trace1, 1,1)\n",
    "fig1.append_trace(trace2, 1,1)\n",
    "fig1.append_trace(trace3, 1,1)\n",
    "fig1.append_trace(trace4, 1,1)\n",
    "fig1.append_trace(trace5, 1,1)\n",
    "\n",
    "fig1['layout'].update( height=900,title='Time Series Max_DS provincia di MI', showlegend=False)\n",
    "\n",
    "fig1.show()"
   ]
  },
  {
   "cell_type": "code",
   "execution_count": 13,
   "metadata": {},
   "outputs": [],
   "source": [
    "df_na_week1=df_f[(df_f.PROVINCIA=='NA') & (df_f.index>='2019-12-23 00:00') & (df_f.index<='2019-12-29 23:45')]\n",
    "df_na_3H_week1 = df_na_week1['MAX_DS'].resample('3H').mean()\n",
    "\n",
    "df_na_week2=df_f[(df_f.PROVINCIA=='NA') & (df_f.index>='2019-12-30 00:00') & (df_f.index<='2020-01-05 23:45')]\n",
    "df_na_3H_week2 = df_na_week2['MAX_DS'].resample('3H').mean()\n",
    "\n",
    "df_na_week3=df_f[(df_f.PROVINCIA=='NA') & (df_f.index>='2020-01-06 00:00') & (df_f.index<='2020-01-12 23:45')]\n",
    "df_na_3H_week3 = df_na_week3['MAX_DS'].resample('3H').mean()\n",
    "\n",
    "df_na_week4=df_f[(df_f.PROVINCIA=='NA') & (df_f.index>='2020-01-13 00:00') & (df_f.index<='2020-01-19 23:45')]\n",
    "df_na_3H_week4 = df_na_week4['MAX_DS'].resample('3H').mean()\n",
    "\n",
    "df_na_week5=df_f[(df_f.PROVINCIA=='NA') & (df_f.index>='2020-01-20 00:00') & (df_f.index<='2020-01-26 23:45')]\n",
    "df_na_3H_week5 = df_na_week5['MAX_DS'].resample('3H').mean()"
   ]
  },
  {
   "cell_type": "code",
   "execution_count": 14,
   "metadata": {},
   "outputs": [
    {
     "data": {
      "text/plain": [
       "<matplotlib.axes._subplots.AxesSubplot at 0x20be8419e48>"
      ]
     },
     "execution_count": 14,
     "metadata": {},
     "output_type": "execute_result"
    },
    {
     "data": {
      "image/png": "[encoded data removed]",
      "text/plain": [
       "<Figure size 432x288 with 1 Axes>"
      ]
     },
     "metadata": {
      "needs_background": "light"
     },
     "output_type": "display_data"
    }
   ],
   "source": [
    "sns.distplot(df_na_3H_week4)"
   ]
  },
  {
   "cell_type": "code",
   "execution_count": 15,
   "metadata": {},
   "outputs": [
    {
     "name": "stderr",
     "output_type": "stream",
     "text": [
      "C:\\Users\\ant.pagano\\AppData\\Local\\Continuum\\anaconda3\\lib\\site-packages\\plotly\\tools.py:465: DeprecationWarning:\n",
      "\n",
      "plotly.tools.make_subplots is deprecated, please use plotly.subplots.make_subplots instead\n",
      "\n"
     ]
    },
    {
     "data": {
      "application/vnd.plotly.v1+json": {
       "config": {
        "plotlyServerURL": "https://plot.ly"
       },
       "data": [
        {
         "line": {
          "color": "#17BECF"
         },
         "name": "SUM(MAX_DS)",
         "opacity": 0.8,
         "type": "scatter",
         "x": [
          "2019-12-23T00:00:00",
          "2019-12-23T03:00:00",
          "2019-12-23T06:00:00",
          "2019-12-23T09:00:00",
          "2019-12-23T12:00:00",
          "2019-12-23T15:00:00",
          "2019-12-23T18:00:00",
          "2019-12-23T21:00:00",
          "2019-12-24T00:00:00",
          "2019-12-24T03:00:00",
          "2019-12-24T06:00:00",
          "2019-12-24T09:00:00",
          "2019-12-24T12:00:00",
          "2019-12-24T15:00:00",
          "2019-12-24T18:00:00",
          "2019-12-24T21:00:00",
          "2019-12-25T00:00:00",
          "2019-12-25T03:00:00",
          "2019-12-25T06:00:00",
          "2019-12-25T09:00:00",
          "2019-12-25T12:00:00",
          "2019-12-25T15:00:00",
          "2019-12-25T18:00:00",
          "2019-12-25T21:00:00",
          "2019-12-26T00:00:00",
          "2019-12-26T03:00:00",
          "2019-12-26T06:00:00",
          "2019-12-26T09:00:00",
          "2019-12-26T12:00:00",
          "2019-12-26T15:00:00",
          "2019-12-26T18:00:00",
          "2019-12-26T21:00:00",
          "2019-12-27T00:00:00",
          "2019-12-27T03:00:00",
          "2019-12-27T06:00:00",
          "2019-12-27T09:00:00",
          "2019-12-27T12:00:00",
          "2019-12-27T15:00:00",
          "2019-12-27T18:00:00",
          "2019-12-27T21:00:00",
          "2019-12-28T00:00:00",
          "2019-12-28T03:00:00",
          "2019-12-28T06:00:00",
          "2019-12-28T09:00:00",
          "2019-12-28T12:00:00",
          "2019-12-28T15:00:00",
          "2019-12-28T18:00:00",
          "2019-12-28T21:00:00",
          "2019-12-29T00:00:00",
          "2019-12-29T03:00:00",
          "2019-12-29T06:00:00",
          "2019-12-29T09:00:00",
          "2019-12-29T12:00:00",
          "2019-12-29T15:00:00",
          "2019-12-29T18:00:00",
          "2019-12-29T21:00:00"
         ],
         "xaxis": "x",
         "y": [
          698.89868,
          null,
          null,
          36.445325,
          242.28813333333332,
          242.71507000000003,
          173.51731,
          1574.7528833333336,
          1067.6665833333334,
          null,
          null,
          88.08381666666668,
          104.48677777777777,
          531.7015749999999,
          500.09454166666666,
          471.69362727272727,
          199.45783333333335,
          36.8293,
          null,
          108.95196000000001,
          108.36621666666667,
          527.6926727272727,
          599.427525,
          1171.087025,
          260.8382666666667,
          null,
          null,
          108.25173333333333,
          107.59627142857144,
          880.4532250000002,
          558.4871083333334,
          975.8734916666668,
          226.05455999999998,
          null,
          null,
          32.2527,
          345.2066571428572,
          435.0776166666667,
          435.66869999999994,
          1395.644725,
          259.615375,
          null,
          null,
          null,
          597.7623833333333,
          913.3510833333333,
          376.0481416666667,
          933.0490333333333,
          301.8141,
          null,
          null,
          null,
          90.55266666666667,
          1161.6112416666667,
          485.0499333333334,
          1034.1417833333333
         ],
         "yaxis": "y"
        },
        {
         "line": {
          "color": "#7F7F7F"
         },
         "name": "SUM(MAX_DS)",
         "opacity": 0.8,
         "type": "scatter",
         "x": [
          "2019-12-30T00:00:00",
          "2019-12-30T03:00:00",
          "2019-12-30T06:00:00",
          "2019-12-30T09:00:00",
          "2019-12-30T12:00:00",
          "2019-12-30T15:00:00",
          "2019-12-30T18:00:00",
          "2019-12-30T21:00:00",
          "2019-12-31T00:00:00",
          "2019-12-31T03:00:00",
          "2019-12-31T06:00:00",
          "2019-12-31T09:00:00",
          "2019-12-31T12:00:00",
          "2019-12-31T15:00:00",
          "2019-12-31T18:00:00",
          "2019-12-31T21:00:00",
          "2020-01-01T00:00:00",
          "2020-01-01T03:00:00",
          "2020-01-01T06:00:00",
          "2020-01-01T09:00:00",
          "2020-01-01T12:00:00",
          "2020-01-01T15:00:00",
          "2020-01-01T18:00:00",
          "2020-01-01T21:00:00",
          "2020-01-02T00:00:00",
          "2020-01-02T03:00:00",
          "2020-01-02T06:00:00",
          "2020-01-02T09:00:00",
          "2020-01-02T12:00:00",
          "2020-01-02T15:00:00",
          "2020-01-02T18:00:00",
          "2020-01-02T21:00:00",
          "2020-01-03T00:00:00",
          "2020-01-03T03:00:00",
          "2020-01-03T06:00:00",
          "2020-01-03T09:00:00",
          "2020-01-03T12:00:00",
          "2020-01-03T15:00:00",
          "2020-01-03T18:00:00",
          "2020-01-03T21:00:00",
          "2020-01-04T00:00:00",
          "2020-01-04T03:00:00",
          "2020-01-04T06:00:00",
          "2020-01-04T09:00:00",
          "2020-01-04T12:00:00",
          "2020-01-04T15:00:00",
          "2020-01-04T18:00:00",
          "2020-01-04T21:00:00",
          "2020-01-05T00:00:00",
          "2020-01-05T03:00:00",
          "2020-01-05T06:00:00",
          "2020-01-05T09:00:00",
          "2020-01-05T12:00:00",
          "2020-01-05T15:00:00",
          "2020-01-05T18:00:00",
          "2020-01-05T21:00:00"
         ],
         "xaxis": "x2",
         "y": [
          579.6558000000001,
          null,
          null,
          null,
          215.1605,
          420.32620000000003,
          239.61004545454546,
          1655.8945916666669,
          1031.3751142857143,
          null,
          null,
          56.10668,
          151.57766363636364,
          809.8868000000001,
          386.6235583333334,
          196.29023,
          97.9502,
          33.8209,
          null,
          17.9191,
          35.5298,
          255.74389166666663,
          534.25565,
          1721.3273833333333,
          259.2052,
          null,
          null,
          null,
          357.15114000000005,
          469.99866249999997,
          323.26015000000007,
          1669.4032,
          294.2947666666667,
          null,
          null,
          43.0934,
          204.246675,
          390.06798333333336,
          186.42127,
          1617.7238166666668,
          499.14976666666666,
          null,
          null,
          null,
          436.38743999999997,
          922.3902416666665,
          324.5781666666667,
          888.0452416666666,
          172.816475,
          null,
          null,
          null,
          66.85486666666665,
          575.494075,
          474.39278,
          1653.4867666666669
         ],
         "yaxis": "y2"
        },
        {
         "line": {
          "color": "#32CD32"
         },
         "name": "SUM(MAX_DS)",
         "opacity": 0.8,
         "type": "scatter",
         "x": [
          "2020-01-06T00:00:00",
          "2020-01-06T03:00:00",
          "2020-01-06T06:00:00",
          "2020-01-06T09:00:00",
          "2020-01-06T12:00:00",
          "2020-01-06T15:00:00",
          "2020-01-06T18:00:00",
          "2020-01-06T21:00:00",
          "2020-01-07T00:00:00",
          "2020-01-07T03:00:00",
          "2020-01-07T06:00:00",
          "2020-01-07T09:00:00",
          "2020-01-07T12:00:00",
          "2020-01-07T15:00:00",
          "2020-01-07T18:00:00",
          "2020-01-07T21:00:00",
          "2020-01-08T00:00:00",
          "2020-01-08T03:00:00",
          "2020-01-08T06:00:00",
          "2020-01-08T09:00:00",
          "2020-01-08T12:00:00",
          "2020-01-08T15:00:00",
          "2020-01-08T18:00:00",
          "2020-01-08T21:00:00",
          "2020-01-09T00:00:00",
          "2020-01-09T03:00:00",
          "2020-01-09T06:00:00",
          "2020-01-09T09:00:00",
          "2020-01-09T12:00:00",
          "2020-01-09T15:00:00",
          "2020-01-09T18:00:00",
          "2020-01-09T21:00:00",
          "2020-01-10T00:00:00",
          "2020-01-10T03:00:00",
          "2020-01-10T06:00:00",
          "2020-01-10T09:00:00",
          "2020-01-10T12:00:00",
          "2020-01-10T15:00:00",
          "2020-01-10T18:00:00",
          "2020-01-10T21:00:00",
          "2020-01-11T00:00:00",
          "2020-01-11T03:00:00",
          "2020-01-11T06:00:00",
          "2020-01-11T09:00:00",
          "2020-01-11T12:00:00",
          "2020-01-11T15:00:00",
          "2020-01-11T18:00:00",
          "2020-01-11T21:00:00",
          "2020-01-12T00:00:00",
          "2020-01-12T03:00:00",
          "2020-01-12T06:00:00",
          "2020-01-12T09:00:00",
          "2020-01-12T12:00:00",
          "2020-01-12T15:00:00",
          "2020-01-12T18:00:00",
          "2020-01-12T21:00:00"
         ],
         "xaxis": "x3",
         "y": [
          158.6019,
          null,
          null,
          93.5499,
          211.78806000000003,
          498.9424916666667,
          477.80843000000004,
          1791.3229000000001,
          337.960875,
          51.1357,
          null,
          null,
          176.8161,
          151.12027,
          209.81401,
          1964.9889750000002,
          122.48076666666667,
          null,
          null,
          null,
          127.10392000000002,
          225.55456666666663,
          304.1005666666667,
          1800.6415916666667,
          346.274,
          null,
          null,
          80.8218,
          136.09199999999998,
          160.41522,
          380.9075,
          1773.3969333333334,
          108.22444999999999,
          null,
          null,
          null,
          209.84157499999998,
          160.81143636363637,
          522.8292166666666,
          1586.7275666666667,
          164.13835,
          null,
          null,
          69.4726,
          98.9524142857143,
          426.59003333333334,
          1131.6795272727275,
          1583.0747222222224,
          54.2833,
          null,
          null,
          15.5618,
          229.12466666666668,
          1106.9629666666667,
          420.8124083333333,
          1065.4409416666665
         ],
         "yaxis": "y3"
        },
        {
         "line": {
          "color": "#AD9B0C"
         },
         "name": "SUM(MAX_DS)",
         "opacity": 0.8,
         "type": "scatter",
         "x": [
          "2020-01-13T00:00:00",
          "2020-01-13T03:00:00",
          "2020-01-13T06:00:00",
          "2020-01-13T09:00:00",
          "2020-01-13T12:00:00",
          "2020-01-13T15:00:00",
          "2020-01-13T18:00:00",
          "2020-01-13T21:00:00",
          "2020-01-14T00:00:00",
          "2020-01-14T03:00:00",
          "2020-01-14T06:00:00",
          "2020-01-14T09:00:00",
          "2020-01-14T12:00:00",
          "2020-01-14T15:00:00",
          "2020-01-14T18:00:00",
          "2020-01-14T21:00:00",
          "2020-01-15T00:00:00",
          "2020-01-15T03:00:00",
          "2020-01-15T06:00:00",
          "2020-01-15T09:00:00",
          "2020-01-15T12:00:00",
          "2020-01-15T15:00:00",
          "2020-01-15T18:00:00",
          "2020-01-15T21:00:00",
          "2020-01-16T00:00:00",
          "2020-01-16T03:00:00",
          "2020-01-16T06:00:00",
          "2020-01-16T09:00:00",
          "2020-01-16T12:00:00",
          "2020-01-16T15:00:00",
          "2020-01-16T18:00:00",
          "2020-01-16T21:00:00",
          "2020-01-17T00:00:00",
          "2020-01-17T03:00:00",
          "2020-01-17T06:00:00",
          "2020-01-17T09:00:00",
          "2020-01-17T12:00:00",
          "2020-01-17T15:00:00",
          "2020-01-17T18:00:00",
          "2020-01-17T21:00:00",
          "2020-01-18T00:00:00",
          "2020-01-18T03:00:00",
          "2020-01-18T06:00:00",
          "2020-01-18T09:00:00",
          "2020-01-18T12:00:00",
          "2020-01-18T15:00:00",
          "2020-01-18T18:00:00",
          "2020-01-18T21:00:00",
          "2020-01-19T00:00:00",
          "2020-01-19T03:00:00",
          "2020-01-19T06:00:00",
          "2020-01-19T09:00:00",
          "2020-01-19T12:00:00",
          "2020-01-19T15:00:00",
          "2020-01-19T18:00:00",
          "2020-01-19T21:00:00"
         ],
         "xaxis": "x4",
         "y": [
          238.12649999999996,
          null,
          null,
          85.2962,
          56.0898,
          135.18786666666668,
          261.559525,
          1930.341125,
          null,
          null,
          null,
          null,
          211.9455,
          224.95747272727277,
          301.14270833333336,
          1914.812716666667,
          90.2603,
          null,
          null,
          44.4568,
          234.376325,
          401.8493727272726,
          650.4632,
          1593.2387000000003,
          95.1278,
          null,
          null,
          null,
          282.3967,
          254.421,
          546.3010833333334,
          1542.0788750000002,
          null,
          null,
          null,
          42.9817,
          373.73857499999997,
          391.5786749999999,
          358.87472499999996,
          1583.9772583333333,
          36.36395,
          null,
          null,
          36.4542,
          137.74102499999998,
          185.39068181818183,
          174.69030999999998,
          3336.1929000000005,
          61.8032,
          null,
          null,
          15.2913,
          262.9954,
          1141.9444833333332,
          545.8129416666667,
          999.0322818181817
         ],
         "yaxis": "y4"
        },
        {
         "line": {
          "color": "#B22222"
         },
         "name": "SUM(MAX_DS)",
         "opacity": 0.8,
         "type": "scatter",
         "x": [
          "2020-01-20T00:00:00",
          "2020-01-20T03:00:00",
          "2020-01-20T06:00:00",
          "2020-01-20T09:00:00",
          "2020-01-20T12:00:00",
          "2020-01-20T15:00:00",
          "2020-01-20T18:00:00",
          "2020-01-20T21:00:00",
          "2020-01-21T00:00:00",
          "2020-01-21T03:00:00",
          "2020-01-21T06:00:00",
          "2020-01-21T09:00:00",
          "2020-01-21T12:00:00",
          "2020-01-21T15:00:00",
          "2020-01-21T18:00:00",
          "2020-01-21T21:00:00",
          "2020-01-22T00:00:00",
          "2020-01-22T03:00:00",
          "2020-01-22T06:00:00",
          "2020-01-22T09:00:00",
          "2020-01-22T12:00:00",
          "2020-01-22T15:00:00",
          "2020-01-22T18:00:00",
          "2020-01-22T21:00:00",
          "2020-01-23T00:00:00",
          "2020-01-23T03:00:00",
          "2020-01-23T06:00:00",
          "2020-01-23T09:00:00",
          "2020-01-23T12:00:00",
          "2020-01-23T15:00:00",
          "2020-01-23T18:00:00",
          "2020-01-23T21:00:00",
          "2020-01-24T00:00:00",
          "2020-01-24T03:00:00",
          "2020-01-24T06:00:00",
          "2020-01-24T09:00:00",
          "2020-01-24T12:00:00",
          "2020-01-24T15:00:00",
          "2020-01-24T18:00:00",
          "2020-01-24T21:00:00",
          "2020-01-25T00:00:00",
          "2020-01-25T03:00:00",
          "2020-01-25T06:00:00",
          "2020-01-25T09:00:00",
          "2020-01-25T12:00:00",
          "2020-01-25T15:00:00",
          "2020-01-25T18:00:00",
          "2020-01-25T21:00:00",
          "2020-01-26T00:00:00",
          "2020-01-26T03:00:00",
          "2020-01-26T06:00:00",
          "2020-01-26T09:00:00",
          "2020-01-26T12:00:00",
          "2020-01-26T15:00:00",
          "2020-01-26T18:00:00",
          "2020-01-26T21:00:00"
         ],
         "xaxis": "x5",
         "y": [
          62.355466666666665,
          null,
          null,
          null,
          221.26126666666664,
          184.10448749999998,
          313.10165,
          1965.2398583333334,
          99.74326666666666,
          null,
          null,
          null,
          415.62852499999997,
          219.33360909090908,
          555.9440666666667,
          1388.1266666666663,
          31.471333333333334,
          null,
          null,
          null,
          459.78314,
          203.81384444444447,
          370.28563333333335,
          1744.6616166666665,
          303.17310000000003,
          null,
          null,
          null,
          322.51525000000004,
          181.31,
          384.21664545454547,
          1786.617208333333,
          241.2006,
          null,
          null,
          null,
          181.09446666666668,
          324.3459363636364,
          390.42643000000004,
          1728.612875,
          31.7652,
          null,
          null,
          35.16915,
          462.76824285714287,
          1138.3948833333332,
          446.87544166666663,
          844.98061,
          156.64274999999998,
          null,
          null,
          null,
          331.5573428571429,
          1304.306875,
          648.621975,
          850.8715
         ],
         "yaxis": "y5"
        }
       ],
       "layout": {
        "height": 900,
        "showlegend": false,
        "template": {
         "data": {
          "bar": [
           {
            "error_x": {
             "color": "#2a3f5f"
            },
            "error_y": {
             "color": "#2a3f5f"
            },
            "marker": {
             "line": {
              "color": "#E5ECF6",
              "width": 0.5
             }
            },
            "type": "bar"
           }
          ],
          "barpolar": [
           {
            "marker": {
             "line": {
              "color": "#E5ECF6",
              "width": 0.5
             }
            },
            "type": "barpolar"
           }
          ],
          "carpet": [
           {
            "aaxis": {
             "endlinecolor": "#2a3f5f",
             "gridcolor": "white",
             "linecolor": "white",
             "minorgridcolor": "white",
             "startlinecolor": "#2a3f5f"
            },
            "baxis": {
             "endlinecolor": "#2a3f5f",
             "gridcolor": "white",
             "linecolor": "white",
             "minorgridcolor": "white",
             "startlinecolor": "#2a3f5f"
            },
            "type": "carpet"
           }
          ],
          "choropleth": [
           {
            "colorbar": {
             "outlinewidth": 0,
             "ticks": ""
            },
            "type": "choropleth"
           }
          ],
          "contour": [
           {
            "colorbar": {
             "outlinewidth": 0,
             "ticks": ""
            },
            "colorscale": [
             [
              0,
              "#0d0887"
             ],
             [
              0.1111111111111111,
              "#46039f"
             ],
             [
              0.2222222222222222,
              "#7201a8"
             ],
             [
              0.3333333333333333,
              "#9c179e"
             ],
             [
              0.4444444444444444,
              "#bd3786"
             ],
             [
              0.5555555555555556,
              "#d8576b"
             ],
             [
              0.6666666666666666,
              "#ed7953"
             ],
             [
              0.7777777777777778,
              "#fb9f3a"
             ],
             [
              0.8888888888888888,
              "#fdca26"
             ],
             [
              1,
              "#f0f921"
             ]
            ],
            "type": "contour"
           }
          ],
          "contourcarpet": [
           {
            "colorbar": {
             "outlinewidth": 0,
             "ticks": ""
            },
            "type": "contourcarpet"
           }
          ],
          "heatmap": [
           {
            "colorbar": {
             "outlinewidth": 0,
             "ticks": ""
            },
            "colorscale": [
             [
              0,
              "#0d0887"
             ],
             [
              0.1111111111111111,
              "#46039f"
             ],
             [
              0.2222222222222222,
              "#7201a8"
             ],
             [
              0.3333333333333333,
              "#9c179e"
             ],
             [
              0.4444444444444444,
              "#bd3786"
             ],
             [
              0.5555555555555556,
              "#d8576b"
             ],
             [
              0.6666666666666666,
              "#ed7953"
             ],
             [
              0.7777777777777778,
              "#fb9f3a"
             ],
             [
              0.8888888888888888,
              "#fdca26"
             ],
             [
              1,
              "#f0f921"
             ]
            ],
            "type": "heatmap"
           }
          ],
          "heatmapgl": [
           {
            "colorbar": {
             "outlinewidth": 0,
             "ticks": ""
            },
            "colorscale": [
             [
              0,
              "#0d0887"
             ],
             [
              0.1111111111111111,
              "#46039f"
             ],
             [
              0.2222222222222222,
              "#7201a8"
             ],
             [
              0.3333333333333333,
              "#9c179e"
             ],
             [
              0.4444444444444444,
              "#bd3786"
             ],
             [
              0.5555555555555556,
              "#d8576b"
             ],
             [
              0.6666666666666666,
              "#ed7953"
             ],
             [
              0.7777777777777778,
              "#fb9f3a"
             ],
             [
              0.8888888888888888,
              "#fdca26"
             ],
             [
              1,
              "#f0f921"
             ]
            ],
            "type": "heatmapgl"
           }
          ],
          "histogram": [
           {
            "marker": {
             "colorbar": {
              "outlinewidth": 0,
              "ticks": ""
             }
            },
            "type": "histogram"
           }
          ],
          "histogram2d": [
           {
            "colorbar": {
             "outlinewidth": 0,
             "ticks": ""
            },
            "colorscale": [
             [
              0,
              "#0d0887"
             ],
             [
              0.1111111111111111,
              "#46039f"
             ],
             [
              0.2222222222222222,
              "#7201a8"
             ],
             [
              0.3333333333333333,
              "#9c179e"
             ],
             [
              0.4444444444444444,
              "#bd3786"
             ],
             [
              0.5555555555555556,
              "#d8576b"
             ],
             [
              0.6666666666666666,
              "#ed7953"
             ],
             [
              0.7777777777777778,
              "#fb9f3a"
             ],
             [
              0.8888888888888888,
              "#fdca26"
             ],
             [
              1,
              "#f0f921"
             ]
            ],
            "type": "histogram2d"
           }
          ],
          "histogram2dcontour": [
           {
            "colorbar": {
             "outlinewidth": 0,
             "ticks": ""
            },
            "colorscale": [
             [
              0,
              "#0d0887"
             ],
             [
              0.1111111111111111,
              "#46039f"
             ],
             [
              0.2222222222222222,
              "#7201a8"
             ],
             [
              0.3333333333333333,
              "#9c179e"
             ],
             [
              0.4444444444444444,
              "#bd3786"
             ],
             [
              0.5555555555555556,
              "#d8576b"
             ],
             [
              0.6666666666666666,
              "#ed7953"
             ],
             [
              0.7777777777777778,
              "#fb9f3a"
             ],
             [
              0.8888888888888888,
              "#fdca26"
             ],
             [
              1,
              "#f0f921"
             ]
            ],
            "type": "histogram2dcontour"
           }
          ],
          "mesh3d": [
           {
            "colorbar": {
             "outlinewidth": 0,
             "ticks": ""
            },
            "type": "mesh3d"
           }
          ],
          "parcoords": [
           {
            "line": {
             "colorbar": {
              "outlinewidth": 0,
              "ticks": ""
             }
            },
            "type": "parcoords"
           }
          ],
          "pie": [
           {
            "automargin": true,
            "type": "pie"
           }
          ],
          "scatter": [
           {
            "marker": {
             "colorbar": {
              "outlinewidth": 0,
              "ticks": ""
             }
            },
            "type": "scatter"
           }
          ],
          "scatter3d": [
           {
            "line": {
             "colorbar": {
              "outlinewidth": 0,
              "ticks": ""
             }
            },
            "marker": {
             "colorbar": {
              "outlinewidth": 0,
              "ticks": ""
             }
            },
            "type": "scatter3d"
           }
          ],
          "scattercarpet": [
           {
            "marker": {
             "colorbar": {
              "outlinewidth": 0,
              "ticks": ""
             }
            },
            "type": "scattercarpet"
           }
          ],
          "scattergeo": [
           {
            "marker": {
             "colorbar": {
              "outlinewidth": 0,
              "ticks": ""
             }
            },
            "type": "scattergeo"
           }
          ],
          "scattergl": [
           {
            "marker": {
             "colorbar": {
              "outlinewidth": 0,
              "ticks": ""
             }
            },
            "type": "scattergl"
           }
          ],
          "scattermapbox": [
           {
            "marker": {
             "colorbar": {
              "outlinewidth": 0,
              "ticks": ""
             }
            },
            "type": "scattermapbox"
           }
          ],
          "scatterpolar": [
           {
            "marker": {
             "colorbar": {
              "outlinewidth": 0,
              "ticks": ""
             }
            },
            "type": "scatterpolar"
           }
          ],
          "scatterpolargl": [
           {
            "marker": {
             "colorbar": {
              "outlinewidth": 0,
              "ticks": ""
             }
            },
            "type": "scatterpolargl"
           }
          ],
          "scatterternary": [
           {
            "marker": {
             "colorbar": {
              "outlinewidth": 0,
              "ticks": ""
             }
            },
            "type": "scatterternary"
           }
          ],
          "surface": [
           {
            "colorbar": {
             "outlinewidth": 0,
             "ticks": ""
            },
            "colorscale": [
             [
              0,
              "#0d0887"
             ],
             [
              0.1111111111111111,
              "#46039f"
             ],
             [
              0.2222222222222222,
              "#7201a8"
             ],
             [
              0.3333333333333333,
              "#9c179e"
             ],
             [
              0.4444444444444444,
              "#bd3786"
             ],
             [
              0.5555555555555556,
              "#d8576b"
             ],
             [
              0.6666666666666666,
              "#ed7953"
             ],
             [
              0.7777777777777778,
              "#fb9f3a"
             ],
             [
              0.8888888888888888,
              "#fdca26"
             ],
             [
              1,
              "#f0f921"
             ]
            ],
            "type": "surface"
           }
          ],
          "table": [
           {
            "cells": {
             "fill": {
              "color": "#EBF0F8"
             },
             "line": {
              "color": "white"
             }
            },
            "header": {
             "fill": {
              "color": "#C8D4E3"
             },
             "line": {
              "color": "white"
             }
            },
            "type": "table"
           }
          ]
         },
         "layout": {
          "annotationdefaults": {
           "arrowcolor": "#2a3f5f",
           "arrowhead": 0,
           "arrowwidth": 1
          },
          "coloraxis": {
           "colorbar": {
            "outlinewidth": 0,
            "ticks": ""
           }
          },
          "colorscale": {
           "diverging": [
            [
             0,
             "#8e0152"
            ],
            [
             0.1,
             "#c51b7d"
            ],
            [
             0.2,
             "#de77ae"
            ],
            [
             0.3,
             "#f1b6da"
            ],
            [
             0.4,
             "#fde0ef"
            ],
            [
             0.5,
             "#f7f7f7"
            ],
            [
             0.6,
             "#e6f5d0"
            ],
            [
             0.7,
             "#b8e186"
            ],
            [
             0.8,
             "#7fbc41"
            ],
            [
             0.9,
             "#4d9221"
            ],
            [
             1,
             "#276419"
            ]
           ],
           "sequential": [
            [
             0,
             "#0d0887"
            ],
            [
             0.1111111111111111,
             "#46039f"
            ],
            [
             0.2222222222222222,
             "#7201a8"
            ],
            [
             0.3333333333333333,
             "#9c179e"
            ],
            [
             0.4444444444444444,
             "#bd3786"
            ],
            [
             0.5555555555555556,
             "#d8576b"
            ],
            [
             0.6666666666666666,
             "#ed7953"
            ],
            [
             0.7777777777777778,
             "#fb9f3a"
            ],
            [
             0.8888888888888888,
             "#fdca26"
            ],
            [
             1,
             "#f0f921"
            ]
           ],
           "sequentialminus": [
            [
             0,
             "#0d0887"
            ],
            [
             0.1111111111111111,
             "#46039f"
            ],
            [
             0.2222222222222222,
             "#7201a8"
            ],
            [
             0.3333333333333333,
             "#9c179e"
            ],
            [
             0.4444444444444444,
             "#bd3786"
            ],
            [
             0.5555555555555556,
             "#d8576b"
            ],
            [
             0.6666666666666666,
             "#ed7953"
            ],
            [
             0.7777777777777778,
             "#fb9f3a"
            ],
            [
             0.8888888888888888,
             "#fdca26"
            ],
            [
             1,
             "#f0f921"
            ]
           ]
          },
          "colorway": [
           "#636efa",
           "#EF553B",
           "#00cc96",
           "#ab63fa",
           "#FFA15A",
           "#19d3f3",
           "#FF6692",
           "#B6E880",
           "#FF97FF",
           "#FECB52"
          ],
          "font": {
           "color": "#2a3f5f"
          },
          "geo": {
           "bgcolor": "white",
           "lakecolor": "white",
           "landcolor": "#E5ECF6",
           "showlakes": true,
           "showland": true,
           "subunitcolor": "white"
          },
          "hoverlabel": {
           "align": "left"
          },
          "hovermode": "closest",
          "mapbox": {
           "style": "light"
          },
          "paper_bgcolor": "white",
          "plot_bgcolor": "#E5ECF6",
          "polar": {
           "angularaxis": {
            "gridcolor": "white",
            "linecolor": "white",
            "ticks": ""
           },
           "bgcolor": "#E5ECF6",
           "radialaxis": {
            "gridcolor": "white",
            "linecolor": "white",
            "ticks": ""
           }
          },
          "scene": {
           "xaxis": {
            "backgroundcolor": "#E5ECF6",
            "gridcolor": "white",
            "gridwidth": 2,
            "linecolor": "white",
            "showbackground": true,
            "ticks": "",
            "zerolinecolor": "white"
           },
           "yaxis": {
            "backgroundcolor": "#E5ECF6",
            "gridcolor": "white",
            "gridwidth": 2,
            "linecolor": "white",
            "showbackground": true,
            "ticks": "",
            "zerolinecolor": "white"
           },
           "zaxis": {
            "backgroundcolor": "#E5ECF6",
            "gridcolor": "white",
            "gridwidth": 2,
            "linecolor": "white",
            "showbackground": true,
            "ticks": "",
            "zerolinecolor": "white"
           }
          },
          "shapedefaults": {
           "line": {
            "color": "#2a3f5f"
           }
          },
          "ternary": {
           "aaxis": {
            "gridcolor": "white",
            "linecolor": "white",
            "ticks": ""
           },
           "baxis": {
            "gridcolor": "white",
            "linecolor": "white",
            "ticks": ""
           },
           "bgcolor": "#E5ECF6",
           "caxis": {
            "gridcolor": "white",
            "linecolor": "white",
            "ticks": ""
           }
          },
          "title": {
           "x": 0.05
          },
          "xaxis": {
           "automargin": true,
           "gridcolor": "white",
           "linecolor": "white",
           "ticks": "",
           "title": {
            "standoff": 15
           },
           "zerolinecolor": "white",
           "zerolinewidth": 2
          },
          "yaxis": {
           "automargin": true,
           "gridcolor": "white",
           "linecolor": "white",
           "ticks": "",
           "title": {
            "standoff": 15
           },
           "zerolinecolor": "white",
           "zerolinewidth": 2
          }
         }
        },
        "title": {
         "text": "Time Series Max_DS provincia di NA"
        },
        "xaxis": {
         "anchor": "y",
         "domain": [
          0,
          1
         ]
        },
        "xaxis2": {
         "anchor": "y2",
         "domain": [
          0,
          1
         ]
        },
        "xaxis3": {
         "anchor": "y3",
         "domain": [
          0,
          1
         ]
        },
        "xaxis4": {
         "anchor": "y4",
         "domain": [
          0,
          1
         ]
        },
        "xaxis5": {
         "anchor": "y5",
         "domain": [
          0,
          1
         ]
        },
        "yaxis": {
         "anchor": "x",
         "domain": [
          0.848,
          1
         ]
        },
        "yaxis2": {
         "anchor": "x2",
         "domain": [
          0.6359999999999999,
          0.7879999999999999
         ]
        },
        "yaxis3": {
         "anchor": "x3",
         "domain": [
          0.424,
          0.576
         ]
        },
        "yaxis4": {
         "anchor": "x4",
         "domain": [
          0.212,
          0.364
         ]
        },
        "yaxis5": {
         "anchor": "x5",
         "domain": [
          0,
          0.152
         ]
        }
       }
      },
      "text/html": [
       "<div>\n",
       "        \n",
       "        \n",
       "            <div id=\"f16b971a-a2d7-4674-954e-8bc41839a902\" class=\"plotly-graph-div\" style=\"height:900px; width:100%;\"></div>\n",
       "            <script type=\"text/javascript\">\n",
       "                require([\"plotly\"], function(Plotly) {\n",
       "                    window.PLOTLYENV=window.PLOTLYENV || {};\n",
       "                    \n",
       "                if (document.getElementById(\"f16b971a-a2d7-4674-954e-8bc41839a902\")) {\n",
       "                    Plotly.newPlot(\n",
       "                        'f16b971a-a2d7-4674-954e-8bc41839a902',\n",
       "                        [{\"line\": {\"color\": \"#17BECF\"}, \"name\": \"SUM(MAX_DS)\", \"opacity\": 0.8, \"type\": \"scatter\", \"x\": [\"2019-12-23T00:00:00\", \"2019-12-23T03:00:00\", \"2019-12-23T06:00:00\", \"2019-12-23T09:00:00\", \"2019-12-23T12:00:00\", \"2019-12-23T15:00:00\", \"2019-12-23T18:00:00\", \"2019-12-23T21:00:00\", \"2019-12-24T00:00:00\", \"2019-12-24T03:00:00\", \"2019-12-24T06:00:00\", \"2019-12-24T09:00:00\", \"2019-12-24T12:00:00\", \"2019-12-24T15:00:00\", \"2019-12-24T18:00:00\", \"2019-12-24T21:00:00\", \"2019-12-25T00:00:00\", \"2019-12-25T03:00:00\", \"2019-12-25T06:00:00\", \"2019-12-25T09:00:00\", \"2019-12-25T12:00:00\", \"2019-12-25T15:00:00\", \"2019-12-25T18:00:00\", \"2019-12-25T21:00:00\", \"2019-12-26T00:00:00\", \"2019-12-26T03:00:00\", \"2019-12-26T06:00:00\", \"2019-12-26T09:00:00\", \"2019-12-26T12:00:00\", \"2019-12-26T15:00:00\", \"2019-12-26T18:00:00\", \"2019-12-26T21:00:00\", \"2019-12-27T00:00:00\", \"2019-12-27T03:00:00\", \"2019-12-27T06:00:00\", \"2019-12-27T09:00:00\", \"2019-12-27T12:00:00\", \"2019-12-27T15:00:00\", \"2019-12-27T18:00:00\", \"2019-12-27T21:00:00\", \"2019-12-28T00:00:00\", \"2019-12-28T03:00:00\", \"2019-12-28T06:00:00\", \"2019-12-28T09:00:00\", \"2019-12-28T12:00:00\", \"2019-12-28T15:00:00\", \"2019-12-28T18:00:00\", \"2019-12-28T21:00:00\", \"2019-12-29T00:00:00\", \"2019-12-29T03:00:00\", \"2019-12-29T06:00:00\", \"2019-12-29T09:00:00\", \"2019-12-29T12:00:00\", \"2019-12-29T15:00:00\", \"2019-12-29T18:00:00\", \"2019-12-29T21:00:00\"], \"xaxis\": \"x\", \"y\": [698.89868, null, null, 36.445325, 242.28813333333332, 242.71507000000003, 173.51731, 1574.7528833333336, 1067.6665833333334, null, null, 88.08381666666668, 104.48677777777777, 531.7015749999999, 500.09454166666666, 471.69362727272727, 199.45783333333335, 36.8293, null, 108.95196000000001, 108.36621666666667, 527.6926727272727, 599.427525, 1171.087025, 260.8382666666667, null, null, 108.25173333333333, 107.59627142857144, 880.4532250000002, 558.4871083333334, 975.8734916666668, 226.05455999999998, null, null, 32.2527, 345.2066571428572, 435.0776166666667, 435.66869999999994, 1395.644725, 259.615375, null, null, null, 597.7623833333333, 913.3510833333333, 376.0481416666667, 933.0490333333333, 301.8141, null, null, null, 90.55266666666667, 1161.6112416666667, 485.0499333333334, 1034.1417833333333], \"yaxis\": \"y\"}, {\"line\": {\"color\": \"#7F7F7F\"}, \"name\": \"SUM(MAX_DS)\", \"opacity\": 0.8, \"type\": \"scatter\", \"x\": [\"2019-12-30T00:00:00\", \"2019-12-30T03:00:00\", \"2019-12-30T06:00:00\", \"2019-12-30T09:00:00\", \"2019-12-30T12:00:00\", \"2019-12-30T15:00:00\", \"2019-12-30T18:00:00\", \"2019-12-30T21:00:00\", \"2019-12-31T00:00:00\", \"2019-12-31T03:00:00\", \"2019-12-31T06:00:00\", \"2019-12-31T09:00:00\", \"2019-12-31T12:00:00\", \"2019-12-31T15:00:00\", \"2019-12-31T18:00:00\", \"2019-12-31T21:00:00\", \"2020-01-01T00:00:00\", \"2020-01-01T03:00:00\", \"2020-01-01T06:00:00\", \"2020-01-01T09:00:00\", \"2020-01-01T12:00:00\", \"2020-01-01T15:00:00\", \"2020-01-01T18:00:00\", \"2020-01-01T21:00:00\", \"2020-01-02T00:00:00\", \"2020-01-02T03:00:00\", \"2020-01-02T06:00:00\", \"2020-01-02T09:00:00\", \"2020-01-02T12:00:00\", \"2020-01-02T15:00:00\", \"2020-01-02T18:00:00\", \"2020-01-02T21:00:00\", \"2020-01-03T00:00:00\", \"2020-01-03T03:00:00\", \"2020-01-03T06:00:00\", \"2020-01-03T09:00:00\", \"2020-01-03T12:00:00\", \"2020-01-03T15:00:00\", \"2020-01-03T18:00:00\", \"2020-01-03T21:00:00\", \"2020-01-04T00:00:00\", \"2020-01-04T03:00:00\", \"2020-01-04T06:00:00\", \"2020-01-04T09:00:00\", \"2020-01-04T12:00:00\", \"2020-01-04T15:00:00\", \"2020-01-04T18:00:00\", \"2020-01-04T21:00:00\", \"2020-01-05T00:00:00\", \"2020-01-05T03:00:00\", \"2020-01-05T06:00:00\", \"2020-01-05T09:00:00\", \"2020-01-05T12:00:00\", \"2020-01-05T15:00:00\", \"2020-01-05T18:00:00\", \"2020-01-05T21:00:00\"], \"xaxis\": \"x2\", \"y\": [579.6558000000001, null, null, null, 215.1605, 420.32620000000003, 239.61004545454546, 1655.8945916666669, 1031.3751142857143, null, null, 56.10668, 151.57766363636364, 809.8868000000001, 386.6235583333334, 196.29023, 97.9502, 33.8209, null, 17.9191, 35.5298, 255.74389166666663, 534.25565, 1721.3273833333333, 259.2052, null, null, null, 357.15114000000005, 469.99866249999997, 323.26015000000007, 1669.4032, 294.2947666666667, null, null, 43.0934, 204.246675, 390.06798333333336, 186.42127, 1617.7238166666668, 499.14976666666666, null, null, null, 436.38743999999997, 922.3902416666665, 324.5781666666667, 888.0452416666666, 172.816475, null, null, null, 66.85486666666665, 575.494075, 474.39278, 1653.4867666666669], \"yaxis\": \"y2\"}, {\"line\": {\"color\": \"#32CD32\"}, \"name\": \"SUM(MAX_DS)\", \"opacity\": 0.8, \"type\": \"scatter\", \"x\": [\"2020-01-06T00:00:00\", \"2020-01-06T03:00:00\", \"2020-01-06T06:00:00\", \"2020-01-06T09:00:00\", \"2020-01-06T12:00:00\", \"2020-01-06T15:00:00\", \"2020-01-06T18:00:00\", \"2020-01-06T21:00:00\", \"2020-01-07T00:00:00\", \"2020-01-07T03:00:00\", \"2020-01-07T06:00:00\", \"2020-01-07T09:00:00\", \"2020-01-07T12:00:00\", \"2020-01-07T15:00:00\", \"2020-01-07T18:00:00\", \"2020-01-07T21:00:00\", \"2020-01-08T00:00:00\", \"2020-01-08T03:00:00\", \"2020-01-08T06:00:00\", \"2020-01-08T09:00:00\", \"2020-01-08T12:00:00\", \"2020-01-08T15:00:00\", \"2020-01-08T18:00:00\", \"2020-01-08T21:00:00\", \"2020-01-09T00:00:00\", \"2020-01-09T03:00:00\", \"2020-01-09T06:00:00\", \"2020-01-09T09:00:00\", \"2020-01-09T12:00:00\", \"2020-01-09T15:00:00\", \"2020-01-09T18:00:00\", \"2020-01-09T21:00:00\", \"2020-01-10T00:00:00\", \"2020-01-10T03:00:00\", \"2020-01-10T06:00:00\", \"2020-01-10T09:00:00\", \"2020-01-10T12:00:00\", \"2020-01-10T15:00:00\", \"2020-01-10T18:00:00\", \"2020-01-10T21:00:00\", \"2020-01-11T00:00:00\", \"2020-01-11T03:00:00\", \"2020-01-11T06:00:00\", \"2020-01-11T09:00:00\", \"2020-01-11T12:00:00\", \"2020-01-11T15:00:00\", \"2020-01-11T18:00:00\", \"2020-01-11T21:00:00\", \"2020-01-12T00:00:00\", \"2020-01-12T03:00:00\", \"2020-01-12T06:00:00\", \"2020-01-12T09:00:00\", \"2020-01-12T12:00:00\", \"2020-01-12T15:00:00\", \"2020-01-12T18:00:00\", \"2020-01-12T21:00:00\"], \"xaxis\": \"x3\", \"y\": [158.6019, null, null, 93.5499, 211.78806000000003, 498.9424916666667, 477.80843000000004, 1791.3229000000001, 337.960875, 51.1357, null, null, 176.8161, 151.12027, 209.81401, 1964.9889750000002, 122.48076666666667, null, null, null, 127.10392000000002, 225.55456666666663, 304.1005666666667, 1800.6415916666667, 346.274, null, null, 80.8218, 136.09199999999998, 160.41522, 380.9075, 1773.3969333333334, 108.22444999999999, null, null, null, 209.84157499999998, 160.81143636363637, 522.8292166666666, 1586.7275666666667, 164.13835, null, null, 69.4726, 98.9524142857143, 426.59003333333334, 1131.6795272727275, 1583.0747222222224, 54.2833, null, null, 15.5618, 229.12466666666668, 1106.9629666666667, 420.8124083333333, 1065.4409416666665], \"yaxis\": \"y3\"}, {\"line\": {\"color\": \"#AD9B0C\"}, \"name\": \"SUM(MAX_DS)\", \"opacity\": 0.8, \"type\": \"scatter\", \"x\": [\"2020-01-13T00:00:00\", \"2020-01-13T03:00:00\", \"2020-01-13T06:00:00\", \"2020-01-13T09:00:00\", \"2020-01-13T12:00:00\", \"2020-01-13T15:00:00\", \"2020-01-13T18:00:00\", \"2020-01-13T21:00:00\", \"2020-01-14T00:00:00\", \"2020-01-14T03:00:00\", \"2020-01-14T06:00:00\", \"2020-01-14T09:00:00\", \"2020-01-14T12:00:00\", \"2020-01-14T15:00:00\", \"2020-01-14T18:00:00\", \"2020-01-14T21:00:00\", \"2020-01-15T00:00:00\", \"2020-01-15T03:00:00\", \"2020-01-15T06:00:00\", \"2020-01-15T09:00:00\", \"2020-01-15T12:00:00\", \"2020-01-15T15:00:00\", \"2020-01-15T18:00:00\", \"2020-01-15T21:00:00\", \"2020-01-16T00:00:00\", \"2020-01-16T03:00:00\", \"2020-01-16T06:00:00\", \"2020-01-16T09:00:00\", \"2020-01-16T12:00:00\", \"2020-01-16T15:00:00\", \"2020-01-16T18:00:00\", \"2020-01-16T21:00:00\", \"2020-01-17T00:00:00\", \"2020-01-17T03:00:00\", \"2020-01-17T06:00:00\", \"2020-01-17T09:00:00\", \"2020-01-17T12:00:00\", \"2020-01-17T15:00:00\", \"2020-01-17T18:00:00\", \"2020-01-17T21:00:00\", \"2020-01-18T00:00:00\", \"2020-01-18T03:00:00\", \"2020-01-18T06:00:00\", \"2020-01-18T09:00:00\", \"2020-01-18T12:00:00\", \"2020-01-18T15:00:00\", \"2020-01-18T18:00:00\", \"2020-01-18T21:00:00\", \"2020-01-19T00:00:00\", \"2020-01-19T03:00:00\", \"2020-01-19T06:00:00\", \"2020-01-19T09:00:00\", \"2020-01-19T12:00:00\", \"2020-01-19T15:00:00\", \"2020-01-19T18:00:00\", \"2020-01-19T21:00:00\"], \"xaxis\": \"x4\", \"y\": [238.12649999999996, null, null, 85.2962, 56.0898, 135.18786666666668, 261.559525, 1930.341125, null, null, null, null, 211.9455, 224.95747272727277, 301.14270833333336, 1914.812716666667, 90.2603, null, null, 44.4568, 234.376325, 401.8493727272726, 650.4632, 1593.2387000000003, 95.1278, null, null, null, 282.3967, 254.421, 546.3010833333334, 1542.0788750000002, null, null, null, 42.9817, 373.73857499999997, 391.5786749999999, 358.87472499999996, 1583.9772583333333, 36.36395, null, null, 36.4542, 137.74102499999998, 185.39068181818183, 174.69030999999998, 3336.1929000000005, 61.8032, null, null, 15.2913, 262.9954, 1141.9444833333332, 545.8129416666667, 999.0322818181817], \"yaxis\": \"y4\"}, {\"line\": {\"color\": \"#B22222\"}, \"name\": \"SUM(MAX_DS)\", \"opacity\": 0.8, \"type\": \"scatter\", \"x\": [\"2020-01-20T00:00:00\", \"2020-01-20T03:00:00\", \"2020-01-20T06:00:00\", \"2020-01-20T09:00:00\", \"2020-01-20T12:00:00\", \"2020-01-20T15:00:00\", \"2020-01-20T18:00:00\", \"2020-01-20T21:00:00\", \"2020-01-21T00:00:00\", \"2020-01-21T03:00:00\", \"2020-01-21T06:00:00\", \"2020-01-21T09:00:00\", \"2020-01-21T12:00:00\", \"2020-01-21T15:00:00\", \"2020-01-21T18:00:00\", \"2020-01-21T21:00:00\", \"2020-01-22T00:00:00\", \"2020-01-22T03:00:00\", \"2020-01-22T06:00:00\", \"2020-01-22T09:00:00\", \"2020-01-22T12:00:00\", \"2020-01-22T15:00:00\", \"2020-01-22T18:00:00\", \"2020-01-22T21:00:00\", \"2020-01-23T00:00:00\", \"2020-01-23T03:00:00\", \"2020-01-23T06:00:00\", \"2020-01-23T09:00:00\", \"2020-01-23T12:00:00\", \"2020-01-23T15:00:00\", \"2020-01-23T18:00:00\", \"2020-01-23T21:00:00\", \"2020-01-24T00:00:00\", \"2020-01-24T03:00:00\", \"2020-01-24T06:00:00\", \"2020-01-24T09:00:00\", \"2020-01-24T12:00:00\", \"2020-01-24T15:00:00\", \"2020-01-24T18:00:00\", \"2020-01-24T21:00:00\", \"2020-01-25T00:00:00\", \"2020-01-25T03:00:00\", \"2020-01-25T06:00:00\", \"2020-01-25T09:00:00\", \"2020-01-25T12:00:00\", \"2020-01-25T15:00:00\", \"2020-01-25T18:00:00\", \"2020-01-25T21:00:00\", \"2020-01-26T00:00:00\", \"2020-01-26T03:00:00\", \"2020-01-26T06:00:00\", \"2020-01-26T09:00:00\", \"2020-01-26T12:00:00\", \"2020-01-26T15:00:00\", \"2020-01-26T18:00:00\", \"2020-01-26T21:00:00\"], \"xaxis\": \"x5\", \"y\": [62.355466666666665, null, null, null, 221.26126666666664, 184.10448749999998, 313.10165, 1965.2398583333334, 99.74326666666666, null, null, null, 415.62852499999997, 219.33360909090908, 555.9440666666667, 1388.1266666666663, 31.471333333333334, null, null, null, 459.78314, 203.81384444444447, 370.28563333333335, 1744.6616166666665, 303.17310000000003, null, null, null, 322.51525000000004, 181.31, 384.21664545454547, 1786.617208333333, 241.2006, null, null, null, 181.09446666666668, 324.3459363636364, 390.42643000000004, 1728.612875, 31.7652, null, null, 35.16915, 462.76824285714287, 1138.3948833333332, 446.87544166666663, 844.98061, 156.64274999999998, null, null, null, 331.5573428571429, 1304.306875, 648.621975, 850.8715], \"yaxis\": \"y5\"}],\n",
       "                        {\"height\": 900, \"showlegend\": false, \"template\": {\"data\": {\"bar\": [{\"error_x\": {\"color\": \"#2a3f5f\"}, \"error_y\": {\"color\": \"#2a3f5f\"}, \"marker\": {\"line\": {\"color\": \"#E5ECF6\", \"width\": 0.5}}, \"type\": \"bar\"}], \"barpolar\": [{\"marker\": {\"line\": {\"color\": \"#E5ECF6\", \"width\": 0.5}}, \"type\": \"barpolar\"}], \"carpet\": [{\"aaxis\": {\"endlinecolor\": \"#2a3f5f\", \"gridcolor\": \"white\", \"linecolor\": \"white\", \"minorgridcolor\": \"white\", \"startlinecolor\": \"#2a3f5f\"}, \"baxis\": {\"endlinecolor\": \"#2a3f5f\", \"gridcolor\": \"white\", \"linecolor\": \"white\", \"minorgridcolor\": \"white\", \"startlinecolor\": \"#2a3f5f\"}, \"type\": \"carpet\"}], \"choropleth\": [{\"colorbar\": {\"outlinewidth\": 0, \"ticks\": \"\"}, \"type\": \"choropleth\"}], \"contour\": [{\"colorbar\": {\"outlinewidth\": 0, \"ticks\": \"\"}, \"colorscale\": [[0.0, \"#0d0887\"], [0.1111111111111111, \"#46039f\"], [0.2222222222222222, \"#7201a8\"], [0.3333333333333333, \"#9c179e\"], [0.4444444444444444, \"#bd3786\"], [0.5555555555555556, \"#d8576b\"], [0.6666666666666666, \"#ed7953\"], [0.7777777777777778, \"#fb9f3a\"], [0.8888888888888888, \"#fdca26\"], [1.0, \"#f0f921\"]], \"type\": \"contour\"}], \"contourcarpet\": [{\"colorbar\": {\"outlinewidth\": 0, \"ticks\": \"\"}, \"type\": \"contourcarpet\"}], \"heatmap\": [{\"colorbar\": {\"outlinewidth\": 0, \"ticks\": \"\"}, \"colorscale\": [[0.0, \"#0d0887\"], [0.1111111111111111, \"#46039f\"], [0.2222222222222222, \"#7201a8\"], [0.3333333333333333, \"#9c179e\"], [0.4444444444444444, \"#bd3786\"], [0.5555555555555556, \"#d8576b\"], [0.6666666666666666, \"#ed7953\"], [0.7777777777777778, \"#fb9f3a\"], [0.8888888888888888, \"#fdca26\"], [1.0, \"#f0f921\"]], \"type\": \"heatmap\"}], \"heatmapgl\": [{\"colorbar\": {\"outlinewidth\": 0, \"ticks\": \"\"}, \"colorscale\": [[0.0, \"#0d0887\"], [0.1111111111111111, \"#46039f\"], [0.2222222222222222, \"#7201a8\"], [0.3333333333333333, \"#9c179e\"], [0.4444444444444444, \"#bd3786\"], [0.5555555555555556, \"#d8576b\"], [0.6666666666666666, \"#ed7953\"], [0.7777777777777778, \"#fb9f3a\"], [0.8888888888888888, \"#fdca26\"], [1.0, \"#f0f921\"]], \"type\": \"heatmapgl\"}], \"histogram\": [{\"marker\": {\"colorbar\": {\"outlinewidth\": 0, \"ticks\": \"\"}}, \"type\": \"histogram\"}], \"histogram2d\": [{\"colorbar\": {\"outlinewidth\": 0, \"ticks\": \"\"}, \"colorscale\": [[0.0, \"#0d0887\"], [0.1111111111111111, \"#46039f\"], [0.2222222222222222, \"#7201a8\"], [0.3333333333333333, \"#9c179e\"], [0.4444444444444444, \"#bd3786\"], [0.5555555555555556, \"#d8576b\"], [0.6666666666666666, \"#ed7953\"], [0.7777777777777778, \"#fb9f3a\"], [0.8888888888888888, \"#fdca26\"], [1.0, \"#f0f921\"]], \"type\": \"histogram2d\"}], \"histogram2dcontour\": [{\"colorbar\": {\"outlinewidth\": 0, \"ticks\": \"\"}, \"colorscale\": [[0.0, \"#0d0887\"], [0.1111111111111111, \"#46039f\"], [0.2222222222222222, \"#7201a8\"], [0.3333333333333333, \"#9c179e\"], [0.4444444444444444, \"#bd3786\"], [0.5555555555555556, \"#d8576b\"], [0.6666666666666666, \"#ed7953\"], [0.7777777777777778, \"#fb9f3a\"], [0.8888888888888888, \"#fdca26\"], [1.0, \"#f0f921\"]], \"type\": \"histogram2dcontour\"}], \"mesh3d\": [{\"colorbar\": {\"outlinewidth\": 0, \"ticks\": \"\"}, \"type\": \"mesh3d\"}], \"parcoords\": [{\"line\": {\"colorbar\": {\"outlinewidth\": 0, \"ticks\": \"\"}}, \"type\": \"parcoords\"}], \"pie\": [{\"automargin\": true, \"type\": \"pie\"}], \"scatter\": [{\"marker\": {\"colorbar\": {\"outlinewidth\": 0, \"ticks\": \"\"}}, \"type\": \"scatter\"}], \"scatter3d\": [{\"line\": {\"colorbar\": {\"outlinewidth\": 0, \"ticks\": \"\"}}, \"marker\": {\"colorbar\": {\"outlinewidth\": 0, \"ticks\": \"\"}}, \"type\": \"scatter3d\"}], \"scattercarpet\": [{\"marker\": {\"colorbar\": {\"outlinewidth\": 0, \"ticks\": \"\"}}, \"type\": \"scattercarpet\"}], \"scattergeo\": [{\"marker\": {\"colorbar\": {\"outlinewidth\": 0, \"ticks\": \"\"}}, \"type\": \"scattergeo\"}], \"scattergl\": [{\"marker\": {\"colorbar\": {\"outlinewidth\": 0, \"ticks\": \"\"}}, \"type\": \"scattergl\"}], \"scattermapbox\": [{\"marker\": {\"colorbar\": {\"outlinewidth\": 0, \"ticks\": \"\"}}, \"type\": \"scattermapbox\"}], \"scatterpolar\": [{\"marker\": {\"colorbar\": {\"outlinewidth\": 0, \"ticks\": \"\"}}, \"type\": \"scatterpolar\"}], \"scatterpolargl\": [{\"marker\": {\"colorbar\": {\"outlinewidth\": 0, \"ticks\": \"\"}}, \"type\": \"scatterpolargl\"}], \"scatterternary\": [{\"marker\": {\"colorbar\": {\"outlinewidth\": 0, \"ticks\": \"\"}}, \"type\": \"scatterternary\"}], \"surface\": [{\"colorbar\": {\"outlinewidth\": 0, \"ticks\": \"\"}, \"colorscale\": [[0.0, \"#0d0887\"], [0.1111111111111111, \"#46039f\"], [0.2222222222222222, \"#7201a8\"], [0.3333333333333333, \"#9c179e\"], [0.4444444444444444, \"#bd3786\"], [0.5555555555555556, \"#d8576b\"], [0.6666666666666666, \"#ed7953\"], [0.7777777777777778, \"#fb9f3a\"], [0.8888888888888888, \"#fdca26\"], [1.0, \"#f0f921\"]], \"type\": \"surface\"}], \"table\": [{\"cells\": {\"fill\": {\"color\": \"#EBF0F8\"}, \"line\": {\"color\": \"white\"}}, \"header\": {\"fill\": {\"color\": \"#C8D4E3\"}, \"line\": {\"color\": \"white\"}}, \"type\": \"table\"}]}, \"layout\": {\"annotationdefaults\": {\"arrowcolor\": \"#2a3f5f\", \"arrowhead\": 0, \"arrowwidth\": 1}, \"coloraxis\": {\"colorbar\": {\"outlinewidth\": 0, \"ticks\": \"\"}}, \"colorscale\": {\"diverging\": [[0, \"#8e0152\"], [0.1, \"#c51b7d\"], [0.2, \"#de77ae\"], [0.3, \"#f1b6da\"], [0.4, \"#fde0ef\"], [0.5, \"#f7f7f7\"], [0.6, \"#e6f5d0\"], [0.7, \"#b8e186\"], [0.8, \"#7fbc41\"], [0.9, \"#4d9221\"], [1, \"#276419\"]], \"sequential\": [[0.0, \"#0d0887\"], [0.1111111111111111, \"#46039f\"], [0.2222222222222222, \"#7201a8\"], [0.3333333333333333, \"#9c179e\"], [0.4444444444444444, \"#bd3786\"], [0.5555555555555556, \"#d8576b\"], [0.6666666666666666, \"#ed7953\"], [0.7777777777777778, \"#fb9f3a\"], [0.8888888888888888, \"#fdca26\"], [1.0, \"#f0f921\"]], \"sequentialminus\": [[0.0, \"#0d0887\"], [0.1111111111111111, \"#46039f\"], [0.2222222222222222, \"#7201a8\"], [0.3333333333333333, \"#9c179e\"], [0.4444444444444444, \"#bd3786\"], [0.5555555555555556, \"#d8576b\"], [0.6666666666666666, \"#ed7953\"], [0.7777777777777778, \"#fb9f3a\"], [0.8888888888888888, \"#fdca26\"], [1.0, \"#f0f921\"]]}, \"colorway\": [\"#636efa\", \"#EF553B\", \"#00cc96\", \"#ab63fa\", \"#FFA15A\", \"#19d3f3\", \"#FF6692\", \"#B6E880\", \"#FF97FF\", \"#FECB52\"], \"font\": {\"color\": \"#2a3f5f\"}, \"geo\": {\"bgcolor\": \"white\", \"lakecolor\": \"white\", \"landcolor\": \"#E5ECF6\", \"showlakes\": true, \"showland\": true, \"subunitcolor\": \"white\"}, \"hoverlabel\": {\"align\": \"left\"}, \"hovermode\": \"closest\", \"mapbox\": {\"style\": \"light\"}, \"paper_bgcolor\": \"white\", \"plot_bgcolor\": \"#E5ECF6\", \"polar\": {\"angularaxis\": {\"gridcolor\": \"white\", \"linecolor\": \"white\", \"ticks\": \"\"}, \"bgcolor\": \"#E5ECF6\", \"radialaxis\": {\"gridcolor\": \"white\", \"linecolor\": \"white\", \"ticks\": \"\"}}, \"scene\": {\"xaxis\": {\"backgroundcolor\": \"#E5ECF6\", \"gridcolor\": \"white\", \"gridwidth\": 2, \"linecolor\": \"white\", \"showbackground\": true, \"ticks\": \"\", \"zerolinecolor\": \"white\"}, \"yaxis\": {\"backgroundcolor\": \"#E5ECF6\", \"gridcolor\": \"white\", \"gridwidth\": 2, \"linecolor\": \"white\", \"showbackground\": true, \"ticks\": \"\", \"zerolinecolor\": \"white\"}, \"zaxis\": {\"backgroundcolor\": \"#E5ECF6\", \"gridcolor\": \"white\", \"gridwidth\": 2, \"linecolor\": \"white\", \"showbackground\": true, \"ticks\": \"\", \"zerolinecolor\": \"white\"}}, \"shapedefaults\": {\"line\": {\"color\": \"#2a3f5f\"}}, \"ternary\": {\"aaxis\": {\"gridcolor\": \"white\", \"linecolor\": \"white\", \"ticks\": \"\"}, \"baxis\": {\"gridcolor\": \"white\", \"linecolor\": \"white\", \"ticks\": \"\"}, \"bgcolor\": \"#E5ECF6\", \"caxis\": {\"gridcolor\": \"white\", \"linecolor\": \"white\", \"ticks\": \"\"}}, \"title\": {\"x\": 0.05}, \"xaxis\": {\"automargin\": true, \"gridcolor\": \"white\", \"linecolor\": \"white\", \"ticks\": \"\", \"title\": {\"standoff\": 15}, \"zerolinecolor\": \"white\", \"zerolinewidth\": 2}, \"yaxis\": {\"automargin\": true, \"gridcolor\": \"white\", \"linecolor\": \"white\", \"ticks\": \"\", \"title\": {\"standoff\": 15}, \"zerolinecolor\": \"white\", \"zerolinewidth\": 2}}}, \"title\": {\"text\": \"Time Series Max_DS provincia di NA\"}, \"xaxis\": {\"anchor\": \"y\", \"domain\": [0.0, 1.0]}, \"xaxis2\": {\"anchor\": \"y2\", \"domain\": [0.0, 1.0]}, \"xaxis3\": {\"anchor\": \"y3\", \"domain\": [0.0, 1.0]}, \"xaxis4\": {\"anchor\": \"y4\", \"domain\": [0.0, 1.0]}, \"xaxis5\": {\"anchor\": \"y5\", \"domain\": [0.0, 1.0]}, \"yaxis\": {\"anchor\": \"x\", \"domain\": [0.848, 1.0]}, \"yaxis2\": {\"anchor\": \"x2\", \"domain\": [0.6359999999999999, 0.7879999999999999]}, \"yaxis3\": {\"anchor\": \"x3\", \"domain\": [0.424, 0.576]}, \"yaxis4\": {\"anchor\": \"x4\", \"domain\": [0.212, 0.364]}, \"yaxis5\": {\"anchor\": \"x5\", \"domain\": [0.0, 0.152]}},\n",
       "                        {\"responsive\": true}\n",
       "                    ).then(function(){\n",
       "                            \n",
       "var gd = document.getElementById('f16b971a-a2d7-4674-954e-8bc41839a902');\n",
       "var x = new MutationObserver(function (mutations, observer) {{\n",
       "        var display = window.getComputedStyle(gd).display;\n",
       "        if (!display || display === 'none') {{\n",
       "            console.log([gd, 'removed!']);\n",
       "            Plotly.purge(gd);\n",
       "            observer.disconnect();\n",
       "        }}\n",
       "}});\n",
       "\n",
       "// Listen for the removal of the full notebook cells\n",
       "var notebookContainer = gd.closest('#notebook-container');\n",
       "if (notebookContainer) {{\n",
       "    x.observe(notebookContainer, {childList: true});\n",
       "}}\n",
       "\n",
       "// Listen for the clearing of the current output cell\n",
       "var outputEl = gd.closest('.output');\n",
       "if (outputEl) {{\n",
       "    x.observe(outputEl, {childList: true});\n",
       "}}\n",
       "\n",
       "                        })\n",
       "                };\n",
       "                });\n",
       "            </script>\n",
       "        </div>"
      ]
     },
     "metadata": {},
     "output_type": "display_data"
    }
   ],
   "source": [
    "#\n",
    "\n",
    "#time series by 3 hours\n",
    "trace1 = go.Scatter(x = df_na_3H_week1.index, y = df_na_3H_week1, name = \"SUM(MAX_DS)\", line = dict(color = '#17BECF'), opacity = 0.8)\n",
    "trace2 = go.Scatter(x = df_na_3H_week2.index ,y = df_na_3H_week2, name = \"SUM(MAX_DS)\", line = dict(color = '#7F7F7F'), opacity = 0.8)\n",
    "trace3 = go.Scatter(x = df_na_3H_week3.index ,y = df_na_3H_week3, name = \"SUM(MAX_DS)\", line = dict(color ='#32CD32'), opacity = 0.8)\n",
    "trace4 = go.Scatter(x = df_na_3H_week4.index ,y = df_na_3H_week4, name = \"SUM(MAX_DS)\", line = dict(color ='#AD9B0C'), opacity = 0.8)\n",
    "trace5 = go.Scatter(x = df_na_3H_week5.index ,y = df_na_3H_week5, name = \"SUM(MAX_DS)\", line = dict(color ='#B22222'), opacity = 0.8)\n",
    "\n",
    "fig = tools.make_subplots(rows=5, cols=1, specs=[[{}], [{}], [{}], [{}], [{}]])\n",
    "\n",
    "fig.append_trace(trace1, 1,1)\n",
    "fig.append_trace(trace2, 2,1)\n",
    "fig.append_trace(trace3, 3,1)\n",
    "fig.append_trace(trace4, 4,1)\n",
    "fig.append_trace(trace5, 5,1)\n",
    "\n",
    "fig['layout'].update( height=900,title='Time Series Max_DS provincia di NA', showlegend=False)\n",
    "\n",
    "fig.show()"
   ]
  },
  {
   "cell_type": "code",
   "execution_count": 16,
   "metadata": {},
   "outputs": [
    {
     "data": {
      "application/vnd.plotly.v1+json": {
       "config": {
        "plotlyServerURL": "https://plot.ly"
       },
       "data": [
        {
         "line": {
          "color": "#17BECF"
         },
         "name": "SUM(MAX_DS)",
         "opacity": 0.8,
         "type": "scatter",
         "x": [
          "2019-12-23T00:00:00",
          "2019-12-23T03:00:00",
          "2019-12-23T06:00:00",
          "2019-12-23T09:00:00",
          "2019-12-23T12:00:00",
          "2019-12-23T15:00:00",
          "2019-12-23T18:00:00",
          "2019-12-23T21:00:00",
          "2019-12-24T00:00:00",
          "2019-12-24T03:00:00",
          "2019-12-24T06:00:00",
          "2019-12-24T09:00:00",
          "2019-12-24T12:00:00",
          "2019-12-24T15:00:00",
          "2019-12-24T18:00:00",
          "2019-12-24T21:00:00",
          "2019-12-25T00:00:00",
          "2019-12-25T03:00:00",
          "2019-12-25T06:00:00",
          "2019-12-25T09:00:00",
          "2019-12-25T12:00:00",
          "2019-12-25T15:00:00",
          "2019-12-25T18:00:00",
          "2019-12-25T21:00:00",
          "2019-12-26T00:00:00",
          "2019-12-26T03:00:00",
          "2019-12-26T06:00:00",
          "2019-12-26T09:00:00",
          "2019-12-26T12:00:00",
          "2019-12-26T15:00:00",
          "2019-12-26T18:00:00",
          "2019-12-26T21:00:00",
          "2019-12-27T00:00:00",
          "2019-12-27T03:00:00",
          "2019-12-27T06:00:00",
          "2019-12-27T09:00:00",
          "2019-12-27T12:00:00",
          "2019-12-27T15:00:00",
          "2019-12-27T18:00:00",
          "2019-12-27T21:00:00",
          "2019-12-28T00:00:00",
          "2019-12-28T03:00:00",
          "2019-12-28T06:00:00",
          "2019-12-28T09:00:00",
          "2019-12-28T12:00:00",
          "2019-12-28T15:00:00",
          "2019-12-28T18:00:00",
          "2019-12-28T21:00:00",
          "2019-12-29T00:00:00",
          "2019-12-29T03:00:00",
          "2019-12-29T06:00:00",
          "2019-12-29T09:00:00",
          "2019-12-29T12:00:00",
          "2019-12-29T15:00:00",
          "2019-12-29T18:00:00",
          "2019-12-29T21:00:00"
         ],
         "xaxis": "x",
         "y": [
          698.89868,
          null,
          null,
          36.445325,
          242.28813333333332,
          242.71507000000003,
          173.51731,
          1574.7528833333336,
          1067.6665833333334,
          null,
          null,
          88.08381666666668,
          104.48677777777777,
          531.7015749999999,
          500.09454166666666,
          471.69362727272727,
          199.45783333333335,
          36.8293,
          null,
          108.95196000000001,
          108.36621666666667,
          527.6926727272727,
          599.427525,
          1171.087025,
          260.8382666666667,
          null,
          null,
          108.25173333333333,
          107.59627142857144,
          880.4532250000002,
          558.4871083333334,
          975.8734916666668,
          226.05455999999998,
          null,
          null,
          32.2527,
          345.2066571428572,
          435.0776166666667,
          435.66869999999994,
          1395.644725,
          259.615375,
          null,
          null,
          null,
          597.7623833333333,
          913.3510833333333,
          376.0481416666667,
          933.0490333333333,
          301.8141,
          null,
          null,
          null,
          90.55266666666667,
          1161.6112416666667,
          485.0499333333334,
          1034.1417833333333
         ],
         "yaxis": "y"
        },
        {
         "line": {
          "color": "#7F7F7F"
         },
         "name": "SUM(MAX_DS)",
         "opacity": 0.8,
         "type": "scatter",
         "x": [
          "2019-12-30T00:00:00",
          "2019-12-30T03:00:00",
          "2019-12-30T06:00:00",
          "2019-12-30T09:00:00",
          "2019-12-30T12:00:00",
          "2019-12-30T15:00:00",
          "2019-12-30T18:00:00",
          "2019-12-30T21:00:00",
          "2019-12-31T00:00:00",
          "2019-12-31T03:00:00",
          "2019-12-31T06:00:00",
          "2019-12-31T09:00:00",
          "2019-12-31T12:00:00",
          "2019-12-31T15:00:00",
          "2019-12-31T18:00:00",
          "2019-12-31T21:00:00",
          "2020-01-01T00:00:00",
          "2020-01-01T03:00:00",
          "2020-01-01T06:00:00",
          "2020-01-01T09:00:00",
          "2020-01-01T12:00:00",
          "2020-01-01T15:00:00",
          "2020-01-01T18:00:00",
          "2020-01-01T21:00:00",
          "2020-01-02T00:00:00",
          "2020-01-02T03:00:00",
          "2020-01-02T06:00:00",
          "2020-01-02T09:00:00",
          "2020-01-02T12:00:00",
          "2020-01-02T15:00:00",
          "2020-01-02T18:00:00",
          "2020-01-02T21:00:00",
          "2020-01-03T00:00:00",
          "2020-01-03T03:00:00",
          "2020-01-03T06:00:00",
          "2020-01-03T09:00:00",
          "2020-01-03T12:00:00",
          "2020-01-03T15:00:00",
          "2020-01-03T18:00:00",
          "2020-01-03T21:00:00",
          "2020-01-04T00:00:00",
          "2020-01-04T03:00:00",
          "2020-01-04T06:00:00",
          "2020-01-04T09:00:00",
          "2020-01-04T12:00:00",
          "2020-01-04T15:00:00",
          "2020-01-04T18:00:00",
          "2020-01-04T21:00:00",
          "2020-01-05T00:00:00",
          "2020-01-05T03:00:00",
          "2020-01-05T06:00:00",
          "2020-01-05T09:00:00",
          "2020-01-05T12:00:00",
          "2020-01-05T15:00:00",
          "2020-01-05T18:00:00",
          "2020-01-05T21:00:00"
         ],
         "xaxis": "x",
         "y": [
          579.6558000000001,
          null,
          null,
          null,
          215.1605,
          420.32620000000003,
          239.61004545454546,
          1655.8945916666669,
          1031.3751142857143,
          null,
          null,
          56.10668,
          151.57766363636364,
          809.8868000000001,
          386.6235583333334,
          196.29023,
          97.9502,
          33.8209,
          null,
          17.9191,
          35.5298,
          255.74389166666663,
          534.25565,
          1721.3273833333333,
          259.2052,
          null,
          null,
          null,
          357.15114000000005,
          469.99866249999997,
          323.26015000000007,
          1669.4032,
          294.2947666666667,
          null,
          null,
          43.0934,
          204.246675,
          390.06798333333336,
          186.42127,
          1617.7238166666668,
          499.14976666666666,
          null,
          null,
          null,
          436.38743999999997,
          922.3902416666665,
          324.5781666666667,
          888.0452416666666,
          172.816475,
          null,
          null,
          null,
          66.85486666666665,
          575.494075,
          474.39278,
          1653.4867666666669
         ],
         "yaxis": "y"
        },
        {
         "line": {
          "color": "#32CD32"
         },
         "name": "SUM(MAX_DS)",
         "opacity": 0.8,
         "type": "scatter",
         "x": [
          "2020-01-06T00:00:00",
          "2020-01-06T03:00:00",
          "2020-01-06T06:00:00",
          "2020-01-06T09:00:00",
          "2020-01-06T12:00:00",
          "2020-01-06T15:00:00",
          "2020-01-06T18:00:00",
          "2020-01-06T21:00:00",
          "2020-01-07T00:00:00",
          "2020-01-07T03:00:00",
          "2020-01-07T06:00:00",
          "2020-01-07T09:00:00",
          "2020-01-07T12:00:00",
          "2020-01-07T15:00:00",
          "2020-01-07T18:00:00",
          "2020-01-07T21:00:00",
          "2020-01-08T00:00:00",
          "2020-01-08T03:00:00",
          "2020-01-08T06:00:00",
          "2020-01-08T09:00:00",
          "2020-01-08T12:00:00",
          "2020-01-08T15:00:00",
          "2020-01-08T18:00:00",
          "2020-01-08T21:00:00",
          "2020-01-09T00:00:00",
          "2020-01-09T03:00:00",
          "2020-01-09T06:00:00",
          "2020-01-09T09:00:00",
          "2020-01-09T12:00:00",
          "2020-01-09T15:00:00",
          "2020-01-09T18:00:00",
          "2020-01-09T21:00:00",
          "2020-01-10T00:00:00",
          "2020-01-10T03:00:00",
          "2020-01-10T06:00:00",
          "2020-01-10T09:00:00",
          "2020-01-10T12:00:00",
          "2020-01-10T15:00:00",
          "2020-01-10T18:00:00",
          "2020-01-10T21:00:00",
          "2020-01-11T00:00:00",
          "2020-01-11T03:00:00",
          "2020-01-11T06:00:00",
          "2020-01-11T09:00:00",
          "2020-01-11T12:00:00",
          "2020-01-11T15:00:00",
          "2020-01-11T18:00:00",
          "2020-01-11T21:00:00",
          "2020-01-12T00:00:00",
          "2020-01-12T03:00:00",
          "2020-01-12T06:00:00",
          "2020-01-12T09:00:00",
          "2020-01-12T12:00:00",
          "2020-01-12T15:00:00",
          "2020-01-12T18:00:00",
          "2020-01-12T21:00:00"
         ],
         "xaxis": "x",
         "y": [
          158.6019,
          null,
          null,
          93.5499,
          211.78806000000003,
          498.9424916666667,
          477.80843000000004,
          1791.3229000000001,
          337.960875,
          51.1357,
          null,
          null,
          176.8161,
          151.12027,
          209.81401,
          1964.9889750000002,
          122.48076666666667,
          null,
          null,
          null,
          127.10392000000002,
          225.55456666666663,
          304.1005666666667,
          1800.6415916666667,
          346.274,
          null,
          null,
          80.8218,
          136.09199999999998,
          160.41522,
          380.9075,
          1773.3969333333334,
          108.22444999999999,
          null,
          null,
          null,
          209.84157499999998,
          160.81143636363637,
          522.8292166666666,
          1586.7275666666667,
          164.13835,
          null,
          null,
          69.4726,
          98.9524142857143,
          426.59003333333334,
          1131.6795272727275,
          1583.0747222222224,
          54.2833,
          null,
          null,
          15.5618,
          229.12466666666668,
          1106.9629666666667,
          420.8124083333333,
          1065.4409416666665
         ],
         "yaxis": "y"
        },
        {
         "line": {
          "color": "#AD9B0C"
         },
         "name": "SUM(MAX_DS)",
         "opacity": 0.8,
         "type": "scatter",
         "x": [
          "2020-01-13T00:00:00",
          "2020-01-13T03:00:00",
          "2020-01-13T06:00:00",
          "2020-01-13T09:00:00",
          "2020-01-13T12:00:00",
          "2020-01-13T15:00:00",
          "2020-01-13T18:00:00",
          "2020-01-13T21:00:00",
          "2020-01-14T00:00:00",
          "2020-01-14T03:00:00",
          "2020-01-14T06:00:00",
          "2020-01-14T09:00:00",
          "2020-01-14T12:00:00",
          "2020-01-14T15:00:00",
          "2020-01-14T18:00:00",
          "2020-01-14T21:00:00",
          "2020-01-15T00:00:00",
          "2020-01-15T03:00:00",
          "2020-01-15T06:00:00",
          "2020-01-15T09:00:00",
          "2020-01-15T12:00:00",
          "2020-01-15T15:00:00",
          "2020-01-15T18:00:00",
          "2020-01-15T21:00:00",
          "2020-01-16T00:00:00",
          "2020-01-16T03:00:00",
          "2020-01-16T06:00:00",
          "2020-01-16T09:00:00",
          "2020-01-16T12:00:00",
          "2020-01-16T15:00:00",
          "2020-01-16T18:00:00",
          "2020-01-16T21:00:00",
          "2020-01-17T00:00:00",
          "2020-01-17T03:00:00",
          "2020-01-17T06:00:00",
          "2020-01-17T09:00:00",
          "2020-01-17T12:00:00",
          "2020-01-17T15:00:00",
          "2020-01-17T18:00:00",
          "2020-01-17T21:00:00",
          "2020-01-18T00:00:00",
          "2020-01-18T03:00:00",
          "2020-01-18T06:00:00",
          "2020-01-18T09:00:00",
          "2020-01-18T12:00:00",
          "2020-01-18T15:00:00",
          "2020-01-18T18:00:00",
          "2020-01-18T21:00:00",
          "2020-01-19T00:00:00",
          "2020-01-19T03:00:00",
          "2020-01-19T06:00:00",
          "2020-01-19T09:00:00",
          "2020-01-19T12:00:00",
          "2020-01-19T15:00:00",
          "2020-01-19T18:00:00",
          "2020-01-19T21:00:00"
         ],
         "xaxis": "x",
         "y": [
          238.12649999999996,
          null,
          null,
          85.2962,
          56.0898,
          135.18786666666668,
          261.559525,
          1930.341125,
          null,
          null,
          null,
          null,
          211.9455,
          224.95747272727277,
          301.14270833333336,
          1914.812716666667,
          90.2603,
          null,
          null,
          44.4568,
          234.376325,
          401.8493727272726,
          650.4632,
          1593.2387000000003,
          95.1278,
          null,
          null,
          null,
          282.3967,
          254.421,
          546.3010833333334,
          1542.0788750000002,
          null,
          null,
          null,
          42.9817,
          373.73857499999997,
          391.5786749999999,
          358.87472499999996,
          1583.9772583333333,
          36.36395,
          null,
          null,
          36.4542,
          137.74102499999998,
          185.39068181818183,
          174.69030999999998,
          3336.1929000000005,
          61.8032,
          null,
          null,
          15.2913,
          262.9954,
          1141.9444833333332,
          545.8129416666667,
          999.0322818181817
         ],
         "yaxis": "y"
        },
        {
         "line": {
          "color": "#B22222"
         },
         "name": "SUM(MAX_DS)",
         "opacity": 0.8,
         "type": "scatter",
         "x": [
          "2020-01-20T00:00:00",
          "2020-01-20T03:00:00",
          "2020-01-20T06:00:00",
          "2020-01-20T09:00:00",
          "2020-01-20T12:00:00",
          "2020-01-20T15:00:00",
          "2020-01-20T18:00:00",
          "2020-01-20T21:00:00",
          "2020-01-21T00:00:00",
          "2020-01-21T03:00:00",
          "2020-01-21T06:00:00",
          "2020-01-21T09:00:00",
          "2020-01-21T12:00:00",
          "2020-01-21T15:00:00",
          "2020-01-21T18:00:00",
          "2020-01-21T21:00:00",
          "2020-01-22T00:00:00",
          "2020-01-22T03:00:00",
          "2020-01-22T06:00:00",
          "2020-01-22T09:00:00",
          "2020-01-22T12:00:00",
          "2020-01-22T15:00:00",
          "2020-01-22T18:00:00",
          "2020-01-22T21:00:00",
          "2020-01-23T00:00:00",
          "2020-01-23T03:00:00",
          "2020-01-23T06:00:00",
          "2020-01-23T09:00:00",
          "2020-01-23T12:00:00",
          "2020-01-23T15:00:00",
          "2020-01-23T18:00:00",
          "2020-01-23T21:00:00",
          "2020-01-24T00:00:00",
          "2020-01-24T03:00:00",
          "2020-01-24T06:00:00",
          "2020-01-24T09:00:00",
          "2020-01-24T12:00:00",
          "2020-01-24T15:00:00",
          "2020-01-24T18:00:00",
          "2020-01-24T21:00:00",
          "2020-01-25T00:00:00",
          "2020-01-25T03:00:00",
          "2020-01-25T06:00:00",
          "2020-01-25T09:00:00",
          "2020-01-25T12:00:00",
          "2020-01-25T15:00:00",
          "2020-01-25T18:00:00",
          "2020-01-25T21:00:00",
          "2020-01-26T00:00:00",
          "2020-01-26T03:00:00",
          "2020-01-26T06:00:00",
          "2020-01-26T09:00:00",
          "2020-01-26T12:00:00",
          "2020-01-26T15:00:00",
          "2020-01-26T18:00:00",
          "2020-01-26T21:00:00"
         ],
         "xaxis": "x",
         "y": [
          62.355466666666665,
          null,
          null,
          null,
          221.26126666666664,
          184.10448749999998,
          313.10165,
          1965.2398583333334,
          99.74326666666666,
          null,
          null,
          null,
          415.62852499999997,
          219.33360909090908,
          555.9440666666667,
          1388.1266666666663,
          31.471333333333334,
          null,
          null,
          null,
          459.78314,
          203.81384444444447,
          370.28563333333335,
          1744.6616166666665,
          303.17310000000003,
          null,
          null,
          null,
          322.51525000000004,
          181.31,
          384.21664545454547,
          1786.617208333333,
          241.2006,
          null,
          null,
          null,
          181.09446666666668,
          324.3459363636364,
          390.42643000000004,
          1728.612875,
          31.7652,
          null,
          null,
          35.16915,
          462.76824285714287,
          1138.3948833333332,
          446.87544166666663,
          844.98061,
          156.64274999999998,
          null,
          null,
          null,
          331.5573428571429,
          1304.306875,
          648.621975,
          850.8715
         ],
         "yaxis": "y"
        }
       ],
       "layout": {
        "height": 900,
        "showlegend": false,
        "template": {
         "data": {
          "bar": [
           {
            "error_x": {
             "color": "#2a3f5f"
            },
            "error_y": {
             "color": "#2a3f5f"
            },
            "marker": {
             "line": {
              "color": "#E5ECF6",
              "width": 0.5
             }
            },
            "type": "bar"
           }
          ],
          "barpolar": [
           {
            "marker": {
             "line": {
              "color": "#E5ECF6",
              "width": 0.5
             }
            },
            "type": "barpolar"
           }
          ],
          "carpet": [
           {
            "aaxis": {
             "endlinecolor": "#2a3f5f",
             "gridcolor": "white",
             "linecolor": "white",
             "minorgridcolor": "white",
             "startlinecolor": "#2a3f5f"
            },
            "baxis": {
             "endlinecolor": "#2a3f5f",
             "gridcolor": "white",
             "linecolor": "white",
             "minorgridcolor": "white",
             "startlinecolor": "#2a3f5f"
            },
            "type": "carpet"
           }
          ],
          "choropleth": [
           {
            "colorbar": {
             "outlinewidth": 0,
             "ticks": ""
            },
            "type": "choropleth"
           }
          ],
          "contour": [
           {
            "colorbar": {
             "outlinewidth": 0,
             "ticks": ""
            },
            "colorscale": [
             [
              0,
              "#0d0887"
             ],
             [
              0.1111111111111111,
              "#46039f"
             ],
             [
              0.2222222222222222,
              "#7201a8"
             ],
             [
              0.3333333333333333,
              "#9c179e"
             ],
             [
              0.4444444444444444,
              "#bd3786"
             ],
             [
              0.5555555555555556,
              "#d8576b"
             ],
             [
              0.6666666666666666,
              "#ed7953"
             ],
             [
              0.7777777777777778,
              "#fb9f3a"
             ],
             [
              0.8888888888888888,
              "#fdca26"
             ],
             [
              1,
              "#f0f921"
             ]
            ],
            "type": "contour"
           }
          ],
          "contourcarpet": [
           {
            "colorbar": {
             "outlinewidth": 0,
             "ticks": ""
            },
            "type": "contourcarpet"
           }
          ],
          "heatmap": [
           {
            "colorbar": {
             "outlinewidth": 0,
             "ticks": ""
            },
            "colorscale": [
             [
              0,
              "#0d0887"
             ],
             [
              0.1111111111111111,
              "#46039f"
             ],
             [
              0.2222222222222222,
              "#7201a8"
             ],
             [
              0.3333333333333333,
              "#9c179e"
             ],
             [
              0.4444444444444444,
              "#bd3786"
             ],
             [
              0.5555555555555556,
              "#d8576b"
             ],
             [
              0.6666666666666666,
              "#ed7953"
             ],
             [
              0.7777777777777778,
              "#fb9f3a"
             ],
             [
              0.8888888888888888,
              "#fdca26"
             ],
             [
              1,
              "#f0f921"
             ]
            ],
            "type": "heatmap"
           }
          ],
          "heatmapgl": [
           {
            "colorbar": {
             "outlinewidth": 0,
             "ticks": ""
            },
            "colorscale": [
             [
              0,
              "#0d0887"
             ],
             [
              0.1111111111111111,
              "#46039f"
             ],
             [
              0.2222222222222222,
              "#7201a8"
             ],
             [
              0.3333333333333333,
              "#9c179e"
             ],
             [
              0.4444444444444444,
              "#bd3786"
             ],
             [
              0.5555555555555556,
              "#d8576b"
             ],
             [
              0.6666666666666666,
              "#ed7953"
             ],
             [
              0.7777777777777778,
              "#fb9f3a"
             ],
             [
              0.8888888888888888,
              "#fdca26"
             ],
             [
              1,
              "#f0f921"
             ]
            ],
            "type": "heatmapgl"
           }
          ],
          "histogram": [
           {
            "marker": {
             "colorbar": {
              "outlinewidth": 0,
              "ticks": ""
             }
            },
            "type": "histogram"
           }
          ],
          "histogram2d": [
           {
            "colorbar": {
             "outlinewidth": 0,
             "ticks": ""
            },
            "colorscale": [
             [
              0,
              "#0d0887"
             ],
             [
              0.1111111111111111,
              "#46039f"
             ],
             [
              0.2222222222222222,
              "#7201a8"
             ],
             [
              0.3333333333333333,
              "#9c179e"
             ],
             [
              0.4444444444444444,
              "#bd3786"
             ],
             [
              0.5555555555555556,
              "#d8576b"
             ],
             [
              0.6666666666666666,
              "#ed7953"
             ],
             [
              0.7777777777777778,
              "#fb9f3a"
             ],
             [
              0.8888888888888888,
              "#fdca26"
             ],
             [
              1,
              "#f0f921"
             ]
            ],
            "type": "histogram2d"
           }
          ],
          "histogram2dcontour": [
           {
            "colorbar": {
             "outlinewidth": 0,
             "ticks": ""
            },
            "colorscale": [
             [
              0,
              "#0d0887"
             ],
             [
              0.1111111111111111,
              "#46039f"
             ],
             [
              0.2222222222222222,
              "#7201a8"
             ],
             [
              0.3333333333333333,
              "#9c179e"
             ],
             [
              0.4444444444444444,
              "#bd3786"
             ],
             [
              0.5555555555555556,
              "#d8576b"
             ],
             [
              0.6666666666666666,
              "#ed7953"
             ],
             [
              0.7777777777777778,
              "#fb9f3a"
             ],
             [
              0.8888888888888888,
              "#fdca26"
             ],
             [
              1,
              "#f0f921"
             ]
            ],
            "type": "histogram2dcontour"
           }
          ],
          "mesh3d": [
           {
            "colorbar": {
             "outlinewidth": 0,
             "ticks": ""
            },
            "type": "mesh3d"
           }
          ],
          "parcoords": [
           {
            "line": {
             "colorbar": {
              "outlinewidth": 0,
              "ticks": ""
             }
            },
            "type": "parcoords"
           }
          ],
          "pie": [
           {
            "automargin": true,
            "type": "pie"
           }
          ],
          "scatter": [
           {
            "marker": {
             "colorbar": {
              "outlinewidth": 0,
              "ticks": ""
             }
            },
            "type": "scatter"
           }
          ],
          "scatter3d": [
           {
            "line": {
             "colorbar": {
              "outlinewidth": 0,
              "ticks": ""
             }
            },
            "marker": {
             "colorbar": {
              "outlinewidth": 0,
              "ticks": ""
             }
            },
            "type": "scatter3d"
           }
          ],
          "scattercarpet": [
           {
            "marker": {
             "colorbar": {
              "outlinewidth": 0,
              "ticks": ""
             }
            },
            "type": "scattercarpet"
           }
          ],
          "scattergeo": [
           {
            "marker": {
             "colorbar": {
              "outlinewidth": 0,
              "ticks": ""
             }
            },
            "type": "scattergeo"
           }
          ],
          "scattergl": [
           {
            "marker": {
             "colorbar": {
              "outlinewidth": 0,
              "ticks": ""
             }
            },
            "type": "scattergl"
           }
          ],
          "scattermapbox": [
           {
            "marker": {
             "colorbar": {
              "outlinewidth": 0,
              "ticks": ""
             }
            },
            "type": "scattermapbox"
           }
          ],
          "scatterpolar": [
           {
            "marker": {
             "colorbar": {
              "outlinewidth": 0,
              "ticks": ""
             }
            },
            "type": "scatterpolar"
           }
          ],
          "scatterpolargl": [
           {
            "marker": {
             "colorbar": {
              "outlinewidth": 0,
              "ticks": ""
             }
            },
            "type": "scatterpolargl"
           }
          ],
          "scatterternary": [
           {
            "marker": {
             "colorbar": {
              "outlinewidth": 0,
              "ticks": ""
             }
            },
            "type": "scatterternary"
           }
          ],
          "surface": [
           {
            "colorbar": {
             "outlinewidth": 0,
             "ticks": ""
            },
            "colorscale": [
             [
              0,
              "#0d0887"
             ],
             [
              0.1111111111111111,
              "#46039f"
             ],
             [
              0.2222222222222222,
              "#7201a8"
             ],
             [
              0.3333333333333333,
              "#9c179e"
             ],
             [
              0.4444444444444444,
              "#bd3786"
             ],
             [
              0.5555555555555556,
              "#d8576b"
             ],
             [
              0.6666666666666666,
              "#ed7953"
             ],
             [
              0.7777777777777778,
              "#fb9f3a"
             ],
             [
              0.8888888888888888,
              "#fdca26"
             ],
             [
              1,
              "#f0f921"
             ]
            ],
            "type": "surface"
           }
          ],
          "table": [
           {
            "cells": {
             "fill": {
              "color": "#EBF0F8"
             },
             "line": {
              "color": "white"
             }
            },
            "header": {
             "fill": {
              "color": "#C8D4E3"
             },
             "line": {
              "color": "white"
             }
            },
            "type": "table"
           }
          ]
         },
         "layout": {
          "annotationdefaults": {
           "arrowcolor": "#2a3f5f",
           "arrowhead": 0,
           "arrowwidth": 1
          },
          "coloraxis": {
           "colorbar": {
            "outlinewidth": 0,
            "ticks": ""
           }
          },
          "colorscale": {
           "diverging": [
            [
             0,
             "#8e0152"
            ],
            [
             0.1,
             "#c51b7d"
            ],
            [
             0.2,
             "#de77ae"
            ],
            [
             0.3,
             "#f1b6da"
            ],
            [
             0.4,
             "#fde0ef"
            ],
            [
             0.5,
             "#f7f7f7"
            ],
            [
             0.6,
             "#e6f5d0"
            ],
            [
             0.7,
             "#b8e186"
            ],
            [
             0.8,
             "#7fbc41"
            ],
            [
             0.9,
             "#4d9221"
            ],
            [
             1,
             "#276419"
            ]
           ],
           "sequential": [
            [
             0,
             "#0d0887"
            ],
            [
             0.1111111111111111,
             "#46039f"
            ],
            [
             0.2222222222222222,
             "#7201a8"
            ],
            [
             0.3333333333333333,
             "#9c179e"
            ],
            [
             0.4444444444444444,
             "#bd3786"
            ],
            [
             0.5555555555555556,
             "#d8576b"
            ],
            [
             0.6666666666666666,
             "#ed7953"
            ],
            [
             0.7777777777777778,
             "#fb9f3a"
            ],
            [
             0.8888888888888888,
             "#fdca26"
            ],
            [
             1,
             "#f0f921"
            ]
           ],
           "sequentialminus": [
            [
             0,
             "#0d0887"
            ],
            [
             0.1111111111111111,
             "#46039f"
            ],
            [
             0.2222222222222222,
             "#7201a8"
            ],
            [
             0.3333333333333333,
             "#9c179e"
            ],
            [
             0.4444444444444444,
             "#bd3786"
            ],
            [
             0.5555555555555556,
             "#d8576b"
            ],
            [
             0.6666666666666666,
             "#ed7953"
            ],
            [
             0.7777777777777778,
             "#fb9f3a"
            ],
            [
             0.8888888888888888,
             "#fdca26"
            ],
            [
             1,
             "#f0f921"
            ]
           ]
          },
          "colorway": [
           "#636efa",
           "#EF553B",
           "#00cc96",
           "#ab63fa",
           "#FFA15A",
           "#19d3f3",
           "#FF6692",
           "#B6E880",
           "#FF97FF",
           "#FECB52"
          ],
          "font": {
           "color": "#2a3f5f"
          },
          "geo": {
           "bgcolor": "white",
           "lakecolor": "white",
           "landcolor": "#E5ECF6",
           "showlakes": true,
           "showland": true,
           "subunitcolor": "white"
          },
          "hoverlabel": {
           "align": "left"
          },
          "hovermode": "closest",
          "mapbox": {
           "style": "light"
          },
          "paper_bgcolor": "white",
          "plot_bgcolor": "#E5ECF6",
          "polar": {
           "angularaxis": {
            "gridcolor": "white",
            "linecolor": "white",
            "ticks": ""
           },
           "bgcolor": "#E5ECF6",
           "radialaxis": {
            "gridcolor": "white",
            "linecolor": "white",
            "ticks": ""
           }
          },
          "scene": {
           "xaxis": {
            "backgroundcolor": "#E5ECF6",
            "gridcolor": "white",
            "gridwidth": 2,
            "linecolor": "white",
            "showbackground": true,
            "ticks": "",
            "zerolinecolor": "white"
           },
           "yaxis": {
            "backgroundcolor": "#E5ECF6",
            "gridcolor": "white",
            "gridwidth": 2,
            "linecolor": "white",
            "showbackground": true,
            "ticks": "",
            "zerolinecolor": "white"
           },
           "zaxis": {
            "backgroundcolor": "#E5ECF6",
            "gridcolor": "white",
            "gridwidth": 2,
            "linecolor": "white",
            "showbackground": true,
            "ticks": "",
            "zerolinecolor": "white"
           }
          },
          "shapedefaults": {
           "line": {
            "color": "#2a3f5f"
           }
          },
          "ternary": {
           "aaxis": {
            "gridcolor": "white",
            "linecolor": "white",
            "ticks": ""
           },
           "baxis": {
            "gridcolor": "white",
            "linecolor": "white",
            "ticks": ""
           },
           "bgcolor": "#E5ECF6",
           "caxis": {
            "gridcolor": "white",
            "linecolor": "white",
            "ticks": ""
           }
          },
          "title": {
           "x": 0.05
          },
          "xaxis": {
           "automargin": true,
           "gridcolor": "white",
           "linecolor": "white",
           "ticks": "",
           "title": {
            "standoff": 15
           },
           "zerolinecolor": "white",
           "zerolinewidth": 2
          },
          "yaxis": {
           "automargin": true,
           "gridcolor": "white",
           "linecolor": "white",
           "ticks": "",
           "title": {
            "standoff": 15
           },
           "zerolinecolor": "white",
           "zerolinewidth": 2
          }
         }
        },
        "title": {
         "text": "Time Series Max_DS provincia di NA"
        },
        "xaxis": {
         "anchor": "y",
         "domain": [
          0,
          1
         ]
        },
        "yaxis": {
         "anchor": "x",
         "domain": [
          0,
          1
         ]
        }
       }
      },
      "text/html": [
       "<div>\n",
       "        \n",
       "        \n",
       "            <div id=\"87473cce-11ec-4dbb-ab3a-a748786006ee\" class=\"plotly-graph-div\" style=\"height:900px; width:100%;\"></div>\n",
       "            <script type=\"text/javascript\">\n",
       "                require([\"plotly\"], function(Plotly) {\n",
       "                    window.PLOTLYENV=window.PLOTLYENV || {};\n",
       "                    \n",
       "                if (document.getElementById(\"87473cce-11ec-4dbb-ab3a-a748786006ee\")) {\n",
       "                    Plotly.newPlot(\n",
       "                        '87473cce-11ec-4dbb-ab3a-a748786006ee',\n",
       "                        [{\"line\": {\"color\": \"#17BECF\"}, \"name\": \"SUM(MAX_DS)\", \"opacity\": 0.8, \"type\": \"scatter\", \"x\": [\"2019-12-23T00:00:00\", \"2019-12-23T03:00:00\", \"2019-12-23T06:00:00\", \"2019-12-23T09:00:00\", \"2019-12-23T12:00:00\", \"2019-12-23T15:00:00\", \"2019-12-23T18:00:00\", \"2019-12-23T21:00:00\", \"2019-12-24T00:00:00\", \"2019-12-24T03:00:00\", \"2019-12-24T06:00:00\", \"2019-12-24T09:00:00\", \"2019-12-24T12:00:00\", \"2019-12-24T15:00:00\", \"2019-12-24T18:00:00\", \"2019-12-24T21:00:00\", \"2019-12-25T00:00:00\", \"2019-12-25T03:00:00\", \"2019-12-25T06:00:00\", \"2019-12-25T09:00:00\", \"2019-12-25T12:00:00\", \"2019-12-25T15:00:00\", \"2019-12-25T18:00:00\", \"2019-12-25T21:00:00\", \"2019-12-26T00:00:00\", \"2019-12-26T03:00:00\", \"2019-12-26T06:00:00\", \"2019-12-26T09:00:00\", \"2019-12-26T12:00:00\", \"2019-12-26T15:00:00\", \"2019-12-26T18:00:00\", \"2019-12-26T21:00:00\", \"2019-12-27T00:00:00\", \"2019-12-27T03:00:00\", \"2019-12-27T06:00:00\", \"2019-12-27T09:00:00\", \"2019-12-27T12:00:00\", \"2019-12-27T15:00:00\", \"2019-12-27T18:00:00\", \"2019-12-27T21:00:00\", \"2019-12-28T00:00:00\", \"2019-12-28T03:00:00\", \"2019-12-28T06:00:00\", \"2019-12-28T09:00:00\", \"2019-12-28T12:00:00\", \"2019-12-28T15:00:00\", \"2019-12-28T18:00:00\", \"2019-12-28T21:00:00\", \"2019-12-29T00:00:00\", \"2019-12-29T03:00:00\", \"2019-12-29T06:00:00\", \"2019-12-29T09:00:00\", \"2019-12-29T12:00:00\", \"2019-12-29T15:00:00\", \"2019-12-29T18:00:00\", \"2019-12-29T21:00:00\"], \"xaxis\": \"x\", \"y\": [698.89868, null, null, 36.445325, 242.28813333333332, 242.71507000000003, 173.51731, 1574.7528833333336, 1067.6665833333334, null, null, 88.08381666666668, 104.48677777777777, 531.7015749999999, 500.09454166666666, 471.69362727272727, 199.45783333333335, 36.8293, null, 108.95196000000001, 108.36621666666667, 527.6926727272727, 599.427525, 1171.087025, 260.8382666666667, null, null, 108.25173333333333, 107.59627142857144, 880.4532250000002, 558.4871083333334, 975.8734916666668, 226.05455999999998, null, null, 32.2527, 345.2066571428572, 435.0776166666667, 435.66869999999994, 1395.644725, 259.615375, null, null, null, 597.7623833333333, 913.3510833333333, 376.0481416666667, 933.0490333333333, 301.8141, null, null, null, 90.55266666666667, 1161.6112416666667, 485.0499333333334, 1034.1417833333333], \"yaxis\": \"y\"}, {\"line\": {\"color\": \"#7F7F7F\"}, \"name\": \"SUM(MAX_DS)\", \"opacity\": 0.8, \"type\": \"scatter\", \"x\": [\"2019-12-30T00:00:00\", \"2019-12-30T03:00:00\", \"2019-12-30T06:00:00\", \"2019-12-30T09:00:00\", \"2019-12-30T12:00:00\", \"2019-12-30T15:00:00\", \"2019-12-30T18:00:00\", \"2019-12-30T21:00:00\", \"2019-12-31T00:00:00\", \"2019-12-31T03:00:00\", \"2019-12-31T06:00:00\", \"2019-12-31T09:00:00\", \"2019-12-31T12:00:00\", \"2019-12-31T15:00:00\", \"2019-12-31T18:00:00\", \"2019-12-31T21:00:00\", \"2020-01-01T00:00:00\", \"2020-01-01T03:00:00\", \"2020-01-01T06:00:00\", \"2020-01-01T09:00:00\", \"2020-01-01T12:00:00\", \"2020-01-01T15:00:00\", \"2020-01-01T18:00:00\", \"2020-01-01T21:00:00\", \"2020-01-02T00:00:00\", \"2020-01-02T03:00:00\", \"2020-01-02T06:00:00\", \"2020-01-02T09:00:00\", \"2020-01-02T12:00:00\", \"2020-01-02T15:00:00\", \"2020-01-02T18:00:00\", \"2020-01-02T21:00:00\", \"2020-01-03T00:00:00\", \"2020-01-03T03:00:00\", \"2020-01-03T06:00:00\", \"2020-01-03T09:00:00\", \"2020-01-03T12:00:00\", \"2020-01-03T15:00:00\", \"2020-01-03T18:00:00\", \"2020-01-03T21:00:00\", \"2020-01-04T00:00:00\", \"2020-01-04T03:00:00\", \"2020-01-04T06:00:00\", \"2020-01-04T09:00:00\", \"2020-01-04T12:00:00\", \"2020-01-04T15:00:00\", \"2020-01-04T18:00:00\", \"2020-01-04T21:00:00\", \"2020-01-05T00:00:00\", \"2020-01-05T03:00:00\", \"2020-01-05T06:00:00\", \"2020-01-05T09:00:00\", \"2020-01-05T12:00:00\", \"2020-01-05T15:00:00\", \"2020-01-05T18:00:00\", \"2020-01-05T21:00:00\"], \"xaxis\": \"x\", \"y\": [579.6558000000001, null, null, null, 215.1605, 420.32620000000003, 239.61004545454546, 1655.8945916666669, 1031.3751142857143, null, null, 56.10668, 151.57766363636364, 809.8868000000001, 386.6235583333334, 196.29023, 97.9502, 33.8209, null, 17.9191, 35.5298, 255.74389166666663, 534.25565, 1721.3273833333333, 259.2052, null, null, null, 357.15114000000005, 469.99866249999997, 323.26015000000007, 1669.4032, 294.2947666666667, null, null, 43.0934, 204.246675, 390.06798333333336, 186.42127, 1617.7238166666668, 499.14976666666666, null, null, null, 436.38743999999997, 922.3902416666665, 324.5781666666667, 888.0452416666666, 172.816475, null, null, null, 66.85486666666665, 575.494075, 474.39278, 1653.4867666666669], \"yaxis\": \"y\"}, {\"line\": {\"color\": \"#32CD32\"}, \"name\": \"SUM(MAX_DS)\", \"opacity\": 0.8, \"type\": \"scatter\", \"x\": [\"2020-01-06T00:00:00\", \"2020-01-06T03:00:00\", \"2020-01-06T06:00:00\", \"2020-01-06T09:00:00\", \"2020-01-06T12:00:00\", \"2020-01-06T15:00:00\", \"2020-01-06T18:00:00\", \"2020-01-06T21:00:00\", \"2020-01-07T00:00:00\", \"2020-01-07T03:00:00\", \"2020-01-07T06:00:00\", \"2020-01-07T09:00:00\", \"2020-01-07T12:00:00\", \"2020-01-07T15:00:00\", \"2020-01-07T18:00:00\", \"2020-01-07T21:00:00\", \"2020-01-08T00:00:00\", \"2020-01-08T03:00:00\", \"2020-01-08T06:00:00\", \"2020-01-08T09:00:00\", \"2020-01-08T12:00:00\", \"2020-01-08T15:00:00\", \"2020-01-08T18:00:00\", \"2020-01-08T21:00:00\", \"2020-01-09T00:00:00\", \"2020-01-09T03:00:00\", \"2020-01-09T06:00:00\", \"2020-01-09T09:00:00\", \"2020-01-09T12:00:00\", \"2020-01-09T15:00:00\", \"2020-01-09T18:00:00\", \"2020-01-09T21:00:00\", \"2020-01-10T00:00:00\", \"2020-01-10T03:00:00\", \"2020-01-10T06:00:00\", \"2020-01-10T09:00:00\", \"2020-01-10T12:00:00\", \"2020-01-10T15:00:00\", \"2020-01-10T18:00:00\", \"2020-01-10T21:00:00\", \"2020-01-11T00:00:00\", \"2020-01-11T03:00:00\", \"2020-01-11T06:00:00\", \"2020-01-11T09:00:00\", \"2020-01-11T12:00:00\", \"2020-01-11T15:00:00\", \"2020-01-11T18:00:00\", \"2020-01-11T21:00:00\", \"2020-01-12T00:00:00\", \"2020-01-12T03:00:00\", \"2020-01-12T06:00:00\", \"2020-01-12T09:00:00\", \"2020-01-12T12:00:00\", \"2020-01-12T15:00:00\", \"2020-01-12T18:00:00\", \"2020-01-12T21:00:00\"], \"xaxis\": \"x\", \"y\": [158.6019, null, null, 93.5499, 211.78806000000003, 498.9424916666667, 477.80843000000004, 1791.3229000000001, 337.960875, 51.1357, null, null, 176.8161, 151.12027, 209.81401, 1964.9889750000002, 122.48076666666667, null, null, null, 127.10392000000002, 225.55456666666663, 304.1005666666667, 1800.6415916666667, 346.274, null, null, 80.8218, 136.09199999999998, 160.41522, 380.9075, 1773.3969333333334, 108.22444999999999, null, null, null, 209.84157499999998, 160.81143636363637, 522.8292166666666, 1586.7275666666667, 164.13835, null, null, 69.4726, 98.9524142857143, 426.59003333333334, 1131.6795272727275, 1583.0747222222224, 54.2833, null, null, 15.5618, 229.12466666666668, 1106.9629666666667, 420.8124083333333, 1065.4409416666665], \"yaxis\": \"y\"}, {\"line\": {\"color\": \"#AD9B0C\"}, \"name\": \"SUM(MAX_DS)\", \"opacity\": 0.8, \"type\": \"scatter\", \"x\": [\"2020-01-13T00:00:00\", \"2020-01-13T03:00:00\", \"2020-01-13T06:00:00\", \"2020-01-13T09:00:00\", \"2020-01-13T12:00:00\", \"2020-01-13T15:00:00\", \"2020-01-13T18:00:00\", \"2020-01-13T21:00:00\", \"2020-01-14T00:00:00\", \"2020-01-14T03:00:00\", \"2020-01-14T06:00:00\", \"2020-01-14T09:00:00\", \"2020-01-14T12:00:00\", \"2020-01-14T15:00:00\", \"2020-01-14T18:00:00\", \"2020-01-14T21:00:00\", \"2020-01-15T00:00:00\", \"2020-01-15T03:00:00\", \"2020-01-15T06:00:00\", \"2020-01-15T09:00:00\", \"2020-01-15T12:00:00\", \"2020-01-15T15:00:00\", \"2020-01-15T18:00:00\", \"2020-01-15T21:00:00\", \"2020-01-16T00:00:00\", \"2020-01-16T03:00:00\", \"2020-01-16T06:00:00\", \"2020-01-16T09:00:00\", \"2020-01-16T12:00:00\", \"2020-01-16T15:00:00\", \"2020-01-16T18:00:00\", \"2020-01-16T21:00:00\", \"2020-01-17T00:00:00\", \"2020-01-17T03:00:00\", \"2020-01-17T06:00:00\", \"2020-01-17T09:00:00\", \"2020-01-17T12:00:00\", \"2020-01-17T15:00:00\", \"2020-01-17T18:00:00\", \"2020-01-17T21:00:00\", \"2020-01-18T00:00:00\", \"2020-01-18T03:00:00\", \"2020-01-18T06:00:00\", \"2020-01-18T09:00:00\", \"2020-01-18T12:00:00\", \"2020-01-18T15:00:00\", \"2020-01-18T18:00:00\", \"2020-01-18T21:00:00\", \"2020-01-19T00:00:00\", \"2020-01-19T03:00:00\", \"2020-01-19T06:00:00\", \"2020-01-19T09:00:00\", \"2020-01-19T12:00:00\", \"2020-01-19T15:00:00\", \"2020-01-19T18:00:00\", \"2020-01-19T21:00:00\"], \"xaxis\": \"x\", \"y\": [238.12649999999996, null, null, 85.2962, 56.0898, 135.18786666666668, 261.559525, 1930.341125, null, null, null, null, 211.9455, 224.95747272727277, 301.14270833333336, 1914.812716666667, 90.2603, null, null, 44.4568, 234.376325, 401.8493727272726, 650.4632, 1593.2387000000003, 95.1278, null, null, null, 282.3967, 254.421, 546.3010833333334, 1542.0788750000002, null, null, null, 42.9817, 373.73857499999997, 391.5786749999999, 358.87472499999996, 1583.9772583333333, 36.36395, null, null, 36.4542, 137.74102499999998, 185.39068181818183, 174.69030999999998, 3336.1929000000005, 61.8032, null, null, 15.2913, 262.9954, 1141.9444833333332, 545.8129416666667, 999.0322818181817], \"yaxis\": \"y\"}, {\"line\": {\"color\": \"#B22222\"}, \"name\": \"SUM(MAX_DS)\", \"opacity\": 0.8, \"type\": \"scatter\", \"x\": [\"2020-01-20T00:00:00\", \"2020-01-20T03:00:00\", \"2020-01-20T06:00:00\", \"2020-01-20T09:00:00\", \"2020-01-20T12:00:00\", \"2020-01-20T15:00:00\", \"2020-01-20T18:00:00\", \"2020-01-20T21:00:00\", \"2020-01-21T00:00:00\", \"2020-01-21T03:00:00\", \"2020-01-21T06:00:00\", \"2020-01-21T09:00:00\", \"2020-01-21T12:00:00\", \"2020-01-21T15:00:00\", \"2020-01-21T18:00:00\", \"2020-01-21T21:00:00\", \"2020-01-22T00:00:00\", \"2020-01-22T03:00:00\", \"2020-01-22T06:00:00\", \"2020-01-22T09:00:00\", \"2020-01-22T12:00:00\", \"2020-01-22T15:00:00\", \"2020-01-22T18:00:00\", \"2020-01-22T21:00:00\", \"2020-01-23T00:00:00\", \"2020-01-23T03:00:00\", \"2020-01-23T06:00:00\", \"2020-01-23T09:00:00\", \"2020-01-23T12:00:00\", \"2020-01-23T15:00:00\", \"2020-01-23T18:00:00\", \"2020-01-23T21:00:00\", \"2020-01-24T00:00:00\", \"2020-01-24T03:00:00\", \"2020-01-24T06:00:00\", \"2020-01-24T09:00:00\", \"2020-01-24T12:00:00\", \"2020-01-24T15:00:00\", \"2020-01-24T18:00:00\", \"2020-01-24T21:00:00\", \"2020-01-25T00:00:00\", \"2020-01-25T03:00:00\", \"2020-01-25T06:00:00\", \"2020-01-25T09:00:00\", \"2020-01-25T12:00:00\", \"2020-01-25T15:00:00\", \"2020-01-25T18:00:00\", \"2020-01-25T21:00:00\", \"2020-01-26T00:00:00\", \"2020-01-26T03:00:00\", \"2020-01-26T06:00:00\", \"2020-01-26T09:00:00\", \"2020-01-26T12:00:00\", \"2020-01-26T15:00:00\", \"2020-01-26T18:00:00\", \"2020-01-26T21:00:00\"], \"xaxis\": \"x\", \"y\": [62.355466666666665, null, null, null, 221.26126666666664, 184.10448749999998, 313.10165, 1965.2398583333334, 99.74326666666666, null, null, null, 415.62852499999997, 219.33360909090908, 555.9440666666667, 1388.1266666666663, 31.471333333333334, null, null, null, 459.78314, 203.81384444444447, 370.28563333333335, 1744.6616166666665, 303.17310000000003, null, null, null, 322.51525000000004, 181.31, 384.21664545454547, 1786.617208333333, 241.2006, null, null, null, 181.09446666666668, 324.3459363636364, 390.42643000000004, 1728.612875, 31.7652, null, null, 35.16915, 462.76824285714287, 1138.3948833333332, 446.87544166666663, 844.98061, 156.64274999999998, null, null, null, 331.5573428571429, 1304.306875, 648.621975, 850.8715], \"yaxis\": \"y\"}],\n",
       "                        {\"height\": 900, \"showlegend\": false, \"template\": {\"data\": {\"bar\": [{\"error_x\": {\"color\": \"#2a3f5f\"}, \"error_y\": {\"color\": \"#2a3f5f\"}, \"marker\": {\"line\": {\"color\": \"#E5ECF6\", \"width\": 0.5}}, \"type\": \"bar\"}], \"barpolar\": [{\"marker\": {\"line\": {\"color\": \"#E5ECF6\", \"width\": 0.5}}, \"type\": \"barpolar\"}], \"carpet\": [{\"aaxis\": {\"endlinecolor\": \"#2a3f5f\", \"gridcolor\": \"white\", \"linecolor\": \"white\", \"minorgridcolor\": \"white\", \"startlinecolor\": \"#2a3f5f\"}, \"baxis\": {\"endlinecolor\": \"#2a3f5f\", \"gridcolor\": \"white\", \"linecolor\": \"white\", \"minorgridcolor\": \"white\", \"startlinecolor\": \"#2a3f5f\"}, \"type\": \"carpet\"}], \"choropleth\": [{\"colorbar\": {\"outlinewidth\": 0, \"ticks\": \"\"}, \"type\": \"choropleth\"}], \"contour\": [{\"colorbar\": {\"outlinewidth\": 0, \"ticks\": \"\"}, \"colorscale\": [[0.0, \"#0d0887\"], [0.1111111111111111, \"#46039f\"], [0.2222222222222222, \"#7201a8\"], [0.3333333333333333, \"#9c179e\"], [0.4444444444444444, \"#bd3786\"], [0.5555555555555556, \"#d8576b\"], [0.6666666666666666, \"#ed7953\"], [0.7777777777777778, \"#fb9f3a\"], [0.8888888888888888, \"#fdca26\"], [1.0, \"#f0f921\"]], \"type\": \"contour\"}], \"contourcarpet\": [{\"colorbar\": {\"outlinewidth\": 0, \"ticks\": \"\"}, \"type\": \"contourcarpet\"}], \"heatmap\": [{\"colorbar\": {\"outlinewidth\": 0, \"ticks\": \"\"}, \"colorscale\": [[0.0, \"#0d0887\"], [0.1111111111111111, \"#46039f\"], [0.2222222222222222, \"#7201a8\"], [0.3333333333333333, \"#9c179e\"], [0.4444444444444444, \"#bd3786\"], [0.5555555555555556, \"#d8576b\"], [0.6666666666666666, \"#ed7953\"], [0.7777777777777778, \"#fb9f3a\"], [0.8888888888888888, \"#fdca26\"], [1.0, \"#f0f921\"]], \"type\": \"heatmap\"}], \"heatmapgl\": [{\"colorbar\": {\"outlinewidth\": 0, \"ticks\": \"\"}, \"colorscale\": [[0.0, \"#0d0887\"], [0.1111111111111111, \"#46039f\"], [0.2222222222222222, \"#7201a8\"], [0.3333333333333333, \"#9c179e\"], [0.4444444444444444, \"#bd3786\"], [0.5555555555555556, \"#d8576b\"], [0.6666666666666666, \"#ed7953\"], [0.7777777777777778, \"#fb9f3a\"], [0.8888888888888888, \"#fdca26\"], [1.0, \"#f0f921\"]], \"type\": \"heatmapgl\"}], \"histogram\": [{\"marker\": {\"colorbar\": {\"outlinewidth\": 0, \"ticks\": \"\"}}, \"type\": \"histogram\"}], \"histogram2d\": [{\"colorbar\": {\"outlinewidth\": 0, \"ticks\": \"\"}, \"colorscale\": [[0.0, \"#0d0887\"], [0.1111111111111111, \"#46039f\"], [0.2222222222222222, \"#7201a8\"], [0.3333333333333333, \"#9c179e\"], [0.4444444444444444, \"#bd3786\"], [0.5555555555555556, \"#d8576b\"], [0.6666666666666666, \"#ed7953\"], [0.7777777777777778, \"#fb9f3a\"], [0.8888888888888888, \"#fdca26\"], [1.0, \"#f0f921\"]], \"type\": \"histogram2d\"}], \"histogram2dcontour\": [{\"colorbar\": {\"outlinewidth\": 0, \"ticks\": \"\"}, \"colorscale\": [[0.0, \"#0d0887\"], [0.1111111111111111, \"#46039f\"], [0.2222222222222222, \"#7201a8\"], [0.3333333333333333, \"#9c179e\"], [0.4444444444444444, \"#bd3786\"], [0.5555555555555556, \"#d8576b\"], [0.6666666666666666, \"#ed7953\"], [0.7777777777777778, \"#fb9f3a\"], [0.8888888888888888, \"#fdca26\"], [1.0, \"#f0f921\"]], \"type\": \"histogram2dcontour\"}], \"mesh3d\": [{\"colorbar\": {\"outlinewidth\": 0, \"ticks\": \"\"}, \"type\": \"mesh3d\"}], \"parcoords\": [{\"line\": {\"colorbar\": {\"outlinewidth\": 0, \"ticks\": \"\"}}, \"type\": \"parcoords\"}], \"pie\": [{\"automargin\": true, \"type\": \"pie\"}], \"scatter\": [{\"marker\": {\"colorbar\": {\"outlinewidth\": 0, \"ticks\": \"\"}}, \"type\": \"scatter\"}], \"scatter3d\": [{\"line\": {\"colorbar\": {\"outlinewidth\": 0, \"ticks\": \"\"}}, \"marker\": {\"colorbar\": {\"outlinewidth\": 0, \"ticks\": \"\"}}, \"type\": \"scatter3d\"}], \"scattercarpet\": [{\"marker\": {\"colorbar\": {\"outlinewidth\": 0, \"ticks\": \"\"}}, \"type\": \"scattercarpet\"}], \"scattergeo\": [{\"marker\": {\"colorbar\": {\"outlinewidth\": 0, \"ticks\": \"\"}}, \"type\": \"scattergeo\"}], \"scattergl\": [{\"marker\": {\"colorbar\": {\"outlinewidth\": 0, \"ticks\": \"\"}}, \"type\": \"scattergl\"}], \"scattermapbox\": [{\"marker\": {\"colorbar\": {\"outlinewidth\": 0, \"ticks\": \"\"}}, \"type\": \"scattermapbox\"}], \"scatterpolar\": [{\"marker\": {\"colorbar\": {\"outlinewidth\": 0, \"ticks\": \"\"}}, \"type\": \"scatterpolar\"}], \"scatterpolargl\": [{\"marker\": {\"colorbar\": {\"outlinewidth\": 0, \"ticks\": \"\"}}, \"type\": \"scatterpolargl\"}], \"scatterternary\": [{\"marker\": {\"colorbar\": {\"outlinewidth\": 0, \"ticks\": \"\"}}, \"type\": \"scatterternary\"}], \"surface\": [{\"colorbar\": {\"outlinewidth\": 0, \"ticks\": \"\"}, \"colorscale\": [[0.0, \"#0d0887\"], [0.1111111111111111, \"#46039f\"], [0.2222222222222222, \"#7201a8\"], [0.3333333333333333, \"#9c179e\"], [0.4444444444444444, \"#bd3786\"], [0.5555555555555556, \"#d8576b\"], [0.6666666666666666, \"#ed7953\"], [0.7777777777777778, \"#fb9f3a\"], [0.8888888888888888, \"#fdca26\"], [1.0, \"#f0f921\"]], \"type\": \"surface\"}], \"table\": [{\"cells\": {\"fill\": {\"color\": \"#EBF0F8\"}, \"line\": {\"color\": \"white\"}}, \"header\": {\"fill\": {\"color\": \"#C8D4E3\"}, \"line\": {\"color\": \"white\"}}, \"type\": \"table\"}]}, \"layout\": {\"annotationdefaults\": {\"arrowcolor\": \"#2a3f5f\", \"arrowhead\": 0, \"arrowwidth\": 1}, \"coloraxis\": {\"colorbar\": {\"outlinewidth\": 0, \"ticks\": \"\"}}, \"colorscale\": {\"diverging\": [[0, \"#8e0152\"], [0.1, \"#c51b7d\"], [0.2, \"#de77ae\"], [0.3, \"#f1b6da\"], [0.4, \"#fde0ef\"], [0.5, \"#f7f7f7\"], [0.6, \"#e6f5d0\"], [0.7, \"#b8e186\"], [0.8, \"#7fbc41\"], [0.9, \"#4d9221\"], [1, \"#276419\"]], \"sequential\": [[0.0, \"#0d0887\"], [0.1111111111111111, \"#46039f\"], [0.2222222222222222, \"#7201a8\"], [0.3333333333333333, \"#9c179e\"], [0.4444444444444444, \"#bd3786\"], [0.5555555555555556, \"#d8576b\"], [0.6666666666666666, \"#ed7953\"], [0.7777777777777778, \"#fb9f3a\"], [0.8888888888888888, \"#fdca26\"], [1.0, \"#f0f921\"]], \"sequentialminus\": [[0.0, \"#0d0887\"], [0.1111111111111111, \"#46039f\"], [0.2222222222222222, \"#7201a8\"], [0.3333333333333333, \"#9c179e\"], [0.4444444444444444, \"#bd3786\"], [0.5555555555555556, \"#d8576b\"], [0.6666666666666666, \"#ed7953\"], [0.7777777777777778, \"#fb9f3a\"], [0.8888888888888888, \"#fdca26\"], [1.0, \"#f0f921\"]]}, \"colorway\": [\"#636efa\", \"#EF553B\", \"#00cc96\", \"#ab63fa\", \"#FFA15A\", \"#19d3f3\", \"#FF6692\", \"#B6E880\", \"#FF97FF\", \"#FECB52\"], \"font\": {\"color\": \"#2a3f5f\"}, \"geo\": {\"bgcolor\": \"white\", \"lakecolor\": \"white\", \"landcolor\": \"#E5ECF6\", \"showlakes\": true, \"showland\": true, \"subunitcolor\": \"white\"}, \"hoverlabel\": {\"align\": \"left\"}, \"hovermode\": \"closest\", \"mapbox\": {\"style\": \"light\"}, \"paper_bgcolor\": \"white\", \"plot_bgcolor\": \"#E5ECF6\", \"polar\": {\"angularaxis\": {\"gridcolor\": \"white\", \"linecolor\": \"white\", \"ticks\": \"\"}, \"bgcolor\": \"#E5ECF6\", \"radialaxis\": {\"gridcolor\": \"white\", \"linecolor\": \"white\", \"ticks\": \"\"}}, \"scene\": {\"xaxis\": {\"backgroundcolor\": \"#E5ECF6\", \"gridcolor\": \"white\", \"gridwidth\": 2, \"linecolor\": \"white\", \"showbackground\": true, \"ticks\": \"\", \"zerolinecolor\": \"white\"}, \"yaxis\": {\"backgroundcolor\": \"#E5ECF6\", \"gridcolor\": \"white\", \"gridwidth\": 2, \"linecolor\": \"white\", \"showbackground\": true, \"ticks\": \"\", \"zerolinecolor\": \"white\"}, \"zaxis\": {\"backgroundcolor\": \"#E5ECF6\", \"gridcolor\": \"white\", \"gridwidth\": 2, \"linecolor\": \"white\", \"showbackground\": true, \"ticks\": \"\", \"zerolinecolor\": \"white\"}}, \"shapedefaults\": {\"line\": {\"color\": \"#2a3f5f\"}}, \"ternary\": {\"aaxis\": {\"gridcolor\": \"white\", \"linecolor\": \"white\", \"ticks\": \"\"}, \"baxis\": {\"gridcolor\": \"white\", \"linecolor\": \"white\", \"ticks\": \"\"}, \"bgcolor\": \"#E5ECF6\", \"caxis\": {\"gridcolor\": \"white\", \"linecolor\": \"white\", \"ticks\": \"\"}}, \"title\": {\"x\": 0.05}, \"xaxis\": {\"automargin\": true, \"gridcolor\": \"white\", \"linecolor\": \"white\", \"ticks\": \"\", \"title\": {\"standoff\": 15}, \"zerolinecolor\": \"white\", \"zerolinewidth\": 2}, \"yaxis\": {\"automargin\": true, \"gridcolor\": \"white\", \"linecolor\": \"white\", \"ticks\": \"\", \"title\": {\"standoff\": 15}, \"zerolinecolor\": \"white\", \"zerolinewidth\": 2}}}, \"title\": {\"text\": \"Time Series Max_DS provincia di NA\"}, \"xaxis\": {\"anchor\": \"y\", \"domain\": [0.0, 1.0]}, \"yaxis\": {\"anchor\": \"x\", \"domain\": [0.0, 1.0]}},\n",
       "                        {\"responsive\": true}\n",
       "                    ).then(function(){\n",
       "                            \n",
       "var gd = document.getElementById('87473cce-11ec-4dbb-ab3a-a748786006ee');\n",
       "var x = new MutationObserver(function (mutations, observer) {{\n",
       "        var display = window.getComputedStyle(gd).display;\n",
       "        if (!display || display === 'none') {{\n",
       "            console.log([gd, 'removed!']);\n",
       "            Plotly.purge(gd);\n",
       "            observer.disconnect();\n",
       "        }}\n",
       "}});\n",
       "\n",
       "// Listen for the removal of the full notebook cells\n",
       "var notebookContainer = gd.closest('#notebook-container');\n",
       "if (notebookContainer) {{\n",
       "    x.observe(notebookContainer, {childList: true});\n",
       "}}\n",
       "\n",
       "// Listen for the clearing of the current output cell\n",
       "var outputEl = gd.closest('.output');\n",
       "if (outputEl) {{\n",
       "    x.observe(outputEl, {childList: true});\n",
       "}}\n",
       "\n",
       "                        })\n",
       "                };\n",
       "                });\n",
       "            </script>\n",
       "        </div>"
      ]
     },
     "metadata": {},
     "output_type": "display_data"
    }
   ],
   "source": [
    "fig1 = tools.make_subplots(rows=1, cols=1, specs=[[{}]])\n",
    "\n",
    "fig1.append_trace(trace1, 1,1)\n",
    "fig1.append_trace(trace2, 1,1)\n",
    "fig1.append_trace(trace3, 1,1)\n",
    "fig1.append_trace(trace4, 1,1)\n",
    "fig1.append_trace(trace5, 1,1)\n",
    "\n",
    "fig1['layout'].update( height=900,title='Time Series Max_DS provincia di NA', showlegend=False)\n",
    "\n",
    "fig1.show()"
   ]
  }
 ],
 "metadata": {
  "kernelspec": {
   "display_name": "Python 3",
   "language": "python",
   "name": "python3"
  },
  "language_info": {
   "codemirror_mode": {
    "name": "ipython",
    "version": 3
   },
   "file_extension": ".py",
   "mimetype": "text/x-python",
   "name": "python",
   "nbconvert_exporter": "python",
   "pygments_lexer": "ipython3",
   "version": "3.7.7"
  }
 },
 "nbformat": 4,
 "nbformat_minor": 4
}
