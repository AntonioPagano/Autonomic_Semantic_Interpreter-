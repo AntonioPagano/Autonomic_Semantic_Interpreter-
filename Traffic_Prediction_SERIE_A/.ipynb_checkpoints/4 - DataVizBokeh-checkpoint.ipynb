{
 "cells": [
  {
   "cell_type": "code",
   "execution_count": 1,
   "metadata": {},
   "outputs": [
    {
     "ename": "ModuleNotFoundError",
     "evalue": "No module named 'bokeh'",
     "output_type": "error",
     "traceback": [
      "\u001b[1;31m---------------------------------------------------------------------------\u001b[0m",
      "\u001b[1;31mModuleNotFoundError\u001b[0m                       Traceback (most recent call last)",
      "\u001b[1;32m<ipython-input-1-fc5a839c3c09>\u001b[0m in \u001b[0;36m<module>\u001b[1;34m\u001b[0m\n\u001b[0;32m      3\u001b[0m \u001b[1;32mimport\u001b[0m \u001b[0mwarnings\u001b[0m\u001b[1;33m\u001b[0m\u001b[1;33m\u001b[0m\u001b[0m\n\u001b[0;32m      4\u001b[0m \u001b[0mwarnings\u001b[0m\u001b[1;33m.\u001b[0m\u001b[0mfilterwarnings\u001b[0m\u001b[1;33m(\u001b[0m\u001b[1;34m'ignore'\u001b[0m\u001b[1;33m)\u001b[0m\u001b[1;33m\u001b[0m\u001b[1;33m\u001b[0m\u001b[0m\n\u001b[1;32m----> 5\u001b[1;33m \u001b[1;32mfrom\u001b[0m \u001b[0mbokeh\u001b[0m\u001b[1;33m.\u001b[0m\u001b[0mplotting\u001b[0m \u001b[1;32mimport\u001b[0m \u001b[0mfigure\u001b[0m\u001b[1;33m,\u001b[0m \u001b[0mshow\u001b[0m\u001b[1;33m,\u001b[0m \u001b[0moutput_file\u001b[0m\u001b[1;33m,\u001b[0m \u001b[0moutput_notebook\u001b[0m\u001b[1;33m\u001b[0m\u001b[1;33m\u001b[0m\u001b[0m\n\u001b[0m\u001b[0;32m      6\u001b[0m \u001b[1;32mfrom\u001b[0m \u001b[0mbokeh\u001b[0m\u001b[1;33m.\u001b[0m\u001b[0mpalettes\u001b[0m \u001b[1;32mimport\u001b[0m \u001b[0mSpectral11\u001b[0m\u001b[1;33m,\u001b[0m \u001b[0mcolorblind\u001b[0m\u001b[1;33m,\u001b[0m \u001b[0mInferno\u001b[0m\u001b[1;33m,\u001b[0m \u001b[0mBuGn\u001b[0m\u001b[1;33m,\u001b[0m \u001b[0mbrewer\u001b[0m\u001b[1;33m\u001b[0m\u001b[1;33m\u001b[0m\u001b[0m\n\u001b[0;32m      7\u001b[0m \u001b[1;32mfrom\u001b[0m \u001b[0mbokeh\u001b[0m\u001b[1;33m.\u001b[0m\u001b[0mmodels\u001b[0m \u001b[1;32mimport\u001b[0m \u001b[0mHoverTool\u001b[0m\u001b[1;33m,\u001b[0m \u001b[0mvalue\u001b[0m\u001b[1;33m,\u001b[0m \u001b[0mLabelSet\u001b[0m\u001b[1;33m,\u001b[0m \u001b[0mLegend\u001b[0m\u001b[1;33m,\u001b[0m \u001b[0mColumnDataSource\u001b[0m\u001b[1;33m,\u001b[0m\u001b[0mLinearColorMapper\u001b[0m\u001b[1;33m,\u001b[0m\u001b[0mBasicTicker\u001b[0m\u001b[1;33m,\u001b[0m \u001b[0mPrintfTickFormatter\u001b[0m\u001b[1;33m,\u001b[0m \u001b[0mColorBar\u001b[0m\u001b[1;33m\u001b[0m\u001b[1;33m\u001b[0m\u001b[0m\n",
      "\u001b[1;31mModuleNotFoundError\u001b[0m: No module named 'bokeh'"
     ]
    }
   ],
   "source": [
    "import numpy as np \n",
    "import pandas as pd \n",
    "import warnings\n",
    "warnings.filterwarnings('ignore')\n",
    "from bokeh.plotting import figure, show, output_file, output_notebook\n",
    "from bokeh.palettes import Spectral11, colorblind, Inferno, BuGn, brewer\n",
    "from bokeh.models import HoverTool, value, LabelSet, Legend, ColumnDataSource,LinearColorMapper,BasicTicker, PrintfTickFormatter, ColorBar\n",
    "import datetime\n",
    "\n",
    "import os\n",
    "print(os.listdir(\"./input\"))"
   ]
  },
  {
   "cell_type": "code",
   "execution_count": 5,
   "metadata": {},
   "outputs": [
    {
     "data": {
      "text/html": [
       "<div>\n",
       "<style scoped>\n",
       "    .dataframe tbody tr th:only-of-type {\n",
       "        vertical-align: middle;\n",
       "    }\n",
       "\n",
       "    .dataframe tbody tr th {\n",
       "        vertical-align: top;\n",
       "    }\n",
       "\n",
       "    .dataframe thead th {\n",
       "        text-align: right;\n",
       "    }\n",
       "</style>\n",
       "<table border=\"1\" class=\"dataframe\">\n",
       "  <thead>\n",
       "    <tr style=\"text-align: right;\">\n",
       "      <th></th>\n",
       "      <th>DATA</th>\n",
       "      <th>PROVINCIA</th>\n",
       "      <th>TIPO_GIORNO_DS</th>\n",
       "      <th>MAX_DS</th>\n",
       "      <th>SOPRA_SOGLIA_GIALLA</th>\n",
       "      <th>SOPRA_SOGLIA_ROSSA</th>\n",
       "      <th>SOPRA_CAPACITA</th>\n",
       "      <th>N_APPARATI</th>\n",
       "      <th>REGIONE</th>\n",
       "      <th>KPI</th>\n",
       "    </tr>\n",
       "  </thead>\n",
       "  <tbody>\n",
       "    <tr>\n",
       "      <th>0</th>\n",
       "      <td>2019-10-07</td>\n",
       "      <td>AP</td>\n",
       "      <td>0</td>\n",
       "      <td>83.4432</td>\n",
       "      <td>0.0</td>\n",
       "      <td>0.0</td>\n",
       "      <td>0.0</td>\n",
       "      <td>1</td>\n",
       "      <td>Marche</td>\n",
       "      <td>0.0</td>\n",
       "    </tr>\n",
       "    <tr>\n",
       "      <th>1</th>\n",
       "      <td>2019-10-07</td>\n",
       "      <td>AT</td>\n",
       "      <td>0</td>\n",
       "      <td>5.8122</td>\n",
       "      <td>0.0</td>\n",
       "      <td>0.0</td>\n",
       "      <td>0.0</td>\n",
       "      <td>1</td>\n",
       "      <td>Piemonte</td>\n",
       "      <td>0.0</td>\n",
       "    </tr>\n",
       "    <tr>\n",
       "      <th>2</th>\n",
       "      <td>2019-10-07</td>\n",
       "      <td>BG</td>\n",
       "      <td>0</td>\n",
       "      <td>17.4046</td>\n",
       "      <td>0.0</td>\n",
       "      <td>0.0</td>\n",
       "      <td>0.0</td>\n",
       "      <td>1</td>\n",
       "      <td>Lombardia</td>\n",
       "      <td>0.0</td>\n",
       "    </tr>\n",
       "    <tr>\n",
       "      <th>3</th>\n",
       "      <td>2019-10-07</td>\n",
       "      <td>BS</td>\n",
       "      <td>0</td>\n",
       "      <td>49.1147</td>\n",
       "      <td>0.0</td>\n",
       "      <td>0.0</td>\n",
       "      <td>0.0</td>\n",
       "      <td>1</td>\n",
       "      <td>Lombardia</td>\n",
       "      <td>0.0</td>\n",
       "    </tr>\n",
       "    <tr>\n",
       "      <th>4</th>\n",
       "      <td>2019-10-07</td>\n",
       "      <td>BT</td>\n",
       "      <td>0</td>\n",
       "      <td>71.2119</td>\n",
       "      <td>0.0</td>\n",
       "      <td>0.0</td>\n",
       "      <td>0.0</td>\n",
       "      <td>1</td>\n",
       "      <td>Puglia</td>\n",
       "      <td>0.0</td>\n",
       "    </tr>\n",
       "  </tbody>\n",
       "</table>\n",
       "</div>"
      ],
      "text/plain": [
       "        DATA PROVINCIA  TIPO_GIORNO_DS   MAX_DS  SOPRA_SOGLIA_GIALLA  \\\n",
       "0 2019-10-07        AP               0  83.4432                  0.0   \n",
       "1 2019-10-07        AT               0   5.8122                  0.0   \n",
       "2 2019-10-07        BG               0  17.4046                  0.0   \n",
       "3 2019-10-07        BS               0  49.1147                  0.0   \n",
       "4 2019-10-07        BT               0  71.2119                  0.0   \n",
       "\n",
       "   SOPRA_SOGLIA_ROSSA  SOPRA_CAPACITA  N_APPARATI    REGIONE  KPI  \n",
       "0                 0.0             0.0           1     Marche  0.0  \n",
       "1                 0.0             0.0           1   Piemonte  0.0  \n",
       "2                 0.0             0.0           1  Lombardia  0.0  \n",
       "3                 0.0             0.0           1  Lombardia  0.0  \n",
       "4                 0.0             0.0           1     Puglia  0.0  "
      ]
     },
     "execution_count": 5,
     "metadata": {},
     "output_type": "execute_result"
    }
   ],
   "source": [
    "# Simple time series plot\n",
    "\n",
    "data = pd.read_csv('./input/to_train.csv', parse_dates=['DATA'])\n",
    "data.head()"
   ]
  },
  {
   "cell_type": "code",
   "execution_count": 8,
   "metadata": {},
   "outputs": [
    {
     "data": {
      "text/plain": [
       "(Timestamp('2019-10-07 00:00:00'), Timestamp('2020-02-02 21:00:00'))"
      ]
     },
     "execution_count": 8,
     "metadata": {},
     "output_type": "execute_result"
    }
   ],
   "source": [
    "data.DATA.min(), data.DATA.max()"
   ]
  },
  {
   "cell_type": "code",
   "execution_count": 40,
   "metadata": {},
   "outputs": [],
   "source": [
    "data_rm = data[data['PROVINCIA'] == 'RM'].groupby(['DATA']).mean()\n",
    "data_mi = data[data['PROVINCIA'] == 'MI'].groupby(['DATA']).mean()\n"
   ]
  },
  {
   "cell_type": "code",
   "execution_count": 47,
   "metadata": {},
   "outputs": [],
   "source": [
    "# funzionalita del grafico\n",
    "TOOLS = 'crosshair,save,pan,box_zoom,reset,wheel_zoom'\n",
    "\n",
    "p = figure(title=\"Andamento traffico\", y_axis_type=\"linear\",x_axis_type='datetime', tools = TOOLS, plot_width=1500)\n",
    "p.line(data_rm.index, data_rm.MAX_DS, legend=\"Roma\", line_color=\"green\", line_width = 3)\n",
    "p.line(data_mi.index, data_mi.MAX_DS, legend=\"Milano\", line_color=\"blue\", line_width = 3)\n",
    "\n",
    "p.legend.location = \"top_left\"\n",
    "\n",
    "p.xaxis.axis_label = 'Giorno'\n",
    "p.yaxis.axis_label = 'MAX DS'\n",
    "\n",
    "output_file(\"multiline_plot.html\", title=\"Multi Line Plot\")\n",
    "\n",
    "show(p)  # open a browser"
   ]
  }
 ],
 "metadata": {
  "kernelspec": {
   "display_name": "Python 3",
   "language": "python",
   "name": "python3"
  },
  "language_info": {
   "codemirror_mode": {
    "name": "ipython",
    "version": 3
   },
   "file_extension": ".py",
   "mimetype": "text/x-python",
   "name": "python",
   "nbconvert_exporter": "python",
   "pygments_lexer": "ipython3",
   "version": "3.7.7"
  }
 },
 "nbformat": 4,
 "nbformat_minor": 4
}
