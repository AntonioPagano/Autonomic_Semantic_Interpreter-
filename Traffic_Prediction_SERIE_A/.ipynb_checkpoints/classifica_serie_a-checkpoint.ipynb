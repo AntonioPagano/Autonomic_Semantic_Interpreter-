{
 "cells": [
  {
   "cell_type": "code",
   "execution_count": 6,
   "metadata": {},
   "outputs": [],
   "source": [
    "import os\n",
    "from datetime import datetime"
   ]
  },
  {
   "cell_type": "code",
   "execution_count": 7,
   "metadata": {},
   "outputs": [],
   "source": [
    "class ClassificaGiornata:\n",
    "    def __init__(self, start_date, end_date):\n",
    "        self.start_date = datetime.strptime(start_date, \"%Y-%m-%d\")\n",
    "        self.end_date = datetime.strptime(end_date, \"%Y-%m-%d\")\n",
    "        \n",
    "        self.classifica = dict()\n",
    "    \n",
    "    def add_team(self, team, position):\n",
    "        self.classifica[team] = int(position)\n",
    "    \n",
    "    def get_team(self, team):\n",
    "        return self.classifica[team]\n",
    "    \n",
    "    def __str__(self):\n",
    "        return_string = \"\"\n",
    "        return_string = return_string + \"Start date: \"+datetime.strftime(self.start_date, \"%Y-%m-%d\")+\"\\n\"\n",
    "        return_string = return_string + \"End date: \"+datetime.strftime(self.end_date, \"%Y-%m-%d\")+\"\\n\"\n",
    "        return_string = return_string + \"Classifica:\"+\"\\n\"\n",
    "        \n",
    "        for elem in self.classifica:\n",
    "            return_string = return_string + elem + \" - \" + str(self.classifica[elem])+\"\\n\"\n",
    "        \n",
    "        return return_string\n"
   ]
  },
  {
   "cell_type": "code",
   "execution_count": 8,
   "metadata": {},
   "outputs": [
    {
     "name": "stdout",
     "output_type": "stream",
     "text": [
      "./classifica-serie-a/2019-01-01_2019-08-26_0.csv\n",
      "./classifica-serie-a/2019-08-27_2019-09-01_1.csv\n",
      "./classifica-serie-a/2019-09-02_2019-09-16_2.csv\n",
      "./classifica-serie-a/2019-09-17_2019-09-22_3.csv\n",
      "./classifica-serie-a/2019-09-23_2019-09-26_4.csv\n",
      "./classifica-serie-a/2019-09-27_2019-09-30_5.csv\n",
      "./classifica-serie-a/2019-10-01_2019-10-06_6.csv\n",
      "./classifica-serie-a/2019-10-07_2019-10-21_7.csv\n",
      "./classifica-serie-a/2019-10-22_2019-10-27_8.csv\n",
      "./classifica-serie-a/2019-10-28_2019-10-31_9.csv\n",
      "./classifica-serie-a/2019-11-01_2019-11-04_10.csv\n",
      "./classifica-serie-a/2019-11-05_2019-11-10_11.csv\n",
      "./classifica-serie-a/2019-11-11_2019-11-25_12.csv\n",
      "./classifica-serie-a/2019-11-26_2019-12-02_13.csv\n",
      "./classifica-serie-a/2019-12-03_2019-12-08_15.csv\n",
      "./classifica-serie-a/2019-12-09_2019-12-16_15.csv\n",
      "./classifica-serie-a/2019-12-17_2019-12-22_16.csv\n",
      "./classifica-serie-a/2019-12-23_2020-01-06_17.csv\n",
      "./classifica-serie-a/2020-01-07_2020-01-13_18.csv\n",
      "./classifica-serie-a/2020-01-13_2020-01-20_19.csv\n",
      "./classifica-serie-a/2020-01-21_2020-01-26_20.csv\n",
      "./classifica-serie-a/2020-01-27_2020-02-03_21.csv\n",
      "./classifica-serie-a/2020-02-04_2020-02-09_22.csv\n",
      "./classifica-serie-a/2020-02-10_2020-02-17_23.csv\n",
      "./classifica-serie-a/2020-02-18_2020-02-23_24.csv\n",
      "./classifica-serie-a/2020-02-24_2020-03-09_25.csv\n"
     ]
    }
   ],
   "source": [
    "classifica_completa = list()\n",
    "\n",
    "for root, dirs, files in os.walk(\"./classifica-serie-a\"):\n",
    "    for file in files:\n",
    "        if file.endswith('.csv'):\n",
    "            print(root+\"/\"+file)\n",
    "            file_splits = file.split(\"_\")\n",
    "            classifica = ClassificaGiornata(start_date=file_splits[0], end_date=file_splits[1])\n",
    "            with open(root+\"/\"+file, 'r') as fin:\n",
    "                for line in fin:\n",
    "                    splits = line.rstrip().split(\",\")\n",
    "                    posizione = int(splits[0])\n",
    "                    #print(posizione)\n",
    "                    squadra = splits[1]\n",
    "                    #print(squadra)\n",
    "                    classifica.add_team(squadra.strip(), posizione)\n",
    "            \n",
    "            classifica_completa.append(classifica)\n",
    "\n",
    "def get_posizione_classifica(dayString, team):\n",
    "    day = datetime.strptime(dayString, \"%Y-%m-%d\")\n",
    "    \n",
    "    for classifica in classifica_completa:\n",
    "        if (day >= classifica.start_date) and (day <= classifica.end_date):\n",
    "            return (21-classifica.get_team(team))/20"
   ]
  },
  {
   "cell_type": "code",
   "execution_count": 9,
   "metadata": {},
   "outputs": [
    {
     "name": "stdout",
     "output_type": "stream",
     "text": [
      "Start date: 2019-08-27\n",
      "End date: 2019-09-01\n",
      "Classifica:\n",
      "Inter - 1\n",
      "Lazio - 2\n",
      "Napoli - 3\n",
      "Atalanta - 4\n",
      "Torino - 5\n",
      "Brescia - 6\n",
      "Juventus - 7\n",
      "Udinese - 8\n",
      "Roma - 9\n",
      "Genoa - 10\n",
      "Bologna - 11\n",
      "Verona - 12\n",
      "Fiorentina - 13\n",
      "SPAL - 14\n",
      "Sassuolo - 15\n",
      "Milan - 16\n",
      "Parma - 17\n",
      "Cagliari - 18\n",
      "Sampdoria - 19\n",
      "Lecce - 20\n",
      "\n"
     ]
    }
   ],
   "source": [
    "classifica = classifica_completa[1]\n",
    "print(classifica)"
   ]
  },
  {
   "cell_type": "code",
   "execution_count": 13,
   "metadata": {},
   "outputs": [
    {
     "data": {
      "text/plain": [
       "0.5"
      ]
     },
     "execution_count": 13,
     "metadata": {},
     "output_type": "execute_result"
    }
   ],
   "source": [
    "get_posizione_classifica(\"2020-01-18\", \"Napoli\")"
   ]
  }
 ],
 "metadata": {
  "kernelspec": {
   "display_name": "Python 3",
   "language": "python",
   "name": "python3"
  },
  "language_info": {
   "codemirror_mode": {
    "name": "ipython",
    "version": 3
   },
   "file_extension": ".py",
   "mimetype": "text/x-python",
   "name": "python",
   "nbconvert_exporter": "python",
   "pygments_lexer": "ipython3",
   "version": "3.7.7"
  }
 },
 "nbformat": 4,
 "nbformat_minor": 4
}
