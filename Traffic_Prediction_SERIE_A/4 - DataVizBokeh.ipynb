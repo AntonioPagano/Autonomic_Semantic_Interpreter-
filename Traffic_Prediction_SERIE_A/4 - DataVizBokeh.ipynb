{
 "cells": [
  {
   "cell_type": "code",
   "execution_count": 11,
   "metadata": {},
   "outputs": [],
   "source": [
    "import numpy as np \n",
    "import pandas as pd \n",
    "import warnings\n",
    "warnings.filterwarnings('ignore')\n",
    "from bokeh.plotting import figure, show, output_file, output_notebook\n",
    "from bokeh.palettes import Spectral11, colorblind, Inferno, BuGn, brewer\n",
    "from bokeh.models import HoverTool, value, LabelSet, Legend, ColumnDataSource,LinearColorMapper,BasicTicker, PrintfTickFormatter, ColorBar\n",
    "import datetime\n",
    "from bokeh.resources import Resources\n",
    "\n",
    "import os\n",
    "#print(os.listdir(\"./input\"))"
   ]
  },
  {
   "cell_type": "code",
   "execution_count": 12,
   "metadata": {},
   "outputs": [
    {
     "data": {
      "text/html": [
       "<div>\n",
       "<style scoped>\n",
       "    .dataframe tbody tr th:only-of-type {\n",
       "        vertical-align: middle;\n",
       "    }\n",
       "\n",
       "    .dataframe tbody tr th {\n",
       "        vertical-align: top;\n",
       "    }\n",
       "\n",
       "    .dataframe thead th {\n",
       "        text-align: right;\n",
       "    }\n",
       "</style>\n",
       "<table border=\"1\" class=\"dataframe\">\n",
       "  <thead>\n",
       "    <tr style=\"text-align: right;\">\n",
       "      <th></th>\n",
       "      <th>DATA</th>\n",
       "      <th>PROVINCIA</th>\n",
       "      <th>TIPO_GIORNO_DS</th>\n",
       "      <th>MAX_DS</th>\n",
       "      <th>SOPRA_SOGLIA_GIALLA</th>\n",
       "      <th>SOPRA_SOGLIA_ROSSA</th>\n",
       "      <th>SOPRA_CAPACITA</th>\n",
       "      <th>N_APPARATI</th>\n",
       "      <th>REGIONE</th>\n",
       "      <th>KPI</th>\n",
       "    </tr>\n",
       "  </thead>\n",
       "  <tbody>\n",
       "    <tr>\n",
       "      <th>0</th>\n",
       "      <td>2019-10-07</td>\n",
       "      <td>AP</td>\n",
       "      <td>0</td>\n",
       "      <td>83.4432</td>\n",
       "      <td>0.0</td>\n",
       "      <td>0.0</td>\n",
       "      <td>0.0</td>\n",
       "      <td>1</td>\n",
       "      <td>Marche</td>\n",
       "      <td>0.0</td>\n",
       "    </tr>\n",
       "    <tr>\n",
       "      <th>1</th>\n",
       "      <td>2019-10-07</td>\n",
       "      <td>AT</td>\n",
       "      <td>0</td>\n",
       "      <td>5.8122</td>\n",
       "      <td>0.0</td>\n",
       "      <td>0.0</td>\n",
       "      <td>0.0</td>\n",
       "      <td>1</td>\n",
       "      <td>Piemonte</td>\n",
       "      <td>0.0</td>\n",
       "    </tr>\n",
       "    <tr>\n",
       "      <th>2</th>\n",
       "      <td>2019-10-07</td>\n",
       "      <td>BG</td>\n",
       "      <td>0</td>\n",
       "      <td>17.4046</td>\n",
       "      <td>0.0</td>\n",
       "      <td>0.0</td>\n",
       "      <td>0.0</td>\n",
       "      <td>1</td>\n",
       "      <td>Lombardia</td>\n",
       "      <td>0.0</td>\n",
       "    </tr>\n",
       "    <tr>\n",
       "      <th>3</th>\n",
       "      <td>2019-10-07</td>\n",
       "      <td>BS</td>\n",
       "      <td>0</td>\n",
       "      <td>49.1147</td>\n",
       "      <td>0.0</td>\n",
       "      <td>0.0</td>\n",
       "      <td>0.0</td>\n",
       "      <td>1</td>\n",
       "      <td>Lombardia</td>\n",
       "      <td>0.0</td>\n",
       "    </tr>\n",
       "    <tr>\n",
       "      <th>4</th>\n",
       "      <td>2019-10-07</td>\n",
       "      <td>BT</td>\n",
       "      <td>0</td>\n",
       "      <td>71.2119</td>\n",
       "      <td>0.0</td>\n",
       "      <td>0.0</td>\n",
       "      <td>0.0</td>\n",
       "      <td>1</td>\n",
       "      <td>Puglia</td>\n",
       "      <td>0.0</td>\n",
       "    </tr>\n",
       "  </tbody>\n",
       "</table>\n",
       "</div>"
      ],
      "text/plain": [
       "        DATA PROVINCIA  TIPO_GIORNO_DS   MAX_DS  SOPRA_SOGLIA_GIALLA  \\\n",
       "0 2019-10-07        AP               0  83.4432                  0.0   \n",
       "1 2019-10-07        AT               0   5.8122                  0.0   \n",
       "2 2019-10-07        BG               0  17.4046                  0.0   \n",
       "3 2019-10-07        BS               0  49.1147                  0.0   \n",
       "4 2019-10-07        BT               0  71.2119                  0.0   \n",
       "\n",
       "   SOPRA_SOGLIA_ROSSA  SOPRA_CAPACITA  N_APPARATI    REGIONE  KPI  \n",
       "0                 0.0             0.0           1     Marche  0.0  \n",
       "1                 0.0             0.0           1   Piemonte  0.0  \n",
       "2                 0.0             0.0           1  Lombardia  0.0  \n",
       "3                 0.0             0.0           1  Lombardia  0.0  \n",
       "4                 0.0             0.0           1     Puglia  0.0  "
      ]
     },
     "execution_count": 12,
     "metadata": {},
     "output_type": "execute_result"
    }
   ],
   "source": [
    "# Simple time series plot\n",
    "\n",
    "data = pd.read_csv('./datasets/to_train.csv', parse_dates=['DATA'])\n",
    "data.head()"
   ]
  },
  {
   "cell_type": "code",
   "execution_count": 13,
   "metadata": {},
   "outputs": [
    {
     "data": {
      "text/plain": [
       "(Timestamp('2019-10-07 00:00:00'), Timestamp('2020-02-02 21:00:00'))"
      ]
     },
     "execution_count": 13,
     "metadata": {},
     "output_type": "execute_result"
    }
   ],
   "source": [
    "data.DATA.min(), data.DATA.max()"
   ]
  },
  {
   "cell_type": "code",
   "execution_count": 14,
   "metadata": {},
   "outputs": [],
   "source": [
    "data_rm = data[data['PROVINCIA'] == 'RM'].groupby(['DATA']).mean()\n",
    "data_mi = data[data['PROVINCIA'] == 'MI'].groupby(['DATA']).mean()\n"
   ]
  },
  {
   "cell_type": "code",
   "execution_count": 17,
   "metadata": {},
   "outputs": [
    {
     "ename": "SyntaxError",
     "evalue": "invalid syntax (<ipython-input-17-21a728a42e4e>, line 5)",
     "output_type": "error",
     "traceback": [
      "\u001b[1;36m  File \u001b[1;32m\"<ipython-input-17-21a728a42e4e>\"\u001b[1;36m, line \u001b[1;32m5\u001b[0m\n\u001b[1;33m    bk-root {\u001b[0m\n\u001b[1;37m            ^\u001b[0m\n\u001b[1;31mSyntaxError\u001b[0m\u001b[1;31m:\u001b[0m invalid syntax\n"
     ]
    }
   ],
   "source": [
    "class MyResources(Resources):\n",
    "    @property\n",
    "    def css_raw(self):\n",
    "        return super().css_raw + [\n",
    "            bk-root {\n",
    "                    background-color: #000000;\n",
    "                    border-color: #000000;\n",
    "                    }\n",
    "            \n",
    "        ]\n",
    "\n",
    "\n",
    "# funzionalita del grafico\n",
    "TOOLS = 'crosshair,save,pan,box_zoom,reset,wheel_zoom'\n",
    "\n",
    "p = figure(title=\"Andamento traffico\", y_axis_type=\"linear\",x_axis_type='datetime', tools = TOOLS, plot_width=1500)\n",
    "p.line(data_rm.index, data_rm.MAX_DS, legend=\"Roma\", line_color=\"green\", line_width = 3)\n",
    "p.line(data_mi.index, data_mi.MAX_DS, legend=\"Milano\", line_color=\"blue\", line_width = 3)\n",
    "\n",
    "p.legend.location = \"top_left\"\n",
    "\n",
    "p.xaxis.axis_label = 'Giorno'\n",
    "p.yaxis.axis_label = 'MAX DS'\n",
    "\n",
    "output_file(\"multiline_plot.html\", title=\"Multi Line Plot\")\n",
    "\n",
    "show(p)  # open a browser"
   ]
  }
 ],
 "metadata": {
  "kernelspec": {
   "display_name": "Python 3",
   "language": "python",
   "name": "python3"
  },
  "language_info": {
   "codemirror_mode": {
    "name": "ipython",
    "version": 3
   },
   "file_extension": ".py",
   "mimetype": "text/x-python",
   "name": "python",
   "nbconvert_exporter": "python",
   "pygments_lexer": "ipython3",
   "version": "3.7.7"
  }
 },
 "nbformat": 4,
 "nbformat_minor": 4
}
