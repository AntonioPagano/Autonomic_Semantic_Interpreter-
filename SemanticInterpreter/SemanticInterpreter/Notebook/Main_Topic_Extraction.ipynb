{
 "cells": [
  {
   "cell_type": "code",
   "execution_count": null,
   "metadata": {},
   "outputs": [],
   "source": [
    "# Python Version: \"3.10.5\"\n",
    "# Java Version: \"1.8.0_421\""
   ]
  },
  {
   "cell_type": "code",
   "execution_count": null,
   "metadata": {},
   "outputs": [],
   "source": [
    "%pip install -r ../../requirements.txt"
   ]
  },
  {
   "cell_type": "code",
   "execution_count": null,
   "metadata": {},
   "outputs": [],
   "source": [
    "from pyspark.sql import SparkSession\n",
    "\n",
    "# Configurazione della SparkSession\n",
    "# Crea una sessione Spark\n",
    "spark = SparkSession.builder \\\n",
    "    .appName(\"Spark NLP Example\") \\\n",
    "    .master(\"local[*]\") \\\n",
    "    .config(\"spark.jars.packages\", \"com.johnsnowlabs.nlp:spark-nlp_2.12:5.4.1\") \\\n",
    "    .getOrCreate()\n",
    "    "
   ]
  },
  {
   "cell_type": "code",
   "execution_count": null,
   "metadata": {},
   "outputs": [],
   "source": [
    "import sparknlp\n",
    "from sparknlp.base import DocumentAssembler\n",
    "from sparknlp.annotator import SentenceDetectorDLModel, Tokenizer\n",
    "from pyspark.sql import SparkSession\n",
    "from pyspark.ml import Pipeline\n",
    "\n",
    "# Verifica della versione di Spark NLP\n",
    "print(\"Spark NLP version:\", sparknlp.version())\n",
    "print(\"Apache Spark version:\", spark.version)"
   ]
  },
  {
   "cell_type": "code",
   "execution_count": null,
   "metadata": {
    "application/vnd.databricks.v1+cell": {
     "cellMetadata": {
      "byteLimit": 2048000,
      "rowLimit": 10000
     },
     "inputWidgets": {},
     "nuid": "cbd37247-a85d-40ec-87d1-d1fb539443b7",
     "showTitle": false,
     "title": ""
    }
   },
   "outputs": [],
   "source": [
    "%run ../../Common/UtilityClustering"
   ]
  },
  {
   "cell_type": "code",
   "execution_count": null,
   "metadata": {
    "application/vnd.databricks.v1+cell": {
     "cellMetadata": {
      "byteLimit": 2048000,
      "rowLimit": 10000
     },
     "inputWidgets": {},
     "nuid": "ba0020d0-4538-4509-8bcd-3eeb46f93b41",
     "showTitle": false,
     "title": ""
    }
   },
   "outputs": [],
   "source": [
    "%run ../../Common/UtilityNLP"
   ]
  },
  {
   "cell_type": "code",
   "execution_count": null,
   "metadata": {
    "vscode": {
     "languageId": "bat"
    }
   },
   "outputs": [],
   "source": [
    "echo %JAVA_HOME%\n"
   ]
  },
  {
   "cell_type": "code",
   "execution_count": null,
   "metadata": {
    "application/vnd.databricks.v1+cell": {
     "cellMetadata": {
      "byteLimit": 2048000,
      "rowLimit": 10000
     },
     "inputWidgets": {},
     "nuid": "985808a6-f148-4eaf-a442-2e0d5a913235",
     "showTitle": false,
     "title": ""
    }
   },
   "outputs": [],
   "source": [
    "df=spark.read.option(\"header\",True).csv('../dati/input/esempio_frasi_1.csv')\n",
    "df.cache()\n",
    "df.show()"
   ]
  },
  {
   "cell_type": "code",
   "execution_count": null,
   "metadata": {
    "application/vnd.databricks.v1+cell": {
     "cellMetadata": {
      "byteLimit": 2048000,
      "rowLimit": 10000
     },
     "inputWidgets": {},
     "nuid": "3352a7dc-38b1-4b6a-975d-24bd5929cee9",
     "showTitle": false,
     "title": ""
    }
   },
   "outputs": [],
   "source": [
    "model = nlp_pipeline_bert_sentence_embedding(\"descrizione\").fit(df)\n",
    "result_bert = model.transform(df)"
   ]
  },
  {
   "cell_type": "code",
   "execution_count": null,
   "metadata": {
    "application/vnd.databricks.v1+cell": {
     "cellMetadata": {
      "byteLimit": 2048000,
      "rowLimit": 10000
     },
     "inputWidgets": {},
     "nuid": "6d51b6a7-cd51-45b2-9448-bfa77e211610",
     "showTitle": false,
     "title": ""
    }
   },
   "outputs": [],
   "source": [
    "result_bert.cache()\n",
    "result_bert.display()"
   ]
  },
  {
   "cell_type": "code",
   "execution_count": null,
   "metadata": {
    "application/vnd.databricks.v1+cell": {
     "cellMetadata": {
      "byteLimit": 2048000,
      "rowLimit": 10000
     },
     "inputWidgets": {},
     "nuid": "319da7b1-0ff6-41bb-8b03-ab1d852c394c",
     "showTitle": false,
     "title": ""
    }
   },
   "outputs": [],
   "source": [
    "print(\"# dataset originale: {}\".format(df.count()))\n",
    "print(\"# dataset nuovo: {}\".format(result_bert.count()))"
   ]
  },
  {
   "cell_type": "code",
   "execution_count": null,
   "metadata": {
    "application/vnd.databricks.v1+cell": {
     "cellMetadata": {
      "byteLimit": 2048000,
      "rowLimit": 10000
     },
     "inputWidgets": {},
     "nuid": "b767374b-dd1a-4a59-aeb5-e26c9b3edd44",
     "showTitle": false,
     "title": ""
    }
   },
   "outputs": [],
   "source": [
    "result_df_exp=convert_sentence_embedding_in_col(result_bert,[\"idcase\",\"descrizione\",\"dataapertura\"])\n",
    "result_df_exp.display()"
   ]
  },
  {
   "cell_type": "code",
   "execution_count": null,
   "metadata": {
    "application/vnd.databricks.v1+cell": {
     "cellMetadata": {
      "byteLimit": 2048000,
      "rowLimit": 10000
     },
     "inputWidgets": {},
     "nuid": "827053b8-5f35-47d8-b2b8-f56dcb7b5f06",
     "showTitle": false,
     "title": ""
    }
   },
   "outputs": [],
   "source": [
    "col_features=result_df_exp.columns[4:]\n",
    "result_df_exp_filled = result_df_exp.dropna()\n",
    "result, pca_model, loadings=pipelineStandardPCA(result_df_exp_filled, col_features, 30)"
   ]
  },
  {
   "cell_type": "code",
   "execution_count": null,
   "metadata": {
    "application/vnd.databricks.v1+cell": {
     "cellMetadata": {
      "byteLimit": 2048000,
      "rowLimit": 10000
     },
     "inputWidgets": {},
     "nuid": "bf501aa5-a8f2-438d-8724-207a984f9029",
     "showTitle": false,
     "title": ""
    }
   },
   "outputs": [],
   "source": [
    "cumulativePCwithVariance(pca_model)"
   ]
  },
  {
   "cell_type": "code",
   "execution_count": null,
   "metadata": {
    "application/vnd.databricks.v1+cell": {
     "cellMetadata": {
      "byteLimit": 2048000,
      "rowLimit": 10000
     },
     "inputWidgets": {},
     "nuid": "96b945e1-7e4b-4060-9f1b-9fd0da9697d0",
     "showTitle": false,
     "title": ""
    }
   },
   "outputs": [],
   "source": [
    "silhouetteClusteringKMeans(result,\"pca_features\",m=2,n=20,i=2)"
   ]
  },
  {
   "cell_type": "code",
   "execution_count": null,
   "metadata": {
    "application/vnd.databricks.v1+cell": {
     "cellMetadata": {
      "byteLimit": 2048000,
      "rowLimit": 10000
     },
     "inputWidgets": {},
     "nuid": "97ecddfa-4249-434b-8fe0-a56687b2c5bd",
     "showTitle": false,
     "title": ""
    }
   },
   "outputs": [],
   "source": [
    "predictions_cluster_final, final_model=defineClustering(result, 12)"
   ]
  },
  {
   "cell_type": "code",
   "execution_count": null,
   "metadata": {
    "application/vnd.databricks.v1+cell": {
     "cellMetadata": {
      "byteLimit": 2048000,
      "rowLimit": 10000
     },
     "inputWidgets": {},
     "nuid": "48f86aec-2d1d-4943-b463-ee37c7076ebe",
     "showTitle": false,
     "title": ""
    }
   },
   "outputs": [],
   "source": [
    "predictions_cluster_final.select(\"idcase\",\"descrizione\",\"dataapertura\",\"sentence\",\"prediction\").distinct().display()"
   ]
  },
  {
   "cell_type": "code",
   "execution_count": null,
   "metadata": {
    "application/vnd.databricks.v1+cell": {
     "cellMetadata": {
      "byteLimit": 2048000,
      "rowLimit": 10000
     },
     "inputWidgets": {},
     "nuid": "2d0d6552-b74d-4926-a91e-746400bf3927",
     "showTitle": false,
     "title": ""
    }
   },
   "outputs": [],
   "source": [
    "plotPCA3DInterattivo(predictions_cluster_final.where(\"dataapertura >= '2024-06-01'\"), features='pca_features', predictions='prediction', additional_column='descrizione')"
   ]
  },
  {
   "cell_type": "code",
   "execution_count": null,
   "metadata": {
    "application/vnd.databricks.v1+cell": {
     "cellMetadata": {
      "byteLimit": 2048000,
      "rowLimit": 10000
     },
     "inputWidgets": {},
     "nuid": "fca92864-4eae-40f1-a03b-394b726c6a75",
     "showTitle": false,
     "title": ""
    }
   },
   "outputs": [],
   "source": [
    "plotClustering3DInterattivo(predictions_cluster_final.where(\"dataapertura >= '2024-06-01'\"), features='pca_features', predictions='prediction', additional_column='descrizione')"
   ]
  },
  {
   "cell_type": "code",
   "execution_count": null,
   "metadata": {
    "application/vnd.databricks.v1+cell": {
     "cellMetadata": {
      "byteLimit": 2048000,
      "rowLimit": 10000
     },
     "inputWidgets": {},
     "nuid": "206d9a05-68c5-4adf-9405-26518a6f43ba",
     "showTitle": false,
     "title": ""
    }
   },
   "outputs": [],
   "source": [
    "docs_per_topic = predictions_cluster_final.groupby('prediction').agg(concat_ws(' ', collect_list(col(\"sentence\"))).alias('Doc'))\n",
    "\n",
    "topN=top_n_words(docs_per_topic, inputCol=\"Doc\", outputCol=\"features\", ngram=3, N=10, targetCol=\"prediction\")\n",
    "\n",
    "topN.display()"
   ]
  },
  {
   "cell_type": "code",
   "execution_count": null,
   "metadata": {
    "application/vnd.databricks.v1+cell": {
     "cellMetadata": {
      "byteLimit": 2048000,
      "rowLimit": 10000
     },
     "inputWidgets": {},
     "nuid": "4d3b304a-3d4d-43a9-9bd7-1eb15eb8d336",
     "showTitle": false,
     "title": ""
    }
   },
   "outputs": [],
   "source": [
    "docs_per_topic = predictions_cluster_final.groupby('prediction').agg(concat_ws(' ', collect_list(col(\"sentence\"))).alias('Doc'))\n",
    "\n",
    "topN_4gram=top_n_words(docs_per_topic, inputCol=\"Doc\", outputCol=\"features\", ngram=4, N=10, targetCol=\"prediction\")\n",
    "\n",
    "topN_4gram.display()"
   ]
  },
  {
   "cell_type": "code",
   "execution_count": null,
   "metadata": {
    "application/vnd.databricks.v1+cell": {
     "cellMetadata": {
      "byteLimit": 2048000,
      "rowLimit": 10000
     },
     "inputWidgets": {},
     "nuid": "0d8fc6e8-bfb2-4923-ad08-d1ab365d8cff",
     "showTitle": false,
     "title": ""
    }
   },
   "outputs": [],
   "source": [
    "predictions_cluster_final.groupBy(\"prediction\").count().display()"
   ]
  },
  {
   "cell_type": "code",
   "execution_count": null,
   "metadata": {
    "application/vnd.databricks.v1+cell": {
     "cellMetadata": {
      "byteLimit": 2048000,
      "rowLimit": 10000
     },
     "inputWidgets": {},
     "nuid": "67c5190c-3c78-48d0-a67a-2729c871c7c2",
     "showTitle": false,
     "title": ""
    }
   },
   "outputs": [],
   "source": [
    "predictions_cluster_final.select(\"idcase\",\n",
    "    \"descrizione\",\"prediction\").join(topN,\"prediction\",\"left\").display()"
   ]
  }
 ],
 "metadata": {
  "application/vnd.databricks.v1+notebook": {
   "dashboards": [],
   "environmentMetadata": null,
   "language": "python",
   "notebookMetadata": {
    "pythonIndentUnit": 4
   },
   "notebookName": "PDB_FV_Motivi_Regolarizzazione",
   "widgets": {}
  },
  "kernelspec": {
   "display_name": "Python 3 (ipykernel)",
   "language": "python",
   "name": "python3"
  },
  "language_info": {
   "codemirror_mode": {
    "name": "ipython",
    "version": 3
   },
   "file_extension": ".py",
   "mimetype": "text/x-python",
   "name": "python",
   "nbconvert_exporter": "python",
   "pygments_lexer": "ipython3",
   "version": "3.10.5"
  }
 },
 "nbformat": 4,
 "nbformat_minor": 1
}
