{
 "cells": [
  {
   "cell_type": "code",
   "execution_count": null,
   "metadata": {},
   "outputs": [],
   "source": [
    "# Python Version: \"3.10.5\"\n",
    "# Java Version: \"1.8.0_421\""
   ]
  },
  {
   "cell_type": "code",
   "execution_count": null,
   "metadata": {},
   "outputs": [],
   "source": [
    "import subprocess\n",
    "\n",
    "try:\n",
    "    # Esegue il comando per ottenere la versione di Java\n",
    "    version = subprocess.check_output(['java', '-version'], stderr=subprocess.STDOUT)\n",
    "    print(version.decode('utf-8'))\n",
    "except FileNotFoundError:\n",
    "    # Gestisce il caso in cui Java non sia installato\n",
    "    print(\"Java non è installato sul sistema. Si prega di installare Java 8 o successiva\")\n",
    "except subprocess.CalledProcessError as e:\n",
    "    # Gestisce errori legati all'esecuzione del comando\n",
    "    print(f\"Errore durante l'esecuzione del comando Java: {e}\")"
   ]
  },
  {
   "cell_type": "code",
   "execution_count": null,
   "metadata": {},
   "outputs": [],
   "source": [
    "import os\n",
    "\n",
    "print(os.getenv(\"JAVA_HOME\"))\n",
    "print(os.getenv(\"HADOOP_HOME\"))"
   ]
  },
  {
   "cell_type": "code",
   "execution_count": null,
   "metadata": {},
   "outputs": [],
   "source": [
    "#Commentare se si importa il file in env anaconda\n",
    "%pip install -r ../../requirements.txt"
   ]
  },
  {
   "cell_type": "code",
   "execution_count": null,
   "metadata": {},
   "outputs": [],
   "source": [
    "import sparknlp\n",
    "\n",
    "# create or get Spark Session\n",
    "#spark = sparknlp.start()"
   ]
  },
  {
   "cell_type": "code",
   "execution_count": null,
   "metadata": {},
   "outputs": [],
   "source": [
    "from pyspark.sql import SparkSession\n",
    "\n",
    "spark = SparkSession.builder \\\n",
    "    .appName(\"Spark NLP\") \\\n",
    "    .master(\"local[*]\") \\\n",
    "    .config(\"spark.driver.memory\", \"16G\") \\\n",
    "    .config(\"spark.serializer\", \"org.apache.spark.serializer.KryoSerializer\") \\\n",
    "    .config(\"spark.kryoserializer.buffer.max\", \"2000M\") \\\n",
    "    .config(\"spark.driver.maxResultSize\", \"0\") \\\n",
    "    .config(\"spark.jars.packages\", \"com.johnsnowlabs.nlp:spark-nlp_2.12:5.4.1\") \\\n",
    "    .getOrCreate()"
   ]
  },
  {
   "cell_type": "code",
   "execution_count": null,
   "metadata": {},
   "outputs": [],
   "source": [
    "# Verifica della versione di Spark NLP\n",
    "print(\"Spark NLP version:\", sparknlp.version())\n",
    "print(\"Apache Spark version:\", spark.version)"
   ]
  },
  {
   "cell_type": "code",
   "execution_count": null,
   "metadata": {},
   "outputs": [],
   "source": [
    "import sys\n",
    "import os\n",
    "\n",
    "# Aggiungi il percorso del modulo al PYTHONPATH\n",
    "sys.path.append(os.path.abspath('../../Common'))\n",
    "\n",
    "import UtilityNLP as nlpUtils\n",
    "import UtilityClustering as cltUtils"
   ]
  },
  {
   "cell_type": "code",
   "execution_count": null,
   "metadata": {
    "application/vnd.databricks.v1+cell": {
     "cellMetadata": {
      "byteLimit": 2048000,
      "rowLimit": 10000
     },
     "inputWidgets": {},
     "nuid": "985808a6-f148-4eaf-a442-2e0d5a913235",
     "showTitle": false,
     "title": ""
    }
   },
   "outputs": [],
   "source": [
    "#Lettura Dataframe\n",
    "df=spark.read.option(\"header\",True).csv('../dati/input/esempio_frasi_1.csv')\n",
    "df.cache()\n",
    "df.show()"
   ]
  },
  {
   "cell_type": "code",
   "execution_count": null,
   "metadata": {
    "application/vnd.databricks.v1+cell": {
     "cellMetadata": {
      "byteLimit": 2048000,
      "rowLimit": 10000
     },
     "inputWidgets": {},
     "nuid": "3352a7dc-38b1-4b6a-975d-24bd5929cee9",
     "showTitle": false,
     "title": ""
    }
   },
   "outputs": [],
   "source": [
    "#Definizione della pipeline per il Sentence Embedding con BERT\n",
    "model = nlpUtils.nlp_pipeline_bert_sentence_embedding(\"descrizione\").fit(df)\n",
    "result_bert = model.transform(df)"
   ]
  },
  {
   "cell_type": "code",
   "execution_count": null,
   "metadata": {
    "application/vnd.databricks.v1+cell": {
     "cellMetadata": {
      "byteLimit": 2048000,
      "rowLimit": 10000
     },
     "inputWidgets": {},
     "nuid": "6d51b6a7-cd51-45b2-9448-bfa77e211610",
     "showTitle": false,
     "title": ""
    }
   },
   "outputs": [],
   "source": [
    "#Caching della Sentence Embedding\n",
    "result_bert.cache()\n",
    "result_bert.display()"
   ]
  },
  {
   "cell_type": "code",
   "execution_count": null,
   "metadata": {
    "application/vnd.databricks.v1+cell": {
     "cellMetadata": {
      "byteLimit": 2048000,
      "rowLimit": 10000
     },
     "inputWidgets": {},
     "nuid": "319da7b1-0ff6-41bb-8b03-ab1d852c394c",
     "showTitle": false,
     "title": ""
    }
   },
   "outputs": [],
   "source": [
    "print(\"# dataset originale: {}\".format(df.count()))\n",
    "print(\"# dataset nuovo: {}\".format(result_bert.count()))"
   ]
  },
  {
   "cell_type": "code",
   "execution_count": null,
   "metadata": {
    "application/vnd.databricks.v1+cell": {
     "cellMetadata": {
      "byteLimit": 2048000,
      "rowLimit": 10000
     },
     "inputWidgets": {},
     "nuid": "b767374b-dd1a-4a59-aeb5-e26c9b3edd44",
     "showTitle": false,
     "title": ""
    }
   },
   "outputs": [],
   "source": [
    "#Converte gli embedding delle sentences in colonne separate nel DataFrame \n",
    "# (ogni vettore N-dimensionale viene tramutato in un dataframe di N colonne)\n",
    "result_df_exp=nlpUtils.convert_sentence_embedding_in_col(result_bert,[\"idcase\",\"descrizione\",\"dataapertura\"])\n",
    "result_df_exp.display()"
   ]
  },
  {
   "cell_type": "code",
   "execution_count": null,
   "metadata": {
    "application/vnd.databricks.v1+cell": {
     "cellMetadata": {
      "byteLimit": 2048000,
      "rowLimit": 10000
     },
     "inputWidgets": {},
     "nuid": "827053b8-5f35-47d8-b2b8-f56dcb7b5f06",
     "showTitle": false,
     "title": ""
    }
   },
   "outputs": [],
   "source": [
    "#Applichiamo la PCA sulle features ottenute dal sentence embedding (explode dell'embedding)\n",
    "col_features=result_df_exp.columns[4:]\n",
    "result_df_exp_filled = result_df_exp.dropna()\n",
    "result, pca_model, loadings=cltUtils.pipelineStandardPCA(result_df_exp_filled, col_features, 30)"
   ]
  },
  {
   "cell_type": "code",
   "execution_count": null,
   "metadata": {
    "application/vnd.databricks.v1+cell": {
     "cellMetadata": {
      "byteLimit": 2048000,
      "rowLimit": 10000
     },
     "inputWidgets": {},
     "nuid": "bf501aa5-a8f2-438d-8724-207a984f9029",
     "showTitle": false,
     "title": ""
    }
   },
   "outputs": [],
   "source": [
    "#Plottiamo la varianza mantenuta in base al numero di PCA da scegliere\n",
    "cltUtils.cumulativePCwithVariance(pca_model)"
   ]
  },
  {
   "cell_type": "code",
   "execution_count": null,
   "metadata": {
    "application/vnd.databricks.v1+cell": {
     "cellMetadata": {
      "byteLimit": 2048000,
      "rowLimit": 10000
     },
     "inputWidgets": {},
     "nuid": "96b945e1-7e4b-4060-9f1b-9fd0da9697d0",
     "showTitle": false,
     "title": ""
    }
   },
   "outputs": [],
   "source": [
    "#Plot della Silhuette per decidere il corretto valore K di cluster\n",
    "cltUtils.silhouetteClusteringKMeans(result,\"pca_features\",m=2,n=20,i=2)"
   ]
  },
  {
   "cell_type": "code",
   "execution_count": null,
   "metadata": {
    "application/vnd.databricks.v1+cell": {
     "cellMetadata": {
      "byteLimit": 2048000,
      "rowLimit": 10000
     },
     "inputWidgets": {},
     "nuid": "97ecddfa-4249-434b-8fe0-a56687b2c5bd",
     "showTitle": false,
     "title": ""
    }
   },
   "outputs": [],
   "source": [
    "#Applicazione del clustering\n",
    "predictions_cluster_final, final_model=cltUtils.defineClustering(result, 12)"
   ]
  },
  {
   "cell_type": "code",
   "execution_count": null,
   "metadata": {
    "application/vnd.databricks.v1+cell": {
     "cellMetadata": {
      "byteLimit": 2048000,
      "rowLimit": 10000
     },
     "inputWidgets": {},
     "nuid": "48f86aec-2d1d-4943-b463-ee37c7076ebe",
     "showTitle": false,
     "title": ""
    }
   },
   "outputs": [],
   "source": [
    "predictions_cluster_final.select(\"idcase\",\"descrizione\",\"dataapertura\",\"sentence\",\"prediction\").distinct().display()"
   ]
  },
  {
   "cell_type": "code",
   "execution_count": null,
   "metadata": {
    "application/vnd.databricks.v1+cell": {
     "cellMetadata": {
      "byteLimit": 2048000,
      "rowLimit": 10000
     },
     "inputWidgets": {},
     "nuid": "2d0d6552-b74d-4926-a91e-746400bf3927",
     "showTitle": false,
     "title": ""
    }
   },
   "outputs": [],
   "source": [
    "# Plot in 3D interattivo delle 3 PC con varianza maggiore (PC1 - PC2 - PC3) \n",
    "cltUtils.plotPCA3DInterattivo(predictions_cluster_final.where(\"dataapertura >= '2024-06-01'\"), \n",
    "                              features='pca_features', predictions='prediction', additional_column='descrizione')"
   ]
  },
  {
   "cell_type": "code",
   "execution_count": null,
   "metadata": {
    "application/vnd.databricks.v1+cell": {
     "cellMetadata": {
      "byteLimit": 2048000,
      "rowLimit": 10000
     },
     "inputWidgets": {},
     "nuid": "fca92864-4eae-40f1-a03b-394b726c6a75",
     "showTitle": false,
     "title": ""
    }
   },
   "outputs": [],
   "source": [
    "# Plot in 3D interattivo delle 3 PC con varianza maggiore (PC1 - PC2 - PC3) marcate per cluster associato\n",
    "# I punti dello spazio associati allo stesso cluster hanno lo stesso colore associato \n",
    "cltUtils.plotClustering3DInterattivo(predictions_cluster_final.where(\"dataapertura >= '2024-06-01'\"), \n",
    "                                     features='pca_features', predictions='prediction', additional_column='descrizione')"
   ]
  },
  {
   "cell_type": "code",
   "execution_count": null,
   "metadata": {
    "application/vnd.databricks.v1+cell": {
     "cellMetadata": {
      "byteLimit": 2048000,
      "rowLimit": 10000
     },
     "inputWidgets": {},
     "nuid": "206d9a05-68c5-4adf-9405-26518a6f43ba",
     "showTitle": false,
     "title": ""
    }
   },
   "outputs": [],
   "source": [
    "#Applicazione della TF-IDF per ogni cluster:\n",
    "# Restituisce le prime N parole con il peso TF-IDF più alto per ciascuna predizione\n",
    "docs_per_topic = predictions_cluster_final.groupby('prediction').agg(concat_ws(' ', collect_list(col(\"sentence\"))).alias('Doc'))\n",
    "\n",
    "topN=nlpUtils.top_n_words(docs_per_topic, inputCol=\"Doc\", outputCol=\"features\", ngram=3, N=10, targetCol=\"prediction\")\n",
    "\n",
    "topN.display()"
   ]
  },
  {
   "cell_type": "code",
   "execution_count": null,
   "metadata": {
    "application/vnd.databricks.v1+cell": {
     "cellMetadata": {
      "byteLimit": 2048000,
      "rowLimit": 10000
     },
     "inputWidgets": {},
     "nuid": "4d3b304a-3d4d-43a9-9bd7-1eb15eb8d336",
     "showTitle": false,
     "title": ""
    }
   },
   "outputs": [],
   "source": [
    "docs_per_topic = predictions_cluster_final.groupby('prediction').agg(concat_ws(' ', collect_list(col(\"sentence\"))).alias('Doc'))\n",
    "\n",
    "topN_4gram=nlpUtils.top_n_words(docs_per_topic, inputCol=\"Doc\", outputCol=\"features\", ngram=4, N=10, targetCol=\"prediction\")\n",
    "\n",
    "topN_4gram.display()"
   ]
  },
  {
   "cell_type": "code",
   "execution_count": null,
   "metadata": {
    "application/vnd.databricks.v1+cell": {
     "cellMetadata": {
      "byteLimit": 2048000,
      "rowLimit": 10000
     },
     "inputWidgets": {},
     "nuid": "0d8fc6e8-bfb2-4923-ad08-d1ab365d8cff",
     "showTitle": false,
     "title": ""
    }
   },
   "outputs": [],
   "source": [
    "predictions_cluster_final.groupBy(\"prediction\").count().display()"
   ]
  },
  {
   "cell_type": "code",
   "execution_count": null,
   "metadata": {
    "application/vnd.databricks.v1+cell": {
     "cellMetadata": {
      "byteLimit": 2048000,
      "rowLimit": 10000
     },
     "inputWidgets": {},
     "nuid": "67c5190c-3c78-48d0-a67a-2729c871c7c2",
     "showTitle": false,
     "title": ""
    }
   },
   "outputs": [],
   "source": [
    "#Creazione del dataset finale con frase in linguaggio naturale e cluster associato\n",
    "predictions_cluster_final.select(\"idcase\",\n",
    "    \"descrizione\",\"prediction\").join(topN,\"prediction\",\"left\").display()"
   ]
  }
 ],
 "metadata": {
  "application/vnd.databricks.v1+notebook": {
   "dashboards": [],
   "environmentMetadata": null,
   "language": "python",
   "notebookMetadata": {
    "pythonIndentUnit": 4
   },
   "notebookName": "PDB_FV_Motivi_Regolarizzazione",
   "widgets": {}
  },
  "kernelspec": {
   "display_name": "Python 3",
   "language": "python",
   "name": "python3"
  },
  "language_info": {
   "codemirror_mode": {
    "name": "ipython",
    "version": 3
   },
   "file_extension": ".py",
   "mimetype": "text/x-python",
   "name": "python",
   "nbconvert_exporter": "python",
   "pygments_lexer": "ipython3",
   "version": "3.10.5"
  }
 },
 "nbformat": 4,
 "nbformat_minor": 1
}
